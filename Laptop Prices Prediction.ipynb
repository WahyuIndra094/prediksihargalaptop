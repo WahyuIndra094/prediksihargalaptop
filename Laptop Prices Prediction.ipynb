{
 "cells": [
  {
   "cell_type": "markdown",
   "id": "930610da",
   "metadata": {},
   "source": [
    "\n",
    "# Introduction\n",
    "The dataset is about laptops configuration with prices containing 1273 laptop data with 12 columns Company name,type namee, laptop size in (inches), Screen resolution, CPU, RAM, Memory, GP, Operating system, Price in INR."
   ]
  },
  {
   "cell_type": "markdown",
   "id": "bf9c9173",
   "metadata": {},
   "source": [
    "# Importing Libraries"
   ]
  },
  {
   "cell_type": "code",
   "execution_count": 1,
   "id": "1db7a61a",
   "metadata": {},
   "outputs": [],
   "source": [
    "import pandas as pd\n",
    "import numpy as np\n",
    "import matplotlib.pyplot as plt\n",
    "import seaborn as sns\n",
    "import plotly.express as px\n",
    "import plotly.figure_factory as ff\n",
    "import datetime as dt\n",
    "import plotly.graph_objects as go\n",
    "from sklearn.preprocessing import StandardScaler, MinMaxScaler, RobustScaler, OrdinalEncoder\n",
    "from sklearn.metrics import r2_score"
   ]
  },
  {
   "cell_type": "markdown",
   "id": "f8986f4a",
   "metadata": {},
   "source": [
    "# Reading Data\n"
   ]
  },
  {
   "cell_type": "code",
   "execution_count": 2,
   "id": "94acd618",
   "metadata": {},
   "outputs": [],
   "source": [
    "df= pd.read_csv('laptopData.csv')"
   ]
  },
  {
   "cell_type": "code",
   "execution_count": 3,
   "id": "60d0816c",
   "metadata": {},
   "outputs": [
    {
     "data": {
      "text/html": [
       "<div>\n",
       "<style scoped>\n",
       "    .dataframe tbody tr th:only-of-type {\n",
       "        vertical-align: middle;\n",
       "    }\n",
       "\n",
       "    .dataframe tbody tr th {\n",
       "        vertical-align: top;\n",
       "    }\n",
       "\n",
       "    .dataframe thead th {\n",
       "        text-align: right;\n",
       "    }\n",
       "</style>\n",
       "<table border=\"1\" class=\"dataframe\">\n",
       "  <thead>\n",
       "    <tr style=\"text-align: right;\">\n",
       "      <th></th>\n",
       "      <th>Unnamed: 0</th>\n",
       "      <th>Company</th>\n",
       "      <th>TypeName</th>\n",
       "      <th>Inches</th>\n",
       "      <th>ScreenResolution</th>\n",
       "      <th>Cpu</th>\n",
       "      <th>Ram</th>\n",
       "      <th>Memory</th>\n",
       "      <th>Gpu</th>\n",
       "      <th>OpSys</th>\n",
       "      <th>Weight</th>\n",
       "      <th>Price</th>\n",
       "    </tr>\n",
       "  </thead>\n",
       "  <tbody>\n",
       "    <tr>\n",
       "      <th>0</th>\n",
       "      <td>0.0</td>\n",
       "      <td>Apple</td>\n",
       "      <td>Ultrabook</td>\n",
       "      <td>13.3</td>\n",
       "      <td>IPS Panel Retina Display 2560x1600</td>\n",
       "      <td>Intel Core i5 2.3GHz</td>\n",
       "      <td>8GB</td>\n",
       "      <td>128GB SSD</td>\n",
       "      <td>Intel Iris Plus Graphics 640</td>\n",
       "      <td>macOS</td>\n",
       "      <td>1.37kg</td>\n",
       "      <td>71378.6832</td>\n",
       "    </tr>\n",
       "    <tr>\n",
       "      <th>1</th>\n",
       "      <td>1.0</td>\n",
       "      <td>Apple</td>\n",
       "      <td>Ultrabook</td>\n",
       "      <td>13.3</td>\n",
       "      <td>1440x900</td>\n",
       "      <td>Intel Core i5 1.8GHz</td>\n",
       "      <td>8GB</td>\n",
       "      <td>128GB Flash Storage</td>\n",
       "      <td>Intel HD Graphics 6000</td>\n",
       "      <td>macOS</td>\n",
       "      <td>1.34kg</td>\n",
       "      <td>47895.5232</td>\n",
       "    </tr>\n",
       "    <tr>\n",
       "      <th>2</th>\n",
       "      <td>2.0</td>\n",
       "      <td>HP</td>\n",
       "      <td>Notebook</td>\n",
       "      <td>15.6</td>\n",
       "      <td>Full HD 1920x1080</td>\n",
       "      <td>Intel Core i5 7200U 2.5GHz</td>\n",
       "      <td>8GB</td>\n",
       "      <td>256GB SSD</td>\n",
       "      <td>Intel HD Graphics 620</td>\n",
       "      <td>No OS</td>\n",
       "      <td>1.86kg</td>\n",
       "      <td>30636.0000</td>\n",
       "    </tr>\n",
       "    <tr>\n",
       "      <th>3</th>\n",
       "      <td>3.0</td>\n",
       "      <td>Apple</td>\n",
       "      <td>Ultrabook</td>\n",
       "      <td>15.4</td>\n",
       "      <td>IPS Panel Retina Display 2880x1800</td>\n",
       "      <td>Intel Core i7 2.7GHz</td>\n",
       "      <td>16GB</td>\n",
       "      <td>512GB SSD</td>\n",
       "      <td>AMD Radeon Pro 455</td>\n",
       "      <td>macOS</td>\n",
       "      <td>1.83kg</td>\n",
       "      <td>135195.3360</td>\n",
       "    </tr>\n",
       "    <tr>\n",
       "      <th>4</th>\n",
       "      <td>4.0</td>\n",
       "      <td>Apple</td>\n",
       "      <td>Ultrabook</td>\n",
       "      <td>13.3</td>\n",
       "      <td>IPS Panel Retina Display 2560x1600</td>\n",
       "      <td>Intel Core i5 3.1GHz</td>\n",
       "      <td>8GB</td>\n",
       "      <td>256GB SSD</td>\n",
       "      <td>Intel Iris Plus Graphics 650</td>\n",
       "      <td>macOS</td>\n",
       "      <td>1.37kg</td>\n",
       "      <td>96095.8080</td>\n",
       "    </tr>\n",
       "  </tbody>\n",
       "</table>\n",
       "</div>"
      ],
      "text/plain": [
       "   Unnamed: 0 Company   TypeName Inches                    ScreenResolution   \n",
       "0         0.0   Apple  Ultrabook   13.3  IPS Panel Retina Display 2560x1600  \\\n",
       "1         1.0   Apple  Ultrabook   13.3                            1440x900   \n",
       "2         2.0      HP   Notebook   15.6                   Full HD 1920x1080   \n",
       "3         3.0   Apple  Ultrabook   15.4  IPS Panel Retina Display 2880x1800   \n",
       "4         4.0   Apple  Ultrabook   13.3  IPS Panel Retina Display 2560x1600   \n",
       "\n",
       "                          Cpu   Ram               Memory   \n",
       "0        Intel Core i5 2.3GHz   8GB            128GB SSD  \\\n",
       "1        Intel Core i5 1.8GHz   8GB  128GB Flash Storage   \n",
       "2  Intel Core i5 7200U 2.5GHz   8GB            256GB SSD   \n",
       "3        Intel Core i7 2.7GHz  16GB            512GB SSD   \n",
       "4        Intel Core i5 3.1GHz   8GB            256GB SSD   \n",
       "\n",
       "                            Gpu  OpSys  Weight        Price  \n",
       "0  Intel Iris Plus Graphics 640  macOS  1.37kg   71378.6832  \n",
       "1        Intel HD Graphics 6000  macOS  1.34kg   47895.5232  \n",
       "2         Intel HD Graphics 620  No OS  1.86kg   30636.0000  \n",
       "3            AMD Radeon Pro 455  macOS  1.83kg  135195.3360  \n",
       "4  Intel Iris Plus Graphics 650  macOS  1.37kg   96095.8080  "
      ]
     },
     "execution_count": 3,
     "metadata": {},
     "output_type": "execute_result"
    }
   ],
   "source": [
    "df.head(5)"
   ]
  },
  {
   "cell_type": "code",
   "execution_count": 4,
   "id": "c53a122e",
   "metadata": {},
   "outputs": [],
   "source": [
    "df.drop(columns={'Unnamed: 0'}, inplace = True)"
   ]
  },
  {
   "cell_type": "code",
   "execution_count": 5,
   "id": "e2e6117d",
   "metadata": {},
   "outputs": [
    {
     "data": {
      "text/html": [
       "<div>\n",
       "<style scoped>\n",
       "    .dataframe tbody tr th:only-of-type {\n",
       "        vertical-align: middle;\n",
       "    }\n",
       "\n",
       "    .dataframe tbody tr th {\n",
       "        vertical-align: top;\n",
       "    }\n",
       "\n",
       "    .dataframe thead th {\n",
       "        text-align: right;\n",
       "    }\n",
       "</style>\n",
       "<table border=\"1\" class=\"dataframe\">\n",
       "  <thead>\n",
       "    <tr style=\"text-align: right;\">\n",
       "      <th></th>\n",
       "      <th>Company</th>\n",
       "      <th>TypeName</th>\n",
       "      <th>Inches</th>\n",
       "      <th>ScreenResolution</th>\n",
       "      <th>Cpu</th>\n",
       "      <th>Ram</th>\n",
       "      <th>Memory</th>\n",
       "      <th>Gpu</th>\n",
       "      <th>OpSys</th>\n",
       "      <th>Weight</th>\n",
       "      <th>Price</th>\n",
       "    </tr>\n",
       "  </thead>\n",
       "  <tbody>\n",
       "    <tr>\n",
       "      <th>0</th>\n",
       "      <td>Apple</td>\n",
       "      <td>Ultrabook</td>\n",
       "      <td>13.3</td>\n",
       "      <td>IPS Panel Retina Display 2560x1600</td>\n",
       "      <td>Intel Core i5 2.3GHz</td>\n",
       "      <td>8GB</td>\n",
       "      <td>128GB SSD</td>\n",
       "      <td>Intel Iris Plus Graphics 640</td>\n",
       "      <td>macOS</td>\n",
       "      <td>1.37kg</td>\n",
       "      <td>71378.6832</td>\n",
       "    </tr>\n",
       "    <tr>\n",
       "      <th>1</th>\n",
       "      <td>Apple</td>\n",
       "      <td>Ultrabook</td>\n",
       "      <td>13.3</td>\n",
       "      <td>1440x900</td>\n",
       "      <td>Intel Core i5 1.8GHz</td>\n",
       "      <td>8GB</td>\n",
       "      <td>128GB Flash Storage</td>\n",
       "      <td>Intel HD Graphics 6000</td>\n",
       "      <td>macOS</td>\n",
       "      <td>1.34kg</td>\n",
       "      <td>47895.5232</td>\n",
       "    </tr>\n",
       "  </tbody>\n",
       "</table>\n",
       "</div>"
      ],
      "text/plain": [
       "  Company   TypeName Inches                    ScreenResolution   \n",
       "0   Apple  Ultrabook   13.3  IPS Panel Retina Display 2560x1600  \\\n",
       "1   Apple  Ultrabook   13.3                            1440x900   \n",
       "\n",
       "                    Cpu  Ram               Memory   \n",
       "0  Intel Core i5 2.3GHz  8GB            128GB SSD  \\\n",
       "1  Intel Core i5 1.8GHz  8GB  128GB Flash Storage   \n",
       "\n",
       "                            Gpu  OpSys  Weight       Price  \n",
       "0  Intel Iris Plus Graphics 640  macOS  1.37kg  71378.6832  \n",
       "1        Intel HD Graphics 6000  macOS  1.34kg  47895.5232  "
      ]
     },
     "execution_count": 5,
     "metadata": {},
     "output_type": "execute_result"
    }
   ],
   "source": [
    "df.head(2)"
   ]
  },
  {
   "cell_type": "code",
   "execution_count": 6,
   "id": "bd58576d",
   "metadata": {},
   "outputs": [
    {
     "name": "stdout",
     "output_type": "stream",
     "text": [
      "<class 'pandas.core.frame.DataFrame'>\n",
      "RangeIndex: 1303 entries, 0 to 1302\n",
      "Data columns (total 11 columns):\n",
      " #   Column            Non-Null Count  Dtype  \n",
      "---  ------            --------------  -----  \n",
      " 0   Company           1273 non-null   object \n",
      " 1   TypeName          1273 non-null   object \n",
      " 2   Inches            1273 non-null   object \n",
      " 3   ScreenResolution  1273 non-null   object \n",
      " 4   Cpu               1273 non-null   object \n",
      " 5   Ram               1273 non-null   object \n",
      " 6   Memory            1273 non-null   object \n",
      " 7   Gpu               1273 non-null   object \n",
      " 8   OpSys             1273 non-null   object \n",
      " 9   Weight            1273 non-null   object \n",
      " 10  Price             1273 non-null   float64\n",
      "dtypes: float64(1), object(10)\n",
      "memory usage: 112.1+ KB\n"
     ]
    }
   ],
   "source": [
    "df.info()"
   ]
  },
  {
   "cell_type": "markdown",
   "id": "ec0c16f8",
   "metadata": {},
   "source": [
    "- Some columns types need changing as : Inches , Cpu , Ram , Memory ,and Weight"
   ]
  },
  {
   "cell_type": "code",
   "execution_count": 7,
   "id": "39d3823e",
   "metadata": {},
   "outputs": [
    {
     "data": {
      "text/html": [
       "<div>\n",
       "<style scoped>\n",
       "    .dataframe tbody tr th:only-of-type {\n",
       "        vertical-align: middle;\n",
       "    }\n",
       "\n",
       "    .dataframe tbody tr th {\n",
       "        vertical-align: top;\n",
       "    }\n",
       "\n",
       "    .dataframe thead th {\n",
       "        text-align: right;\n",
       "    }\n",
       "</style>\n",
       "<table border=\"1\" class=\"dataframe\">\n",
       "  <thead>\n",
       "    <tr style=\"text-align: right;\">\n",
       "      <th></th>\n",
       "      <th>Price</th>\n",
       "    </tr>\n",
       "  </thead>\n",
       "  <tbody>\n",
       "    <tr>\n",
       "      <th>count</th>\n",
       "      <td>1273.000000</td>\n",
       "    </tr>\n",
       "    <tr>\n",
       "      <th>mean</th>\n",
       "      <td>59955.814073</td>\n",
       "    </tr>\n",
       "    <tr>\n",
       "      <th>std</th>\n",
       "      <td>37332.251005</td>\n",
       "    </tr>\n",
       "    <tr>\n",
       "      <th>min</th>\n",
       "      <td>9270.720000</td>\n",
       "    </tr>\n",
       "    <tr>\n",
       "      <th>25%</th>\n",
       "      <td>31914.720000</td>\n",
       "    </tr>\n",
       "    <tr>\n",
       "      <th>50%</th>\n",
       "      <td>52161.120000</td>\n",
       "    </tr>\n",
       "    <tr>\n",
       "      <th>75%</th>\n",
       "      <td>79333.387200</td>\n",
       "    </tr>\n",
       "    <tr>\n",
       "      <th>max</th>\n",
       "      <td>324954.720000</td>\n",
       "    </tr>\n",
       "  </tbody>\n",
       "</table>\n",
       "</div>"
      ],
      "text/plain": [
       "               Price\n",
       "count    1273.000000\n",
       "mean    59955.814073\n",
       "std     37332.251005\n",
       "min      9270.720000\n",
       "25%     31914.720000\n",
       "50%     52161.120000\n",
       "75%     79333.387200\n",
       "max    324954.720000"
      ]
     },
     "execution_count": 7,
     "metadata": {},
     "output_type": "execute_result"
    }
   ],
   "source": [
    "df.describe()\n"
   ]
  },
  {
   "cell_type": "markdown",
   "id": "8b467539",
   "metadata": {},
   "source": [
    "- Prices need to be changed to Dollars , but i think there are high outliers"
   ]
  },
  {
   "cell_type": "code",
   "execution_count": 8,
   "id": "49412614",
   "metadata": {},
   "outputs": [
    {
     "data": {
      "text/html": [
       "<div>\n",
       "<style scoped>\n",
       "    .dataframe tbody tr th:only-of-type {\n",
       "        vertical-align: middle;\n",
       "    }\n",
       "\n",
       "    .dataframe tbody tr th {\n",
       "        vertical-align: top;\n",
       "    }\n",
       "\n",
       "    .dataframe thead th {\n",
       "        text-align: right;\n",
       "    }\n",
       "</style>\n",
       "<table border=\"1\" class=\"dataframe\">\n",
       "  <thead>\n",
       "    <tr style=\"text-align: right;\">\n",
       "      <th></th>\n",
       "      <th>Company</th>\n",
       "      <th>TypeName</th>\n",
       "      <th>Inches</th>\n",
       "      <th>ScreenResolution</th>\n",
       "      <th>Cpu</th>\n",
       "      <th>Ram</th>\n",
       "      <th>Memory</th>\n",
       "      <th>Gpu</th>\n",
       "      <th>OpSys</th>\n",
       "      <th>Weight</th>\n",
       "    </tr>\n",
       "  </thead>\n",
       "  <tbody>\n",
       "    <tr>\n",
       "      <th>count</th>\n",
       "      <td>1273</td>\n",
       "      <td>1273</td>\n",
       "      <td>1273</td>\n",
       "      <td>1273</td>\n",
       "      <td>1273</td>\n",
       "      <td>1273</td>\n",
       "      <td>1273</td>\n",
       "      <td>1273</td>\n",
       "      <td>1273</td>\n",
       "      <td>1273</td>\n",
       "    </tr>\n",
       "    <tr>\n",
       "      <th>unique</th>\n",
       "      <td>19</td>\n",
       "      <td>6</td>\n",
       "      <td>25</td>\n",
       "      <td>40</td>\n",
       "      <td>118</td>\n",
       "      <td>10</td>\n",
       "      <td>40</td>\n",
       "      <td>110</td>\n",
       "      <td>9</td>\n",
       "      <td>189</td>\n",
       "    </tr>\n",
       "    <tr>\n",
       "      <th>top</th>\n",
       "      <td>Lenovo</td>\n",
       "      <td>Notebook</td>\n",
       "      <td>15.6</td>\n",
       "      <td>Full HD 1920x1080</td>\n",
       "      <td>Intel Core i5 7200U 2.5GHz</td>\n",
       "      <td>8GB</td>\n",
       "      <td>256GB SSD</td>\n",
       "      <td>Intel HD Graphics 620</td>\n",
       "      <td>Windows 10</td>\n",
       "      <td>2.2kg</td>\n",
       "    </tr>\n",
       "    <tr>\n",
       "      <th>freq</th>\n",
       "      <td>290</td>\n",
       "      <td>710</td>\n",
       "      <td>640</td>\n",
       "      <td>495</td>\n",
       "      <td>183</td>\n",
       "      <td>601</td>\n",
       "      <td>401</td>\n",
       "      <td>271</td>\n",
       "      <td>1047</td>\n",
       "      <td>111</td>\n",
       "    </tr>\n",
       "  </tbody>\n",
       "</table>\n",
       "</div>"
      ],
      "text/plain": [
       "       Company  TypeName Inches   ScreenResolution   \n",
       "count     1273      1273   1273               1273  \\\n",
       "unique      19         6     25                 40   \n",
       "top     Lenovo  Notebook   15.6  Full HD 1920x1080   \n",
       "freq       290       710    640                495   \n",
       "\n",
       "                               Cpu   Ram     Memory                    Gpu   \n",
       "count                         1273  1273       1273                   1273  \\\n",
       "unique                         118    10         40                    110   \n",
       "top     Intel Core i5 7200U 2.5GHz   8GB  256GB SSD  Intel HD Graphics 620   \n",
       "freq                           183   601        401                    271   \n",
       "\n",
       "             OpSys Weight  \n",
       "count         1273   1273  \n",
       "unique           9    189  \n",
       "top     Windows 10  2.2kg  \n",
       "freq          1047    111  "
      ]
     },
     "execution_count": 8,
     "metadata": {},
     "output_type": "execute_result"
    }
   ],
   "source": [
    "df.describe(include='O')"
   ]
  },
  {
   "cell_type": "code",
   "execution_count": 9,
   "id": "37609e49",
   "metadata": {},
   "outputs": [
    {
     "data": {
      "text/plain": [
       "Company             30\n",
       "TypeName            30\n",
       "Inches              30\n",
       "ScreenResolution    30\n",
       "Cpu                 30\n",
       "Ram                 30\n",
       "Memory              30\n",
       "Gpu                 30\n",
       "OpSys               30\n",
       "Weight              30\n",
       "Price               30\n",
       "dtype: int64"
      ]
     },
     "execution_count": 9,
     "metadata": {},
     "output_type": "execute_result"
    }
   ],
   "source": [
    "df.isna().sum()"
   ]
  },
  {
   "cell_type": "code",
   "execution_count": 10,
   "id": "6d1c8804",
   "metadata": {},
   "outputs": [],
   "source": [
    "## Checking null values\n",
    "df[df.isnull().any(axis=1)]\n",
    "\n",
    "## As they are 30 rows , I will drop all these rows\n",
    "df.dropna(inplace=True)"
   ]
  },
  {
   "cell_type": "code",
   "execution_count": 11,
   "id": "8c0f2215",
   "metadata": {},
   "outputs": [
    {
     "data": {
      "text/plain": [
       "29"
      ]
     },
     "execution_count": 11,
     "metadata": {},
     "output_type": "execute_result"
    }
   ],
   "source": [
    "## Check for duplicates\n",
    "df.duplicated().sum()\n"
   ]
  },
  {
   "cell_type": "code",
   "execution_count": 12,
   "id": "9f0079d0",
   "metadata": {},
   "outputs": [],
   "source": [
    "## Dropping duplicates\n",
    "df.drop_duplicates(inplace=True)"
   ]
  },
  {
   "cell_type": "code",
   "execution_count": 13,
   "id": "40b6c1ea",
   "metadata": {},
   "outputs": [
    {
     "data": {
      "text/plain": [
       "Price               777\n",
       "Weight              189\n",
       "Cpu                 118\n",
       "Gpu                 110\n",
       "ScreenResolution     40\n",
       "Memory               40\n",
       "Inches               25\n",
       "Company              19\n",
       "Ram                  10\n",
       "OpSys                 9\n",
       "TypeName              6\n",
       "dtype: int64"
      ]
     },
     "execution_count": 13,
     "metadata": {},
     "output_type": "execute_result"
    }
   ],
   "source": [
    "df.nunique().sort_values(ascending=False)"
   ]
  },
  {
   "cell_type": "code",
   "execution_count": 14,
   "id": "f4b6b498",
   "metadata": {},
   "outputs": [
    {
     "name": "stdout",
     "output_type": "stream",
     "text": [
      "Value Counts in  Company\n",
      "Company\n",
      "Lenovo       282\n",
      "Dell         281\n",
      "HP           260\n",
      "Asus         149\n",
      "Acer         101\n",
      "MSI           53\n",
      "Toshiba       47\n",
      "Apple         21\n",
      "Samsung        9\n",
      "Razer          7\n",
      "Mediacom       7\n",
      "Microsoft      6\n",
      "Xiaomi         4\n",
      "Vero           4\n",
      "Chuwi          3\n",
      "Google         3\n",
      "LG             3\n",
      "Huawei         2\n",
      "Fujitsu        2\n",
      "Name: count, dtype: int64\n",
      "-----------------------------------------\n",
      "Value Counts in  TypeName\n",
      "TypeName\n",
      "Notebook              689\n",
      "Gaming                203\n",
      "Ultrabook             189\n",
      "2 in 1 Convertible    112\n",
      "Workstation            29\n",
      "Netbook                22\n",
      "Name: count, dtype: int64\n",
      "-----------------------------------------\n",
      "Value Counts in  Inches\n",
      "Inches\n",
      "15.6    621\n",
      "14      188\n",
      "17.3    162\n",
      "13.3    157\n",
      "12.5     38\n",
      "11.6     29\n",
      "12        6\n",
      "13.9      6\n",
      "13.5      5\n",
      "12.3      5\n",
      "15.4      4\n",
      "15        4\n",
      "35.6      3\n",
      "10.1      3\n",
      "24        2\n",
      "13        2\n",
      "18.4      1\n",
      "27.3      1\n",
      "33.5      1\n",
      "?         1\n",
      "31.6      1\n",
      "17        1\n",
      "14.1      1\n",
      "11.3      1\n",
      "25.6      1\n",
      "Name: count, dtype: int64\n",
      "-----------------------------------------\n",
      "Value Counts in  ScreenResolution\n",
      "ScreenResolution\n",
      "Full HD 1920x1080                                493\n",
      "1366x768                                         255\n",
      "IPS Panel Full HD 1920x1080                      222\n",
      "IPS Panel Full HD / Touchscreen 1920x1080         50\n",
      "Full HD / Touchscreen 1920x1080                   45\n",
      "1600x900                                          23\n",
      "Touchscreen 1366x768                              16\n",
      "Quad HD+ / Touchscreen 3200x1800                  14\n",
      "IPS Panel 4K Ultra HD 3840x2160                   12\n",
      "IPS Panel 4K Ultra HD / Touchscreen 3840x2160     11\n",
      "4K Ultra HD / Touchscreen 3840x2160                9\n",
      "4K Ultra HD 3840x2160                              7\n",
      "IPS Panel 1366x768                                 7\n",
      "IPS Panel Retina Display 2560x1600                 6\n",
      "Touchscreen 2560x1440                              6\n",
      "IPS Panel Retina Display 2304x1440                 6\n",
      "Touchscreen 2256x1504                              6\n",
      "IPS Panel Touchscreen 2560x1440                    5\n",
      "IPS Panel Retina Display 2880x1800                 4\n",
      "1440x900                                           4\n",
      "IPS Panel 2560x1440                                4\n",
      "IPS Panel Quad HD+ / Touchscreen 3200x1800         4\n",
      "IPS Panel Quad HD+ 2560x1440                       3\n",
      "IPS Panel Touchscreen 1366x768                     3\n",
      "IPS Panel Touchscreen 1920x1200                    3\n",
      "Quad HD+ 3200x1800                                 3\n",
      "Touchscreen 2400x1600                              3\n",
      "2560x1440                                          3\n",
      "1920x1080                                          3\n",
      "IPS Panel Touchscreen / 4K Ultra HD 3840x2160      2\n",
      "IPS Panel Full HD 2160x1440                        2\n",
      "IPS Panel Quad HD+ 3200x1800                       2\n",
      "IPS Panel Full HD 1920x1200                        1\n",
      "IPS Panel Retina Display 2736x1824                 1\n",
      "IPS Panel Full HD 2560x1440                        1\n",
      "Touchscreen / Full HD 1920x1080                    1\n",
      "IPS Panel Full HD 1366x768                         1\n",
      "Touchscreen / Quad HD+ 3200x1800                   1\n",
      "Touchscreen / 4K Ultra HD 3840x2160                1\n",
      "IPS Panel Touchscreen 2400x1600                    1\n",
      "Name: count, dtype: int64\n",
      "-----------------------------------------\n",
      "Value Counts in  Cpu\n",
      "Cpu\n",
      "Intel Core i5 7200U 2.5GHz     183\n",
      "Intel Core i7 7700HQ 2.8GHz    142\n",
      "Intel Core i7 7500U 2.7GHz     126\n",
      "Intel Core i7 8550U 1.8GHz      72\n",
      "Intel Core i5 8250U 1.6GHz      68\n",
      "                              ... \n",
      "AMD A9-Series 9420 2.9GHz        1\n",
      "Intel Core i5 6440HQ 2.6GHz      1\n",
      "AMD A6-Series 7310 2GHz          1\n",
      "Intel Atom Z8350 1.92GHz         1\n",
      "AMD A9-Series 9410 2.9GHz        1\n",
      "Name: count, Length: 118, dtype: int64\n",
      "-----------------------------------------\n",
      "Value Counts in  Ram\n",
      "Ram\n",
      "8GB     595\n",
      "4GB     358\n",
      "16GB    192\n",
      "6GB      34\n",
      "12GB     25\n",
      "32GB     17\n",
      "2GB      16\n",
      "64GB      3\n",
      "24GB      3\n",
      "1GB       1\n",
      "Name: count, dtype: int64\n",
      "-----------------------------------------\n",
      "Value Counts in  Memory\n",
      "Memory\n",
      "256GB SSD                        401\n",
      "1TB HDD                          209\n",
      "500GB HDD                        121\n",
      "512GB SSD                        112\n",
      "128GB SSD +  1TB HDD              92\n",
      "128GB SSD                         72\n",
      "256GB SSD +  1TB HDD              71\n",
      "32GB Flash Storage                35\n",
      "2TB HDD                           16\n",
      "512GB SSD +  1TB HDD              14\n",
      "1TB SSD                           13\n",
      "64GB Flash Storage                12\n",
      "256GB SSD +  2TB HDD              10\n",
      "256GB Flash Storage                8\n",
      "16GB Flash Storage                 7\n",
      "1.0TB Hybrid                       7\n",
      "32GB SSD                           6\n",
      "180GB SSD                          4\n",
      "128GB Flash Storage                4\n",
      "512GB SSD +  2TB HDD               3\n",
      "16GB SSD                           3\n",
      "512GB Flash Storage                2\n",
      "1TB SSD +  1TB HDD                 2\n",
      "128GB SSD +  2TB HDD               2\n",
      "256GB SSD +  500GB HDD             2\n",
      "256GB SSD +  256GB SSD             2\n",
      "512GB SSD +  256GB SSD             1\n",
      "512GB SSD +  512GB SSD             1\n",
      "64GB Flash Storage +  1TB HDD      1\n",
      "1TB HDD +  1TB HDD                 1\n",
      "32GB HDD                           1\n",
      "64GB SSD                           1\n",
      "?                                  1\n",
      "128GB HDD                          1\n",
      "240GB SSD                          1\n",
      "8GB SSD                            1\n",
      "508GB Hybrid                       1\n",
      "1.0TB HDD                          1\n",
      "512GB SSD +  1.0TB Hybrid          1\n",
      "256GB SSD +  1.0TB Hybrid          1\n",
      "Name: count, dtype: int64\n",
      "-----------------------------------------\n",
      "Value Counts in  Gpu\n",
      "Gpu\n",
      "Intel HD Graphics 620      269\n",
      "Intel HD Graphics 520      177\n",
      "Intel UHD Graphics 620      66\n",
      "Nvidia GeForce GTX 1050     64\n",
      "Nvidia GeForce GTX 1060     48\n",
      "                          ... \n",
      "AMD Radeon R5 520            1\n",
      "AMD Radeon R7                1\n",
      "Intel HD Graphics 540        1\n",
      "AMD Radeon 540               1\n",
      "ARM Mali T860 MP4            1\n",
      "Name: count, Length: 110, dtype: int64\n",
      "-----------------------------------------\n",
      "Value Counts in  OpSys\n",
      "OpSys\n",
      "Windows 10      1022\n",
      "No OS             63\n",
      "Linux             57\n",
      "Windows 7         45\n",
      "Chrome OS         27\n",
      "macOS             13\n",
      "Mac OS X           8\n",
      "Windows 10 S       8\n",
      "Android            1\n",
      "Name: count, dtype: int64\n",
      "-----------------------------------------\n",
      "Value Counts in  Weight\n",
      "Weight\n",
      "2.2kg     106\n",
      "2.1kg      57\n",
      "2.4kg      41\n",
      "2.5kg      37\n",
      "2.3kg      37\n",
      "         ... \n",
      "1.41kg      1\n",
      "3.6kg       1\n",
      "4.7kg       1\n",
      "4.33kg      1\n",
      "4.0kg       1\n",
      "Name: count, Length: 189, dtype: int64\n",
      "-----------------------------------------\n"
     ]
    }
   ],
   "source": [
    "cats = df.select_dtypes(include='O').columns\n",
    "for i in cats:\n",
    "    if df[i].nunique() <= 199:\n",
    "        print('Value Counts in ',i)\n",
    "        print(df[i].value_counts())\n",
    "        print('-----------------------------------------')"
   ]
  },
  {
   "cell_type": "markdown",
   "id": "9144c5d8",
   "metadata": {},
   "source": [
    "#### Final notes\n",
    "- Screen Resolution ,Gpu , Cpu ,and Memory need Feature Engineering\n",
    "- some features has ? as a value\n",
    "- Prices will be converted to Dollars\n",
    "- Ram and weight : units will be removed & will be converted to numerical values\n"
   ]
  },
  {
   "cell_type": "code",
   "execution_count": 15,
   "id": "b0b0b76b",
   "metadata": {},
   "outputs": [],
   "source": [
    "## Replacing all ? with Nan\n",
    "df.replace('?',np.nan,inplace=True)"
   ]
  },
  {
   "cell_type": "markdown",
   "id": "b26c68cc",
   "metadata": {},
   "source": [
    "#  Data Cleanning & Preprocessing"
   ]
  },
  {
   "cell_type": "markdown",
   "id": "939fd494",
   "metadata": {},
   "source": [
    "#### Ram , Inches ,and weights"
   ]
  },
  {
   "cell_type": "code",
   "execution_count": 16,
   "id": "e8ef93a0",
   "metadata": {},
   "outputs": [],
   "source": [
    "## Removing Characters of Ram , Inches\n",
    "df['Ram'] = df['Ram'].str.replace('GB', '')\n",
    "df['Weight'] = df['Weight'].str.replace('kg', '')\n",
    "\n",
    "## Changing their values to numerical values\n",
    "df['Ram']=pd.to_numeric(df['Ram'], errors='coerce')\n",
    "df['Weight']=pd.to_numeric(df['Weight'],errors='coerce')\n",
    "df['Inches']= pd.to_numeric(df['Inches'],errors='coerce')\n",
    "\n",
    "## Rename Columns\n",
    "df.rename(columns={'Ram':'RamGB','Weight' :'WeightKG'}, inplace=True)"
   ]
  },
  {
   "cell_type": "code",
   "execution_count": 17,
   "id": "f7fa2940",
   "metadata": {},
   "outputs": [
    {
     "name": "stdout",
     "output_type": "stream",
     "text": [
      "<class 'pandas.core.frame.DataFrame'>\n",
      "Index: 1244 entries, 0 to 1273\n",
      "Data columns (total 11 columns):\n",
      " #   Column            Non-Null Count  Dtype  \n",
      "---  ------            --------------  -----  \n",
      " 0   Company           1244 non-null   object \n",
      " 1   TypeName          1244 non-null   object \n",
      " 2   Inches            1243 non-null   float64\n",
      " 3   ScreenResolution  1244 non-null   object \n",
      " 4   Cpu               1244 non-null   object \n",
      " 5   RamGB             1244 non-null   int64  \n",
      " 6   Memory            1243 non-null   object \n",
      " 7   Gpu               1244 non-null   object \n",
      " 8   OpSys             1244 non-null   object \n",
      " 9   WeightKG          1243 non-null   float64\n",
      " 10  Price             1244 non-null   float64\n",
      "dtypes: float64(3), int64(1), object(7)\n",
      "memory usage: 116.6+ KB\n"
     ]
    }
   ],
   "source": [
    "df.info()"
   ]
  },
  {
   "cell_type": "markdown",
   "id": "9e4a8ac0",
   "metadata": {},
   "source": [
    "- There is one Nun Column appeared "
   ]
  },
  {
   "cell_type": "code",
   "execution_count": 18,
   "id": "55182007",
   "metadata": {},
   "outputs": [
    {
     "data": {
      "text/plain": [
       "Company             0\n",
       "TypeName            0\n",
       "Inches              1\n",
       "ScreenResolution    0\n",
       "Cpu                 0\n",
       "RamGB               0\n",
       "Memory              1\n",
       "Gpu                 0\n",
       "OpSys               0\n",
       "WeightKG            1\n",
       "Price               0\n",
       "dtype: int64"
      ]
     },
     "execution_count": 18,
     "metadata": {},
     "output_type": "execute_result"
    }
   ],
   "source": [
    "df.isna().sum()"
   ]
  },
  {
   "cell_type": "markdown",
   "id": "87424ea3",
   "metadata": {},
   "source": [
    "#### Price To dollars\n",
    "- 1 Indian Rupee equals 0.012 United States Dollar"
   ]
  },
  {
   "cell_type": "code",
   "execution_count": 19,
   "id": "89273eb9",
   "metadata": {},
   "outputs": [],
   "source": [
    "## Changing Price to dollars\n",
    "df['Price'] = df['Price'] * 0.012"
   ]
  },
  {
   "cell_type": "markdown",
   "id": "9091d273",
   "metadata": {},
   "source": [
    "### CPU "
   ]
  },
  {
   "cell_type": "code",
   "execution_count": 20,
   "id": "f563b35a",
   "metadata": {},
   "outputs": [
    {
     "data": {
      "text/plain": [
       "Cpu\n",
       "Intel Core i5 7200U 2.5GHz     183\n",
       "Intel Core i7 7700HQ 2.8GHz    142\n",
       "Intel Core i7 7500U 2.7GHz     126\n",
       "Intel Core i7 8550U 1.8GHz      72\n",
       "Intel Core i5 8250U 1.6GHz      68\n",
       "                              ... \n",
       "AMD A9-Series 9420 2.9GHz        1\n",
       "Intel Core i5 6440HQ 2.6GHz      1\n",
       "AMD A6-Series 7310 2GHz          1\n",
       "Intel Atom Z8350 1.92GHz         1\n",
       "AMD A9-Series 9410 2.9GHz        1\n",
       "Name: count, Length: 118, dtype: int64"
      ]
     },
     "execution_count": 20,
     "metadata": {},
     "output_type": "execute_result"
    }
   ],
   "source": [
    "df['Cpu'].value_counts()"
   ]
  },
  {
   "cell_type": "code",
   "execution_count": 21,
   "id": "63a01ba9",
   "metadata": {},
   "outputs": [],
   "source": [
    "## Extracting GHz from Cpu \n",
    "df['GHz'] = df['Cpu'].str.extract(r'(\\d+(?:\\.\\d+)?GHz)') \n",
    "df['GHz'] = df['GHz'].str.replace(r'GHz','',regex=True)\n",
    "\n",
    "## Converting GHz column to numeric\n",
    "df['GHz'] = pd.to_numeric(df['GHz'],errors='coerce')\n",
    "\n",
    "## Removing GHz from original Cpu\n",
    "df['Cpu'] = df['Cpu'].str.replace(r'(\\d+(?:\\.\\d+)?GHz)','',regex=True) \n"
   ]
  },
  {
   "cell_type": "code",
   "execution_count": 22,
   "id": "e54c4d53",
   "metadata": {},
   "outputs": [
    {
     "data": {
      "text/plain": [
       "Cpu\n",
       "Intel Core i5 7200U      186\n",
       "Intel Core i7 7700HQ     143\n",
       "Intel Core i7 7500U      127\n",
       "Intel Core i3 6006U       79\n",
       "Intel Core i7 8550U       72\n",
       "                        ... \n",
       "AMD E-Series E2-9000       1\n",
       "Intel Core M M3-6Y30       1\n",
       "AMD A6-Series 7310         1\n",
       "Intel Atom Z8350           1\n",
       "AMD A9-Series 9410         1\n",
       "Name: count, Length: 93, dtype: int64"
      ]
     },
     "execution_count": 22,
     "metadata": {},
     "output_type": "execute_result"
    }
   ],
   "source": [
    "df.Cpu.value_counts()"
   ]
  },
  {
   "cell_type": "code",
   "execution_count": 23,
   "id": "a5371ca2",
   "metadata": {},
   "outputs": [
    {
     "data": {
      "text/plain": [
       "CpuBrand\n",
       "Intel      1183\n",
       "AMD          60\n",
       "Samsung       1\n",
       "Name: count, dtype: int64"
      ]
     },
     "execution_count": 23,
     "metadata": {},
     "output_type": "execute_result"
    }
   ],
   "source": [
    "## Cpu Brand\n",
    "df['CpuBrand']= df['Cpu'].str.extract(r'^(\\w+)')\n",
    "df['CpuBrand'].value_counts()"
   ]
  },
  {
   "cell_type": "code",
   "execution_count": 24,
   "id": "e237d3d1",
   "metadata": {},
   "outputs": [
    {
     "data": {
      "text/html": [
       "<div>\n",
       "<style scoped>\n",
       "    .dataframe tbody tr th:only-of-type {\n",
       "        vertical-align: middle;\n",
       "    }\n",
       "\n",
       "    .dataframe tbody tr th {\n",
       "        vertical-align: top;\n",
       "    }\n",
       "\n",
       "    .dataframe thead th {\n",
       "        text-align: right;\n",
       "    }\n",
       "</style>\n",
       "<table border=\"1\" class=\"dataframe\">\n",
       "  <thead>\n",
       "    <tr style=\"text-align: right;\">\n",
       "      <th></th>\n",
       "      <th>Company</th>\n",
       "      <th>TypeName</th>\n",
       "      <th>Inches</th>\n",
       "      <th>ScreenResolution</th>\n",
       "      <th>Cpu</th>\n",
       "      <th>RamGB</th>\n",
       "      <th>Memory</th>\n",
       "      <th>Gpu</th>\n",
       "      <th>OpSys</th>\n",
       "      <th>WeightKG</th>\n",
       "      <th>Price</th>\n",
       "      <th>GHz</th>\n",
       "      <th>CpuBrand</th>\n",
       "    </tr>\n",
       "  </thead>\n",
       "  <tbody>\n",
       "    <tr>\n",
       "      <th>1191</th>\n",
       "      <td>Samsung</td>\n",
       "      <td>2 in 1 Convertible</td>\n",
       "      <td>12.3</td>\n",
       "      <td>IPS Panel Touchscreen 2400x1600</td>\n",
       "      <td>Samsung Cortex A72&amp;A53</td>\n",
       "      <td>4</td>\n",
       "      <td>32GB Flash Storage</td>\n",
       "      <td>ARM Mali T860 MP4</td>\n",
       "      <td>Chrome OS</td>\n",
       "      <td>1.15</td>\n",
       "      <td>421.33824</td>\n",
       "      <td>2.0</td>\n",
       "      <td>Samsung</td>\n",
       "    </tr>\n",
       "  </tbody>\n",
       "</table>\n",
       "</div>"
      ],
      "text/plain": [
       "      Company            TypeName  Inches                 ScreenResolution   \n",
       "1191  Samsung  2 in 1 Convertible    12.3  IPS Panel Touchscreen 2400x1600  \\\n",
       "\n",
       "                          Cpu  RamGB              Memory                Gpu   \n",
       "1191  Samsung Cortex A72&A53       4  32GB Flash Storage  ARM Mali T860 MP4  \\\n",
       "\n",
       "          OpSys  WeightKG      Price  GHz CpuBrand  \n",
       "1191  Chrome OS      1.15  421.33824  2.0  Samsung  "
      ]
     },
     "execution_count": 24,
     "metadata": {},
     "output_type": "execute_result"
    }
   ],
   "source": [
    "df[df['CpuBrand']=='Samsung']"
   ]
  },
  {
   "cell_type": "markdown",
   "id": "d57ec992",
   "metadata": {},
   "source": [
    "- We need to take good care to that when splitting"
   ]
  },
  {
   "cell_type": "code",
   "execution_count": 25,
   "id": "7b265581",
   "metadata": {},
   "outputs": [],
   "source": [
    "## Cpu Version\n",
    "df['CpuVersion'] = df['Cpu'].str.replace(r'^(\\w+)','',regex=True)\n"
   ]
  },
  {
   "cell_type": "code",
   "execution_count": 26,
   "id": "40a0a293",
   "metadata": {},
   "outputs": [],
   "source": [
    "## Drop Old Cpu Column\n",
    "df.drop(columns={'Cpu'},inplace=True)"
   ]
  },
  {
   "cell_type": "markdown",
   "id": "e87c6a31",
   "metadata": {},
   "source": [
    "#### Memory"
   ]
  },
  {
   "cell_type": "code",
   "execution_count": 27,
   "id": "bebd329d",
   "metadata": {},
   "outputs": [
    {
     "data": {
      "text/plain": [
       "Memory\n",
       "256GB SSD                        401\n",
       "1TB HDD                          209\n",
       "500GB HDD                        121\n",
       "512GB SSD                        112\n",
       "128GB SSD +  1TB HDD              92\n",
       "128GB SSD                         72\n",
       "256GB SSD +  1TB HDD              71\n",
       "32GB Flash Storage                35\n",
       "2TB HDD                           16\n",
       "512GB SSD +  1TB HDD              14\n",
       "1TB SSD                           13\n",
       "64GB Flash Storage                12\n",
       "256GB SSD +  2TB HDD              10\n",
       "256GB Flash Storage                8\n",
       "16GB Flash Storage                 7\n",
       "1.0TB Hybrid                       7\n",
       "32GB SSD                           6\n",
       "128GB Flash Storage                4\n",
       "180GB SSD                          4\n",
       "512GB SSD +  2TB HDD               3\n",
       "16GB SSD                           3\n",
       "512GB Flash Storage                2\n",
       "1TB SSD +  1TB HDD                 2\n",
       "256GB SSD +  500GB HDD             2\n",
       "128GB SSD +  2TB HDD               2\n",
       "256GB SSD +  256GB SSD             2\n",
       "512GB SSD +  256GB SSD             1\n",
       "512GB SSD +  512GB SSD             1\n",
       "64GB Flash Storage +  1TB HDD      1\n",
       "1TB HDD +  1TB HDD                 1\n",
       "32GB HDD                           1\n",
       "64GB SSD                           1\n",
       "128GB HDD                          1\n",
       "240GB SSD                          1\n",
       "8GB SSD                            1\n",
       "508GB Hybrid                       1\n",
       "1.0TB HDD                          1\n",
       "512GB SSD +  1.0TB Hybrid          1\n",
       "256GB SSD +  1.0TB Hybrid          1\n",
       "Name: count, dtype: int64"
      ]
     },
     "execution_count": 27,
     "metadata": {},
     "output_type": "execute_result"
    }
   ],
   "source": [
    "df.Memory.value_counts()"
   ]
  },
  {
   "cell_type": "markdown",
   "id": "ce97f05d",
   "metadata": {},
   "source": [
    "- There are Different types : SSD , Hybrid , FlashStorage ,and HDD\n",
    "- Some laptops have Extra memory"
   ]
  },
  {
   "cell_type": "code",
   "execution_count": 28,
   "id": "78fdc510",
   "metadata": {},
   "outputs": [
    {
     "data": {
      "text/plain": [
       "array(['128 SSD', '128 Flash Storage', '256 SSD', '512 SSD', '500 HDD',\n",
       "       '256 Flash Storage', '1000 HDD', '128 SSD +  1000 HDD',\n",
       "       '256 SSD +  256 SSD', '64 Flash Storage', '32 Flash Storage',\n",
       "       '256 SSD +  1000 HDD', '256 SSD +  2000 HDD', '32 SSD', '2000 HDD',\n",
       "       '64 SSD', '1000 Hybrid', '512 SSD +  1000 HDD', '1000 SSD',\n",
       "       '256 SSD +  500 HDD', '128 SSD +  2000 HDD', '512 SSD +  512 SSD',\n",
       "       '16 SSD', '16 Flash Storage', '512 SSD +  256 SSD',\n",
       "       '512 SSD +  2000 HDD', '64 Flash Storage +  1000 HDD', '180 SSD',\n",
       "       '1000 HDD +  1000 HDD', '32 HDD', '1000 SSD +  1000 HDD', nan,\n",
       "       '512 Flash Storage', '128 HDD', '240 SSD', '8 SSD', '508 Hybrid',\n",
       "       '512 SSD +  1000 Hybrid', '256 SSD +  1000 Hybrid'], dtype=object)"
      ]
     },
     "execution_count": 28,
     "metadata": {},
     "output_type": "execute_result"
    }
   ],
   "source": [
    "## Remove GB & TB from Numbers\n",
    "df['Memory'] = df['Memory'].str.replace(r'GB|\\.0', '' ,regex=True)\n",
    "df['Memory'] = df['Memory'].str.replace(r'TB','000',regex=True)\n",
    "\n",
    "df['Memory'].unique()"
   ]
  },
  {
   "cell_type": "code",
   "execution_count": 29,
   "id": "e0c01998",
   "metadata": {},
   "outputs": [
    {
     "name": "stdout",
     "output_type": "stream",
     "text": [
      "MainMemory Values:  ['128SSD' '128FlashStorage' '256SSD' '512SSD' '500HDD' '256FlashStorage'\n",
      " '1000HDD' '64FlashStorage' '32FlashStorage' '32SSD' '2000HDD' '64SSD'\n",
      " '1000Hybrid' '1000SSD' '16SSD' '16FlashStorage' '180SSD' '32HDD' nan\n",
      " '512FlashStorage' '128HDD' '240SSD' '8SSD' '508Hybrid']\n",
      "SecondMemory Values:  [None '1000HDD' '256SSD' '2000HDD' '500HDD' '512SSD' nan '1000Hybrid']\n"
     ]
    }
   ],
   "source": [
    "## Main & Extra Memory column creation\n",
    "df['MainMemory']= df['Memory'].str.replace(r' ','').str.split('+', n = 1, expand = True)[0]\n",
    "df['SecondMemory']=df['Memory'].str.replace(r' ','').str.split('+', n = 1, expand = True)[1]\n",
    "print('MainMemory Values: ',df['MainMemory'].unique())\n",
    "print('SecondMemory Values: ',df['SecondMemory'].unique())\n",
    "\n"
   ]
  },
  {
   "cell_type": "code",
   "execution_count": 30,
   "id": "b48b304c",
   "metadata": {},
   "outputs": [],
   "source": [
    "## Main & Extra Memories type\n",
    "df['MainMemoryType'] = df['MainMemory'].str.extract(r'(\\D+)')\n",
    "df['SecondMemoryType'] = df['SecondMemory'].str.extract(r'(\\D+)')\n",
    "\n",
    "## Removing Type from Memory Columns\n",
    "df['MainMemory'] = df['MainMemory'].str.extract(r'(\\d+)',)\n",
    "df['SecondMemory'] = df['SecondMemory'].str.extract(r'(\\d+)',)\n",
    "\n",
    "## Changing Memory to Numerical \n",
    "df['MainMemory'] = pd.to_numeric(df['MainMemory'],errors='coerce')\n",
    "df['SecondMemory']= pd.to_numeric(df['SecondMemory'],errors= 'coerce')\n"
   ]
  },
  {
   "cell_type": "code",
   "execution_count": 31,
   "id": "87f0ae99",
   "metadata": {},
   "outputs": [
    {
     "name": "stdout",
     "output_type": "stream",
     "text": [
      "<class 'pandas.core.frame.DataFrame'>\n",
      "Index: 1244 entries, 0 to 1273\n",
      "Data columns (total 17 columns):\n",
      " #   Column            Non-Null Count  Dtype  \n",
      "---  ------            --------------  -----  \n",
      " 0   Company           1244 non-null   object \n",
      " 1   TypeName          1244 non-null   object \n",
      " 2   Inches            1243 non-null   float64\n",
      " 3   ScreenResolution  1244 non-null   object \n",
      " 4   RamGB             1244 non-null   int64  \n",
      " 5   Memory            1243 non-null   object \n",
      " 6   Gpu               1244 non-null   object \n",
      " 7   OpSys             1244 non-null   object \n",
      " 8   WeightKG          1243 non-null   float64\n",
      " 9   Price             1244 non-null   float64\n",
      " 10  GHz               1244 non-null   float64\n",
      " 11  CpuBrand          1244 non-null   object \n",
      " 12  CpuVersion        1244 non-null   object \n",
      " 13  MainMemory        1243 non-null   float64\n",
      " 14  SecondMemory      204 non-null    float64\n",
      " 15  MainMemoryType    1243 non-null   object \n",
      " 16  SecondMemoryType  204 non-null    object \n",
      "dtypes: float64(6), int64(1), object(10)\n",
      "memory usage: 174.9+ KB\n"
     ]
    }
   ],
   "source": [
    "df.info()"
   ]
  },
  {
   "cell_type": "code",
   "execution_count": 32,
   "id": "f7684dc3",
   "metadata": {},
   "outputs": [],
   "source": [
    "## Drop the original Memory Column\n",
    "df.drop(columns={'Memory'},inplace=True)"
   ]
  },
  {
   "cell_type": "code",
   "execution_count": 33,
   "id": "2b4c3502",
   "metadata": {},
   "outputs": [
    {
     "data": {
      "text/html": [
       "<div>\n",
       "<style scoped>\n",
       "    .dataframe tbody tr th:only-of-type {\n",
       "        vertical-align: middle;\n",
       "    }\n",
       "\n",
       "    .dataframe tbody tr th {\n",
       "        vertical-align: top;\n",
       "    }\n",
       "\n",
       "    .dataframe thead th {\n",
       "        text-align: right;\n",
       "    }\n",
       "</style>\n",
       "<table border=\"1\" class=\"dataframe\">\n",
       "  <thead>\n",
       "    <tr style=\"text-align: right;\">\n",
       "      <th></th>\n",
       "      <th>Company</th>\n",
       "      <th>TypeName</th>\n",
       "      <th>Inches</th>\n",
       "      <th>ScreenResolution</th>\n",
       "      <th>RamGB</th>\n",
       "      <th>Gpu</th>\n",
       "      <th>OpSys</th>\n",
       "      <th>WeightKG</th>\n",
       "      <th>Price</th>\n",
       "      <th>GHz</th>\n",
       "      <th>CpuBrand</th>\n",
       "      <th>CpuVersion</th>\n",
       "      <th>MainMemory</th>\n",
       "      <th>SecondMemory</th>\n",
       "      <th>MainMemoryType</th>\n",
       "      <th>SecondMemoryType</th>\n",
       "    </tr>\n",
       "  </thead>\n",
       "  <tbody>\n",
       "    <tr>\n",
       "      <th>0</th>\n",
       "      <td>Apple</td>\n",
       "      <td>Ultrabook</td>\n",
       "      <td>13.3</td>\n",
       "      <td>IPS Panel Retina Display 2560x1600</td>\n",
       "      <td>8</td>\n",
       "      <td>Intel Iris Plus Graphics 640</td>\n",
       "      <td>macOS</td>\n",
       "      <td>1.37</td>\n",
       "      <td>856.544198</td>\n",
       "      <td>2.3</td>\n",
       "      <td>Intel</td>\n",
       "      <td>Core i5</td>\n",
       "      <td>128.0</td>\n",
       "      <td>NaN</td>\n",
       "      <td>SSD</td>\n",
       "      <td>NaN</td>\n",
       "    </tr>\n",
       "    <tr>\n",
       "      <th>1</th>\n",
       "      <td>Apple</td>\n",
       "      <td>Ultrabook</td>\n",
       "      <td>13.3</td>\n",
       "      <td>1440x900</td>\n",
       "      <td>8</td>\n",
       "      <td>Intel HD Graphics 6000</td>\n",
       "      <td>macOS</td>\n",
       "      <td>1.34</td>\n",
       "      <td>574.746278</td>\n",
       "      <td>1.8</td>\n",
       "      <td>Intel</td>\n",
       "      <td>Core i5</td>\n",
       "      <td>128.0</td>\n",
       "      <td>NaN</td>\n",
       "      <td>FlashStorage</td>\n",
       "      <td>NaN</td>\n",
       "    </tr>\n",
       "    <tr>\n",
       "      <th>2</th>\n",
       "      <td>HP</td>\n",
       "      <td>Notebook</td>\n",
       "      <td>15.6</td>\n",
       "      <td>Full HD 1920x1080</td>\n",
       "      <td>8</td>\n",
       "      <td>Intel HD Graphics 620</td>\n",
       "      <td>No OS</td>\n",
       "      <td>1.86</td>\n",
       "      <td>367.632000</td>\n",
       "      <td>2.5</td>\n",
       "      <td>Intel</td>\n",
       "      <td>Core i5 7200U</td>\n",
       "      <td>256.0</td>\n",
       "      <td>NaN</td>\n",
       "      <td>SSD</td>\n",
       "      <td>NaN</td>\n",
       "    </tr>\n",
       "    <tr>\n",
       "      <th>3</th>\n",
       "      <td>Apple</td>\n",
       "      <td>Ultrabook</td>\n",
       "      <td>15.4</td>\n",
       "      <td>IPS Panel Retina Display 2880x1800</td>\n",
       "      <td>16</td>\n",
       "      <td>AMD Radeon Pro 455</td>\n",
       "      <td>macOS</td>\n",
       "      <td>1.83</td>\n",
       "      <td>1622.344032</td>\n",
       "      <td>2.7</td>\n",
       "      <td>Intel</td>\n",
       "      <td>Core i7</td>\n",
       "      <td>512.0</td>\n",
       "      <td>NaN</td>\n",
       "      <td>SSD</td>\n",
       "      <td>NaN</td>\n",
       "    </tr>\n",
       "    <tr>\n",
       "      <th>4</th>\n",
       "      <td>Apple</td>\n",
       "      <td>Ultrabook</td>\n",
       "      <td>13.3</td>\n",
       "      <td>IPS Panel Retina Display 2560x1600</td>\n",
       "      <td>8</td>\n",
       "      <td>Intel Iris Plus Graphics 650</td>\n",
       "      <td>macOS</td>\n",
       "      <td>1.37</td>\n",
       "      <td>1153.149696</td>\n",
       "      <td>3.1</td>\n",
       "      <td>Intel</td>\n",
       "      <td>Core i5</td>\n",
       "      <td>256.0</td>\n",
       "      <td>NaN</td>\n",
       "      <td>SSD</td>\n",
       "      <td>NaN</td>\n",
       "    </tr>\n",
       "  </tbody>\n",
       "</table>\n",
       "</div>"
      ],
      "text/plain": [
       "  Company   TypeName  Inches                    ScreenResolution  RamGB   \n",
       "0   Apple  Ultrabook    13.3  IPS Panel Retina Display 2560x1600      8  \\\n",
       "1   Apple  Ultrabook    13.3                            1440x900      8   \n",
       "2      HP   Notebook    15.6                   Full HD 1920x1080      8   \n",
       "3   Apple  Ultrabook    15.4  IPS Panel Retina Display 2880x1800     16   \n",
       "4   Apple  Ultrabook    13.3  IPS Panel Retina Display 2560x1600      8   \n",
       "\n",
       "                            Gpu  OpSys  WeightKG        Price  GHz CpuBrand   \n",
       "0  Intel Iris Plus Graphics 640  macOS      1.37   856.544198  2.3    Intel  \\\n",
       "1        Intel HD Graphics 6000  macOS      1.34   574.746278  1.8    Intel   \n",
       "2         Intel HD Graphics 620  No OS      1.86   367.632000  2.5    Intel   \n",
       "3            AMD Radeon Pro 455  macOS      1.83  1622.344032  2.7    Intel   \n",
       "4  Intel Iris Plus Graphics 650  macOS      1.37  1153.149696  3.1    Intel   \n",
       "\n",
       "        CpuVersion  MainMemory  SecondMemory MainMemoryType SecondMemoryType  \n",
       "0         Core i5        128.0           NaN            SSD              NaN  \n",
       "1         Core i5        128.0           NaN   FlashStorage              NaN  \n",
       "2   Core i5 7200U        256.0           NaN            SSD              NaN  \n",
       "3         Core i7        512.0           NaN            SSD              NaN  \n",
       "4         Core i5        256.0           NaN            SSD              NaN  "
      ]
     },
     "execution_count": 33,
     "metadata": {},
     "output_type": "execute_result"
    }
   ],
   "source": [
    "df.head()"
   ]
  },
  {
   "cell_type": "code",
   "execution_count": 34,
   "id": "3e453a27",
   "metadata": {},
   "outputs": [
    {
     "data": {
      "text/plain": [
       "Company                0\n",
       "TypeName               0\n",
       "Inches                 1\n",
       "ScreenResolution       0\n",
       "RamGB                  0\n",
       "Gpu                    0\n",
       "OpSys                  0\n",
       "WeightKG               1\n",
       "Price                  0\n",
       "GHz                    0\n",
       "CpuBrand               0\n",
       "CpuVersion             0\n",
       "MainMemory             1\n",
       "SecondMemory        1040\n",
       "MainMemoryType         1\n",
       "SecondMemoryType    1040\n",
       "dtype: int64"
      ]
     },
     "execution_count": 34,
     "metadata": {},
     "output_type": "execute_result"
    }
   ],
   "source": [
    "df.isna().sum()"
   ]
  },
  {
   "cell_type": "code",
   "execution_count": 35,
   "id": "76b47486",
   "metadata": {},
   "outputs": [],
   "source": [
    "df['SecondMemory'].replace(np.nan,0,inplace=True)\n",
    "df['MainMemory'].replace(np.nan,0,inplace=True)\n",
    "df['SecondMemoryType'].replace(np.nan,'None',inplace=True)"
   ]
  },
  {
   "cell_type": "code",
   "execution_count": 36,
   "id": "6421e851",
   "metadata": {},
   "outputs": [
    {
     "data": {
      "text/plain": [
       "Company             0\n",
       "TypeName            0\n",
       "Inches              1\n",
       "ScreenResolution    0\n",
       "RamGB               0\n",
       "Gpu                 0\n",
       "OpSys               0\n",
       "WeightKG            1\n",
       "Price               0\n",
       "GHz                 0\n",
       "CpuBrand            0\n",
       "CpuVersion          0\n",
       "MainMemory          0\n",
       "SecondMemory        0\n",
       "MainMemoryType      1\n",
       "SecondMemoryType    0\n",
       "dtype: int64"
      ]
     },
     "execution_count": 36,
     "metadata": {},
     "output_type": "execute_result"
    }
   ],
   "source": [
    "df.isna().sum()"
   ]
  },
  {
   "cell_type": "markdown",
   "id": "379499e3",
   "metadata": {},
   "source": [
    "### Screen Resolutions"
   ]
  },
  {
   "cell_type": "code",
   "execution_count": 37,
   "id": "d21db95a",
   "metadata": {},
   "outputs": [
    {
     "data": {
      "text/plain": [
       "ScreenResolution\n",
       "Full HD 1920x1080                                493\n",
       "1366x768                                         255\n",
       "IPS Panel Full HD 1920x1080                      222\n",
       "IPS Panel Full HD / Touchscreen 1920x1080         50\n",
       "Full HD / Touchscreen 1920x1080                   45\n",
       "1600x900                                          23\n",
       "Touchscreen 1366x768                              16\n",
       "Quad HD+ / Touchscreen 3200x1800                  14\n",
       "IPS Panel 4K Ultra HD 3840x2160                   12\n",
       "IPS Panel 4K Ultra HD / Touchscreen 3840x2160     11\n",
       "4K Ultra HD / Touchscreen 3840x2160                9\n",
       "4K Ultra HD 3840x2160                              7\n",
       "IPS Panel 1366x768                                 7\n",
       "IPS Panel Retina Display 2560x1600                 6\n",
       "Touchscreen 2560x1440                              6\n",
       "IPS Panel Retina Display 2304x1440                 6\n",
       "Touchscreen 2256x1504                              6\n",
       "IPS Panel Touchscreen 2560x1440                    5\n",
       "IPS Panel Retina Display 2880x1800                 4\n",
       "1440x900                                           4\n",
       "IPS Panel 2560x1440                                4\n",
       "IPS Panel Quad HD+ / Touchscreen 3200x1800         4\n",
       "IPS Panel Quad HD+ 2560x1440                       3\n",
       "IPS Panel Touchscreen 1366x768                     3\n",
       "IPS Panel Touchscreen 1920x1200                    3\n",
       "Quad HD+ 3200x1800                                 3\n",
       "Touchscreen 2400x1600                              3\n",
       "2560x1440                                          3\n",
       "1920x1080                                          3\n",
       "IPS Panel Touchscreen / 4K Ultra HD 3840x2160      2\n",
       "IPS Panel Full HD 2160x1440                        2\n",
       "IPS Panel Quad HD+ 3200x1800                       2\n",
       "IPS Panel Full HD 1920x1200                        1\n",
       "IPS Panel Retina Display 2736x1824                 1\n",
       "IPS Panel Full HD 2560x1440                        1\n",
       "Touchscreen / Full HD 1920x1080                    1\n",
       "IPS Panel Full HD 1366x768                         1\n",
       "Touchscreen / Quad HD+ 3200x1800                   1\n",
       "Touchscreen / 4K Ultra HD 3840x2160                1\n",
       "IPS Panel Touchscreen 2400x1600                    1\n",
       "Name: count, dtype: int64"
      ]
     },
     "execution_count": 37,
     "metadata": {},
     "output_type": "execute_result"
    }
   ],
   "source": [
    "df['ScreenResolution'].value_counts()"
   ]
  },
  {
   "cell_type": "markdown",
   "id": "0265e30c",
   "metadata": {},
   "source": [
    "- The screen resolution column consists of : Panel Type , Touchscreen , Quality ,and Resolution\n",
    "- The Quality & Resolution are the same , so we will only keep one of them\n"
   ]
  },
  {
   "cell_type": "markdown",
   "id": "ba72ac26",
   "metadata": {},
   "source": [
    "#### Create a column for touchscreen laptops"
   ]
  },
  {
   "cell_type": "code",
   "execution_count": 38,
   "id": "01f2462b",
   "metadata": {},
   "outputs": [
    {
     "name": "stdout",
     "output_type": "stream",
     "text": [
      "TouchScreen\n",
      "False    1063\n",
      "True      181\n",
      "Name: count, dtype: int64\n",
      "TouchScreen\n",
      "0    1063\n",
      "1     181\n",
      "Name: count, dtype: int64\n"
     ]
    }
   ],
   "source": [
    "## TouchScreen Column\n",
    "df['TouchScreen'] =df[\"ScreenResolution\"].str.contains(\"TouchScreen\", na=False, case=False)\n",
    "print(df.TouchScreen.value_counts())\n",
    "\n",
    "## Change it into 1 and 0\n",
    "df['TouchScreen'] = df['TouchScreen'].astype(int)\n",
    "print(df.TouchScreen.value_counts())"
   ]
  },
  {
   "cell_type": "markdown",
   "id": "d2764833",
   "metadata": {},
   "source": [
    "- Need to take of that when splitting"
   ]
  },
  {
   "cell_type": "markdown",
   "id": "2f0751df",
   "metadata": {},
   "source": [
    "#### Create a column for resolution"
   ]
  },
  {
   "cell_type": "code",
   "execution_count": 39,
   "id": "2e030b13",
   "metadata": {},
   "outputs": [],
   "source": [
    "## Extract resolution using Regular Experision\n",
    "df['Resolution'] = df['ScreenResolution'].str.extract(r'(\\d+x\\d+)')\n"
   ]
  },
  {
   "cell_type": "markdown",
   "id": "ad67cc27",
   "metadata": {},
   "source": [
    "#### Create a column for PanelType"
   ]
  },
  {
   "cell_type": "code",
   "execution_count": 40,
   "id": "3db85dd5",
   "metadata": {},
   "outputs": [
    {
     "data": {
      "text/plain": [
       "array(['IPS Panel Retina Display ', '', ' ', 'IPS Panel  ',\n",
       "       'IPS Panel    ', '   ', 'IPS Panel '], dtype=object)"
      ]
     },
     "execution_count": 40,
     "metadata": {},
     "output_type": "execute_result"
    }
   ],
   "source": [
    "## Removing all Features from cell , leaving only Panel Type\n",
    "df['PanelType'] = df['ScreenResolution'].replace(r'(Full HD|Quad HD|Quad HD|\\+|/|4K Ultra HD|Touchscreen|(\\d+x\\d+))','',regex=True)\n",
    "df['PanelType'].unique()"
   ]
  },
  {
   "cell_type": "code",
   "execution_count": 41,
   "id": "8b331c1d",
   "metadata": {},
   "outputs": [
    {
     "data": {
      "text/plain": [
       "array(['IPSPanelRetinaDisplay', '', 'IPSPanel'], dtype=object)"
      ]
     },
     "execution_count": 41,
     "metadata": {},
     "output_type": "execute_result"
    }
   ],
   "source": [
    "## Combining all Values of IPS Panal\n",
    "df['PanelType'] = df['PanelType'].replace(r' ','',regex=True)\n",
    "df['PanelType'].unique()"
   ]
  },
  {
   "cell_type": "code",
   "execution_count": 42,
   "id": "aa0bd9a4",
   "metadata": {},
   "outputs": [
    {
     "data": {
      "text/plain": [
       "PanelType\n",
       "Without                  893\n",
       "IPSPanel                 334\n",
       "IPSPanelRetinaDisplay     17\n",
       "Name: count, dtype: int64"
      ]
     },
     "execution_count": 42,
     "metadata": {},
     "output_type": "execute_result"
    }
   ],
   "source": [
    "## replace '' , with Nan\n",
    "df['PanelType'] = df['PanelType'].replace(r'^\\s*$', 'Without', regex=True)\n",
    "df.PanelType.value_counts()"
   ]
  },
  {
   "cell_type": "code",
   "execution_count": 43,
   "id": "46ac7e9b",
   "metadata": {},
   "outputs": [
    {
     "data": {
      "text/html": [
       "<div>\n",
       "<style scoped>\n",
       "    .dataframe tbody tr th:only-of-type {\n",
       "        vertical-align: middle;\n",
       "    }\n",
       "\n",
       "    .dataframe tbody tr th {\n",
       "        vertical-align: top;\n",
       "    }\n",
       "\n",
       "    .dataframe thead th {\n",
       "        text-align: right;\n",
       "    }\n",
       "</style>\n",
       "<table border=\"1\" class=\"dataframe\">\n",
       "  <thead>\n",
       "    <tr style=\"text-align: right;\">\n",
       "      <th></th>\n",
       "      <th>Company</th>\n",
       "      <th>TypeName</th>\n",
       "      <th>Inches</th>\n",
       "      <th>ScreenResolution</th>\n",
       "      <th>RamGB</th>\n",
       "      <th>Gpu</th>\n",
       "      <th>OpSys</th>\n",
       "      <th>WeightKG</th>\n",
       "      <th>Price</th>\n",
       "      <th>GHz</th>\n",
       "      <th>CpuBrand</th>\n",
       "      <th>CpuVersion</th>\n",
       "      <th>MainMemory</th>\n",
       "      <th>SecondMemory</th>\n",
       "      <th>MainMemoryType</th>\n",
       "      <th>SecondMemoryType</th>\n",
       "      <th>TouchScreen</th>\n",
       "      <th>Resolution</th>\n",
       "      <th>PanelType</th>\n",
       "    </tr>\n",
       "  </thead>\n",
       "  <tbody>\n",
       "    <tr>\n",
       "      <th>0</th>\n",
       "      <td>Apple</td>\n",
       "      <td>Ultrabook</td>\n",
       "      <td>13.3</td>\n",
       "      <td>IPS Panel Retina Display 2560x1600</td>\n",
       "      <td>8</td>\n",
       "      <td>Intel Iris Plus Graphics 640</td>\n",
       "      <td>macOS</td>\n",
       "      <td>1.37</td>\n",
       "      <td>856.544198</td>\n",
       "      <td>2.3</td>\n",
       "      <td>Intel</td>\n",
       "      <td>Core i5</td>\n",
       "      <td>128.0</td>\n",
       "      <td>0.0</td>\n",
       "      <td>SSD</td>\n",
       "      <td>None</td>\n",
       "      <td>0</td>\n",
       "      <td>2560x1600</td>\n",
       "      <td>IPSPanelRetinaDisplay</td>\n",
       "    </tr>\n",
       "    <tr>\n",
       "      <th>1</th>\n",
       "      <td>Apple</td>\n",
       "      <td>Ultrabook</td>\n",
       "      <td>13.3</td>\n",
       "      <td>1440x900</td>\n",
       "      <td>8</td>\n",
       "      <td>Intel HD Graphics 6000</td>\n",
       "      <td>macOS</td>\n",
       "      <td>1.34</td>\n",
       "      <td>574.746278</td>\n",
       "      <td>1.8</td>\n",
       "      <td>Intel</td>\n",
       "      <td>Core i5</td>\n",
       "      <td>128.0</td>\n",
       "      <td>0.0</td>\n",
       "      <td>FlashStorage</td>\n",
       "      <td>None</td>\n",
       "      <td>0</td>\n",
       "      <td>1440x900</td>\n",
       "      <td>Without</td>\n",
       "    </tr>\n",
       "    <tr>\n",
       "      <th>2</th>\n",
       "      <td>HP</td>\n",
       "      <td>Notebook</td>\n",
       "      <td>15.6</td>\n",
       "      <td>Full HD 1920x1080</td>\n",
       "      <td>8</td>\n",
       "      <td>Intel HD Graphics 620</td>\n",
       "      <td>No OS</td>\n",
       "      <td>1.86</td>\n",
       "      <td>367.632000</td>\n",
       "      <td>2.5</td>\n",
       "      <td>Intel</td>\n",
       "      <td>Core i5 7200U</td>\n",
       "      <td>256.0</td>\n",
       "      <td>0.0</td>\n",
       "      <td>SSD</td>\n",
       "      <td>None</td>\n",
       "      <td>0</td>\n",
       "      <td>1920x1080</td>\n",
       "      <td>Without</td>\n",
       "    </tr>\n",
       "    <tr>\n",
       "      <th>3</th>\n",
       "      <td>Apple</td>\n",
       "      <td>Ultrabook</td>\n",
       "      <td>15.4</td>\n",
       "      <td>IPS Panel Retina Display 2880x1800</td>\n",
       "      <td>16</td>\n",
       "      <td>AMD Radeon Pro 455</td>\n",
       "      <td>macOS</td>\n",
       "      <td>1.83</td>\n",
       "      <td>1622.344032</td>\n",
       "      <td>2.7</td>\n",
       "      <td>Intel</td>\n",
       "      <td>Core i7</td>\n",
       "      <td>512.0</td>\n",
       "      <td>0.0</td>\n",
       "      <td>SSD</td>\n",
       "      <td>None</td>\n",
       "      <td>0</td>\n",
       "      <td>2880x1800</td>\n",
       "      <td>IPSPanelRetinaDisplay</td>\n",
       "    </tr>\n",
       "    <tr>\n",
       "      <th>4</th>\n",
       "      <td>Apple</td>\n",
       "      <td>Ultrabook</td>\n",
       "      <td>13.3</td>\n",
       "      <td>IPS Panel Retina Display 2560x1600</td>\n",
       "      <td>8</td>\n",
       "      <td>Intel Iris Plus Graphics 650</td>\n",
       "      <td>macOS</td>\n",
       "      <td>1.37</td>\n",
       "      <td>1153.149696</td>\n",
       "      <td>3.1</td>\n",
       "      <td>Intel</td>\n",
       "      <td>Core i5</td>\n",
       "      <td>256.0</td>\n",
       "      <td>0.0</td>\n",
       "      <td>SSD</td>\n",
       "      <td>None</td>\n",
       "      <td>0</td>\n",
       "      <td>2560x1600</td>\n",
       "      <td>IPSPanelRetinaDisplay</td>\n",
       "    </tr>\n",
       "  </tbody>\n",
       "</table>\n",
       "</div>"
      ],
      "text/plain": [
       "  Company   TypeName  Inches                    ScreenResolution  RamGB   \n",
       "0   Apple  Ultrabook    13.3  IPS Panel Retina Display 2560x1600      8  \\\n",
       "1   Apple  Ultrabook    13.3                            1440x900      8   \n",
       "2      HP   Notebook    15.6                   Full HD 1920x1080      8   \n",
       "3   Apple  Ultrabook    15.4  IPS Panel Retina Display 2880x1800     16   \n",
       "4   Apple  Ultrabook    13.3  IPS Panel Retina Display 2560x1600      8   \n",
       "\n",
       "                            Gpu  OpSys  WeightKG        Price  GHz CpuBrand   \n",
       "0  Intel Iris Plus Graphics 640  macOS      1.37   856.544198  2.3    Intel  \\\n",
       "1        Intel HD Graphics 6000  macOS      1.34   574.746278  1.8    Intel   \n",
       "2         Intel HD Graphics 620  No OS      1.86   367.632000  2.5    Intel   \n",
       "3            AMD Radeon Pro 455  macOS      1.83  1622.344032  2.7    Intel   \n",
       "4  Intel Iris Plus Graphics 650  macOS      1.37  1153.149696  3.1    Intel   \n",
       "\n",
       "        CpuVersion  MainMemory  SecondMemory MainMemoryType SecondMemoryType   \n",
       "0         Core i5        128.0           0.0            SSD             None  \\\n",
       "1         Core i5        128.0           0.0   FlashStorage             None   \n",
       "2   Core i5 7200U        256.0           0.0            SSD             None   \n",
       "3         Core i7        512.0           0.0            SSD             None   \n",
       "4         Core i5        256.0           0.0            SSD             None   \n",
       "\n",
       "   TouchScreen Resolution              PanelType  \n",
       "0            0  2560x1600  IPSPanelRetinaDisplay  \n",
       "1            0   1440x900                Without  \n",
       "2            0  1920x1080                Without  \n",
       "3            0  2880x1800  IPSPanelRetinaDisplay  \n",
       "4            0  2560x1600  IPSPanelRetinaDisplay  "
      ]
     },
     "execution_count": 43,
     "metadata": {},
     "output_type": "execute_result"
    }
   ],
   "source": [
    "df.head()"
   ]
  },
  {
   "cell_type": "code",
   "execution_count": 44,
   "id": "5cca81aa",
   "metadata": {},
   "outputs": [],
   "source": [
    "df.drop(columns={'ScreenResolution'},inplace=True)"
   ]
  },
  {
   "cell_type": "code",
   "execution_count": 45,
   "id": "64c77949",
   "metadata": {},
   "outputs": [
    {
     "data": {
      "text/plain": [
       "Company             0\n",
       "TypeName            0\n",
       "Inches              1\n",
       "RamGB               0\n",
       "Gpu                 0\n",
       "OpSys               0\n",
       "WeightKG            1\n",
       "Price               0\n",
       "GHz                 0\n",
       "CpuBrand            0\n",
       "CpuVersion          0\n",
       "MainMemory          0\n",
       "SecondMemory        0\n",
       "MainMemoryType      1\n",
       "SecondMemoryType    0\n",
       "TouchScreen         0\n",
       "Resolution          0\n",
       "PanelType           0\n",
       "dtype: int64"
      ]
     },
     "execution_count": 45,
     "metadata": {},
     "output_type": "execute_result"
    }
   ],
   "source": [
    "## Checking Nan Values\n",
    "df.isna().sum()"
   ]
  },
  {
   "cell_type": "code",
   "execution_count": 46,
   "id": "2da0dfb5",
   "metadata": {},
   "outputs": [
    {
     "name": "stdout",
     "output_type": "stream",
     "text": [
      "<class 'pandas.core.frame.DataFrame'>\n",
      "Index: 1244 entries, 0 to 1273\n",
      "Data columns (total 18 columns):\n",
      " #   Column            Non-Null Count  Dtype  \n",
      "---  ------            --------------  -----  \n",
      " 0   Company           1244 non-null   object \n",
      " 1   TypeName          1244 non-null   object \n",
      " 2   Inches            1243 non-null   float64\n",
      " 3   RamGB             1244 non-null   int64  \n",
      " 4   Gpu               1244 non-null   object \n",
      " 5   OpSys             1244 non-null   object \n",
      " 6   WeightKG          1243 non-null   float64\n",
      " 7   Price             1244 non-null   float64\n",
      " 8   GHz               1244 non-null   float64\n",
      " 9   CpuBrand          1244 non-null   object \n",
      " 10  CpuVersion        1244 non-null   object \n",
      " 11  MainMemory        1244 non-null   float64\n",
      " 12  SecondMemory      1244 non-null   float64\n",
      " 13  MainMemoryType    1243 non-null   object \n",
      " 14  SecondMemoryType  1244 non-null   object \n",
      " 15  TouchScreen       1244 non-null   int32  \n",
      " 16  Resolution        1244 non-null   object \n",
      " 17  PanelType         1244 non-null   object \n",
      "dtypes: float64(6), int32(1), int64(1), object(10)\n",
      "memory usage: 179.8+ KB\n"
     ]
    }
   ],
   "source": [
    "df.info()"
   ]
  },
  {
   "cell_type": "code",
   "execution_count": 47,
   "id": "3aadbfca",
   "metadata": {},
   "outputs": [],
   "source": [
    "df['MainMemory'] = pd.to_numeric(df['MainMemory'],errors='coerce')"
   ]
  },
  {
   "cell_type": "markdown",
   "id": "634a2514",
   "metadata": {},
   "source": [
    "### GPU"
   ]
  },
  {
   "cell_type": "code",
   "execution_count": 48,
   "id": "e63d4927",
   "metadata": {},
   "outputs": [
    {
     "data": {
      "text/plain": [
       "array(['Intel Iris Plus Graphics 640', 'Intel HD Graphics 6000',\n",
       "       'Intel HD Graphics 620', 'AMD Radeon Pro 455',\n",
       "       'Intel Iris Plus Graphics 650', 'AMD Radeon R5',\n",
       "       'Intel Iris Pro Graphics', 'Nvidia GeForce MX150',\n",
       "       'Intel UHD Graphics 620', 'Intel HD Graphics 520',\n",
       "       'AMD Radeon Pro 555', 'AMD Radeon R5 M430',\n",
       "       'Intel HD Graphics 615', 'AMD Radeon Pro 560',\n",
       "       'Nvidia GeForce 940MX', 'Nvidia GeForce GTX 1050', 'AMD Radeon R2',\n",
       "       'AMD Radeon 530', 'Nvidia GeForce 930MX', 'Intel HD Graphics',\n",
       "       'Intel HD Graphics 500', 'Nvidia GeForce 930MX ',\n",
       "       'Nvidia GeForce GTX 1060', 'Nvidia GeForce 150MX',\n",
       "       'Intel Iris Graphics 540', 'AMD Radeon RX 580',\n",
       "       'Nvidia GeForce 920MX', 'AMD Radeon R4 Graphics', 'AMD Radeon 520',\n",
       "       'Nvidia GeForce GTX 1070', 'Nvidia GeForce GTX 1050 Ti',\n",
       "       'Intel HD Graphics 400', 'Nvidia GeForce MX130', 'AMD R4 Graphics',\n",
       "       'Nvidia GeForce GTX 940MX', 'AMD Radeon RX 560',\n",
       "       'Nvidia GeForce 920M', 'AMD Radeon R7 M445', 'AMD Radeon RX 550',\n",
       "       'Nvidia GeForce GTX 1050M', 'Intel HD Graphics 515',\n",
       "       'AMD Radeon R5 M420', 'Intel HD Graphics 505',\n",
       "       'Nvidia GTX 980 SLI', 'AMD R17M-M1-70', 'Nvidia GeForce GTX 1080',\n",
       "       'Nvidia Quadro M1200', 'Nvidia GeForce 920MX ',\n",
       "       'Nvidia GeForce GTX 950M', 'AMD FirePro W4190M ',\n",
       "       'Nvidia GeForce GTX 980M', 'Intel Iris Graphics 550',\n",
       "       'Nvidia GeForce 930M', 'Intel HD Graphics 630',\n",
       "       'AMD Radeon R5 430', 'Nvidia GeForce GTX 940M',\n",
       "       'Intel HD Graphics 510', 'Intel HD Graphics 405',\n",
       "       'AMD Radeon RX 540', 'Nvidia GeForce GT 940MX',\n",
       "       'AMD FirePro W5130M', 'Nvidia Quadro M2200M', 'AMD Radeon R4',\n",
       "       'Nvidia Quadro M620', 'AMD Radeon R7 M460',\n",
       "       'Intel HD Graphics 530', 'Nvidia GeForce GTX 965M',\n",
       "       'Nvidia GeForce GTX1080', 'Nvidia GeForce GTX1050 Ti',\n",
       "       'Nvidia GeForce GTX 960M', 'AMD Radeon R2 Graphics',\n",
       "       'Nvidia Quadro M620M', 'Nvidia GeForce GTX 970M',\n",
       "       'Nvidia GeForce GTX 960<U+039C>', 'Intel Graphics 620',\n",
       "       'Nvidia GeForce GTX 960', 'AMD Radeon R5 520',\n",
       "       'AMD Radeon R7 M440', 'AMD Radeon R7', 'Nvidia Quadro M520M',\n",
       "       'Nvidia Quadro M2200', 'Nvidia Quadro M2000M',\n",
       "       'Intel HD Graphics 540', 'Nvidia Quadro M1000M', 'AMD Radeon 540',\n",
       "       'Nvidia GeForce GTX 1070M', 'Nvidia GeForce GTX1060',\n",
       "       'Intel HD Graphics 5300', 'AMD Radeon R5 M420X',\n",
       "       'AMD Radeon R7 Graphics', 'Nvidia GeForce 920',\n",
       "       'Nvidia GeForce 940M', 'Nvidia GeForce GTX 930MX',\n",
       "       'AMD Radeon R7 M465', 'AMD Radeon R3', 'Nvidia GeForce GTX 1050Ti',\n",
       "       'AMD Radeon R7 M365X', 'AMD Radeon R9 M385',\n",
       "       'Intel HD Graphics 620 ', 'Nvidia Quadro 3000M',\n",
       "       'Nvidia GeForce GTX 980 ', 'AMD Radeon R5 M330',\n",
       "       'AMD FirePro W4190M', 'AMD FirePro W6150M', 'AMD Radeon R5 M315',\n",
       "       'Nvidia Quadro M500M', 'AMD Radeon R7 M360',\n",
       "       'Nvidia Quadro M3000M', 'Nvidia GeForce 960M', 'ARM Mali T860 MP4'],\n",
       "      dtype=object)"
      ]
     },
     "execution_count": 48,
     "metadata": {},
     "output_type": "execute_result"
    }
   ],
   "source": [
    "df['Gpu'].value_counts()\n",
    "df['Gpu'].unique()"
   ]
  },
  {
   "cell_type": "markdown",
   "id": "e14d8a1c",
   "metadata": {},
   "source": [
    "- We Can Only Split it into GPU brand & Version"
   ]
  },
  {
   "cell_type": "code",
   "execution_count": 49,
   "id": "4c2704ec",
   "metadata": {},
   "outputs": [
    {
     "name": "stdout",
     "output_type": "stream",
     "text": [
      "Brand GpuBrand\n",
      "Intel     684\n",
      "Nvidia    389\n",
      "AMD       170\n",
      "ARM         1\n",
      "Name: count, dtype: int64\n"
     ]
    }
   ],
   "source": [
    "## Cpu Brand\n",
    "\n",
    "df['GpuBrand'] = df['Gpu'].str.extract(r'^(\\w+)')\n",
    "print('Brand',df['GpuBrand'].value_counts())\n",
    "\n",
    "## GPU versions\n",
    "df['GpuVersion'] = df['Gpu'].str.replace(r'^(\\w+)','',regex=True)\n",
    "\n",
    "## Drop Old column\n",
    "df.drop(columns={'Gpu'},inplace=True)\n"
   ]
  },
  {
   "cell_type": "code",
   "execution_count": 50,
   "id": "869e56bd",
   "metadata": {},
   "outputs": [
    {
     "data": {
      "text/html": [
       "<div>\n",
       "<style scoped>\n",
       "    .dataframe tbody tr th:only-of-type {\n",
       "        vertical-align: middle;\n",
       "    }\n",
       "\n",
       "    .dataframe tbody tr th {\n",
       "        vertical-align: top;\n",
       "    }\n",
       "\n",
       "    .dataframe thead th {\n",
       "        text-align: right;\n",
       "    }\n",
       "</style>\n",
       "<table border=\"1\" class=\"dataframe\">\n",
       "  <thead>\n",
       "    <tr style=\"text-align: right;\">\n",
       "      <th></th>\n",
       "      <th>Company</th>\n",
       "      <th>TypeName</th>\n",
       "      <th>Inches</th>\n",
       "      <th>RamGB</th>\n",
       "      <th>OpSys</th>\n",
       "      <th>WeightKG</th>\n",
       "      <th>Price</th>\n",
       "      <th>GHz</th>\n",
       "      <th>CpuBrand</th>\n",
       "      <th>CpuVersion</th>\n",
       "      <th>MainMemory</th>\n",
       "      <th>SecondMemory</th>\n",
       "      <th>MainMemoryType</th>\n",
       "      <th>SecondMemoryType</th>\n",
       "      <th>TouchScreen</th>\n",
       "      <th>Resolution</th>\n",
       "      <th>PanelType</th>\n",
       "      <th>GpuBrand</th>\n",
       "      <th>GpuVersion</th>\n",
       "    </tr>\n",
       "  </thead>\n",
       "  <tbody>\n",
       "    <tr>\n",
       "      <th>1191</th>\n",
       "      <td>Samsung</td>\n",
       "      <td>2 in 1 Convertible</td>\n",
       "      <td>12.3</td>\n",
       "      <td>4</td>\n",
       "      <td>Chrome OS</td>\n",
       "      <td>1.15</td>\n",
       "      <td>421.33824</td>\n",
       "      <td>2.0</td>\n",
       "      <td>Samsung</td>\n",
       "      <td>Cortex A72&amp;A53</td>\n",
       "      <td>32.0</td>\n",
       "      <td>0.0</td>\n",
       "      <td>FlashStorage</td>\n",
       "      <td>None</td>\n",
       "      <td>1</td>\n",
       "      <td>2400x1600</td>\n",
       "      <td>IPSPanel</td>\n",
       "      <td>ARM</td>\n",
       "      <td>Mali T860 MP4</td>\n",
       "    </tr>\n",
       "  </tbody>\n",
       "</table>\n",
       "</div>"
      ],
      "text/plain": [
       "      Company            TypeName  Inches  RamGB      OpSys  WeightKG   \n",
       "1191  Samsung  2 in 1 Convertible    12.3      4  Chrome OS      1.15  \\\n",
       "\n",
       "          Price  GHz CpuBrand        CpuVersion  MainMemory  SecondMemory   \n",
       "1191  421.33824  2.0  Samsung   Cortex A72&A53         32.0           0.0  \\\n",
       "\n",
       "     MainMemoryType SecondMemoryType  TouchScreen Resolution PanelType   \n",
       "1191   FlashStorage             None            1  2400x1600  IPSPanel  \\\n",
       "\n",
       "     GpuBrand      GpuVersion  \n",
       "1191      ARM   Mali T860 MP4  "
      ]
     },
     "execution_count": 50,
     "metadata": {},
     "output_type": "execute_result"
    }
   ],
   "source": [
    "df[df['GpuBrand']=='ARM']"
   ]
  },
  {
   "cell_type": "markdown",
   "id": "6cc1775e",
   "metadata": {},
   "source": [
    "- I will Drop the Samsung Row as it will have no effect on data"
   ]
  },
  {
   "cell_type": "code",
   "execution_count": 51,
   "id": "b343b575",
   "metadata": {},
   "outputs": [],
   "source": [
    "df=df[df['GpuBrand']!='ARM']\n"
   ]
  },
  {
   "cell_type": "code",
   "execution_count": 52,
   "id": "bca3b51d",
   "metadata": {},
   "outputs": [],
   "source": [
    "df['MainMemory'] = pd.to_numeric(df['MainMemory'],errors='coerce')"
   ]
  },
  {
   "cell_type": "code",
   "execution_count": 53,
   "id": "be544e35",
   "metadata": {},
   "outputs": [
    {
     "name": "stdout",
     "output_type": "stream",
     "text": [
      "<class 'pandas.core.frame.DataFrame'>\n",
      "Index: 1243 entries, 0 to 1273\n",
      "Data columns (total 19 columns):\n",
      " #   Column            Non-Null Count  Dtype  \n",
      "---  ------            --------------  -----  \n",
      " 0   Company           1243 non-null   object \n",
      " 1   TypeName          1243 non-null   object \n",
      " 2   Inches            1242 non-null   float64\n",
      " 3   RamGB             1243 non-null   int64  \n",
      " 4   OpSys             1243 non-null   object \n",
      " 5   WeightKG          1242 non-null   float64\n",
      " 6   Price             1243 non-null   float64\n",
      " 7   GHz               1243 non-null   float64\n",
      " 8   CpuBrand          1243 non-null   object \n",
      " 9   CpuVersion        1243 non-null   object \n",
      " 10  MainMemory        1243 non-null   float64\n",
      " 11  SecondMemory      1243 non-null   float64\n",
      " 12  MainMemoryType    1242 non-null   object \n",
      " 13  SecondMemoryType  1243 non-null   object \n",
      " 14  TouchScreen       1243 non-null   int32  \n",
      " 15  Resolution        1243 non-null   object \n",
      " 16  PanelType         1243 non-null   object \n",
      " 17  GpuBrand          1243 non-null   object \n",
      " 18  GpuVersion        1243 non-null   object \n",
      "dtypes: float64(6), int32(1), int64(1), object(11)\n",
      "memory usage: 189.4+ KB\n"
     ]
    }
   ],
   "source": [
    "df.info()"
   ]
  },
  {
   "cell_type": "markdown",
   "id": "1e995fba",
   "metadata": {},
   "source": [
    "# EDA"
   ]
  },
  {
   "cell_type": "markdown",
   "id": "6620528f",
   "metadata": {},
   "source": [
    "### Univariate Analysis"
   ]
  },
  {
   "cell_type": "code",
   "execution_count": 54,
   "id": "70ccbfa2",
   "metadata": {},
   "outputs": [
    {
     "data": {
      "text/html": [
       "<div>\n",
       "<style scoped>\n",
       "    .dataframe tbody tr th:only-of-type {\n",
       "        vertical-align: middle;\n",
       "    }\n",
       "\n",
       "    .dataframe tbody tr th {\n",
       "        vertical-align: top;\n",
       "    }\n",
       "\n",
       "    .dataframe thead th {\n",
       "        text-align: right;\n",
       "    }\n",
       "</style>\n",
       "<table border=\"1\" class=\"dataframe\">\n",
       "  <thead>\n",
       "    <tr style=\"text-align: right;\">\n",
       "      <th></th>\n",
       "      <th>Company</th>\n",
       "      <th>TypeName</th>\n",
       "      <th>Inches</th>\n",
       "      <th>RamGB</th>\n",
       "      <th>OpSys</th>\n",
       "      <th>WeightKG</th>\n",
       "      <th>Price</th>\n",
       "      <th>GHz</th>\n",
       "      <th>CpuBrand</th>\n",
       "      <th>CpuVersion</th>\n",
       "      <th>MainMemory</th>\n",
       "      <th>SecondMemory</th>\n",
       "      <th>MainMemoryType</th>\n",
       "      <th>SecondMemoryType</th>\n",
       "      <th>TouchScreen</th>\n",
       "      <th>Resolution</th>\n",
       "      <th>PanelType</th>\n",
       "      <th>GpuBrand</th>\n",
       "      <th>GpuVersion</th>\n",
       "    </tr>\n",
       "  </thead>\n",
       "  <tbody>\n",
       "    <tr>\n",
       "      <th>0</th>\n",
       "      <td>Apple</td>\n",
       "      <td>Ultrabook</td>\n",
       "      <td>13.3</td>\n",
       "      <td>8</td>\n",
       "      <td>macOS</td>\n",
       "      <td>1.37</td>\n",
       "      <td>856.544198</td>\n",
       "      <td>2.3</td>\n",
       "      <td>Intel</td>\n",
       "      <td>Core i5</td>\n",
       "      <td>128.0</td>\n",
       "      <td>0.0</td>\n",
       "      <td>SSD</td>\n",
       "      <td>None</td>\n",
       "      <td>0</td>\n",
       "      <td>2560x1600</td>\n",
       "      <td>IPSPanelRetinaDisplay</td>\n",
       "      <td>Intel</td>\n",
       "      <td>Iris Plus Graphics 640</td>\n",
       "    </tr>\n",
       "  </tbody>\n",
       "</table>\n",
       "</div>"
      ],
      "text/plain": [
       "  Company   TypeName  Inches  RamGB  OpSys  WeightKG       Price  GHz   \n",
       "0   Apple  Ultrabook    13.3      8  macOS      1.37  856.544198  2.3  \\\n",
       "\n",
       "  CpuBrand CpuVersion  MainMemory  SecondMemory MainMemoryType   \n",
       "0    Intel   Core i5        128.0           0.0            SSD  \\\n",
       "\n",
       "  SecondMemoryType  TouchScreen Resolution              PanelType GpuBrand   \n",
       "0             None            0  2560x1600  IPSPanelRetinaDisplay    Intel  \\\n",
       "\n",
       "                GpuVersion  \n",
       "0   Iris Plus Graphics 640  "
      ]
     },
     "execution_count": 54,
     "metadata": {},
     "output_type": "execute_result"
    }
   ],
   "source": [
    "df.head(1)"
   ]
  },
  {
   "cell_type": "markdown",
   "id": "cabb24ac",
   "metadata": {},
   "source": [
    "- What is Most frequent Company "
   ]
  },
  {
   "cell_type": "code",
   "execution_count": 55,
   "id": "83b2fb7f",
   "metadata": {},
   "outputs": [
    {
     "data": {
      "application/vnd.plotly.v1+json": {
       "config": {
        "plotlyServerURL": "https://plot.ly"
       },
       "data": [
        {
         "alignmentgroup": "True",
         "hovertemplate": "x=%{x}<br>y=%{y}<extra></extra>",
         "legendgroup": "",
         "marker": {
          "color": "lightsalmon",
          "pattern": {
           "shape": ""
          }
         },
         "name": "",
         "offsetgroup": "",
         "orientation": "v",
         "showlegend": false,
         "textposition": "auto",
         "type": "bar",
         "x": [
          "Lenovo",
          "Dell",
          "HP",
          "Asus",
          "Acer",
          "MSI",
          "Toshiba",
          "Apple",
          "Samsung",
          "Razer",
          "Mediacom",
          "Microsoft",
          "Xiaomi",
          "Vero",
          "Chuwi",
          "Google",
          "LG",
          "Huawei",
          "Fujitsu"
         ],
         "xaxis": "x",
         "y": [
          282,
          281,
          260,
          149,
          101,
          53,
          47,
          21,
          8,
          7,
          7,
          6,
          4,
          4,
          3,
          3,
          3,
          2,
          2
         ],
         "yaxis": "y"
        }
       ],
       "layout": {
        "barmode": "relative",
        "legend": {
         "tracegroupgap": 0
        },
        "margin": {
         "t": 60
        },
        "template": {
         "data": {
          "bar": [
           {
            "error_x": {
             "color": "#2a3f5f"
            },
            "error_y": {
             "color": "#2a3f5f"
            },
            "marker": {
             "line": {
              "color": "#E5ECF6",
              "width": 0.5
             },
             "pattern": {
              "fillmode": "overlay",
              "size": 10,
              "solidity": 0.2
             }
            },
            "type": "bar"
           }
          ],
          "barpolar": [
           {
            "marker": {
             "line": {
              "color": "#E5ECF6",
              "width": 0.5
             },
             "pattern": {
              "fillmode": "overlay",
              "size": 10,
              "solidity": 0.2
             }
            },
            "type": "barpolar"
           }
          ],
          "carpet": [
           {
            "aaxis": {
             "endlinecolor": "#2a3f5f",
             "gridcolor": "white",
             "linecolor": "white",
             "minorgridcolor": "white",
             "startlinecolor": "#2a3f5f"
            },
            "baxis": {
             "endlinecolor": "#2a3f5f",
             "gridcolor": "white",
             "linecolor": "white",
             "minorgridcolor": "white",
             "startlinecolor": "#2a3f5f"
            },
            "type": "carpet"
           }
          ],
          "choropleth": [
           {
            "colorbar": {
             "outlinewidth": 0,
             "ticks": ""
            },
            "type": "choropleth"
           }
          ],
          "contour": [
           {
            "colorbar": {
             "outlinewidth": 0,
             "ticks": ""
            },
            "colorscale": [
             [
              0,
              "#0d0887"
             ],
             [
              0.1111111111111111,
              "#46039f"
             ],
             [
              0.2222222222222222,
              "#7201a8"
             ],
             [
              0.3333333333333333,
              "#9c179e"
             ],
             [
              0.4444444444444444,
              "#bd3786"
             ],
             [
              0.5555555555555556,
              "#d8576b"
             ],
             [
              0.6666666666666666,
              "#ed7953"
             ],
             [
              0.7777777777777778,
              "#fb9f3a"
             ],
             [
              0.8888888888888888,
              "#fdca26"
             ],
             [
              1,
              "#f0f921"
             ]
            ],
            "type": "contour"
           }
          ],
          "contourcarpet": [
           {
            "colorbar": {
             "outlinewidth": 0,
             "ticks": ""
            },
            "type": "contourcarpet"
           }
          ],
          "heatmap": [
           {
            "colorbar": {
             "outlinewidth": 0,
             "ticks": ""
            },
            "colorscale": [
             [
              0,
              "#0d0887"
             ],
             [
              0.1111111111111111,
              "#46039f"
             ],
             [
              0.2222222222222222,
              "#7201a8"
             ],
             [
              0.3333333333333333,
              "#9c179e"
             ],
             [
              0.4444444444444444,
              "#bd3786"
             ],
             [
              0.5555555555555556,
              "#d8576b"
             ],
             [
              0.6666666666666666,
              "#ed7953"
             ],
             [
              0.7777777777777778,
              "#fb9f3a"
             ],
             [
              0.8888888888888888,
              "#fdca26"
             ],
             [
              1,
              "#f0f921"
             ]
            ],
            "type": "heatmap"
           }
          ],
          "heatmapgl": [
           {
            "colorbar": {
             "outlinewidth": 0,
             "ticks": ""
            },
            "colorscale": [
             [
              0,
              "#0d0887"
             ],
             [
              0.1111111111111111,
              "#46039f"
             ],
             [
              0.2222222222222222,
              "#7201a8"
             ],
             [
              0.3333333333333333,
              "#9c179e"
             ],
             [
              0.4444444444444444,
              "#bd3786"
             ],
             [
              0.5555555555555556,
              "#d8576b"
             ],
             [
              0.6666666666666666,
              "#ed7953"
             ],
             [
              0.7777777777777778,
              "#fb9f3a"
             ],
             [
              0.8888888888888888,
              "#fdca26"
             ],
             [
              1,
              "#f0f921"
             ]
            ],
            "type": "heatmapgl"
           }
          ],
          "histogram": [
           {
            "marker": {
             "pattern": {
              "fillmode": "overlay",
              "size": 10,
              "solidity": 0.2
             }
            },
            "type": "histogram"
           }
          ],
          "histogram2d": [
           {
            "colorbar": {
             "outlinewidth": 0,
             "ticks": ""
            },
            "colorscale": [
             [
              0,
              "#0d0887"
             ],
             [
              0.1111111111111111,
              "#46039f"
             ],
             [
              0.2222222222222222,
              "#7201a8"
             ],
             [
              0.3333333333333333,
              "#9c179e"
             ],
             [
              0.4444444444444444,
              "#bd3786"
             ],
             [
              0.5555555555555556,
              "#d8576b"
             ],
             [
              0.6666666666666666,
              "#ed7953"
             ],
             [
              0.7777777777777778,
              "#fb9f3a"
             ],
             [
              0.8888888888888888,
              "#fdca26"
             ],
             [
              1,
              "#f0f921"
             ]
            ],
            "type": "histogram2d"
           }
          ],
          "histogram2dcontour": [
           {
            "colorbar": {
             "outlinewidth": 0,
             "ticks": ""
            },
            "colorscale": [
             [
              0,
              "#0d0887"
             ],
             [
              0.1111111111111111,
              "#46039f"
             ],
             [
              0.2222222222222222,
              "#7201a8"
             ],
             [
              0.3333333333333333,
              "#9c179e"
             ],
             [
              0.4444444444444444,
              "#bd3786"
             ],
             [
              0.5555555555555556,
              "#d8576b"
             ],
             [
              0.6666666666666666,
              "#ed7953"
             ],
             [
              0.7777777777777778,
              "#fb9f3a"
             ],
             [
              0.8888888888888888,
              "#fdca26"
             ],
             [
              1,
              "#f0f921"
             ]
            ],
            "type": "histogram2dcontour"
           }
          ],
          "mesh3d": [
           {
            "colorbar": {
             "outlinewidth": 0,
             "ticks": ""
            },
            "type": "mesh3d"
           }
          ],
          "parcoords": [
           {
            "line": {
             "colorbar": {
              "outlinewidth": 0,
              "ticks": ""
             }
            },
            "type": "parcoords"
           }
          ],
          "pie": [
           {
            "automargin": true,
            "type": "pie"
           }
          ],
          "scatter": [
           {
            "fillpattern": {
             "fillmode": "overlay",
             "size": 10,
             "solidity": 0.2
            },
            "type": "scatter"
           }
          ],
          "scatter3d": [
           {
            "line": {
             "colorbar": {
              "outlinewidth": 0,
              "ticks": ""
             }
            },
            "marker": {
             "colorbar": {
              "outlinewidth": 0,
              "ticks": ""
             }
            },
            "type": "scatter3d"
           }
          ],
          "scattercarpet": [
           {
            "marker": {
             "colorbar": {
              "outlinewidth": 0,
              "ticks": ""
             }
            },
            "type": "scattercarpet"
           }
          ],
          "scattergeo": [
           {
            "marker": {
             "colorbar": {
              "outlinewidth": 0,
              "ticks": ""
             }
            },
            "type": "scattergeo"
           }
          ],
          "scattergl": [
           {
            "marker": {
             "colorbar": {
              "outlinewidth": 0,
              "ticks": ""
             }
            },
            "type": "scattergl"
           }
          ],
          "scattermapbox": [
           {
            "marker": {
             "colorbar": {
              "outlinewidth": 0,
              "ticks": ""
             }
            },
            "type": "scattermapbox"
           }
          ],
          "scatterpolar": [
           {
            "marker": {
             "colorbar": {
              "outlinewidth": 0,
              "ticks": ""
             }
            },
            "type": "scatterpolar"
           }
          ],
          "scatterpolargl": [
           {
            "marker": {
             "colorbar": {
              "outlinewidth": 0,
              "ticks": ""
             }
            },
            "type": "scatterpolargl"
           }
          ],
          "scatterternary": [
           {
            "marker": {
             "colorbar": {
              "outlinewidth": 0,
              "ticks": ""
             }
            },
            "type": "scatterternary"
           }
          ],
          "surface": [
           {
            "colorbar": {
             "outlinewidth": 0,
             "ticks": ""
            },
            "colorscale": [
             [
              0,
              "#0d0887"
             ],
             [
              0.1111111111111111,
              "#46039f"
             ],
             [
              0.2222222222222222,
              "#7201a8"
             ],
             [
              0.3333333333333333,
              "#9c179e"
             ],
             [
              0.4444444444444444,
              "#bd3786"
             ],
             [
              0.5555555555555556,
              "#d8576b"
             ],
             [
              0.6666666666666666,
              "#ed7953"
             ],
             [
              0.7777777777777778,
              "#fb9f3a"
             ],
             [
              0.8888888888888888,
              "#fdca26"
             ],
             [
              1,
              "#f0f921"
             ]
            ],
            "type": "surface"
           }
          ],
          "table": [
           {
            "cells": {
             "fill": {
              "color": "#EBF0F8"
             },
             "line": {
              "color": "white"
             }
            },
            "header": {
             "fill": {
              "color": "#C8D4E3"
             },
             "line": {
              "color": "white"
             }
            },
            "type": "table"
           }
          ]
         },
         "layout": {
          "annotationdefaults": {
           "arrowcolor": "#2a3f5f",
           "arrowhead": 0,
           "arrowwidth": 1
          },
          "autotypenumbers": "strict",
          "coloraxis": {
           "colorbar": {
            "outlinewidth": 0,
            "ticks": ""
           }
          },
          "colorscale": {
           "diverging": [
            [
             0,
             "#8e0152"
            ],
            [
             0.1,
             "#c51b7d"
            ],
            [
             0.2,
             "#de77ae"
            ],
            [
             0.3,
             "#f1b6da"
            ],
            [
             0.4,
             "#fde0ef"
            ],
            [
             0.5,
             "#f7f7f7"
            ],
            [
             0.6,
             "#e6f5d0"
            ],
            [
             0.7,
             "#b8e186"
            ],
            [
             0.8,
             "#7fbc41"
            ],
            [
             0.9,
             "#4d9221"
            ],
            [
             1,
             "#276419"
            ]
           ],
           "sequential": [
            [
             0,
             "#0d0887"
            ],
            [
             0.1111111111111111,
             "#46039f"
            ],
            [
             0.2222222222222222,
             "#7201a8"
            ],
            [
             0.3333333333333333,
             "#9c179e"
            ],
            [
             0.4444444444444444,
             "#bd3786"
            ],
            [
             0.5555555555555556,
             "#d8576b"
            ],
            [
             0.6666666666666666,
             "#ed7953"
            ],
            [
             0.7777777777777778,
             "#fb9f3a"
            ],
            [
             0.8888888888888888,
             "#fdca26"
            ],
            [
             1,
             "#f0f921"
            ]
           ],
           "sequentialminus": [
            [
             0,
             "#0d0887"
            ],
            [
             0.1111111111111111,
             "#46039f"
            ],
            [
             0.2222222222222222,
             "#7201a8"
            ],
            [
             0.3333333333333333,
             "#9c179e"
            ],
            [
             0.4444444444444444,
             "#bd3786"
            ],
            [
             0.5555555555555556,
             "#d8576b"
            ],
            [
             0.6666666666666666,
             "#ed7953"
            ],
            [
             0.7777777777777778,
             "#fb9f3a"
            ],
            [
             0.8888888888888888,
             "#fdca26"
            ],
            [
             1,
             "#f0f921"
            ]
           ]
          },
          "colorway": [
           "#636efa",
           "#EF553B",
           "#00cc96",
           "#ab63fa",
           "#FFA15A",
           "#19d3f3",
           "#FF6692",
           "#B6E880",
           "#FF97FF",
           "#FECB52"
          ],
          "font": {
           "color": "#2a3f5f"
          },
          "geo": {
           "bgcolor": "white",
           "lakecolor": "white",
           "landcolor": "#E5ECF6",
           "showlakes": true,
           "showland": true,
           "subunitcolor": "white"
          },
          "hoverlabel": {
           "align": "left"
          },
          "hovermode": "closest",
          "mapbox": {
           "style": "light"
          },
          "paper_bgcolor": "white",
          "plot_bgcolor": "#E5ECF6",
          "polar": {
           "angularaxis": {
            "gridcolor": "white",
            "linecolor": "white",
            "ticks": ""
           },
           "bgcolor": "#E5ECF6",
           "radialaxis": {
            "gridcolor": "white",
            "linecolor": "white",
            "ticks": ""
           }
          },
          "scene": {
           "xaxis": {
            "backgroundcolor": "#E5ECF6",
            "gridcolor": "white",
            "gridwidth": 2,
            "linecolor": "white",
            "showbackground": true,
            "ticks": "",
            "zerolinecolor": "white"
           },
           "yaxis": {
            "backgroundcolor": "#E5ECF6",
            "gridcolor": "white",
            "gridwidth": 2,
            "linecolor": "white",
            "showbackground": true,
            "ticks": "",
            "zerolinecolor": "white"
           },
           "zaxis": {
            "backgroundcolor": "#E5ECF6",
            "gridcolor": "white",
            "gridwidth": 2,
            "linecolor": "white",
            "showbackground": true,
            "ticks": "",
            "zerolinecolor": "white"
           }
          },
          "shapedefaults": {
           "line": {
            "color": "#2a3f5f"
           }
          },
          "ternary": {
           "aaxis": {
            "gridcolor": "white",
            "linecolor": "white",
            "ticks": ""
           },
           "baxis": {
            "gridcolor": "white",
            "linecolor": "white",
            "ticks": ""
           },
           "bgcolor": "#E5ECF6",
           "caxis": {
            "gridcolor": "white",
            "linecolor": "white",
            "ticks": ""
           }
          },
          "title": {
           "x": 0.05
          },
          "xaxis": {
           "automargin": true,
           "gridcolor": "white",
           "linecolor": "white",
           "ticks": "",
           "title": {
            "standoff": 15
           },
           "zerolinecolor": "white",
           "zerolinewidth": 2
          },
          "yaxis": {
           "automargin": true,
           "gridcolor": "white",
           "linecolor": "white",
           "ticks": "",
           "title": {
            "standoff": 15
           },
           "zerolinecolor": "white",
           "zerolinewidth": 2
          }
         }
        },
        "xaxis": {
         "anchor": "y",
         "domain": [
          0,
          1
         ],
         "title": {
          "text": "Brand"
         }
        },
        "yaxis": {
         "anchor": "x",
         "domain": [
          0,
          1
         ],
         "title": {
          "text": "Number of Sales"
         }
        }
       }
      }
     },
     "metadata": {},
     "output_type": "display_data"
    }
   ],
   "source": [
    "fig= px.bar( df , x=df['Company'].value_counts().index ,\n",
    "           y= df['Company'].value_counts().values)\n",
    "fig.update_xaxes(title='Brand')\n",
    "fig.update_yaxes(title='Number of Sales')\n",
    "fig.update_traces(marker_color='lightsalmon')"
   ]
  },
  {
   "cell_type": "markdown",
   "id": "de5164c4",
   "metadata": {},
   "source": [
    "-Most Frequant Type of Laptops"
   ]
  },
  {
   "cell_type": "code",
   "execution_count": 56,
   "id": "d1f805d2",
   "metadata": {},
   "outputs": [
    {
     "data": {
      "application/vnd.plotly.v1+json": {
       "config": {
        "plotlyServerURL": "https://plot.ly"
       },
       "data": [
        {
         "alignmentgroup": "True",
         "hovertemplate": "x=%{x}<br>y=%{y}<extra></extra>",
         "legendgroup": "",
         "marker": {
          "color": "lightsalmon",
          "pattern": {
           "shape": ""
          }
         },
         "name": "",
         "offsetgroup": "",
         "orientation": "v",
         "showlegend": false,
         "textposition": "auto",
         "type": "bar",
         "x": [
          "Notebook",
          "Gaming",
          "Ultrabook",
          "2 in 1 Convertible",
          "Workstation",
          "Netbook"
         ],
         "xaxis": "x",
         "y": [
          689,
          203,
          189,
          111,
          29,
          22
         ],
         "yaxis": "y"
        }
       ],
       "layout": {
        "barmode": "relative",
        "legend": {
         "tracegroupgap": 0
        },
        "margin": {
         "t": 60
        },
        "template": {
         "data": {
          "bar": [
           {
            "error_x": {
             "color": "#2a3f5f"
            },
            "error_y": {
             "color": "#2a3f5f"
            },
            "marker": {
             "line": {
              "color": "#E5ECF6",
              "width": 0.5
             },
             "pattern": {
              "fillmode": "overlay",
              "size": 10,
              "solidity": 0.2
             }
            },
            "type": "bar"
           }
          ],
          "barpolar": [
           {
            "marker": {
             "line": {
              "color": "#E5ECF6",
              "width": 0.5
             },
             "pattern": {
              "fillmode": "overlay",
              "size": 10,
              "solidity": 0.2
             }
            },
            "type": "barpolar"
           }
          ],
          "carpet": [
           {
            "aaxis": {
             "endlinecolor": "#2a3f5f",
             "gridcolor": "white",
             "linecolor": "white",
             "minorgridcolor": "white",
             "startlinecolor": "#2a3f5f"
            },
            "baxis": {
             "endlinecolor": "#2a3f5f",
             "gridcolor": "white",
             "linecolor": "white",
             "minorgridcolor": "white",
             "startlinecolor": "#2a3f5f"
            },
            "type": "carpet"
           }
          ],
          "choropleth": [
           {
            "colorbar": {
             "outlinewidth": 0,
             "ticks": ""
            },
            "type": "choropleth"
           }
          ],
          "contour": [
           {
            "colorbar": {
             "outlinewidth": 0,
             "ticks": ""
            },
            "colorscale": [
             [
              0,
              "#0d0887"
             ],
             [
              0.1111111111111111,
              "#46039f"
             ],
             [
              0.2222222222222222,
              "#7201a8"
             ],
             [
              0.3333333333333333,
              "#9c179e"
             ],
             [
              0.4444444444444444,
              "#bd3786"
             ],
             [
              0.5555555555555556,
              "#d8576b"
             ],
             [
              0.6666666666666666,
              "#ed7953"
             ],
             [
              0.7777777777777778,
              "#fb9f3a"
             ],
             [
              0.8888888888888888,
              "#fdca26"
             ],
             [
              1,
              "#f0f921"
             ]
            ],
            "type": "contour"
           }
          ],
          "contourcarpet": [
           {
            "colorbar": {
             "outlinewidth": 0,
             "ticks": ""
            },
            "type": "contourcarpet"
           }
          ],
          "heatmap": [
           {
            "colorbar": {
             "outlinewidth": 0,
             "ticks": ""
            },
            "colorscale": [
             [
              0,
              "#0d0887"
             ],
             [
              0.1111111111111111,
              "#46039f"
             ],
             [
              0.2222222222222222,
              "#7201a8"
             ],
             [
              0.3333333333333333,
              "#9c179e"
             ],
             [
              0.4444444444444444,
              "#bd3786"
             ],
             [
              0.5555555555555556,
              "#d8576b"
             ],
             [
              0.6666666666666666,
              "#ed7953"
             ],
             [
              0.7777777777777778,
              "#fb9f3a"
             ],
             [
              0.8888888888888888,
              "#fdca26"
             ],
             [
              1,
              "#f0f921"
             ]
            ],
            "type": "heatmap"
           }
          ],
          "heatmapgl": [
           {
            "colorbar": {
             "outlinewidth": 0,
             "ticks": ""
            },
            "colorscale": [
             [
              0,
              "#0d0887"
             ],
             [
              0.1111111111111111,
              "#46039f"
             ],
             [
              0.2222222222222222,
              "#7201a8"
             ],
             [
              0.3333333333333333,
              "#9c179e"
             ],
             [
              0.4444444444444444,
              "#bd3786"
             ],
             [
              0.5555555555555556,
              "#d8576b"
             ],
             [
              0.6666666666666666,
              "#ed7953"
             ],
             [
              0.7777777777777778,
              "#fb9f3a"
             ],
             [
              0.8888888888888888,
              "#fdca26"
             ],
             [
              1,
              "#f0f921"
             ]
            ],
            "type": "heatmapgl"
           }
          ],
          "histogram": [
           {
            "marker": {
             "pattern": {
              "fillmode": "overlay",
              "size": 10,
              "solidity": 0.2
             }
            },
            "type": "histogram"
           }
          ],
          "histogram2d": [
           {
            "colorbar": {
             "outlinewidth": 0,
             "ticks": ""
            },
            "colorscale": [
             [
              0,
              "#0d0887"
             ],
             [
              0.1111111111111111,
              "#46039f"
             ],
             [
              0.2222222222222222,
              "#7201a8"
             ],
             [
              0.3333333333333333,
              "#9c179e"
             ],
             [
              0.4444444444444444,
              "#bd3786"
             ],
             [
              0.5555555555555556,
              "#d8576b"
             ],
             [
              0.6666666666666666,
              "#ed7953"
             ],
             [
              0.7777777777777778,
              "#fb9f3a"
             ],
             [
              0.8888888888888888,
              "#fdca26"
             ],
             [
              1,
              "#f0f921"
             ]
            ],
            "type": "histogram2d"
           }
          ],
          "histogram2dcontour": [
           {
            "colorbar": {
             "outlinewidth": 0,
             "ticks": ""
            },
            "colorscale": [
             [
              0,
              "#0d0887"
             ],
             [
              0.1111111111111111,
              "#46039f"
             ],
             [
              0.2222222222222222,
              "#7201a8"
             ],
             [
              0.3333333333333333,
              "#9c179e"
             ],
             [
              0.4444444444444444,
              "#bd3786"
             ],
             [
              0.5555555555555556,
              "#d8576b"
             ],
             [
              0.6666666666666666,
              "#ed7953"
             ],
             [
              0.7777777777777778,
              "#fb9f3a"
             ],
             [
              0.8888888888888888,
              "#fdca26"
             ],
             [
              1,
              "#f0f921"
             ]
            ],
            "type": "histogram2dcontour"
           }
          ],
          "mesh3d": [
           {
            "colorbar": {
             "outlinewidth": 0,
             "ticks": ""
            },
            "type": "mesh3d"
           }
          ],
          "parcoords": [
           {
            "line": {
             "colorbar": {
              "outlinewidth": 0,
              "ticks": ""
             }
            },
            "type": "parcoords"
           }
          ],
          "pie": [
           {
            "automargin": true,
            "type": "pie"
           }
          ],
          "scatter": [
           {
            "fillpattern": {
             "fillmode": "overlay",
             "size": 10,
             "solidity": 0.2
            },
            "type": "scatter"
           }
          ],
          "scatter3d": [
           {
            "line": {
             "colorbar": {
              "outlinewidth": 0,
              "ticks": ""
             }
            },
            "marker": {
             "colorbar": {
              "outlinewidth": 0,
              "ticks": ""
             }
            },
            "type": "scatter3d"
           }
          ],
          "scattercarpet": [
           {
            "marker": {
             "colorbar": {
              "outlinewidth": 0,
              "ticks": ""
             }
            },
            "type": "scattercarpet"
           }
          ],
          "scattergeo": [
           {
            "marker": {
             "colorbar": {
              "outlinewidth": 0,
              "ticks": ""
             }
            },
            "type": "scattergeo"
           }
          ],
          "scattergl": [
           {
            "marker": {
             "colorbar": {
              "outlinewidth": 0,
              "ticks": ""
             }
            },
            "type": "scattergl"
           }
          ],
          "scattermapbox": [
           {
            "marker": {
             "colorbar": {
              "outlinewidth": 0,
              "ticks": ""
             }
            },
            "type": "scattermapbox"
           }
          ],
          "scatterpolar": [
           {
            "marker": {
             "colorbar": {
              "outlinewidth": 0,
              "ticks": ""
             }
            },
            "type": "scatterpolar"
           }
          ],
          "scatterpolargl": [
           {
            "marker": {
             "colorbar": {
              "outlinewidth": 0,
              "ticks": ""
             }
            },
            "type": "scatterpolargl"
           }
          ],
          "scatterternary": [
           {
            "marker": {
             "colorbar": {
              "outlinewidth": 0,
              "ticks": ""
             }
            },
            "type": "scatterternary"
           }
          ],
          "surface": [
           {
            "colorbar": {
             "outlinewidth": 0,
             "ticks": ""
            },
            "colorscale": [
             [
              0,
              "#0d0887"
             ],
             [
              0.1111111111111111,
              "#46039f"
             ],
             [
              0.2222222222222222,
              "#7201a8"
             ],
             [
              0.3333333333333333,
              "#9c179e"
             ],
             [
              0.4444444444444444,
              "#bd3786"
             ],
             [
              0.5555555555555556,
              "#d8576b"
             ],
             [
              0.6666666666666666,
              "#ed7953"
             ],
             [
              0.7777777777777778,
              "#fb9f3a"
             ],
             [
              0.8888888888888888,
              "#fdca26"
             ],
             [
              1,
              "#f0f921"
             ]
            ],
            "type": "surface"
           }
          ],
          "table": [
           {
            "cells": {
             "fill": {
              "color": "#EBF0F8"
             },
             "line": {
              "color": "white"
             }
            },
            "header": {
             "fill": {
              "color": "#C8D4E3"
             },
             "line": {
              "color": "white"
             }
            },
            "type": "table"
           }
          ]
         },
         "layout": {
          "annotationdefaults": {
           "arrowcolor": "#2a3f5f",
           "arrowhead": 0,
           "arrowwidth": 1
          },
          "autotypenumbers": "strict",
          "coloraxis": {
           "colorbar": {
            "outlinewidth": 0,
            "ticks": ""
           }
          },
          "colorscale": {
           "diverging": [
            [
             0,
             "#8e0152"
            ],
            [
             0.1,
             "#c51b7d"
            ],
            [
             0.2,
             "#de77ae"
            ],
            [
             0.3,
             "#f1b6da"
            ],
            [
             0.4,
             "#fde0ef"
            ],
            [
             0.5,
             "#f7f7f7"
            ],
            [
             0.6,
             "#e6f5d0"
            ],
            [
             0.7,
             "#b8e186"
            ],
            [
             0.8,
             "#7fbc41"
            ],
            [
             0.9,
             "#4d9221"
            ],
            [
             1,
             "#276419"
            ]
           ],
           "sequential": [
            [
             0,
             "#0d0887"
            ],
            [
             0.1111111111111111,
             "#46039f"
            ],
            [
             0.2222222222222222,
             "#7201a8"
            ],
            [
             0.3333333333333333,
             "#9c179e"
            ],
            [
             0.4444444444444444,
             "#bd3786"
            ],
            [
             0.5555555555555556,
             "#d8576b"
            ],
            [
             0.6666666666666666,
             "#ed7953"
            ],
            [
             0.7777777777777778,
             "#fb9f3a"
            ],
            [
             0.8888888888888888,
             "#fdca26"
            ],
            [
             1,
             "#f0f921"
            ]
           ],
           "sequentialminus": [
            [
             0,
             "#0d0887"
            ],
            [
             0.1111111111111111,
             "#46039f"
            ],
            [
             0.2222222222222222,
             "#7201a8"
            ],
            [
             0.3333333333333333,
             "#9c179e"
            ],
            [
             0.4444444444444444,
             "#bd3786"
            ],
            [
             0.5555555555555556,
             "#d8576b"
            ],
            [
             0.6666666666666666,
             "#ed7953"
            ],
            [
             0.7777777777777778,
             "#fb9f3a"
            ],
            [
             0.8888888888888888,
             "#fdca26"
            ],
            [
             1,
             "#f0f921"
            ]
           ]
          },
          "colorway": [
           "#636efa",
           "#EF553B",
           "#00cc96",
           "#ab63fa",
           "#FFA15A",
           "#19d3f3",
           "#FF6692",
           "#B6E880",
           "#FF97FF",
           "#FECB52"
          ],
          "font": {
           "color": "#2a3f5f"
          },
          "geo": {
           "bgcolor": "white",
           "lakecolor": "white",
           "landcolor": "#E5ECF6",
           "showlakes": true,
           "showland": true,
           "subunitcolor": "white"
          },
          "hoverlabel": {
           "align": "left"
          },
          "hovermode": "closest",
          "mapbox": {
           "style": "light"
          },
          "paper_bgcolor": "white",
          "plot_bgcolor": "#E5ECF6",
          "polar": {
           "angularaxis": {
            "gridcolor": "white",
            "linecolor": "white",
            "ticks": ""
           },
           "bgcolor": "#E5ECF6",
           "radialaxis": {
            "gridcolor": "white",
            "linecolor": "white",
            "ticks": ""
           }
          },
          "scene": {
           "xaxis": {
            "backgroundcolor": "#E5ECF6",
            "gridcolor": "white",
            "gridwidth": 2,
            "linecolor": "white",
            "showbackground": true,
            "ticks": "",
            "zerolinecolor": "white"
           },
           "yaxis": {
            "backgroundcolor": "#E5ECF6",
            "gridcolor": "white",
            "gridwidth": 2,
            "linecolor": "white",
            "showbackground": true,
            "ticks": "",
            "zerolinecolor": "white"
           },
           "zaxis": {
            "backgroundcolor": "#E5ECF6",
            "gridcolor": "white",
            "gridwidth": 2,
            "linecolor": "white",
            "showbackground": true,
            "ticks": "",
            "zerolinecolor": "white"
           }
          },
          "shapedefaults": {
           "line": {
            "color": "#2a3f5f"
           }
          },
          "ternary": {
           "aaxis": {
            "gridcolor": "white",
            "linecolor": "white",
            "ticks": ""
           },
           "baxis": {
            "gridcolor": "white",
            "linecolor": "white",
            "ticks": ""
           },
           "bgcolor": "#E5ECF6",
           "caxis": {
            "gridcolor": "white",
            "linecolor": "white",
            "ticks": ""
           }
          },
          "title": {
           "x": 0.05
          },
          "xaxis": {
           "automargin": true,
           "gridcolor": "white",
           "linecolor": "white",
           "ticks": "",
           "title": {
            "standoff": 15
           },
           "zerolinecolor": "white",
           "zerolinewidth": 2
          },
          "yaxis": {
           "automargin": true,
           "gridcolor": "white",
           "linecolor": "white",
           "ticks": "",
           "title": {
            "standoff": 15
           },
           "zerolinecolor": "white",
           "zerolinewidth": 2
          }
         }
        },
        "xaxis": {
         "anchor": "y",
         "domain": [
          0,
          1
         ],
         "title": {
          "text": "Type"
         }
        },
        "yaxis": {
         "anchor": "x",
         "domain": [
          0,
          1
         ],
         "title": {
          "text": "Number of Sales"
         }
        }
       }
      }
     },
     "metadata": {},
     "output_type": "display_data"
    }
   ],
   "source": [
    "fig= px.bar( df , x=df['TypeName'].value_counts().index ,\n",
    "           y= df['TypeName'].value_counts().values)\n",
    "fig.update_xaxes(title='Type')\n",
    "fig.update_yaxes(title='Number of Sales')\n",
    "fig.update_traces(marker_color='lightsalmon')"
   ]
  },
  {
   "cell_type": "markdown",
   "id": "b1b876c0",
   "metadata": {},
   "source": [
    "-Most Frequant Type of CPU & GPU"
   ]
  },
  {
   "cell_type": "code",
   "execution_count": 57,
   "id": "fbdd9246",
   "metadata": {},
   "outputs": [
    {
     "data": {
      "application/vnd.plotly.v1+json": {
       "config": {
        "plotlyServerURL": "https://plot.ly"
       },
       "data": [
        {
         "alignmentgroup": "True",
         "hovertemplate": "x=%{x}<br>y=%{y}<extra></extra>",
         "legendgroup": "",
         "marker": {
          "color": "lightsalmon",
          "pattern": {
           "shape": ""
          }
         },
         "name": "",
         "offsetgroup": "",
         "orientation": "v",
         "showlegend": false,
         "textposition": "auto",
         "type": "bar",
         "x": [
          " Core i5 7200U ",
          " Core i7 7700HQ ",
          " Core i7 7500U ",
          " Core i3 6006U ",
          " Core i7 8550U ",
          " Core i5 8250U ",
          " Core i5 6200U ",
          " Core i7 6500U ",
          " Core i7 6700HQ ",
          " Core i3 7100U ",
          " Celeron Dual Core N3350 ",
          " Core i5 7300HQ ",
          " Celeron Dual Core N3060 "
         ],
         "xaxis": "x",
         "y": [
          186,
          143,
          127,
          79,
          72,
          68,
          66,
          43,
          41,
          35,
          33,
          33,
          24
         ],
         "yaxis": "y"
        }
       ],
       "layout": {
        "barmode": "relative",
        "legend": {
         "tracegroupgap": 0
        },
        "margin": {
         "t": 60
        },
        "template": {
         "data": {
          "bar": [
           {
            "error_x": {
             "color": "#2a3f5f"
            },
            "error_y": {
             "color": "#2a3f5f"
            },
            "marker": {
             "line": {
              "color": "#E5ECF6",
              "width": 0.5
             },
             "pattern": {
              "fillmode": "overlay",
              "size": 10,
              "solidity": 0.2
             }
            },
            "type": "bar"
           }
          ],
          "barpolar": [
           {
            "marker": {
             "line": {
              "color": "#E5ECF6",
              "width": 0.5
             },
             "pattern": {
              "fillmode": "overlay",
              "size": 10,
              "solidity": 0.2
             }
            },
            "type": "barpolar"
           }
          ],
          "carpet": [
           {
            "aaxis": {
             "endlinecolor": "#2a3f5f",
             "gridcolor": "white",
             "linecolor": "white",
             "minorgridcolor": "white",
             "startlinecolor": "#2a3f5f"
            },
            "baxis": {
             "endlinecolor": "#2a3f5f",
             "gridcolor": "white",
             "linecolor": "white",
             "minorgridcolor": "white",
             "startlinecolor": "#2a3f5f"
            },
            "type": "carpet"
           }
          ],
          "choropleth": [
           {
            "colorbar": {
             "outlinewidth": 0,
             "ticks": ""
            },
            "type": "choropleth"
           }
          ],
          "contour": [
           {
            "colorbar": {
             "outlinewidth": 0,
             "ticks": ""
            },
            "colorscale": [
             [
              0,
              "#0d0887"
             ],
             [
              0.1111111111111111,
              "#46039f"
             ],
             [
              0.2222222222222222,
              "#7201a8"
             ],
             [
              0.3333333333333333,
              "#9c179e"
             ],
             [
              0.4444444444444444,
              "#bd3786"
             ],
             [
              0.5555555555555556,
              "#d8576b"
             ],
             [
              0.6666666666666666,
              "#ed7953"
             ],
             [
              0.7777777777777778,
              "#fb9f3a"
             ],
             [
              0.8888888888888888,
              "#fdca26"
             ],
             [
              1,
              "#f0f921"
             ]
            ],
            "type": "contour"
           }
          ],
          "contourcarpet": [
           {
            "colorbar": {
             "outlinewidth": 0,
             "ticks": ""
            },
            "type": "contourcarpet"
           }
          ],
          "heatmap": [
           {
            "colorbar": {
             "outlinewidth": 0,
             "ticks": ""
            },
            "colorscale": [
             [
              0,
              "#0d0887"
             ],
             [
              0.1111111111111111,
              "#46039f"
             ],
             [
              0.2222222222222222,
              "#7201a8"
             ],
             [
              0.3333333333333333,
              "#9c179e"
             ],
             [
              0.4444444444444444,
              "#bd3786"
             ],
             [
              0.5555555555555556,
              "#d8576b"
             ],
             [
              0.6666666666666666,
              "#ed7953"
             ],
             [
              0.7777777777777778,
              "#fb9f3a"
             ],
             [
              0.8888888888888888,
              "#fdca26"
             ],
             [
              1,
              "#f0f921"
             ]
            ],
            "type": "heatmap"
           }
          ],
          "heatmapgl": [
           {
            "colorbar": {
             "outlinewidth": 0,
             "ticks": ""
            },
            "colorscale": [
             [
              0,
              "#0d0887"
             ],
             [
              0.1111111111111111,
              "#46039f"
             ],
             [
              0.2222222222222222,
              "#7201a8"
             ],
             [
              0.3333333333333333,
              "#9c179e"
             ],
             [
              0.4444444444444444,
              "#bd3786"
             ],
             [
              0.5555555555555556,
              "#d8576b"
             ],
             [
              0.6666666666666666,
              "#ed7953"
             ],
             [
              0.7777777777777778,
              "#fb9f3a"
             ],
             [
              0.8888888888888888,
              "#fdca26"
             ],
             [
              1,
              "#f0f921"
             ]
            ],
            "type": "heatmapgl"
           }
          ],
          "histogram": [
           {
            "marker": {
             "pattern": {
              "fillmode": "overlay",
              "size": 10,
              "solidity": 0.2
             }
            },
            "type": "histogram"
           }
          ],
          "histogram2d": [
           {
            "colorbar": {
             "outlinewidth": 0,
             "ticks": ""
            },
            "colorscale": [
             [
              0,
              "#0d0887"
             ],
             [
              0.1111111111111111,
              "#46039f"
             ],
             [
              0.2222222222222222,
              "#7201a8"
             ],
             [
              0.3333333333333333,
              "#9c179e"
             ],
             [
              0.4444444444444444,
              "#bd3786"
             ],
             [
              0.5555555555555556,
              "#d8576b"
             ],
             [
              0.6666666666666666,
              "#ed7953"
             ],
             [
              0.7777777777777778,
              "#fb9f3a"
             ],
             [
              0.8888888888888888,
              "#fdca26"
             ],
             [
              1,
              "#f0f921"
             ]
            ],
            "type": "histogram2d"
           }
          ],
          "histogram2dcontour": [
           {
            "colorbar": {
             "outlinewidth": 0,
             "ticks": ""
            },
            "colorscale": [
             [
              0,
              "#0d0887"
             ],
             [
              0.1111111111111111,
              "#46039f"
             ],
             [
              0.2222222222222222,
              "#7201a8"
             ],
             [
              0.3333333333333333,
              "#9c179e"
             ],
             [
              0.4444444444444444,
              "#bd3786"
             ],
             [
              0.5555555555555556,
              "#d8576b"
             ],
             [
              0.6666666666666666,
              "#ed7953"
             ],
             [
              0.7777777777777778,
              "#fb9f3a"
             ],
             [
              0.8888888888888888,
              "#fdca26"
             ],
             [
              1,
              "#f0f921"
             ]
            ],
            "type": "histogram2dcontour"
           }
          ],
          "mesh3d": [
           {
            "colorbar": {
             "outlinewidth": 0,
             "ticks": ""
            },
            "type": "mesh3d"
           }
          ],
          "parcoords": [
           {
            "line": {
             "colorbar": {
              "outlinewidth": 0,
              "ticks": ""
             }
            },
            "type": "parcoords"
           }
          ],
          "pie": [
           {
            "automargin": true,
            "type": "pie"
           }
          ],
          "scatter": [
           {
            "fillpattern": {
             "fillmode": "overlay",
             "size": 10,
             "solidity": 0.2
            },
            "type": "scatter"
           }
          ],
          "scatter3d": [
           {
            "line": {
             "colorbar": {
              "outlinewidth": 0,
              "ticks": ""
             }
            },
            "marker": {
             "colorbar": {
              "outlinewidth": 0,
              "ticks": ""
             }
            },
            "type": "scatter3d"
           }
          ],
          "scattercarpet": [
           {
            "marker": {
             "colorbar": {
              "outlinewidth": 0,
              "ticks": ""
             }
            },
            "type": "scattercarpet"
           }
          ],
          "scattergeo": [
           {
            "marker": {
             "colorbar": {
              "outlinewidth": 0,
              "ticks": ""
             }
            },
            "type": "scattergeo"
           }
          ],
          "scattergl": [
           {
            "marker": {
             "colorbar": {
              "outlinewidth": 0,
              "ticks": ""
             }
            },
            "type": "scattergl"
           }
          ],
          "scattermapbox": [
           {
            "marker": {
             "colorbar": {
              "outlinewidth": 0,
              "ticks": ""
             }
            },
            "type": "scattermapbox"
           }
          ],
          "scatterpolar": [
           {
            "marker": {
             "colorbar": {
              "outlinewidth": 0,
              "ticks": ""
             }
            },
            "type": "scatterpolar"
           }
          ],
          "scatterpolargl": [
           {
            "marker": {
             "colorbar": {
              "outlinewidth": 0,
              "ticks": ""
             }
            },
            "type": "scatterpolargl"
           }
          ],
          "scatterternary": [
           {
            "marker": {
             "colorbar": {
              "outlinewidth": 0,
              "ticks": ""
             }
            },
            "type": "scatterternary"
           }
          ],
          "surface": [
           {
            "colorbar": {
             "outlinewidth": 0,
             "ticks": ""
            },
            "colorscale": [
             [
              0,
              "#0d0887"
             ],
             [
              0.1111111111111111,
              "#46039f"
             ],
             [
              0.2222222222222222,
              "#7201a8"
             ],
             [
              0.3333333333333333,
              "#9c179e"
             ],
             [
              0.4444444444444444,
              "#bd3786"
             ],
             [
              0.5555555555555556,
              "#d8576b"
             ],
             [
              0.6666666666666666,
              "#ed7953"
             ],
             [
              0.7777777777777778,
              "#fb9f3a"
             ],
             [
              0.8888888888888888,
              "#fdca26"
             ],
             [
              1,
              "#f0f921"
             ]
            ],
            "type": "surface"
           }
          ],
          "table": [
           {
            "cells": {
             "fill": {
              "color": "#EBF0F8"
             },
             "line": {
              "color": "white"
             }
            },
            "header": {
             "fill": {
              "color": "#C8D4E3"
             },
             "line": {
              "color": "white"
             }
            },
            "type": "table"
           }
          ]
         },
         "layout": {
          "annotationdefaults": {
           "arrowcolor": "#2a3f5f",
           "arrowhead": 0,
           "arrowwidth": 1
          },
          "autotypenumbers": "strict",
          "coloraxis": {
           "colorbar": {
            "outlinewidth": 0,
            "ticks": ""
           }
          },
          "colorscale": {
           "diverging": [
            [
             0,
             "#8e0152"
            ],
            [
             0.1,
             "#c51b7d"
            ],
            [
             0.2,
             "#de77ae"
            ],
            [
             0.3,
             "#f1b6da"
            ],
            [
             0.4,
             "#fde0ef"
            ],
            [
             0.5,
             "#f7f7f7"
            ],
            [
             0.6,
             "#e6f5d0"
            ],
            [
             0.7,
             "#b8e186"
            ],
            [
             0.8,
             "#7fbc41"
            ],
            [
             0.9,
             "#4d9221"
            ],
            [
             1,
             "#276419"
            ]
           ],
           "sequential": [
            [
             0,
             "#0d0887"
            ],
            [
             0.1111111111111111,
             "#46039f"
            ],
            [
             0.2222222222222222,
             "#7201a8"
            ],
            [
             0.3333333333333333,
             "#9c179e"
            ],
            [
             0.4444444444444444,
             "#bd3786"
            ],
            [
             0.5555555555555556,
             "#d8576b"
            ],
            [
             0.6666666666666666,
             "#ed7953"
            ],
            [
             0.7777777777777778,
             "#fb9f3a"
            ],
            [
             0.8888888888888888,
             "#fdca26"
            ],
            [
             1,
             "#f0f921"
            ]
           ],
           "sequentialminus": [
            [
             0,
             "#0d0887"
            ],
            [
             0.1111111111111111,
             "#46039f"
            ],
            [
             0.2222222222222222,
             "#7201a8"
            ],
            [
             0.3333333333333333,
             "#9c179e"
            ],
            [
             0.4444444444444444,
             "#bd3786"
            ],
            [
             0.5555555555555556,
             "#d8576b"
            ],
            [
             0.6666666666666666,
             "#ed7953"
            ],
            [
             0.7777777777777778,
             "#fb9f3a"
            ],
            [
             0.8888888888888888,
             "#fdca26"
            ],
            [
             1,
             "#f0f921"
            ]
           ]
          },
          "colorway": [
           "#636efa",
           "#EF553B",
           "#00cc96",
           "#ab63fa",
           "#FFA15A",
           "#19d3f3",
           "#FF6692",
           "#B6E880",
           "#FF97FF",
           "#FECB52"
          ],
          "font": {
           "color": "#2a3f5f"
          },
          "geo": {
           "bgcolor": "white",
           "lakecolor": "white",
           "landcolor": "#E5ECF6",
           "showlakes": true,
           "showland": true,
           "subunitcolor": "white"
          },
          "hoverlabel": {
           "align": "left"
          },
          "hovermode": "closest",
          "mapbox": {
           "style": "light"
          },
          "paper_bgcolor": "white",
          "plot_bgcolor": "#E5ECF6",
          "polar": {
           "angularaxis": {
            "gridcolor": "white",
            "linecolor": "white",
            "ticks": ""
           },
           "bgcolor": "#E5ECF6",
           "radialaxis": {
            "gridcolor": "white",
            "linecolor": "white",
            "ticks": ""
           }
          },
          "scene": {
           "xaxis": {
            "backgroundcolor": "#E5ECF6",
            "gridcolor": "white",
            "gridwidth": 2,
            "linecolor": "white",
            "showbackground": true,
            "ticks": "",
            "zerolinecolor": "white"
           },
           "yaxis": {
            "backgroundcolor": "#E5ECF6",
            "gridcolor": "white",
            "gridwidth": 2,
            "linecolor": "white",
            "showbackground": true,
            "ticks": "",
            "zerolinecolor": "white"
           },
           "zaxis": {
            "backgroundcolor": "#E5ECF6",
            "gridcolor": "white",
            "gridwidth": 2,
            "linecolor": "white",
            "showbackground": true,
            "ticks": "",
            "zerolinecolor": "white"
           }
          },
          "shapedefaults": {
           "line": {
            "color": "#2a3f5f"
           }
          },
          "ternary": {
           "aaxis": {
            "gridcolor": "white",
            "linecolor": "white",
            "ticks": ""
           },
           "baxis": {
            "gridcolor": "white",
            "linecolor": "white",
            "ticks": ""
           },
           "bgcolor": "#E5ECF6",
           "caxis": {
            "gridcolor": "white",
            "linecolor": "white",
            "ticks": ""
           }
          },
          "title": {
           "x": 0.05
          },
          "xaxis": {
           "automargin": true,
           "gridcolor": "white",
           "linecolor": "white",
           "ticks": "",
           "title": {
            "standoff": 15
           },
           "zerolinecolor": "white",
           "zerolinewidth": 2
          },
          "yaxis": {
           "automargin": true,
           "gridcolor": "white",
           "linecolor": "white",
           "ticks": "",
           "title": {
            "standoff": 15
           },
           "zerolinecolor": "white",
           "zerolinewidth": 2
          }
         }
        },
        "xaxis": {
         "anchor": "y",
         "domain": [
          0,
          1
         ],
         "title": {
          "text": "Type"
         }
        },
        "yaxis": {
         "anchor": "x",
         "domain": [
          0,
          1
         ],
         "title": {
          "text": "Number of Sales"
         }
        }
       }
      }
     },
     "metadata": {},
     "output_type": "display_data"
    }
   ],
   "source": [
    "fig= px.bar( df , x=df['CpuVersion'].value_counts().nlargest(13).index ,\n",
    "           y= df['CpuVersion'].value_counts().nlargest(13).values)\n",
    "fig.update_xaxes(title='Type')\n",
    "fig.update_yaxes(title='Number of Sales')\n",
    "fig.update_traces(marker_color='lightsalmon')"
   ]
  },
  {
   "cell_type": "code",
   "execution_count": 58,
   "id": "d2ce1dfc",
   "metadata": {},
   "outputs": [
    {
     "data": {
      "application/vnd.plotly.v1+json": {
       "config": {
        "plotlyServerURL": "https://plot.ly"
       },
       "data": [
        {
         "alignmentgroup": "True",
         "hovertemplate": "x=%{x}<br>y=%{y}<extra></extra>",
         "legendgroup": "",
         "marker": {
          "color": "lightsalmon",
          "pattern": {
           "shape": ""
          }
         },
         "name": "",
         "offsetgroup": "",
         "orientation": "v",
         "showlegend": false,
         "textposition": "auto",
         "type": "bar",
         "x": [
          " HD Graphics 620",
          " HD Graphics 520",
          " UHD Graphics 620",
          " GeForce GTX 1050",
          " GeForce GTX 1060",
          " GeForce 940MX",
          " HD Graphics 500",
          " Radeon 530",
          " HD Graphics 400",
          " GeForce GTX 1070",
          " GeForce GTX 1050 Ti",
          " HD Graphics",
          " Radeon R5 M430"
         ],
         "xaxis": "x",
         "y": [
          269,
          177,
          66,
          64,
          48,
          42,
          39,
          39,
          30,
          29,
          27,
          22,
          20
         ],
         "yaxis": "y"
        }
       ],
       "layout": {
        "barmode": "relative",
        "legend": {
         "tracegroupgap": 0
        },
        "margin": {
         "t": 60
        },
        "template": {
         "data": {
          "bar": [
           {
            "error_x": {
             "color": "#2a3f5f"
            },
            "error_y": {
             "color": "#2a3f5f"
            },
            "marker": {
             "line": {
              "color": "#E5ECF6",
              "width": 0.5
             },
             "pattern": {
              "fillmode": "overlay",
              "size": 10,
              "solidity": 0.2
             }
            },
            "type": "bar"
           }
          ],
          "barpolar": [
           {
            "marker": {
             "line": {
              "color": "#E5ECF6",
              "width": 0.5
             },
             "pattern": {
              "fillmode": "overlay",
              "size": 10,
              "solidity": 0.2
             }
            },
            "type": "barpolar"
           }
          ],
          "carpet": [
           {
            "aaxis": {
             "endlinecolor": "#2a3f5f",
             "gridcolor": "white",
             "linecolor": "white",
             "minorgridcolor": "white",
             "startlinecolor": "#2a3f5f"
            },
            "baxis": {
             "endlinecolor": "#2a3f5f",
             "gridcolor": "white",
             "linecolor": "white",
             "minorgridcolor": "white",
             "startlinecolor": "#2a3f5f"
            },
            "type": "carpet"
           }
          ],
          "choropleth": [
           {
            "colorbar": {
             "outlinewidth": 0,
             "ticks": ""
            },
            "type": "choropleth"
           }
          ],
          "contour": [
           {
            "colorbar": {
             "outlinewidth": 0,
             "ticks": ""
            },
            "colorscale": [
             [
              0,
              "#0d0887"
             ],
             [
              0.1111111111111111,
              "#46039f"
             ],
             [
              0.2222222222222222,
              "#7201a8"
             ],
             [
              0.3333333333333333,
              "#9c179e"
             ],
             [
              0.4444444444444444,
              "#bd3786"
             ],
             [
              0.5555555555555556,
              "#d8576b"
             ],
             [
              0.6666666666666666,
              "#ed7953"
             ],
             [
              0.7777777777777778,
              "#fb9f3a"
             ],
             [
              0.8888888888888888,
              "#fdca26"
             ],
             [
              1,
              "#f0f921"
             ]
            ],
            "type": "contour"
           }
          ],
          "contourcarpet": [
           {
            "colorbar": {
             "outlinewidth": 0,
             "ticks": ""
            },
            "type": "contourcarpet"
           }
          ],
          "heatmap": [
           {
            "colorbar": {
             "outlinewidth": 0,
             "ticks": ""
            },
            "colorscale": [
             [
              0,
              "#0d0887"
             ],
             [
              0.1111111111111111,
              "#46039f"
             ],
             [
              0.2222222222222222,
              "#7201a8"
             ],
             [
              0.3333333333333333,
              "#9c179e"
             ],
             [
              0.4444444444444444,
              "#bd3786"
             ],
             [
              0.5555555555555556,
              "#d8576b"
             ],
             [
              0.6666666666666666,
              "#ed7953"
             ],
             [
              0.7777777777777778,
              "#fb9f3a"
             ],
             [
              0.8888888888888888,
              "#fdca26"
             ],
             [
              1,
              "#f0f921"
             ]
            ],
            "type": "heatmap"
           }
          ],
          "heatmapgl": [
           {
            "colorbar": {
             "outlinewidth": 0,
             "ticks": ""
            },
            "colorscale": [
             [
              0,
              "#0d0887"
             ],
             [
              0.1111111111111111,
              "#46039f"
             ],
             [
              0.2222222222222222,
              "#7201a8"
             ],
             [
              0.3333333333333333,
              "#9c179e"
             ],
             [
              0.4444444444444444,
              "#bd3786"
             ],
             [
              0.5555555555555556,
              "#d8576b"
             ],
             [
              0.6666666666666666,
              "#ed7953"
             ],
             [
              0.7777777777777778,
              "#fb9f3a"
             ],
             [
              0.8888888888888888,
              "#fdca26"
             ],
             [
              1,
              "#f0f921"
             ]
            ],
            "type": "heatmapgl"
           }
          ],
          "histogram": [
           {
            "marker": {
             "pattern": {
              "fillmode": "overlay",
              "size": 10,
              "solidity": 0.2
             }
            },
            "type": "histogram"
           }
          ],
          "histogram2d": [
           {
            "colorbar": {
             "outlinewidth": 0,
             "ticks": ""
            },
            "colorscale": [
             [
              0,
              "#0d0887"
             ],
             [
              0.1111111111111111,
              "#46039f"
             ],
             [
              0.2222222222222222,
              "#7201a8"
             ],
             [
              0.3333333333333333,
              "#9c179e"
             ],
             [
              0.4444444444444444,
              "#bd3786"
             ],
             [
              0.5555555555555556,
              "#d8576b"
             ],
             [
              0.6666666666666666,
              "#ed7953"
             ],
             [
              0.7777777777777778,
              "#fb9f3a"
             ],
             [
              0.8888888888888888,
              "#fdca26"
             ],
             [
              1,
              "#f0f921"
             ]
            ],
            "type": "histogram2d"
           }
          ],
          "histogram2dcontour": [
           {
            "colorbar": {
             "outlinewidth": 0,
             "ticks": ""
            },
            "colorscale": [
             [
              0,
              "#0d0887"
             ],
             [
              0.1111111111111111,
              "#46039f"
             ],
             [
              0.2222222222222222,
              "#7201a8"
             ],
             [
              0.3333333333333333,
              "#9c179e"
             ],
             [
              0.4444444444444444,
              "#bd3786"
             ],
             [
              0.5555555555555556,
              "#d8576b"
             ],
             [
              0.6666666666666666,
              "#ed7953"
             ],
             [
              0.7777777777777778,
              "#fb9f3a"
             ],
             [
              0.8888888888888888,
              "#fdca26"
             ],
             [
              1,
              "#f0f921"
             ]
            ],
            "type": "histogram2dcontour"
           }
          ],
          "mesh3d": [
           {
            "colorbar": {
             "outlinewidth": 0,
             "ticks": ""
            },
            "type": "mesh3d"
           }
          ],
          "parcoords": [
           {
            "line": {
             "colorbar": {
              "outlinewidth": 0,
              "ticks": ""
             }
            },
            "type": "parcoords"
           }
          ],
          "pie": [
           {
            "automargin": true,
            "type": "pie"
           }
          ],
          "scatter": [
           {
            "fillpattern": {
             "fillmode": "overlay",
             "size": 10,
             "solidity": 0.2
            },
            "type": "scatter"
           }
          ],
          "scatter3d": [
           {
            "line": {
             "colorbar": {
              "outlinewidth": 0,
              "ticks": ""
             }
            },
            "marker": {
             "colorbar": {
              "outlinewidth": 0,
              "ticks": ""
             }
            },
            "type": "scatter3d"
           }
          ],
          "scattercarpet": [
           {
            "marker": {
             "colorbar": {
              "outlinewidth": 0,
              "ticks": ""
             }
            },
            "type": "scattercarpet"
           }
          ],
          "scattergeo": [
           {
            "marker": {
             "colorbar": {
              "outlinewidth": 0,
              "ticks": ""
             }
            },
            "type": "scattergeo"
           }
          ],
          "scattergl": [
           {
            "marker": {
             "colorbar": {
              "outlinewidth": 0,
              "ticks": ""
             }
            },
            "type": "scattergl"
           }
          ],
          "scattermapbox": [
           {
            "marker": {
             "colorbar": {
              "outlinewidth": 0,
              "ticks": ""
             }
            },
            "type": "scattermapbox"
           }
          ],
          "scatterpolar": [
           {
            "marker": {
             "colorbar": {
              "outlinewidth": 0,
              "ticks": ""
             }
            },
            "type": "scatterpolar"
           }
          ],
          "scatterpolargl": [
           {
            "marker": {
             "colorbar": {
              "outlinewidth": 0,
              "ticks": ""
             }
            },
            "type": "scatterpolargl"
           }
          ],
          "scatterternary": [
           {
            "marker": {
             "colorbar": {
              "outlinewidth": 0,
              "ticks": ""
             }
            },
            "type": "scatterternary"
           }
          ],
          "surface": [
           {
            "colorbar": {
             "outlinewidth": 0,
             "ticks": ""
            },
            "colorscale": [
             [
              0,
              "#0d0887"
             ],
             [
              0.1111111111111111,
              "#46039f"
             ],
             [
              0.2222222222222222,
              "#7201a8"
             ],
             [
              0.3333333333333333,
              "#9c179e"
             ],
             [
              0.4444444444444444,
              "#bd3786"
             ],
             [
              0.5555555555555556,
              "#d8576b"
             ],
             [
              0.6666666666666666,
              "#ed7953"
             ],
             [
              0.7777777777777778,
              "#fb9f3a"
             ],
             [
              0.8888888888888888,
              "#fdca26"
             ],
             [
              1,
              "#f0f921"
             ]
            ],
            "type": "surface"
           }
          ],
          "table": [
           {
            "cells": {
             "fill": {
              "color": "#EBF0F8"
             },
             "line": {
              "color": "white"
             }
            },
            "header": {
             "fill": {
              "color": "#C8D4E3"
             },
             "line": {
              "color": "white"
             }
            },
            "type": "table"
           }
          ]
         },
         "layout": {
          "annotationdefaults": {
           "arrowcolor": "#2a3f5f",
           "arrowhead": 0,
           "arrowwidth": 1
          },
          "autotypenumbers": "strict",
          "coloraxis": {
           "colorbar": {
            "outlinewidth": 0,
            "ticks": ""
           }
          },
          "colorscale": {
           "diverging": [
            [
             0,
             "#8e0152"
            ],
            [
             0.1,
             "#c51b7d"
            ],
            [
             0.2,
             "#de77ae"
            ],
            [
             0.3,
             "#f1b6da"
            ],
            [
             0.4,
             "#fde0ef"
            ],
            [
             0.5,
             "#f7f7f7"
            ],
            [
             0.6,
             "#e6f5d0"
            ],
            [
             0.7,
             "#b8e186"
            ],
            [
             0.8,
             "#7fbc41"
            ],
            [
             0.9,
             "#4d9221"
            ],
            [
             1,
             "#276419"
            ]
           ],
           "sequential": [
            [
             0,
             "#0d0887"
            ],
            [
             0.1111111111111111,
             "#46039f"
            ],
            [
             0.2222222222222222,
             "#7201a8"
            ],
            [
             0.3333333333333333,
             "#9c179e"
            ],
            [
             0.4444444444444444,
             "#bd3786"
            ],
            [
             0.5555555555555556,
             "#d8576b"
            ],
            [
             0.6666666666666666,
             "#ed7953"
            ],
            [
             0.7777777777777778,
             "#fb9f3a"
            ],
            [
             0.8888888888888888,
             "#fdca26"
            ],
            [
             1,
             "#f0f921"
            ]
           ],
           "sequentialminus": [
            [
             0,
             "#0d0887"
            ],
            [
             0.1111111111111111,
             "#46039f"
            ],
            [
             0.2222222222222222,
             "#7201a8"
            ],
            [
             0.3333333333333333,
             "#9c179e"
            ],
            [
             0.4444444444444444,
             "#bd3786"
            ],
            [
             0.5555555555555556,
             "#d8576b"
            ],
            [
             0.6666666666666666,
             "#ed7953"
            ],
            [
             0.7777777777777778,
             "#fb9f3a"
            ],
            [
             0.8888888888888888,
             "#fdca26"
            ],
            [
             1,
             "#f0f921"
            ]
           ]
          },
          "colorway": [
           "#636efa",
           "#EF553B",
           "#00cc96",
           "#ab63fa",
           "#FFA15A",
           "#19d3f3",
           "#FF6692",
           "#B6E880",
           "#FF97FF",
           "#FECB52"
          ],
          "font": {
           "color": "#2a3f5f"
          },
          "geo": {
           "bgcolor": "white",
           "lakecolor": "white",
           "landcolor": "#E5ECF6",
           "showlakes": true,
           "showland": true,
           "subunitcolor": "white"
          },
          "hoverlabel": {
           "align": "left"
          },
          "hovermode": "closest",
          "mapbox": {
           "style": "light"
          },
          "paper_bgcolor": "white",
          "plot_bgcolor": "#E5ECF6",
          "polar": {
           "angularaxis": {
            "gridcolor": "white",
            "linecolor": "white",
            "ticks": ""
           },
           "bgcolor": "#E5ECF6",
           "radialaxis": {
            "gridcolor": "white",
            "linecolor": "white",
            "ticks": ""
           }
          },
          "scene": {
           "xaxis": {
            "backgroundcolor": "#E5ECF6",
            "gridcolor": "white",
            "gridwidth": 2,
            "linecolor": "white",
            "showbackground": true,
            "ticks": "",
            "zerolinecolor": "white"
           },
           "yaxis": {
            "backgroundcolor": "#E5ECF6",
            "gridcolor": "white",
            "gridwidth": 2,
            "linecolor": "white",
            "showbackground": true,
            "ticks": "",
            "zerolinecolor": "white"
           },
           "zaxis": {
            "backgroundcolor": "#E5ECF6",
            "gridcolor": "white",
            "gridwidth": 2,
            "linecolor": "white",
            "showbackground": true,
            "ticks": "",
            "zerolinecolor": "white"
           }
          },
          "shapedefaults": {
           "line": {
            "color": "#2a3f5f"
           }
          },
          "ternary": {
           "aaxis": {
            "gridcolor": "white",
            "linecolor": "white",
            "ticks": ""
           },
           "baxis": {
            "gridcolor": "white",
            "linecolor": "white",
            "ticks": ""
           },
           "bgcolor": "#E5ECF6",
           "caxis": {
            "gridcolor": "white",
            "linecolor": "white",
            "ticks": ""
           }
          },
          "title": {
           "x": 0.05
          },
          "xaxis": {
           "automargin": true,
           "gridcolor": "white",
           "linecolor": "white",
           "ticks": "",
           "title": {
            "standoff": 15
           },
           "zerolinecolor": "white",
           "zerolinewidth": 2
          },
          "yaxis": {
           "automargin": true,
           "gridcolor": "white",
           "linecolor": "white",
           "ticks": "",
           "title": {
            "standoff": 15
           },
           "zerolinecolor": "white",
           "zerolinewidth": 2
          }
         }
        },
        "xaxis": {
         "anchor": "y",
         "domain": [
          0,
          1
         ],
         "title": {
          "text": "Type"
         }
        },
        "yaxis": {
         "anchor": "x",
         "domain": [
          0,
          1
         ],
         "title": {
          "text": "Number of Sales"
         }
        }
       }
      }
     },
     "metadata": {},
     "output_type": "display_data"
    }
   ],
   "source": [
    "fig= px.bar( df , x=df['GpuVersion'].value_counts().nlargest(13).index ,\n",
    "           y= df['GpuVersion'].value_counts().nlargest(13).values)\n",
    "fig.update_xaxes(title='Type')\n",
    "fig.update_yaxes(title='Number of Sales')\n",
    "fig.update_traces(marker_color='lightsalmon')"
   ]
  },
  {
   "cell_type": "markdown",
   "id": "7feb5a78",
   "metadata": {},
   "source": [
    "- Laptop Screen Sizes"
   ]
  },
  {
   "cell_type": "code",
   "execution_count": 59,
   "id": "d17cb10a",
   "metadata": {},
   "outputs": [
    {
     "data": {
      "application/vnd.plotly.v1+json": {
       "config": {
        "plotlyServerURL": "https://plot.ly"
       },
       "data": [
        {
         "alignmentgroup": "True",
         "bingroup": "x",
         "hovertemplate": "Inches=%{x}<br>count=%{y}<extra></extra>",
         "legendgroup": "",
         "marker": {
          "color": "#636efa",
          "pattern": {
           "shape": ""
          }
         },
         "name": "",
         "offsetgroup": "",
         "orientation": "v",
         "showlegend": false,
         "type": "histogram",
         "x": [
          13.3,
          13.3,
          15.6,
          15.4,
          13.3,
          15.6,
          15.4,
          13.3,
          14,
          14,
          15.6,
          15.6,
          15.4,
          15.6,
          12,
          13.3,
          15.6,
          15.4,
          15.6,
          13.3,
          15.6,
          15.6,
          13.3,
          15.6,
          15.6,
          13.3,
          15.6,
          15.6,
          17.3,
          15.6,
          14,
          17.3,
          13.3,
          13.3,
          14,
          15.6,
          17.3,
          15.6,
          15.6,
          15.6,
          15.6,
          15.6,
          15.6,
          17.3,
          13.3,
          17.3,
          15.6,
          17.3,
          15.6,
          15.6,
          13.3,
          15.6,
          15.6,
          15.6,
          15.6,
          17.3,
          15.6,
          17.3,
          14,
          14,
          14,
          15.6,
          15.6,
          15.6,
          14,
          15.6,
          17.3,
          13.5,
          13.3,
          15.6,
          17.3,
          14,
          15.6,
          15.6,
          15.6,
          15.6,
          17.3,
          15.6,
          12,
          14,
          15.6,
          15.6,
          15.6,
          15.6,
          15.6,
          15.6,
          13.3,
          15.6,
          15.6,
          13.3,
          15.6,
          14,
          13.3,
          15.6,
          15.6,
          15.6,
          15.6,
          15.6,
          15.6,
          15.6,
          13.3,
          13.5,
          14,
          15.6,
          14,
          15.6,
          14,
          15.6,
          13.3,
          13.3,
          14,
          13.3,
          14,
          15.6,
          17.3,
          15.6,
          15.6,
          15.6,
          15.6,
          17.3,
          15.6,
          14,
          14,
          17.3,
          17.3,
          15.6,
          15.6,
          14,
          15.6,
          15.6,
          14,
          15.6,
          17.3,
          15.6,
          13.3,
          17.3,
          14,
          15.6,
          15.6,
          15.6,
          14,
          12.5,
          15.6,
          15.6,
          15.6,
          15.6,
          15.6,
          17.3,
          14,
          15.6,
          14,
          13.3,
          15.6,
          15.6,
          15.6,
          17.3,
          15.6,
          15.6,
          15.6,
          15.6,
          15.6,
          15.6,
          17.3,
          13.3,
          13,
          17.3,
          15.6,
          15.6,
          17.3,
          15.6,
          15.6,
          18.4,
          15.6,
          13.3,
          15.6,
          13.3,
          13.9,
          15.6,
          15.6,
          17.3,
          15.6,
          15.6,
          13.3,
          17.3,
          14,
          13.3,
          17.3,
          13.3,
          17.3,
          17.3,
          13.3,
          17.3,
          17.3,
          15.6,
          15.6,
          15.6,
          15.6,
          15.6,
          15.6,
          15.6,
          13.3,
          13.3,
          15.6,
          17.3,
          15.6,
          15.6,
          13,
          13.3,
          17.3,
          14,
          14,
          13.3,
          15.6,
          14,
          13.3,
          15.6,
          17.3,
          15.6,
          15.6,
          15.6,
          17.3,
          15.6,
          15.6,
          15.6,
          15.6,
          14,
          13.3,
          15.6,
          15.6,
          15.6,
          17.3,
          15.6,
          15.6,
          17.3,
          17.3,
          15.6,
          13.9,
          15.6,
          15.6,
          17.3,
          13.3,
          13.3,
          15.6,
          17.3,
          15.6,
          13.9,
          17.3,
          13.3,
          15.6,
          17.3,
          17.3,
          15.6,
          17.3,
          15.6,
          15.6,
          15.6,
          15.6,
          15.6,
          13.3,
          17.3,
          15.6,
          13.3,
          17.3,
          15.6,
          14,
          15.6,
          15.6,
          17.3,
          15.6,
          17.3,
          17.3,
          17.3,
          15.6,
          15.6,
          15.6,
          15.6,
          15.6,
          15.6,
          15.6,
          15.6,
          15.6,
          15.6,
          17.3,
          17.3,
          15.6,
          15.6,
          15.6,
          15.6,
          17.3,
          15.6,
          15.6,
          14,
          17.3,
          17.3,
          15.6,
          15.6,
          15.6,
          13.3,
          15.6,
          15.6,
          15.6,
          13.3,
          13.3,
          15.6,
          15.6,
          11.6,
          15.6,
          13.3,
          13.3,
          14,
          11.6,
          14,
          17.3,
          14,
          15.6,
          15.6,
          14,
          15.6,
          15.6,
          12.5,
          15.6,
          17.3,
          15.6,
          14,
          15.6,
          15.6,
          14,
          15.6,
          15.6,
          15.6,
          15.6,
          15.6,
          15.6,
          13.9,
          13.3,
          15.6,
          14,
          15.6,
          11.6,
          15.6,
          15.6,
          17.3,
          15.6,
          15.6,
          15.6,
          15.6,
          15.6,
          15.6,
          14,
          15.6,
          14,
          17.3,
          15.6,
          15.6,
          15.6,
          17.3,
          15.6,
          15.6,
          14,
          15.6,
          15.6,
          17.3,
          17.3,
          13.3,
          15.6,
          11.6,
          15.6,
          14,
          15.6,
          17.3,
          15.6,
          15.6,
          14,
          13.3,
          14,
          13.3,
          15.6,
          15.6,
          14,
          17.3,
          17.3,
          15.6,
          17.3,
          15.6,
          15.6,
          15.6,
          14,
          15.6,
          14,
          15.6,
          17.3,
          25.6,
          15.6,
          17.3,
          14,
          13.3,
          14,
          35.6,
          11.6,
          15.6,
          14,
          15.6,
          13.3,
          13.3,
          15.6,
          13.3,
          14,
          15.6,
          14,
          15.6,
          12.3,
          15.6,
          35.6,
          27.3,
          15.6,
          15.6,
          14,
          17.3,
          11.6,
          11.6,
          13.3,
          14,
          15.6,
          15.6,
          17.3,
          15.6,
          12.3,
          24,
          15.6,
          17.3,
          15.6,
          12.5,
          15.6,
          15.6,
          14,
          15.6,
          15.6,
          15.6,
          13.5,
          15.6,
          15.6,
          15.6,
          14,
          15.6,
          11.6,
          17.3,
          13.5,
          33.5,
          17.3,
          15.6,
          11.6,
          15.6,
          14,
          15.6,
          15.6,
          15.6,
          15.6,
          17.3,
          14,
          13.3,
          15.6,
          12.3,
          13.3,
          15.6,
          14,
          null,
          14,
          13.3,
          15.6,
          15.6,
          13.3,
          15.6,
          15.6,
          14,
          15.6,
          15.6,
          12.5,
          12.5,
          15.6,
          13.3,
          15.6,
          15.6,
          17.3,
          12.5,
          15.6,
          14,
          13.3,
          15.6,
          11.6,
          15.6,
          13.9,
          14,
          11.6,
          13.3,
          15.6,
          15.6,
          13.3,
          15.6,
          13.3,
          15.6,
          15.6,
          15.6,
          15.6,
          11.6,
          15.6,
          15.6,
          15.6,
          17.3,
          15.6,
          13.3,
          14,
          15.6,
          17.3,
          24,
          15.6,
          15.6,
          15.6,
          15.6,
          17.3,
          15.6,
          15.6,
          13.3,
          15.6,
          15.6,
          15.6,
          15.6,
          17.3,
          14,
          13.3,
          14,
          13.3,
          15.6,
          15.6,
          15.6,
          14,
          15.6,
          15.6,
          15.6,
          15.6,
          15.6,
          17.3,
          17.3,
          17.3,
          15.6,
          13.3,
          17.3,
          15.6,
          15.6,
          11.6,
          15.6,
          13.3,
          17.3,
          15.6,
          13.3,
          15.6,
          15.6,
          14,
          17.3,
          14,
          15.6,
          15.6,
          15.6,
          14,
          14,
          17.3,
          17.3,
          15.6,
          14,
          15.6,
          13.3,
          15.6,
          11.6,
          17.3,
          17.3,
          14,
          15.6,
          17.3,
          15.6,
          15.6,
          31.6,
          15.6,
          17.3,
          15.6,
          13.3,
          14,
          12.5,
          15.6,
          15.6,
          15.6,
          14,
          17.3,
          15.6,
          15.6,
          15.6,
          15.6,
          15.6,
          14,
          15.6,
          15.6,
          15.6,
          15.6,
          15.6,
          17.3,
          15.6,
          15.6,
          11.6,
          14,
          14,
          15.6,
          15.6,
          15.6,
          14,
          15.6,
          13.3,
          14,
          15.6,
          15.6,
          15.6,
          15.6,
          15.6,
          13.3,
          14,
          13.3,
          15.6,
          15.6,
          17,
          14,
          15.6,
          15.6,
          14,
          14,
          14,
          13.3,
          12.5,
          17.3,
          15.6,
          13.3,
          15.6,
          15.6,
          15.6,
          15.6,
          15.6,
          15.6,
          17.3,
          14,
          15.6,
          15.6,
          15.6,
          17.3,
          15.6,
          15.6,
          15.6,
          15.6,
          13.5,
          15.6,
          13.3,
          35.6,
          14,
          15.6,
          14,
          11.6,
          15.6,
          15.6,
          15.6,
          15.6,
          15.6,
          17.3,
          13.3,
          15.6,
          15.6,
          15.6,
          17.3,
          15.6,
          14,
          14,
          17.3,
          14,
          13.3,
          11.6,
          14,
          12.5,
          13.3,
          15.6,
          15.6,
          15.6,
          15.6,
          15.6,
          15.6,
          13.3,
          15.6,
          14,
          17.3,
          15.6,
          14,
          15.6,
          14,
          15.6,
          14,
          15.6,
          15.6,
          14,
          17.3,
          14,
          13.3,
          14,
          17.3,
          17.3,
          15.6,
          13.3,
          15.6,
          15.6,
          17.3,
          15.6,
          15.6,
          15.6,
          13.3,
          15.6,
          15.6,
          13.3,
          15.6,
          15.6,
          15.6,
          15.6,
          14,
          14,
          15.6,
          14,
          13.3,
          14,
          17.3,
          11.6,
          15.6,
          15.6,
          15.6,
          13.3,
          15.6,
          15.6,
          15.6,
          15.6,
          15.6,
          12.5,
          12.3,
          13.3,
          13.3,
          13.3,
          17.3,
          15.6,
          13.3,
          15.6,
          15.6,
          15,
          14,
          15.6,
          15.6,
          15.6,
          14,
          14,
          15.6,
          17.3,
          17.3,
          14,
          15.6,
          14,
          14,
          15.6,
          15.6,
          17.3,
          15.6,
          15.6,
          14,
          13.3,
          15.6,
          12,
          14,
          14,
          15.6,
          13.9,
          15.6,
          15.6,
          15.6,
          13.3,
          15.6,
          11.6,
          12.5,
          15.6,
          15.6,
          15.6,
          15.6,
          17.3,
          17.3,
          13.3,
          15.6,
          15.6,
          14,
          12.5,
          11.6,
          17.3,
          14,
          15.6,
          14,
          14,
          15.6,
          14,
          14,
          13.3,
          14,
          11.6,
          14,
          17.3,
          14,
          15.6,
          14,
          14,
          15.6,
          17.3,
          15.6,
          14,
          15.6,
          17.3,
          17.3,
          17.3,
          15.6,
          14,
          15.6,
          11.6,
          13.3,
          13.3,
          14,
          15.6,
          15.6,
          17.3,
          14,
          15.6,
          15.6,
          15.6,
          13.3,
          13.3,
          15.6,
          15.6,
          15.6,
          13.3,
          15.6,
          13.3,
          15.6,
          13.3,
          13.3,
          14,
          15.6,
          15.6,
          15.6,
          15.6,
          13.3,
          15,
          12.5,
          15.6,
          13.3,
          15.6,
          15.6,
          13.3,
          15.6,
          14.1,
          15.6,
          15.6,
          13.3,
          15.6,
          17.3,
          11.6,
          17.3,
          14,
          13.3,
          15,
          14,
          17.3,
          13.3,
          15.6,
          15.6,
          15.6,
          15.6,
          13.3,
          17.3,
          13.3,
          14,
          15.6,
          15.6,
          12.5,
          15.6,
          15.6,
          14,
          14,
          12.5,
          15.6,
          15.6,
          15.6,
          13.3,
          13.3,
          17.3,
          15.6,
          15.6,
          15.6,
          15.6,
          13.3,
          15.6,
          12.5,
          15.6,
          15.6,
          14,
          15.6,
          12.5,
          15.6,
          13.3,
          14,
          12.5,
          15.6,
          15.6,
          17.3,
          17.3,
          17.3,
          15.6,
          15.6,
          11.3,
          15.6,
          12.5,
          15.6,
          17.3,
          14,
          15.6,
          14,
          13.3,
          12.5,
          14,
          17.3,
          13.3,
          11.6,
          13.3,
          11.6,
          13.3,
          12.5,
          15.6,
          12.5,
          15.6,
          15.6,
          15.6,
          15.6,
          17.3,
          15.6,
          13.3,
          14,
          17.3,
          14,
          17.3,
          15.6,
          14,
          15.6,
          17.3,
          15.6,
          13.3,
          15.6,
          15.6,
          14,
          15.6,
          15.6,
          15.6,
          15.6,
          14,
          12.5,
          15.6,
          15.6,
          15.6,
          13.3,
          13.3,
          15.6,
          15.6,
          14,
          15.6,
          13.3,
          15.6,
          14,
          13.3,
          14,
          14,
          14,
          14,
          14,
          15.6,
          12.5,
          14,
          14,
          13.3,
          13.3,
          15.6,
          17.3,
          14,
          14,
          15.6,
          13.3,
          13.3,
          14,
          15.6,
          12.5,
          14,
          14,
          13.3,
          17.3,
          14,
          15.6,
          17.3,
          14,
          15.6,
          12.5,
          15.6,
          14,
          15.6,
          14,
          15.6,
          14,
          15.6,
          15.6,
          14,
          15.6,
          14,
          17.3,
          17.3,
          11.6,
          14,
          15.6,
          15.6,
          15.6,
          13.3,
          15.6,
          15.6,
          15.6,
          13.3,
          15.6,
          17.3,
          15.6,
          15.6,
          15.6,
          13.3,
          17.3,
          13.3,
          15.6,
          12,
          15.6,
          15.6,
          12.5,
          13.3,
          12.5,
          17.3,
          15.6,
          17.3,
          15.6,
          15.6,
          12.5,
          17.3,
          10.1,
          13.3,
          15.6,
          14,
          15.6,
          14,
          13.3,
          15.6,
          15.6,
          15.6,
          17.3,
          13.3,
          12.5,
          15.6,
          15.6,
          17.3,
          15.6,
          17.3,
          12.5,
          12.5,
          15.6,
          17.3,
          15.6,
          12.5,
          17.3,
          15.6,
          15.6,
          15.6,
          13.3,
          15.6,
          15.6,
          13.3,
          10.1,
          13.3,
          17.3,
          12.5,
          13.3,
          17.3,
          13.3,
          13.3,
          14,
          15.6,
          15.6,
          14,
          10.1,
          12.5,
          15.6,
          17.3,
          15.6,
          14,
          14,
          15.6,
          15.6,
          15.6,
          17.3,
          15.6,
          17.3,
          15.6,
          14,
          15.6,
          13.3,
          15.6,
          13.3,
          15.6,
          12.5,
          15.6,
          15.6,
          14,
          15.6,
          15.6,
          15.6,
          15.6,
          15.6,
          15.6,
          17.3,
          14,
          15.6,
          13.3,
          14,
          14,
          15.6,
          15.6,
          15.6,
          15.6,
          15.6,
          15.6,
          14,
          15.6,
          15.6,
          15.6,
          15.6,
          15.6,
          15.6,
          14,
          15.6,
          15.6,
          15.6,
          15.6,
          14,
          15.6,
          15.6,
          15.6,
          15.6,
          15.6,
          15.6,
          15.6,
          13.3,
          17.3,
          15.6,
          15.6,
          12,
          13.3,
          15.6,
          15.6,
          17.3,
          15.6,
          17.3,
          15.6,
          15.6,
          13.3,
          15.6,
          15.6,
          15.6,
          15.6,
          17.3,
          15.6,
          12,
          15.6,
          17.3,
          15.6,
          17.3,
          11.6,
          17.3,
          17.3,
          15.6,
          14,
          15.6,
          15.6,
          15.6,
          12.5,
          15,
          15.6,
          13.3,
          15.6,
          15.6,
          15.6,
          12.5,
          14,
          15.6,
          17.3,
          11.6,
          15.6,
          14,
          15.6,
          15.6,
          13.3,
          15.6,
          13.3,
          15.6,
          17.3,
          14,
          14,
          15.6,
          15.6,
          13.3,
          15.6,
          15.6,
          15.6,
          14,
          15.6,
          15.6,
          17.3,
          15.6,
          15.6,
          15.6,
          14,
          13.3,
          15.6,
          15.6,
          15.6,
          15.6,
          15.6,
          15.6,
          11.6,
          15.6,
          14,
          13.3,
          14,
          15.6
         ],
         "xaxis": "x",
         "yaxis": "y"
        }
       ],
       "layout": {
        "barmode": "relative",
        "legend": {
         "tracegroupgap": 0
        },
        "margin": {
         "t": 60
        },
        "template": {
         "data": {
          "bar": [
           {
            "error_x": {
             "color": "#2a3f5f"
            },
            "error_y": {
             "color": "#2a3f5f"
            },
            "marker": {
             "line": {
              "color": "#E5ECF6",
              "width": 0.5
             },
             "pattern": {
              "fillmode": "overlay",
              "size": 10,
              "solidity": 0.2
             }
            },
            "type": "bar"
           }
          ],
          "barpolar": [
           {
            "marker": {
             "line": {
              "color": "#E5ECF6",
              "width": 0.5
             },
             "pattern": {
              "fillmode": "overlay",
              "size": 10,
              "solidity": 0.2
             }
            },
            "type": "barpolar"
           }
          ],
          "carpet": [
           {
            "aaxis": {
             "endlinecolor": "#2a3f5f",
             "gridcolor": "white",
             "linecolor": "white",
             "minorgridcolor": "white",
             "startlinecolor": "#2a3f5f"
            },
            "baxis": {
             "endlinecolor": "#2a3f5f",
             "gridcolor": "white",
             "linecolor": "white",
             "minorgridcolor": "white",
             "startlinecolor": "#2a3f5f"
            },
            "type": "carpet"
           }
          ],
          "choropleth": [
           {
            "colorbar": {
             "outlinewidth": 0,
             "ticks": ""
            },
            "type": "choropleth"
           }
          ],
          "contour": [
           {
            "colorbar": {
             "outlinewidth": 0,
             "ticks": ""
            },
            "colorscale": [
             [
              0,
              "#0d0887"
             ],
             [
              0.1111111111111111,
              "#46039f"
             ],
             [
              0.2222222222222222,
              "#7201a8"
             ],
             [
              0.3333333333333333,
              "#9c179e"
             ],
             [
              0.4444444444444444,
              "#bd3786"
             ],
             [
              0.5555555555555556,
              "#d8576b"
             ],
             [
              0.6666666666666666,
              "#ed7953"
             ],
             [
              0.7777777777777778,
              "#fb9f3a"
             ],
             [
              0.8888888888888888,
              "#fdca26"
             ],
             [
              1,
              "#f0f921"
             ]
            ],
            "type": "contour"
           }
          ],
          "contourcarpet": [
           {
            "colorbar": {
             "outlinewidth": 0,
             "ticks": ""
            },
            "type": "contourcarpet"
           }
          ],
          "heatmap": [
           {
            "colorbar": {
             "outlinewidth": 0,
             "ticks": ""
            },
            "colorscale": [
             [
              0,
              "#0d0887"
             ],
             [
              0.1111111111111111,
              "#46039f"
             ],
             [
              0.2222222222222222,
              "#7201a8"
             ],
             [
              0.3333333333333333,
              "#9c179e"
             ],
             [
              0.4444444444444444,
              "#bd3786"
             ],
             [
              0.5555555555555556,
              "#d8576b"
             ],
             [
              0.6666666666666666,
              "#ed7953"
             ],
             [
              0.7777777777777778,
              "#fb9f3a"
             ],
             [
              0.8888888888888888,
              "#fdca26"
             ],
             [
              1,
              "#f0f921"
             ]
            ],
            "type": "heatmap"
           }
          ],
          "heatmapgl": [
           {
            "colorbar": {
             "outlinewidth": 0,
             "ticks": ""
            },
            "colorscale": [
             [
              0,
              "#0d0887"
             ],
             [
              0.1111111111111111,
              "#46039f"
             ],
             [
              0.2222222222222222,
              "#7201a8"
             ],
             [
              0.3333333333333333,
              "#9c179e"
             ],
             [
              0.4444444444444444,
              "#bd3786"
             ],
             [
              0.5555555555555556,
              "#d8576b"
             ],
             [
              0.6666666666666666,
              "#ed7953"
             ],
             [
              0.7777777777777778,
              "#fb9f3a"
             ],
             [
              0.8888888888888888,
              "#fdca26"
             ],
             [
              1,
              "#f0f921"
             ]
            ],
            "type": "heatmapgl"
           }
          ],
          "histogram": [
           {
            "marker": {
             "pattern": {
              "fillmode": "overlay",
              "size": 10,
              "solidity": 0.2
             }
            },
            "type": "histogram"
           }
          ],
          "histogram2d": [
           {
            "colorbar": {
             "outlinewidth": 0,
             "ticks": ""
            },
            "colorscale": [
             [
              0,
              "#0d0887"
             ],
             [
              0.1111111111111111,
              "#46039f"
             ],
             [
              0.2222222222222222,
              "#7201a8"
             ],
             [
              0.3333333333333333,
              "#9c179e"
             ],
             [
              0.4444444444444444,
              "#bd3786"
             ],
             [
              0.5555555555555556,
              "#d8576b"
             ],
             [
              0.6666666666666666,
              "#ed7953"
             ],
             [
              0.7777777777777778,
              "#fb9f3a"
             ],
             [
              0.8888888888888888,
              "#fdca26"
             ],
             [
              1,
              "#f0f921"
             ]
            ],
            "type": "histogram2d"
           }
          ],
          "histogram2dcontour": [
           {
            "colorbar": {
             "outlinewidth": 0,
             "ticks": ""
            },
            "colorscale": [
             [
              0,
              "#0d0887"
             ],
             [
              0.1111111111111111,
              "#46039f"
             ],
             [
              0.2222222222222222,
              "#7201a8"
             ],
             [
              0.3333333333333333,
              "#9c179e"
             ],
             [
              0.4444444444444444,
              "#bd3786"
             ],
             [
              0.5555555555555556,
              "#d8576b"
             ],
             [
              0.6666666666666666,
              "#ed7953"
             ],
             [
              0.7777777777777778,
              "#fb9f3a"
             ],
             [
              0.8888888888888888,
              "#fdca26"
             ],
             [
              1,
              "#f0f921"
             ]
            ],
            "type": "histogram2dcontour"
           }
          ],
          "mesh3d": [
           {
            "colorbar": {
             "outlinewidth": 0,
             "ticks": ""
            },
            "type": "mesh3d"
           }
          ],
          "parcoords": [
           {
            "line": {
             "colorbar": {
              "outlinewidth": 0,
              "ticks": ""
             }
            },
            "type": "parcoords"
           }
          ],
          "pie": [
           {
            "automargin": true,
            "type": "pie"
           }
          ],
          "scatter": [
           {
            "fillpattern": {
             "fillmode": "overlay",
             "size": 10,
             "solidity": 0.2
            },
            "type": "scatter"
           }
          ],
          "scatter3d": [
           {
            "line": {
             "colorbar": {
              "outlinewidth": 0,
              "ticks": ""
             }
            },
            "marker": {
             "colorbar": {
              "outlinewidth": 0,
              "ticks": ""
             }
            },
            "type": "scatter3d"
           }
          ],
          "scattercarpet": [
           {
            "marker": {
             "colorbar": {
              "outlinewidth": 0,
              "ticks": ""
             }
            },
            "type": "scattercarpet"
           }
          ],
          "scattergeo": [
           {
            "marker": {
             "colorbar": {
              "outlinewidth": 0,
              "ticks": ""
             }
            },
            "type": "scattergeo"
           }
          ],
          "scattergl": [
           {
            "marker": {
             "colorbar": {
              "outlinewidth": 0,
              "ticks": ""
             }
            },
            "type": "scattergl"
           }
          ],
          "scattermapbox": [
           {
            "marker": {
             "colorbar": {
              "outlinewidth": 0,
              "ticks": ""
             }
            },
            "type": "scattermapbox"
           }
          ],
          "scatterpolar": [
           {
            "marker": {
             "colorbar": {
              "outlinewidth": 0,
              "ticks": ""
             }
            },
            "type": "scatterpolar"
           }
          ],
          "scatterpolargl": [
           {
            "marker": {
             "colorbar": {
              "outlinewidth": 0,
              "ticks": ""
             }
            },
            "type": "scatterpolargl"
           }
          ],
          "scatterternary": [
           {
            "marker": {
             "colorbar": {
              "outlinewidth": 0,
              "ticks": ""
             }
            },
            "type": "scatterternary"
           }
          ],
          "surface": [
           {
            "colorbar": {
             "outlinewidth": 0,
             "ticks": ""
            },
            "colorscale": [
             [
              0,
              "#0d0887"
             ],
             [
              0.1111111111111111,
              "#46039f"
             ],
             [
              0.2222222222222222,
              "#7201a8"
             ],
             [
              0.3333333333333333,
              "#9c179e"
             ],
             [
              0.4444444444444444,
              "#bd3786"
             ],
             [
              0.5555555555555556,
              "#d8576b"
             ],
             [
              0.6666666666666666,
              "#ed7953"
             ],
             [
              0.7777777777777778,
              "#fb9f3a"
             ],
             [
              0.8888888888888888,
              "#fdca26"
             ],
             [
              1,
              "#f0f921"
             ]
            ],
            "type": "surface"
           }
          ],
          "table": [
           {
            "cells": {
             "fill": {
              "color": "#EBF0F8"
             },
             "line": {
              "color": "white"
             }
            },
            "header": {
             "fill": {
              "color": "#C8D4E3"
             },
             "line": {
              "color": "white"
             }
            },
            "type": "table"
           }
          ]
         },
         "layout": {
          "annotationdefaults": {
           "arrowcolor": "#2a3f5f",
           "arrowhead": 0,
           "arrowwidth": 1
          },
          "autotypenumbers": "strict",
          "coloraxis": {
           "colorbar": {
            "outlinewidth": 0,
            "ticks": ""
           }
          },
          "colorscale": {
           "diverging": [
            [
             0,
             "#8e0152"
            ],
            [
             0.1,
             "#c51b7d"
            ],
            [
             0.2,
             "#de77ae"
            ],
            [
             0.3,
             "#f1b6da"
            ],
            [
             0.4,
             "#fde0ef"
            ],
            [
             0.5,
             "#f7f7f7"
            ],
            [
             0.6,
             "#e6f5d0"
            ],
            [
             0.7,
             "#b8e186"
            ],
            [
             0.8,
             "#7fbc41"
            ],
            [
             0.9,
             "#4d9221"
            ],
            [
             1,
             "#276419"
            ]
           ],
           "sequential": [
            [
             0,
             "#0d0887"
            ],
            [
             0.1111111111111111,
             "#46039f"
            ],
            [
             0.2222222222222222,
             "#7201a8"
            ],
            [
             0.3333333333333333,
             "#9c179e"
            ],
            [
             0.4444444444444444,
             "#bd3786"
            ],
            [
             0.5555555555555556,
             "#d8576b"
            ],
            [
             0.6666666666666666,
             "#ed7953"
            ],
            [
             0.7777777777777778,
             "#fb9f3a"
            ],
            [
             0.8888888888888888,
             "#fdca26"
            ],
            [
             1,
             "#f0f921"
            ]
           ],
           "sequentialminus": [
            [
             0,
             "#0d0887"
            ],
            [
             0.1111111111111111,
             "#46039f"
            ],
            [
             0.2222222222222222,
             "#7201a8"
            ],
            [
             0.3333333333333333,
             "#9c179e"
            ],
            [
             0.4444444444444444,
             "#bd3786"
            ],
            [
             0.5555555555555556,
             "#d8576b"
            ],
            [
             0.6666666666666666,
             "#ed7953"
            ],
            [
             0.7777777777777778,
             "#fb9f3a"
            ],
            [
             0.8888888888888888,
             "#fdca26"
            ],
            [
             1,
             "#f0f921"
            ]
           ]
          },
          "colorway": [
           "#636efa",
           "#EF553B",
           "#00cc96",
           "#ab63fa",
           "#FFA15A",
           "#19d3f3",
           "#FF6692",
           "#B6E880",
           "#FF97FF",
           "#FECB52"
          ],
          "font": {
           "color": "#2a3f5f"
          },
          "geo": {
           "bgcolor": "white",
           "lakecolor": "white",
           "landcolor": "#E5ECF6",
           "showlakes": true,
           "showland": true,
           "subunitcolor": "white"
          },
          "hoverlabel": {
           "align": "left"
          },
          "hovermode": "closest",
          "mapbox": {
           "style": "light"
          },
          "paper_bgcolor": "white",
          "plot_bgcolor": "#E5ECF6",
          "polar": {
           "angularaxis": {
            "gridcolor": "white",
            "linecolor": "white",
            "ticks": ""
           },
           "bgcolor": "#E5ECF6",
           "radialaxis": {
            "gridcolor": "white",
            "linecolor": "white",
            "ticks": ""
           }
          },
          "scene": {
           "xaxis": {
            "backgroundcolor": "#E5ECF6",
            "gridcolor": "white",
            "gridwidth": 2,
            "linecolor": "white",
            "showbackground": true,
            "ticks": "",
            "zerolinecolor": "white"
           },
           "yaxis": {
            "backgroundcolor": "#E5ECF6",
            "gridcolor": "white",
            "gridwidth": 2,
            "linecolor": "white",
            "showbackground": true,
            "ticks": "",
            "zerolinecolor": "white"
           },
           "zaxis": {
            "backgroundcolor": "#E5ECF6",
            "gridcolor": "white",
            "gridwidth": 2,
            "linecolor": "white",
            "showbackground": true,
            "ticks": "",
            "zerolinecolor": "white"
           }
          },
          "shapedefaults": {
           "line": {
            "color": "#2a3f5f"
           }
          },
          "ternary": {
           "aaxis": {
            "gridcolor": "white",
            "linecolor": "white",
            "ticks": ""
           },
           "baxis": {
            "gridcolor": "white",
            "linecolor": "white",
            "ticks": ""
           },
           "bgcolor": "#E5ECF6",
           "caxis": {
            "gridcolor": "white",
            "linecolor": "white",
            "ticks": ""
           }
          },
          "title": {
           "x": 0.05
          },
          "xaxis": {
           "automargin": true,
           "gridcolor": "white",
           "linecolor": "white",
           "ticks": "",
           "title": {
            "standoff": 15
           },
           "zerolinecolor": "white",
           "zerolinewidth": 2
          },
          "yaxis": {
           "automargin": true,
           "gridcolor": "white",
           "linecolor": "white",
           "ticks": "",
           "title": {
            "standoff": 15
           },
           "zerolinecolor": "white",
           "zerolinewidth": 2
          }
         }
        },
        "xaxis": {
         "anchor": "y",
         "domain": [
          0,
          1
         ],
         "title": {
          "text": "Inches"
         }
        },
        "yaxis": {
         "anchor": "x",
         "domain": [
          0,
          1
         ],
         "title": {
          "text": "count"
         }
        }
       }
      }
     },
     "metadata": {},
     "output_type": "display_data"
    }
   ],
   "source": [
    "px.histogram(data_frame=df,\n",
    "             x='Inches')"
   ]
  },
  {
   "cell_type": "markdown",
   "id": "5706c311",
   "metadata": {},
   "source": [
    "- What is the price Range"
   ]
  },
  {
   "cell_type": "code",
   "execution_count": 60,
   "id": "17937747",
   "metadata": {},
   "outputs": [
    {
     "data": {
      "application/vnd.plotly.v1+json": {
       "config": {
        "plotlyServerURL": "https://plot.ly"
       },
       "data": [
        {
         "alignmentgroup": "True",
         "hovertemplate": "Price=%{x}<extra></extra>",
         "legendgroup": "",
         "marker": {
          "color": "#636efa"
         },
         "name": "",
         "notched": false,
         "offsetgroup": "",
         "orientation": "h",
         "showlegend": false,
         "type": "box",
         "x": [
          856.5441984,
          574.7462784,
          367.632,
          1622.3440320000002,
          1153.1496960000002,
          255.744,
          1368.2112192,
          740.8264320000001,
          955.8432000000001,
          492.30719999999997,
          251.84390399999998,
          220.57280640000002,
          1560.0192192,
          318.976704,
          807.1280640000001,
          970.900128,
          476.3232,
          1827.29088,
          319.04064,
          625.93344,
          638.72064,
          164.95488,
          523.63584,
          421.33824,
          267.66167040000005,
          702.65664,
          511.488,
          829.8892800000001,
          572.8665599999999,
          156.63680639999998,
          127.23263999999999,
          280.67904,
          1194.9638400000001,
          638.08128,
          159.20064,
          234.64512,
          625.93344,
          312.4488384,
          561.9974400000001,
          248.71104,
          958.4006400000001,
          334.3788864,
          436.04352,
          638.72064,
          907.2518400000001,
          830.52864,
          408.55104,
          297.94176,
          537.70176,
          254.77856640000002,
          705.21408,
          245.51424,
          490.900608,
          280.67904,
          374.7864384,
          1565.7926400000001,
          265.3344,
          830.52864,
          561.9974400000001,
          382.97664000000003,
          601.6377600000001,
          441.1584,
          1267.8508800000002,
          280.48083840000004,
          146.41344,
          351.00864,
          606.75264,
          696.26304,
          610.5888,
          556.2432,
          700.0992,
          248.71104,
          606.75264,
          331.82784,
          546.6528000000001,
          338.86080000000004,
          624.65472,
          700.8408575999999,
          965.4336000000001,
          549.8496,
          255.10464000000002,
          252.54719999999998,
          862.4966400000001,
          446.91264,
          382.9702464,
          926.43264,
          1054.30464,
          446.91264,
          440.51903999999996,
          765.31392,
          764.0352,
          670.6886400000001,
          541.5379200000001,
          383.552064,
          310.0896,
          368.91072,
          798.56064,
          459.69984,
          223.13664000000003,
          413.66592,
          715.44384,
          856.7424,
          421.33824,
          265.270464,
          762.75648,
          830.52864,
          946.2528,
          806.8723200000001,
          881.6774399999999,
          894.46464,
          461.61792,
          1041.51744,
          693.06624,
          722.6877888,
          360.59904,
          714.80448,
          306.25344,
          1433.12544,
          402.15744000000007,
          812.62656,
          288.35136,
          519.1603200000001,
          177.7356864,
          892.5465600000001,
          593.3260799999999,
          408.5446464,
          287.07264000000004,
          565.1942399999999,
          365.71392000000003,
          382.33727999999996,
          631.68768,
          161.3488896,
          599.71968,
          319.04064,
          446.91264,
          418.7808,
          713.5385472,
          555.60384,
          384.89472,
          235.92384,
          702.65664,
          1287.67104,
          219.93984,
          285.79392,
          798.7268736,
          574.7846400000001,
          318.40128,
          1208.3904,
          691.78752,
          395.76384,
          402.15744000000007,
          840.7583999999999,
          670.6886400000001,
          285.79392,
          257.66208,
          514.6848,
          465.45408,
          689.86944,
          222.49728,
          1150.20864,
          232.4137536,
          678.0348864,
          546.0134400000001,
          482.07744,
          862.4966400000001,
          446.91264,
          197.56224,
          312.64704,
          590.12928,
          293.46624,
          287.07264000000004,
          1789.56864,
          519.79968,
          958.4006400000001,
          670.6886400000001,
          894.46464,
          1182.1766400000001,
          507.01248000000004,
          766.5926400000001,
          990.36864,
          1532.54592,
          498.06144000000006,
          632.32704,
          693.7056,
          166.2336,
          639.296064,
          446.27328000000006,
          536.42304,
          584.37504,
          3899.45664,
          613.1462399999999,
          881.6774399999999,
          668.1312,
          1179.6192,
          315.20448,
          474.40512,
          1118.24064,
          1953.2448,
          893.82528,
          280.67904,
          1246.11264,
          926.43264,
          498.06144000000006,
          899.5795200000001,
          223.13664000000003,
          351.00864,
          958.4006400000001,
          595.8067968,
          376.58304,
          659.18016,
          734.62464,
          817.74144,
          433.070496,
          574.7846400000001,
          871.44768,
          507.65184,
          1570.4855424,
          531.94752,
          549.2166336,
          491.66784,
          569.66976,
          811.3478400000001,
          255.09824640000002,
          210.98880000000003,
          958.4006400000001,
          549.21024,
          440.51903999999996,
          574.7846400000001,
          249.3504,
          367.632,
          2487.1104,
          540.89856,
          376.58304,
          732.0672,
          568.39104,
          561.9974400000001,
          689.86944,
          629.7696000000001,
          357.40224,
          1917.44064,
          431.568,
          1304.2944,
          523.63584,
          1150.20864,
          299.85984,
          1182.1766400000001,
          448.83072,
          606.75264,
          285.090624,
          677.08224,
          1597.76064,
          1086.2726400000001,
          730.14912,
          283.87584,
          461.61792,
          420.05952,
          361.2384,
          510.84864000000005,
          958.4006400000001,
          650.86848,
          562.6368,
          1252.442304,
          990.36864,
          469.97435520000005,
          1597.76064,
          519.1603200000001,
          455.9084352,
          702.65664,
          476.3232,
          312.64704,
          542.81664,
          549.21024,
          273.64608,
          530.02944,
          370.18944,
          608.03136,
          421.33824,
          701.37792,
          624.65472,
          753.8054400000001,
          421.3446336,
          127.23263999999999,
          758.9203200000001,
          312.64704,
          1169.38944,
          472.48704,
          830.52864,
          625.93344,
          1844.4640896,
          319.04064,
          938.58048,
          325.43424,
          1356.7219200000002,
          414.94464000000005,
          351.00864,
          808.7904,
          230.16320639999998,
          1262.736,
          666.85248,
          523.63584,
          299.85984,
          638.72064,
          1597.76064,
          1342.01664,
          299.85984,
          175.824,
          539.61984,
          1565.7926400000001,
          294.041664,
          626.5728,
          310.0896,
          826.0531199999999,
          376.58304,
          699.45984,
          576.70272,
          421.33824,
          186.69312,
          351.00864,
          671.264064,
          853.5456,
          1687.27104,
          766.5926400000001,
          602.91648,
          852.90624,
          287.07264000000004,
          638.72064,
          810.7084799999999,
          731.4278400000001,
          175.8176064,
          730.62864,
          175.760064,
          574.7846400000001,
          457.78176,
          1342.01664,
          1009.54944,
          721.83744,
          178.38144000000003,
          1028.0653056,
          239.76,
          423.89568,
          833.7254399999999,
          900.85824,
          1111.3803071999998,
          897.02208,
          620.754624,
          205.8675264,
          638.72064,
          356.36008319999996,
          912.36672,
          280.67904,
          604.1952,
          459.69984,
          408.55104,
          319.04064,
          248.71104,
          693.7056,
          517.2422399999999,
          574.7846400000001,
          1118.88,
          702.65664,
          272.36736,
          1405.95264,
          312.64704,
          555.6102336,
          312.64064640000004,
          353.56608,
          197.56224,
          182.85696000000002,
          540.89856,
          761.4777600000001,
          257.98176,
          1058.1408,
          702.65664,
          1118.1767040000002,
          1459.01952,
          351.00864,
          875.28384,
          1365.0336,
          1604.1542399999998,
          664.29504,
          1017.22176,
          443.7094464,
          862.4966400000001,
          497.9783232,
          319.04064,
          786.1314816,
          599.71968,
          1733.9443199999998,
          1678.32,
          195.64416,
          977.5814399999999,
          731.74752,
          561.9974400000001,
          1437.92064,
          1197.5212800000002,
          1116.96192,
          1074.1248,
          261.49824,
          194.653152,
          1230.768,
          1242.27648,
          299.85984,
          504.4614336,
          593.3260799999999,
          382.912704,
          440.51903999999996,
          959.04,
          345.222432,
          777.0653568,
          1214.14464,
          287.07264000000004,
          912.36672,
          381.69792,
          1789.56864,
          741.01824,
          730.404864,
          702.65664,
          1278.0806400000001,
          191.16863999999998,
          171.98784,
          645.7536,
          382.97664000000003,
          1563.2352,
          1565.7926400000001,
          1083.7152,
          221.85792,
          1405.95264,
          1522.9555200000002,
          357.40224,
          331.82784,
          478.88064,
          913.64544,
          223.13664000000003,
          702.65664,
          753.8054400000001,
          282.469248,
          1274.2444799999998,
          657.0958464,
          1655.3030400000002,
          376.58304,
          1262.736,
          980.7782400000001,
          859.9392000000001,
          625.93344,
          306.25344,
          1308.13056,
          632.32704,
          1150.20864,
          409.12646400000006,
          347.81184,
          278.1216,
          478.88064,
          510.84864000000005,
          1336.2624,
          194.36544,
          299.85984,
          485.27423999999996,
          1086.2726400000001,
          1187.9308800000001,
          1278.0806400000001,
          737.82144,
          815.184,
          1177.605216,
          830.52864,
          473.1264,
          1539.57888,
          872.08704,
          1069.00992,
          806.8723200000001,
          375.04857599999997,
          464.17536,
          159.136704,
          361.2384,
          670.6886400000001,
          1494.82368,
          1214.14464,
          1149.5692800000002,
          1246.752,
          647.0259264,
          1789.56864,
          863.136,
          370.18944,
          811.3478400000001,
          702.65664,
          574.720704,
          1118.24064,
          606.75264,
          582.45696,
          217.38240000000002,
          395.7574464,
          1022.33664,
          191.16863999999998,
          169.43040000000002,
          606.75264,
          782.57664,
          391.92768,
          845.87328,
          734.62464,
          574.7846400000001,
          408.55104,
          534.50496,
          779.5332864,
          895.0720319999999,
          156.6432,
          333.40705920000005,
          1897.62048,
          568.39104,
          961.59744,
          894.46464,
          894.46464,
          818.2081728,
          440.51903999999996,
          568.39104,
          856.7424,
          510.84864000000005,
          293.46624,
          374.0256,
          880.39872,
          1926.2446272000002,
          549.8496,
          830.52864,
          235.92384,
          1054.30464,
          875.28384,
          509.83205760000004,
          255.09824640000002,
          1150.20864,
          549.21024,
          894.46464,
          470.4858432,
          732.0672,
          510.20928000000004,
          223.13664000000003,
          451.06848,
          501.89760000000007,
          295.60809600000005,
          253.82592,
          1105.45344,
          319.04064,
          714.1587264,
          1725.63264,
          347.90774400000004,
          818.3807999999999,
          143.21663999999998,
          163.0368,
          606.75264,
          363.731904,
          395.060544,
          223.13664000000003,
          402.7968,
          1256.3424,
          1917.44064,
          536.42304,
          1022.33664,
          613.1462399999999,
          219.93984,
          632.9664,
          1189.8425664000001,
          248.71104,
          414.94464000000005,
          530.6688,
          437.96160000000003,
          159.20064,
          1192.4064,
          1702.61568,
          1744.81344,
          478.88703360000005,
          248.71104,
          644.8073472,
          459.69984,
          982.9456704,
          188.6112,
          1501.85664,
          957.76128,
          1069.64928,
          389.37024,
          1131.6672,
          472.48704,
          606.75264,
          385.53408,
          1086.2726400000001,
          338.22144,
          293.46624,
          1294.704,
          942.41664,
          1067.7312000000002,
          1127.19168,
          779.3798400000001,
          427.3993728,
          210.34944,
          1405.95264,
          297.30240000000003,
          1469.8886400000001,
          894.46464,
          360.59904,
          830.52864,
          223.13664000000003,
          3132.22464,
          562.0038336,
          283.81190399999997,
          229.53024000000002,
          555.60384,
          746.77248,
          888.07104,
          1449.9789696,
          242.31744,
          718.6406400000001,
          936.6623999999999,
          496.14336,
          510.84864000000005,
          595.88352,
          152.80704,
          299.22048,
          408.5574336,
          1214.784,
          945.61344,
          530.02944,
          370.18944,
          255.10464000000002,
          579.6565632,
          1194.9638400000001,
          159.20064,
          1123.6240512,
          1533.82464,
          709.05024,
          333.042624,
          1566.432,
          747.41184,
          287.712,
          175.18464,
          587.57184,
          1661.6966400000001,
          775.54368,
          1012.7462400000001,
          1789.56864,
          453.30623999999995,
          927.0080640000001,
          761.989248,
          233.302464,
          680.27904,
          587.57184,
          725.6736000000001,
          764.6745599999999,
          2012.3024831999999,
          785.77344,
          267.89184,
          342.0576,
          344.61503999999996,
          950.5812672,
          318.40128,
          476.3232,
          804.3148800000001,
          263.41632,
          1194.228576,
          522.964512,
          661.0982399999999,
          223.13664000000003,
          446.91264,
          827.33184,
          725.6736000000001,
          316.4832,
          1469.8886400000001,
          830.52864,
          638.017344,
          267.89184,
          1311.32736,
          446.91264,
          958.4006400000001,
          1798.9992000000002,
          391.6783296,
          348.87957120000004,
          363.79584,
          203.31648,
          239.76,
          446.91264,
          1219.8924864,
          1655.9424000000001,
          622.0972800000001,
          171.98784,
          1118.24064,
          427.73184000000003,
          1200.07872,
          523.63584,
          255.10464000000002,
          274.28544,
          397.330272,
          287.712,
          508.2912,
          638.72064,
          1186.0128,
          761.4777600000001,
          418.7871936,
          798.56064,
          696.26304,
          464.17536,
          190.52928,
          912.1493376,
          547.9762752,
          753.8054400000001,
          190.52928,
          169.43040000000002,
          767.232,
          1078.3701504,
          534.8885760000001,
          958.4006400000001,
          2339.673984,
          862.1641728000001,
          313.222464,
          414.94464000000005,
          376.9155072,
          312.64704,
          1237.1616000000001,
          414.94464000000005,
          415.584,
          357.40224,
          613.7856,
          498.06144000000006,
          1546.61184,
          421.33824,
          1339.1267328000001,
          262.649088,
          771.70752,
          425.1744,
          981.4176000000001,
          638.72064,
          2109.2486400000003,
          210.98880000000003,
          1054.30464,
          720.3733056,
          2806.15104,
          303.696,
          1214.784,
          370.18944,
          543.392064,
          766.5926400000001,
          702.65664,
          998.04096,
          1834.3174463999999,
          382.97664000000003,
          670.0492800000001,
          1188.57024,
          996.76224,
          721.83744,
          542.81664,
          418.7808,
          300.7165824,
          702.65664,
          1022.33664,
          190.52928,
          755.2567872000001,
          1150.20864,
          652.1472,
          702.65664,
          536.42304,
          1515.2832,
          406.63296,
          1853.50464,
          372.043584,
          2294.535168,
          1502.496,
          1127.83104,
          210.34944,
          1469.8886400000001,
          1209.02976,
          696.26304,
          638.72064,
          1469.8886400000001,
          629.7696000000001,
          856.10304,
          129.726144,
          1259.5392000000002,
          613.1462399999999,
          744.8543999999999,
          1489.7087999999999,
          191.16863999999998,
          517.8816,
          862.4966400000001,
          472.48704,
          1320.2144640000001,
          702.65664,
          958.4006400000001,
          1118.24064,
          475.68384000000003,
          888.07104,
          498.7008,
          402.15744000000007,
          1073.48544,
          389.37024,
          1118.24064,
          1544.0544,
          958.4006400000001,
          614.42496,
          504.97292160000006,
          1188.57024,
          1150.20864,
          246.15359999999998,
          1601.6095872,
          482.71680000000003,
          313.222464,
          696.9024,
          1597.76064,
          766.5926400000001,
          1198.8,
          319.04064,
          868.25088,
          374.0256,
          226.97280000000003,
          395.76384,
          3515.84064,
          1342.01664,
          331.82784,
          758.28096,
          1054.944,
          1773.9874368,
          1546.61184,
          427.73184000000003,
          207.792,
          377.2224,
          1150.20864,
          1964.6829504000002,
          581.8176000000001,
          456.4966464,
          1195.6032,
          472.48704,
          393.20640000000003,
          655.98336,
          1455.82272,
          938.58048,
          191.16863999999998,
          1214.14464,
          553.0464,
          1216.70208,
          503.17632000000003,
          604.1952,
          287.07264000000004,
          1636.12224,
          414.94464000000005,
          299.85984,
          543.8779776,
          862.4966400000001,
          821.5776000000001,
          650.2291200000001,
          1432.1664,
          581.8176000000001,
          700.0992,
          1246.752,
          576.70272,
          1136.78208,
          674.5248,
          306.25344,
          887.43168,
          469.92960000000005,
          1182.1766400000001,
          1080.5184,
          255.09824640000002,
          597.8016,
          583.416,
          536.42304,
          1086.912,
          437.833728,
          222.49728,
          427.73184000000003,
          235.92384,
          1150.20864,
          291.356352,
          875.8592639999999,
          189.88992,
          242.31744,
          808.7904,
          894.46464,
          1086.2726400000001,
          1150.20864,
          1693.66464,
          943.056,
          593.9654400000001,
          575.424,
          392.56703999999996,
          597.8016,
          1287.0956159999998,
          817.74144,
          1054.30464,
          1310.04864,
          1255.0572864,
          1342.01664,
          948.1708800000001,
          229.53024000000002,
          504.45504,
          1214.14464,
          770.4288,
          1982.016,
          504.45504,
          651.5014464,
          319.04064,
          563.27616,
          613.7856,
          1022.33664,
          862.4966400000001,
          716.0256576,
          437.9552064,
          829.2435264000001,
          1166.832,
          466.668864,
          1054.944,
          744.8543999999999,
          452.7052416,
          734.62464,
          197.56224,
          1009.54944,
          184.711104,
          1150.20864,
          706.4928,
          1067.09184,
          357.146496,
          766.5926400000001,
          1763.3548799999999,
          894.46464,
          338.86080000000004,
          395.76384,
          715.44384,
          830.52864,
          638.72064,
          941.2657920000001,
          437.96160000000003,
          421.33824,
          223.13664000000003,
          1437.92064,
          1134.864,
          933.4656000000001,
          741.01824,
          952.0006463999999,
          2016.54144,
          1214.14464,
          495.504,
          810.7084799999999,
          248.71104,
          981.4176000000001,
          1125.2736,
          645.11424,
          1144.4544,
          541.2182399999999,
          297.6988032,
          527.472,
          437.96160000000003,
          2013.34464,
          444.35519999999997,
          1214.14464,
          1255.0508928,
          1790.208,
          754.4448,
          1310.624064,
          625.93344,
          640.63872,
          1150.20864,
          1118.24064,
          830.52864,
          764.0352,
          351.00864,
          414.94464000000005,
          585.0144,
          382.97664000000003,
          515.32416,
          760.19904,
          478.88064,
          715.44384,
          1219.8988800000002,
          319.04064,
          173.0236032,
          862.4966400000001,
          735.264,
          862.4966400000001,
          242.95680000000002,
          1150.20864,
          1335.62304,
          805.5936,
          760.19904,
          349.72992,
          498.06144000000006,
          764.0352,
          703.2896064,
          770.4288,
          926.43264,
          670.8548736,
          437.32223999999997,
          606.75264,
          983.97504,
          1016.5824,
          1206.6065856,
          511.488,
          773.6256000000001,
          492.3008064,
          1897.62048,
          952.6464,
          1425.13344,
          508.9241664,
          1016.5824,
          734.62464,
          757.9165248,
          669.0518784,
          996.76224,
          760.19904,
          677.7216000000001,
          1038.3206400000001,
          690.5088000000001,
          622.0972800000001,
          261.49824,
          761.989248,
          764.0352,
          785.7670464,
          862.4966400000001,
          474.40512,
          1102.896,
          679.607712,
          646.0796736000001,
          541.5379200000001,
          134.77708800000002,
          911.088,
          671.072256,
          639.36,
          1344.7914624,
          939.2198400000001,
          988.2203904,
          1464.1280064,
          184.071744,
          1675.1232,
          625.93344,
          699.45984,
          625.93344,
          1441.11744,
          450.84470400000004,
          319.04064,
          287.07264000000004,
          830.52864,
          1162.99584,
          638.08128,
          357.40224,
          632.9600064000001,
          1233.32544,
          932.1868800000001,
          2541.456,
          510.21567360000006,
          849.70944,
          831.168,
          308.1587328,
          766.5926400000001,
          766.5926400000001,
          696.9024,
          1095.5369664,
          421.33824,
          624.65472,
          1597.76064,
          345.25440000000003,
          600.9984,
          894.46464,
          2071.5264,
          413.1991872,
          1310.04864,
          479.52,
          659.1737664,
          955.8432000000001,
          766.5926400000001,
          393.20640000000003,
          247.43232,
          251.5817664,
          221.2121664,
          1022.33664,
          523.2202560000001,
          1022.33664,
          510.84864000000005,
          408.42316800000003,
          1022.33664,
          319.68,
          1469.8886400000001,
          725.769504,
          746.1139392,
          133.62624,
          1853.50464,
          766.5926400000001,
          903.479616,
          966.1944384000001,
          554.3251200000001,
          254.46527999999998,
          856.10304,
          1086.2726400000001,
          491.763744,
          274.28544,
          1258.89984,
          351.00864,
          881.6774399999999,
          1758.2336064,
          657.9014400000001,
          1423.21536,
          839.1536064000001,
          125.31455999999999,
          1080.5184,
          967.35168,
          334.7880768,
          278.1216,
          1067.09184,
          306.25344,
          1211.5872000000002,
          632.32704,
          721.83744,
          402.15744000000007,
          1310.9309568,
          177.74208000000002,
          480.79872,
          393.84576000000004,
          702.65664,
          2525.088384,
          501.25823999999994,
          1533.82464,
          1388.5108992,
          1560.0384,
          730.660608,
          1041.51744,
          1425.13344,
          1150.20864,
          1214.14464,
          1468.577952,
          645.689664,
          1009.54944,
          1495.46304,
          216.74303999999998,
          189.88992,
          382.97664000000003,
          766.5926400000001,
          1438.9947648,
          306.18311040000003,
          954.4366080000001,
          1469.8886400000001,
          504.12896639999997,
          1304.93376,
          958.4006400000001,
          1131.0278400000002,
          574.7846400000001,
          293.46624,
          304.9683264,
          957.76128,
          888.7103999999999,
          299.22048,
          159.20064,
          536.42304,
          434.12544,
          741.01824,
          235.92384,
          254.46527999999998,
          453.30623999999995,
          491.66784,
          527.472,
          834.3648,
          1376.7786432,
          415.584,
          1046.63232,
          531.30816,
          572.2335936,
          212.90688000000003,
          510.84864000000005,
          581.17824,
          753.8054400000001,
          441.79776000000004,
          702.65664,
          1661.6966400000001,
          523.63584,
          310.0896,
          743.57568,
          766.5926400000001,
          848.43072,
          235.28448,
          1374.624,
          173.90592,
          1309.9847040000002,
          319.04064,
          402.15744000000007,
          1713.4848,
          747.41184,
          568.39104,
          370.18944,
          191.16863999999998,
          402.15744000000007,
          1565.7926400000001,
          817.74144,
          1118.24064,
          1246.1062464,
          638.72064,
          1246.11264,
          111.24864,
          382.33727999999996,
          344.61503999999996,
          813.26592,
          734.62464,
          977.5814399999999,
          943.7656896,
          338.22144,
          1095.4602432000001,
          325.43424,
          197.56224,
          944.33472,
          333.6564096,
          657.9014400000001,
          734.62464,
          1054.944,
          2237.12064,
          299.8662336,
          1021.6972800000001,
          613.1462399999999,
          305.61408,
          1405.4347584000002,
          471.20832,
          747.41184,
          958.4006400000001,
          382.0623552,
          818.3807999999999,
          231.32044800000003,
          1150.20864,
          703.2896064,
          559.44,
          1486.512,
          366.35328,
          1159.15968,
          207.15264000000002,
          255.10464000000002,
          363.79584,
          685.3939200000001,
          283.8694464,
          216.74303999999998,
          1214.784,
          313.2864,
          572.2272,
          785.77344,
          532.5932736,
          466.09344000000004,
          293.46624,
          184.77504000000002,
          242.31744,
          574.7846400000001,
          351.6416064,
          515.3177664,
          133.62624,
          460.5437952,
          407.91168,
          958.4006400000001,
          146.41344,
          488.47104
         ],
         "x0": " ",
         "xaxis": "x",
         "y0": " ",
         "yaxis": "y"
        }
       ],
       "layout": {
        "boxmode": "group",
        "legend": {
         "tracegroupgap": 0
        },
        "margin": {
         "t": 60
        },
        "template": {
         "data": {
          "bar": [
           {
            "error_x": {
             "color": "#2a3f5f"
            },
            "error_y": {
             "color": "#2a3f5f"
            },
            "marker": {
             "line": {
              "color": "#E5ECF6",
              "width": 0.5
             },
             "pattern": {
              "fillmode": "overlay",
              "size": 10,
              "solidity": 0.2
             }
            },
            "type": "bar"
           }
          ],
          "barpolar": [
           {
            "marker": {
             "line": {
              "color": "#E5ECF6",
              "width": 0.5
             },
             "pattern": {
              "fillmode": "overlay",
              "size": 10,
              "solidity": 0.2
             }
            },
            "type": "barpolar"
           }
          ],
          "carpet": [
           {
            "aaxis": {
             "endlinecolor": "#2a3f5f",
             "gridcolor": "white",
             "linecolor": "white",
             "minorgridcolor": "white",
             "startlinecolor": "#2a3f5f"
            },
            "baxis": {
             "endlinecolor": "#2a3f5f",
             "gridcolor": "white",
             "linecolor": "white",
             "minorgridcolor": "white",
             "startlinecolor": "#2a3f5f"
            },
            "type": "carpet"
           }
          ],
          "choropleth": [
           {
            "colorbar": {
             "outlinewidth": 0,
             "ticks": ""
            },
            "type": "choropleth"
           }
          ],
          "contour": [
           {
            "colorbar": {
             "outlinewidth": 0,
             "ticks": ""
            },
            "colorscale": [
             [
              0,
              "#0d0887"
             ],
             [
              0.1111111111111111,
              "#46039f"
             ],
             [
              0.2222222222222222,
              "#7201a8"
             ],
             [
              0.3333333333333333,
              "#9c179e"
             ],
             [
              0.4444444444444444,
              "#bd3786"
             ],
             [
              0.5555555555555556,
              "#d8576b"
             ],
             [
              0.6666666666666666,
              "#ed7953"
             ],
             [
              0.7777777777777778,
              "#fb9f3a"
             ],
             [
              0.8888888888888888,
              "#fdca26"
             ],
             [
              1,
              "#f0f921"
             ]
            ],
            "type": "contour"
           }
          ],
          "contourcarpet": [
           {
            "colorbar": {
             "outlinewidth": 0,
             "ticks": ""
            },
            "type": "contourcarpet"
           }
          ],
          "heatmap": [
           {
            "colorbar": {
             "outlinewidth": 0,
             "ticks": ""
            },
            "colorscale": [
             [
              0,
              "#0d0887"
             ],
             [
              0.1111111111111111,
              "#46039f"
             ],
             [
              0.2222222222222222,
              "#7201a8"
             ],
             [
              0.3333333333333333,
              "#9c179e"
             ],
             [
              0.4444444444444444,
              "#bd3786"
             ],
             [
              0.5555555555555556,
              "#d8576b"
             ],
             [
              0.6666666666666666,
              "#ed7953"
             ],
             [
              0.7777777777777778,
              "#fb9f3a"
             ],
             [
              0.8888888888888888,
              "#fdca26"
             ],
             [
              1,
              "#f0f921"
             ]
            ],
            "type": "heatmap"
           }
          ],
          "heatmapgl": [
           {
            "colorbar": {
             "outlinewidth": 0,
             "ticks": ""
            },
            "colorscale": [
             [
              0,
              "#0d0887"
             ],
             [
              0.1111111111111111,
              "#46039f"
             ],
             [
              0.2222222222222222,
              "#7201a8"
             ],
             [
              0.3333333333333333,
              "#9c179e"
             ],
             [
              0.4444444444444444,
              "#bd3786"
             ],
             [
              0.5555555555555556,
              "#d8576b"
             ],
             [
              0.6666666666666666,
              "#ed7953"
             ],
             [
              0.7777777777777778,
              "#fb9f3a"
             ],
             [
              0.8888888888888888,
              "#fdca26"
             ],
             [
              1,
              "#f0f921"
             ]
            ],
            "type": "heatmapgl"
           }
          ],
          "histogram": [
           {
            "marker": {
             "pattern": {
              "fillmode": "overlay",
              "size": 10,
              "solidity": 0.2
             }
            },
            "type": "histogram"
           }
          ],
          "histogram2d": [
           {
            "colorbar": {
             "outlinewidth": 0,
             "ticks": ""
            },
            "colorscale": [
             [
              0,
              "#0d0887"
             ],
             [
              0.1111111111111111,
              "#46039f"
             ],
             [
              0.2222222222222222,
              "#7201a8"
             ],
             [
              0.3333333333333333,
              "#9c179e"
             ],
             [
              0.4444444444444444,
              "#bd3786"
             ],
             [
              0.5555555555555556,
              "#d8576b"
             ],
             [
              0.6666666666666666,
              "#ed7953"
             ],
             [
              0.7777777777777778,
              "#fb9f3a"
             ],
             [
              0.8888888888888888,
              "#fdca26"
             ],
             [
              1,
              "#f0f921"
             ]
            ],
            "type": "histogram2d"
           }
          ],
          "histogram2dcontour": [
           {
            "colorbar": {
             "outlinewidth": 0,
             "ticks": ""
            },
            "colorscale": [
             [
              0,
              "#0d0887"
             ],
             [
              0.1111111111111111,
              "#46039f"
             ],
             [
              0.2222222222222222,
              "#7201a8"
             ],
             [
              0.3333333333333333,
              "#9c179e"
             ],
             [
              0.4444444444444444,
              "#bd3786"
             ],
             [
              0.5555555555555556,
              "#d8576b"
             ],
             [
              0.6666666666666666,
              "#ed7953"
             ],
             [
              0.7777777777777778,
              "#fb9f3a"
             ],
             [
              0.8888888888888888,
              "#fdca26"
             ],
             [
              1,
              "#f0f921"
             ]
            ],
            "type": "histogram2dcontour"
           }
          ],
          "mesh3d": [
           {
            "colorbar": {
             "outlinewidth": 0,
             "ticks": ""
            },
            "type": "mesh3d"
           }
          ],
          "parcoords": [
           {
            "line": {
             "colorbar": {
              "outlinewidth": 0,
              "ticks": ""
             }
            },
            "type": "parcoords"
           }
          ],
          "pie": [
           {
            "automargin": true,
            "type": "pie"
           }
          ],
          "scatter": [
           {
            "fillpattern": {
             "fillmode": "overlay",
             "size": 10,
             "solidity": 0.2
            },
            "type": "scatter"
           }
          ],
          "scatter3d": [
           {
            "line": {
             "colorbar": {
              "outlinewidth": 0,
              "ticks": ""
             }
            },
            "marker": {
             "colorbar": {
              "outlinewidth": 0,
              "ticks": ""
             }
            },
            "type": "scatter3d"
           }
          ],
          "scattercarpet": [
           {
            "marker": {
             "colorbar": {
              "outlinewidth": 0,
              "ticks": ""
             }
            },
            "type": "scattercarpet"
           }
          ],
          "scattergeo": [
           {
            "marker": {
             "colorbar": {
              "outlinewidth": 0,
              "ticks": ""
             }
            },
            "type": "scattergeo"
           }
          ],
          "scattergl": [
           {
            "marker": {
             "colorbar": {
              "outlinewidth": 0,
              "ticks": ""
             }
            },
            "type": "scattergl"
           }
          ],
          "scattermapbox": [
           {
            "marker": {
             "colorbar": {
              "outlinewidth": 0,
              "ticks": ""
             }
            },
            "type": "scattermapbox"
           }
          ],
          "scatterpolar": [
           {
            "marker": {
             "colorbar": {
              "outlinewidth": 0,
              "ticks": ""
             }
            },
            "type": "scatterpolar"
           }
          ],
          "scatterpolargl": [
           {
            "marker": {
             "colorbar": {
              "outlinewidth": 0,
              "ticks": ""
             }
            },
            "type": "scatterpolargl"
           }
          ],
          "scatterternary": [
           {
            "marker": {
             "colorbar": {
              "outlinewidth": 0,
              "ticks": ""
             }
            },
            "type": "scatterternary"
           }
          ],
          "surface": [
           {
            "colorbar": {
             "outlinewidth": 0,
             "ticks": ""
            },
            "colorscale": [
             [
              0,
              "#0d0887"
             ],
             [
              0.1111111111111111,
              "#46039f"
             ],
             [
              0.2222222222222222,
              "#7201a8"
             ],
             [
              0.3333333333333333,
              "#9c179e"
             ],
             [
              0.4444444444444444,
              "#bd3786"
             ],
             [
              0.5555555555555556,
              "#d8576b"
             ],
             [
              0.6666666666666666,
              "#ed7953"
             ],
             [
              0.7777777777777778,
              "#fb9f3a"
             ],
             [
              0.8888888888888888,
              "#fdca26"
             ],
             [
              1,
              "#f0f921"
             ]
            ],
            "type": "surface"
           }
          ],
          "table": [
           {
            "cells": {
             "fill": {
              "color": "#EBF0F8"
             },
             "line": {
              "color": "white"
             }
            },
            "header": {
             "fill": {
              "color": "#C8D4E3"
             },
             "line": {
              "color": "white"
             }
            },
            "type": "table"
           }
          ]
         },
         "layout": {
          "annotationdefaults": {
           "arrowcolor": "#2a3f5f",
           "arrowhead": 0,
           "arrowwidth": 1
          },
          "autotypenumbers": "strict",
          "coloraxis": {
           "colorbar": {
            "outlinewidth": 0,
            "ticks": ""
           }
          },
          "colorscale": {
           "diverging": [
            [
             0,
             "#8e0152"
            ],
            [
             0.1,
             "#c51b7d"
            ],
            [
             0.2,
             "#de77ae"
            ],
            [
             0.3,
             "#f1b6da"
            ],
            [
             0.4,
             "#fde0ef"
            ],
            [
             0.5,
             "#f7f7f7"
            ],
            [
             0.6,
             "#e6f5d0"
            ],
            [
             0.7,
             "#b8e186"
            ],
            [
             0.8,
             "#7fbc41"
            ],
            [
             0.9,
             "#4d9221"
            ],
            [
             1,
             "#276419"
            ]
           ],
           "sequential": [
            [
             0,
             "#0d0887"
            ],
            [
             0.1111111111111111,
             "#46039f"
            ],
            [
             0.2222222222222222,
             "#7201a8"
            ],
            [
             0.3333333333333333,
             "#9c179e"
            ],
            [
             0.4444444444444444,
             "#bd3786"
            ],
            [
             0.5555555555555556,
             "#d8576b"
            ],
            [
             0.6666666666666666,
             "#ed7953"
            ],
            [
             0.7777777777777778,
             "#fb9f3a"
            ],
            [
             0.8888888888888888,
             "#fdca26"
            ],
            [
             1,
             "#f0f921"
            ]
           ],
           "sequentialminus": [
            [
             0,
             "#0d0887"
            ],
            [
             0.1111111111111111,
             "#46039f"
            ],
            [
             0.2222222222222222,
             "#7201a8"
            ],
            [
             0.3333333333333333,
             "#9c179e"
            ],
            [
             0.4444444444444444,
             "#bd3786"
            ],
            [
             0.5555555555555556,
             "#d8576b"
            ],
            [
             0.6666666666666666,
             "#ed7953"
            ],
            [
             0.7777777777777778,
             "#fb9f3a"
            ],
            [
             0.8888888888888888,
             "#fdca26"
            ],
            [
             1,
             "#f0f921"
            ]
           ]
          },
          "colorway": [
           "#636efa",
           "#EF553B",
           "#00cc96",
           "#ab63fa",
           "#FFA15A",
           "#19d3f3",
           "#FF6692",
           "#B6E880",
           "#FF97FF",
           "#FECB52"
          ],
          "font": {
           "color": "#2a3f5f"
          },
          "geo": {
           "bgcolor": "white",
           "lakecolor": "white",
           "landcolor": "#E5ECF6",
           "showlakes": true,
           "showland": true,
           "subunitcolor": "white"
          },
          "hoverlabel": {
           "align": "left"
          },
          "hovermode": "closest",
          "mapbox": {
           "style": "light"
          },
          "paper_bgcolor": "white",
          "plot_bgcolor": "#E5ECF6",
          "polar": {
           "angularaxis": {
            "gridcolor": "white",
            "linecolor": "white",
            "ticks": ""
           },
           "bgcolor": "#E5ECF6",
           "radialaxis": {
            "gridcolor": "white",
            "linecolor": "white",
            "ticks": ""
           }
          },
          "scene": {
           "xaxis": {
            "backgroundcolor": "#E5ECF6",
            "gridcolor": "white",
            "gridwidth": 2,
            "linecolor": "white",
            "showbackground": true,
            "ticks": "",
            "zerolinecolor": "white"
           },
           "yaxis": {
            "backgroundcolor": "#E5ECF6",
            "gridcolor": "white",
            "gridwidth": 2,
            "linecolor": "white",
            "showbackground": true,
            "ticks": "",
            "zerolinecolor": "white"
           },
           "zaxis": {
            "backgroundcolor": "#E5ECF6",
            "gridcolor": "white",
            "gridwidth": 2,
            "linecolor": "white",
            "showbackground": true,
            "ticks": "",
            "zerolinecolor": "white"
           }
          },
          "shapedefaults": {
           "line": {
            "color": "#2a3f5f"
           }
          },
          "ternary": {
           "aaxis": {
            "gridcolor": "white",
            "linecolor": "white",
            "ticks": ""
           },
           "baxis": {
            "gridcolor": "white",
            "linecolor": "white",
            "ticks": ""
           },
           "bgcolor": "#E5ECF6",
           "caxis": {
            "gridcolor": "white",
            "linecolor": "white",
            "ticks": ""
           }
          },
          "title": {
           "x": 0.05
          },
          "xaxis": {
           "automargin": true,
           "gridcolor": "white",
           "linecolor": "white",
           "ticks": "",
           "title": {
            "standoff": 15
           },
           "zerolinecolor": "white",
           "zerolinewidth": 2
          },
          "yaxis": {
           "automargin": true,
           "gridcolor": "white",
           "linecolor": "white",
           "ticks": "",
           "title": {
            "standoff": 15
           },
           "zerolinecolor": "white",
           "zerolinewidth": 2
          }
         }
        },
        "xaxis": {
         "anchor": "y",
         "domain": [
          0,
          1
         ],
         "title": {
          "text": "Price"
         }
        },
        "yaxis": {
         "anchor": "x",
         "domain": [
          0,
          1
         ]
        }
       }
      }
     },
     "metadata": {},
     "output_type": "display_data"
    }
   ],
   "source": [
    "px.box(data_frame=df,\n",
    "             x='Price')"
   ]
  },
  {
   "cell_type": "markdown",
   "id": "adeae237",
   "metadata": {},
   "source": [
    "- Main Memory Storage Type"
   ]
  },
  {
   "cell_type": "code",
   "execution_count": 61,
   "id": "131c0f14",
   "metadata": {},
   "outputs": [
    {
     "data": {
      "application/vnd.plotly.v1+json": {
       "config": {
        "plotlyServerURL": "https://plot.ly"
       },
       "data": [
        {
         "domain": {
          "x": [
           0,
           1
          ],
          "y": [
           0,
           1
          ]
         },
         "hole": 0.5,
         "hovertemplate": "label=%{label}<br>value=%{value}<extra></extra>",
         "labels": [
          "FlashStorage",
          "HDD",
          "Hybrid",
          "SSD"
         ],
         "legendgroup": "",
         "name": "",
         "showlegend": true,
         "type": "pie",
         "values": [
          68,
          350,
          8,
          816
         ]
        }
       ],
       "layout": {
        "legend": {
         "tracegroupgap": 0
        },
        "template": {
         "data": {
          "bar": [
           {
            "error_x": {
             "color": "#2a3f5f"
            },
            "error_y": {
             "color": "#2a3f5f"
            },
            "marker": {
             "line": {
              "color": "#E5ECF6",
              "width": 0.5
             },
             "pattern": {
              "fillmode": "overlay",
              "size": 10,
              "solidity": 0.2
             }
            },
            "type": "bar"
           }
          ],
          "barpolar": [
           {
            "marker": {
             "line": {
              "color": "#E5ECF6",
              "width": 0.5
             },
             "pattern": {
              "fillmode": "overlay",
              "size": 10,
              "solidity": 0.2
             }
            },
            "type": "barpolar"
           }
          ],
          "carpet": [
           {
            "aaxis": {
             "endlinecolor": "#2a3f5f",
             "gridcolor": "white",
             "linecolor": "white",
             "minorgridcolor": "white",
             "startlinecolor": "#2a3f5f"
            },
            "baxis": {
             "endlinecolor": "#2a3f5f",
             "gridcolor": "white",
             "linecolor": "white",
             "minorgridcolor": "white",
             "startlinecolor": "#2a3f5f"
            },
            "type": "carpet"
           }
          ],
          "choropleth": [
           {
            "colorbar": {
             "outlinewidth": 0,
             "ticks": ""
            },
            "type": "choropleth"
           }
          ],
          "contour": [
           {
            "colorbar": {
             "outlinewidth": 0,
             "ticks": ""
            },
            "colorscale": [
             [
              0,
              "#0d0887"
             ],
             [
              0.1111111111111111,
              "#46039f"
             ],
             [
              0.2222222222222222,
              "#7201a8"
             ],
             [
              0.3333333333333333,
              "#9c179e"
             ],
             [
              0.4444444444444444,
              "#bd3786"
             ],
             [
              0.5555555555555556,
              "#d8576b"
             ],
             [
              0.6666666666666666,
              "#ed7953"
             ],
             [
              0.7777777777777778,
              "#fb9f3a"
             ],
             [
              0.8888888888888888,
              "#fdca26"
             ],
             [
              1,
              "#f0f921"
             ]
            ],
            "type": "contour"
           }
          ],
          "contourcarpet": [
           {
            "colorbar": {
             "outlinewidth": 0,
             "ticks": ""
            },
            "type": "contourcarpet"
           }
          ],
          "heatmap": [
           {
            "colorbar": {
             "outlinewidth": 0,
             "ticks": ""
            },
            "colorscale": [
             [
              0,
              "#0d0887"
             ],
             [
              0.1111111111111111,
              "#46039f"
             ],
             [
              0.2222222222222222,
              "#7201a8"
             ],
             [
              0.3333333333333333,
              "#9c179e"
             ],
             [
              0.4444444444444444,
              "#bd3786"
             ],
             [
              0.5555555555555556,
              "#d8576b"
             ],
             [
              0.6666666666666666,
              "#ed7953"
             ],
             [
              0.7777777777777778,
              "#fb9f3a"
             ],
             [
              0.8888888888888888,
              "#fdca26"
             ],
             [
              1,
              "#f0f921"
             ]
            ],
            "type": "heatmap"
           }
          ],
          "heatmapgl": [
           {
            "colorbar": {
             "outlinewidth": 0,
             "ticks": ""
            },
            "colorscale": [
             [
              0,
              "#0d0887"
             ],
             [
              0.1111111111111111,
              "#46039f"
             ],
             [
              0.2222222222222222,
              "#7201a8"
             ],
             [
              0.3333333333333333,
              "#9c179e"
             ],
             [
              0.4444444444444444,
              "#bd3786"
             ],
             [
              0.5555555555555556,
              "#d8576b"
             ],
             [
              0.6666666666666666,
              "#ed7953"
             ],
             [
              0.7777777777777778,
              "#fb9f3a"
             ],
             [
              0.8888888888888888,
              "#fdca26"
             ],
             [
              1,
              "#f0f921"
             ]
            ],
            "type": "heatmapgl"
           }
          ],
          "histogram": [
           {
            "marker": {
             "pattern": {
              "fillmode": "overlay",
              "size": 10,
              "solidity": 0.2
             }
            },
            "type": "histogram"
           }
          ],
          "histogram2d": [
           {
            "colorbar": {
             "outlinewidth": 0,
             "ticks": ""
            },
            "colorscale": [
             [
              0,
              "#0d0887"
             ],
             [
              0.1111111111111111,
              "#46039f"
             ],
             [
              0.2222222222222222,
              "#7201a8"
             ],
             [
              0.3333333333333333,
              "#9c179e"
             ],
             [
              0.4444444444444444,
              "#bd3786"
             ],
             [
              0.5555555555555556,
              "#d8576b"
             ],
             [
              0.6666666666666666,
              "#ed7953"
             ],
             [
              0.7777777777777778,
              "#fb9f3a"
             ],
             [
              0.8888888888888888,
              "#fdca26"
             ],
             [
              1,
              "#f0f921"
             ]
            ],
            "type": "histogram2d"
           }
          ],
          "histogram2dcontour": [
           {
            "colorbar": {
             "outlinewidth": 0,
             "ticks": ""
            },
            "colorscale": [
             [
              0,
              "#0d0887"
             ],
             [
              0.1111111111111111,
              "#46039f"
             ],
             [
              0.2222222222222222,
              "#7201a8"
             ],
             [
              0.3333333333333333,
              "#9c179e"
             ],
             [
              0.4444444444444444,
              "#bd3786"
             ],
             [
              0.5555555555555556,
              "#d8576b"
             ],
             [
              0.6666666666666666,
              "#ed7953"
             ],
             [
              0.7777777777777778,
              "#fb9f3a"
             ],
             [
              0.8888888888888888,
              "#fdca26"
             ],
             [
              1,
              "#f0f921"
             ]
            ],
            "type": "histogram2dcontour"
           }
          ],
          "mesh3d": [
           {
            "colorbar": {
             "outlinewidth": 0,
             "ticks": ""
            },
            "type": "mesh3d"
           }
          ],
          "parcoords": [
           {
            "line": {
             "colorbar": {
              "outlinewidth": 0,
              "ticks": ""
             }
            },
            "type": "parcoords"
           }
          ],
          "pie": [
           {
            "automargin": true,
            "type": "pie"
           }
          ],
          "scatter": [
           {
            "fillpattern": {
             "fillmode": "overlay",
             "size": 10,
             "solidity": 0.2
            },
            "type": "scatter"
           }
          ],
          "scatter3d": [
           {
            "line": {
             "colorbar": {
              "outlinewidth": 0,
              "ticks": ""
             }
            },
            "marker": {
             "colorbar": {
              "outlinewidth": 0,
              "ticks": ""
             }
            },
            "type": "scatter3d"
           }
          ],
          "scattercarpet": [
           {
            "marker": {
             "colorbar": {
              "outlinewidth": 0,
              "ticks": ""
             }
            },
            "type": "scattercarpet"
           }
          ],
          "scattergeo": [
           {
            "marker": {
             "colorbar": {
              "outlinewidth": 0,
              "ticks": ""
             }
            },
            "type": "scattergeo"
           }
          ],
          "scattergl": [
           {
            "marker": {
             "colorbar": {
              "outlinewidth": 0,
              "ticks": ""
             }
            },
            "type": "scattergl"
           }
          ],
          "scattermapbox": [
           {
            "marker": {
             "colorbar": {
              "outlinewidth": 0,
              "ticks": ""
             }
            },
            "type": "scattermapbox"
           }
          ],
          "scatterpolar": [
           {
            "marker": {
             "colorbar": {
              "outlinewidth": 0,
              "ticks": ""
             }
            },
            "type": "scatterpolar"
           }
          ],
          "scatterpolargl": [
           {
            "marker": {
             "colorbar": {
              "outlinewidth": 0,
              "ticks": ""
             }
            },
            "type": "scatterpolargl"
           }
          ],
          "scatterternary": [
           {
            "marker": {
             "colorbar": {
              "outlinewidth": 0,
              "ticks": ""
             }
            },
            "type": "scatterternary"
           }
          ],
          "surface": [
           {
            "colorbar": {
             "outlinewidth": 0,
             "ticks": ""
            },
            "colorscale": [
             [
              0,
              "#0d0887"
             ],
             [
              0.1111111111111111,
              "#46039f"
             ],
             [
              0.2222222222222222,
              "#7201a8"
             ],
             [
              0.3333333333333333,
              "#9c179e"
             ],
             [
              0.4444444444444444,
              "#bd3786"
             ],
             [
              0.5555555555555556,
              "#d8576b"
             ],
             [
              0.6666666666666666,
              "#ed7953"
             ],
             [
              0.7777777777777778,
              "#fb9f3a"
             ],
             [
              0.8888888888888888,
              "#fdca26"
             ],
             [
              1,
              "#f0f921"
             ]
            ],
            "type": "surface"
           }
          ],
          "table": [
           {
            "cells": {
             "fill": {
              "color": "#EBF0F8"
             },
             "line": {
              "color": "white"
             }
            },
            "header": {
             "fill": {
              "color": "#C8D4E3"
             },
             "line": {
              "color": "white"
             }
            },
            "type": "table"
           }
          ]
         },
         "layout": {
          "annotationdefaults": {
           "arrowcolor": "#2a3f5f",
           "arrowhead": 0,
           "arrowwidth": 1
          },
          "autotypenumbers": "strict",
          "coloraxis": {
           "colorbar": {
            "outlinewidth": 0,
            "ticks": ""
           }
          },
          "colorscale": {
           "diverging": [
            [
             0,
             "#8e0152"
            ],
            [
             0.1,
             "#c51b7d"
            ],
            [
             0.2,
             "#de77ae"
            ],
            [
             0.3,
             "#f1b6da"
            ],
            [
             0.4,
             "#fde0ef"
            ],
            [
             0.5,
             "#f7f7f7"
            ],
            [
             0.6,
             "#e6f5d0"
            ],
            [
             0.7,
             "#b8e186"
            ],
            [
             0.8,
             "#7fbc41"
            ],
            [
             0.9,
             "#4d9221"
            ],
            [
             1,
             "#276419"
            ]
           ],
           "sequential": [
            [
             0,
             "#0d0887"
            ],
            [
             0.1111111111111111,
             "#46039f"
            ],
            [
             0.2222222222222222,
             "#7201a8"
            ],
            [
             0.3333333333333333,
             "#9c179e"
            ],
            [
             0.4444444444444444,
             "#bd3786"
            ],
            [
             0.5555555555555556,
             "#d8576b"
            ],
            [
             0.6666666666666666,
             "#ed7953"
            ],
            [
             0.7777777777777778,
             "#fb9f3a"
            ],
            [
             0.8888888888888888,
             "#fdca26"
            ],
            [
             1,
             "#f0f921"
            ]
           ],
           "sequentialminus": [
            [
             0,
             "#0d0887"
            ],
            [
             0.1111111111111111,
             "#46039f"
            ],
            [
             0.2222222222222222,
             "#7201a8"
            ],
            [
             0.3333333333333333,
             "#9c179e"
            ],
            [
             0.4444444444444444,
             "#bd3786"
            ],
            [
             0.5555555555555556,
             "#d8576b"
            ],
            [
             0.6666666666666666,
             "#ed7953"
            ],
            [
             0.7777777777777778,
             "#fb9f3a"
            ],
            [
             0.8888888888888888,
             "#fdca26"
            ],
            [
             1,
             "#f0f921"
            ]
           ]
          },
          "colorway": [
           "#636efa",
           "#EF553B",
           "#00cc96",
           "#ab63fa",
           "#FFA15A",
           "#19d3f3",
           "#FF6692",
           "#B6E880",
           "#FF97FF",
           "#FECB52"
          ],
          "font": {
           "color": "#2a3f5f"
          },
          "geo": {
           "bgcolor": "white",
           "lakecolor": "white",
           "landcolor": "#E5ECF6",
           "showlakes": true,
           "showland": true,
           "subunitcolor": "white"
          },
          "hoverlabel": {
           "align": "left"
          },
          "hovermode": "closest",
          "mapbox": {
           "style": "light"
          },
          "paper_bgcolor": "white",
          "plot_bgcolor": "#E5ECF6",
          "polar": {
           "angularaxis": {
            "gridcolor": "white",
            "linecolor": "white",
            "ticks": ""
           },
           "bgcolor": "#E5ECF6",
           "radialaxis": {
            "gridcolor": "white",
            "linecolor": "white",
            "ticks": ""
           }
          },
          "scene": {
           "xaxis": {
            "backgroundcolor": "#E5ECF6",
            "gridcolor": "white",
            "gridwidth": 2,
            "linecolor": "white",
            "showbackground": true,
            "ticks": "",
            "zerolinecolor": "white"
           },
           "yaxis": {
            "backgroundcolor": "#E5ECF6",
            "gridcolor": "white",
            "gridwidth": 2,
            "linecolor": "white",
            "showbackground": true,
            "ticks": "",
            "zerolinecolor": "white"
           },
           "zaxis": {
            "backgroundcolor": "#E5ECF6",
            "gridcolor": "white",
            "gridwidth": 2,
            "linecolor": "white",
            "showbackground": true,
            "ticks": "",
            "zerolinecolor": "white"
           }
          },
          "shapedefaults": {
           "line": {
            "color": "#2a3f5f"
           }
          },
          "ternary": {
           "aaxis": {
            "gridcolor": "white",
            "linecolor": "white",
            "ticks": ""
           },
           "baxis": {
            "gridcolor": "white",
            "linecolor": "white",
            "ticks": ""
           },
           "bgcolor": "#E5ECF6",
           "caxis": {
            "gridcolor": "white",
            "linecolor": "white",
            "ticks": ""
           }
          },
          "title": {
           "x": 0.05
          },
          "xaxis": {
           "automargin": true,
           "gridcolor": "white",
           "linecolor": "white",
           "ticks": "",
           "title": {
            "standoff": 15
           },
           "zerolinecolor": "white",
           "zerolinewidth": 2
          },
          "yaxis": {
           "automargin": true,
           "gridcolor": "white",
           "linecolor": "white",
           "ticks": "",
           "title": {
            "standoff": 15
           },
           "zerolinecolor": "white",
           "zerolinewidth": 2
          }
         }
        },
        "title": {
         "text": "Main Laptop Memory Type "
        }
       }
      }
     },
     "metadata": {},
     "output_type": "display_data"
    }
   ],
   "source": [
    "px.pie(data_frame = df,\n",
    "        names= df['MainMemoryType'].value_counts().sort_index().index,\n",
    "        values= df['MainMemoryType'].value_counts().sort_index().values,\n",
    "        title = 'Main Laptop Memory Type ',\n",
    "        hole = 0.5)"
   ]
  },
  {
   "cell_type": "markdown",
   "id": "192b0799",
   "metadata": {},
   "source": [
    "- Second Memory Types"
   ]
  },
  {
   "cell_type": "code",
   "execution_count": 62,
   "id": "06a197e2",
   "metadata": {},
   "outputs": [
    {
     "data": {
      "application/vnd.plotly.v1+json": {
       "config": {
        "plotlyServerURL": "https://plot.ly"
       },
       "data": [
        {
         "alignmentgroup": "True",
         "hovertemplate": "x=%{x}<br>y=%{y}<extra></extra>",
         "legendgroup": "",
         "marker": {
          "color": "lightsalmon",
          "pattern": {
           "shape": ""
          }
         },
         "name": "",
         "offsetgroup": "",
         "orientation": "v",
         "showlegend": false,
         "textposition": "auto",
         "type": "bar",
         "x": [
          "None",
          "HDD",
          "SSD",
          "Hybrid"
         ],
         "xaxis": "x",
         "y": [
          1039,
          198,
          4,
          2
         ],
         "yaxis": "y"
        }
       ],
       "layout": {
        "barmode": "relative",
        "legend": {
         "tracegroupgap": 0
        },
        "margin": {
         "t": 60
        },
        "template": {
         "data": {
          "bar": [
           {
            "error_x": {
             "color": "#2a3f5f"
            },
            "error_y": {
             "color": "#2a3f5f"
            },
            "marker": {
             "line": {
              "color": "#E5ECF6",
              "width": 0.5
             },
             "pattern": {
              "fillmode": "overlay",
              "size": 10,
              "solidity": 0.2
             }
            },
            "type": "bar"
           }
          ],
          "barpolar": [
           {
            "marker": {
             "line": {
              "color": "#E5ECF6",
              "width": 0.5
             },
             "pattern": {
              "fillmode": "overlay",
              "size": 10,
              "solidity": 0.2
             }
            },
            "type": "barpolar"
           }
          ],
          "carpet": [
           {
            "aaxis": {
             "endlinecolor": "#2a3f5f",
             "gridcolor": "white",
             "linecolor": "white",
             "minorgridcolor": "white",
             "startlinecolor": "#2a3f5f"
            },
            "baxis": {
             "endlinecolor": "#2a3f5f",
             "gridcolor": "white",
             "linecolor": "white",
             "minorgridcolor": "white",
             "startlinecolor": "#2a3f5f"
            },
            "type": "carpet"
           }
          ],
          "choropleth": [
           {
            "colorbar": {
             "outlinewidth": 0,
             "ticks": ""
            },
            "type": "choropleth"
           }
          ],
          "contour": [
           {
            "colorbar": {
             "outlinewidth": 0,
             "ticks": ""
            },
            "colorscale": [
             [
              0,
              "#0d0887"
             ],
             [
              0.1111111111111111,
              "#46039f"
             ],
             [
              0.2222222222222222,
              "#7201a8"
             ],
             [
              0.3333333333333333,
              "#9c179e"
             ],
             [
              0.4444444444444444,
              "#bd3786"
             ],
             [
              0.5555555555555556,
              "#d8576b"
             ],
             [
              0.6666666666666666,
              "#ed7953"
             ],
             [
              0.7777777777777778,
              "#fb9f3a"
             ],
             [
              0.8888888888888888,
              "#fdca26"
             ],
             [
              1,
              "#f0f921"
             ]
            ],
            "type": "contour"
           }
          ],
          "contourcarpet": [
           {
            "colorbar": {
             "outlinewidth": 0,
             "ticks": ""
            },
            "type": "contourcarpet"
           }
          ],
          "heatmap": [
           {
            "colorbar": {
             "outlinewidth": 0,
             "ticks": ""
            },
            "colorscale": [
             [
              0,
              "#0d0887"
             ],
             [
              0.1111111111111111,
              "#46039f"
             ],
             [
              0.2222222222222222,
              "#7201a8"
             ],
             [
              0.3333333333333333,
              "#9c179e"
             ],
             [
              0.4444444444444444,
              "#bd3786"
             ],
             [
              0.5555555555555556,
              "#d8576b"
             ],
             [
              0.6666666666666666,
              "#ed7953"
             ],
             [
              0.7777777777777778,
              "#fb9f3a"
             ],
             [
              0.8888888888888888,
              "#fdca26"
             ],
             [
              1,
              "#f0f921"
             ]
            ],
            "type": "heatmap"
           }
          ],
          "heatmapgl": [
           {
            "colorbar": {
             "outlinewidth": 0,
             "ticks": ""
            },
            "colorscale": [
             [
              0,
              "#0d0887"
             ],
             [
              0.1111111111111111,
              "#46039f"
             ],
             [
              0.2222222222222222,
              "#7201a8"
             ],
             [
              0.3333333333333333,
              "#9c179e"
             ],
             [
              0.4444444444444444,
              "#bd3786"
             ],
             [
              0.5555555555555556,
              "#d8576b"
             ],
             [
              0.6666666666666666,
              "#ed7953"
             ],
             [
              0.7777777777777778,
              "#fb9f3a"
             ],
             [
              0.8888888888888888,
              "#fdca26"
             ],
             [
              1,
              "#f0f921"
             ]
            ],
            "type": "heatmapgl"
           }
          ],
          "histogram": [
           {
            "marker": {
             "pattern": {
              "fillmode": "overlay",
              "size": 10,
              "solidity": 0.2
             }
            },
            "type": "histogram"
           }
          ],
          "histogram2d": [
           {
            "colorbar": {
             "outlinewidth": 0,
             "ticks": ""
            },
            "colorscale": [
             [
              0,
              "#0d0887"
             ],
             [
              0.1111111111111111,
              "#46039f"
             ],
             [
              0.2222222222222222,
              "#7201a8"
             ],
             [
              0.3333333333333333,
              "#9c179e"
             ],
             [
              0.4444444444444444,
              "#bd3786"
             ],
             [
              0.5555555555555556,
              "#d8576b"
             ],
             [
              0.6666666666666666,
              "#ed7953"
             ],
             [
              0.7777777777777778,
              "#fb9f3a"
             ],
             [
              0.8888888888888888,
              "#fdca26"
             ],
             [
              1,
              "#f0f921"
             ]
            ],
            "type": "histogram2d"
           }
          ],
          "histogram2dcontour": [
           {
            "colorbar": {
             "outlinewidth": 0,
             "ticks": ""
            },
            "colorscale": [
             [
              0,
              "#0d0887"
             ],
             [
              0.1111111111111111,
              "#46039f"
             ],
             [
              0.2222222222222222,
              "#7201a8"
             ],
             [
              0.3333333333333333,
              "#9c179e"
             ],
             [
              0.4444444444444444,
              "#bd3786"
             ],
             [
              0.5555555555555556,
              "#d8576b"
             ],
             [
              0.6666666666666666,
              "#ed7953"
             ],
             [
              0.7777777777777778,
              "#fb9f3a"
             ],
             [
              0.8888888888888888,
              "#fdca26"
             ],
             [
              1,
              "#f0f921"
             ]
            ],
            "type": "histogram2dcontour"
           }
          ],
          "mesh3d": [
           {
            "colorbar": {
             "outlinewidth": 0,
             "ticks": ""
            },
            "type": "mesh3d"
           }
          ],
          "parcoords": [
           {
            "line": {
             "colorbar": {
              "outlinewidth": 0,
              "ticks": ""
             }
            },
            "type": "parcoords"
           }
          ],
          "pie": [
           {
            "automargin": true,
            "type": "pie"
           }
          ],
          "scatter": [
           {
            "fillpattern": {
             "fillmode": "overlay",
             "size": 10,
             "solidity": 0.2
            },
            "type": "scatter"
           }
          ],
          "scatter3d": [
           {
            "line": {
             "colorbar": {
              "outlinewidth": 0,
              "ticks": ""
             }
            },
            "marker": {
             "colorbar": {
              "outlinewidth": 0,
              "ticks": ""
             }
            },
            "type": "scatter3d"
           }
          ],
          "scattercarpet": [
           {
            "marker": {
             "colorbar": {
              "outlinewidth": 0,
              "ticks": ""
             }
            },
            "type": "scattercarpet"
           }
          ],
          "scattergeo": [
           {
            "marker": {
             "colorbar": {
              "outlinewidth": 0,
              "ticks": ""
             }
            },
            "type": "scattergeo"
           }
          ],
          "scattergl": [
           {
            "marker": {
             "colorbar": {
              "outlinewidth": 0,
              "ticks": ""
             }
            },
            "type": "scattergl"
           }
          ],
          "scattermapbox": [
           {
            "marker": {
             "colorbar": {
              "outlinewidth": 0,
              "ticks": ""
             }
            },
            "type": "scattermapbox"
           }
          ],
          "scatterpolar": [
           {
            "marker": {
             "colorbar": {
              "outlinewidth": 0,
              "ticks": ""
             }
            },
            "type": "scatterpolar"
           }
          ],
          "scatterpolargl": [
           {
            "marker": {
             "colorbar": {
              "outlinewidth": 0,
              "ticks": ""
             }
            },
            "type": "scatterpolargl"
           }
          ],
          "scatterternary": [
           {
            "marker": {
             "colorbar": {
              "outlinewidth": 0,
              "ticks": ""
             }
            },
            "type": "scatterternary"
           }
          ],
          "surface": [
           {
            "colorbar": {
             "outlinewidth": 0,
             "ticks": ""
            },
            "colorscale": [
             [
              0,
              "#0d0887"
             ],
             [
              0.1111111111111111,
              "#46039f"
             ],
             [
              0.2222222222222222,
              "#7201a8"
             ],
             [
              0.3333333333333333,
              "#9c179e"
             ],
             [
              0.4444444444444444,
              "#bd3786"
             ],
             [
              0.5555555555555556,
              "#d8576b"
             ],
             [
              0.6666666666666666,
              "#ed7953"
             ],
             [
              0.7777777777777778,
              "#fb9f3a"
             ],
             [
              0.8888888888888888,
              "#fdca26"
             ],
             [
              1,
              "#f0f921"
             ]
            ],
            "type": "surface"
           }
          ],
          "table": [
           {
            "cells": {
             "fill": {
              "color": "#EBF0F8"
             },
             "line": {
              "color": "white"
             }
            },
            "header": {
             "fill": {
              "color": "#C8D4E3"
             },
             "line": {
              "color": "white"
             }
            },
            "type": "table"
           }
          ]
         },
         "layout": {
          "annotationdefaults": {
           "arrowcolor": "#2a3f5f",
           "arrowhead": 0,
           "arrowwidth": 1
          },
          "autotypenumbers": "strict",
          "coloraxis": {
           "colorbar": {
            "outlinewidth": 0,
            "ticks": ""
           }
          },
          "colorscale": {
           "diverging": [
            [
             0,
             "#8e0152"
            ],
            [
             0.1,
             "#c51b7d"
            ],
            [
             0.2,
             "#de77ae"
            ],
            [
             0.3,
             "#f1b6da"
            ],
            [
             0.4,
             "#fde0ef"
            ],
            [
             0.5,
             "#f7f7f7"
            ],
            [
             0.6,
             "#e6f5d0"
            ],
            [
             0.7,
             "#b8e186"
            ],
            [
             0.8,
             "#7fbc41"
            ],
            [
             0.9,
             "#4d9221"
            ],
            [
             1,
             "#276419"
            ]
           ],
           "sequential": [
            [
             0,
             "#0d0887"
            ],
            [
             0.1111111111111111,
             "#46039f"
            ],
            [
             0.2222222222222222,
             "#7201a8"
            ],
            [
             0.3333333333333333,
             "#9c179e"
            ],
            [
             0.4444444444444444,
             "#bd3786"
            ],
            [
             0.5555555555555556,
             "#d8576b"
            ],
            [
             0.6666666666666666,
             "#ed7953"
            ],
            [
             0.7777777777777778,
             "#fb9f3a"
            ],
            [
             0.8888888888888888,
             "#fdca26"
            ],
            [
             1,
             "#f0f921"
            ]
           ],
           "sequentialminus": [
            [
             0,
             "#0d0887"
            ],
            [
             0.1111111111111111,
             "#46039f"
            ],
            [
             0.2222222222222222,
             "#7201a8"
            ],
            [
             0.3333333333333333,
             "#9c179e"
            ],
            [
             0.4444444444444444,
             "#bd3786"
            ],
            [
             0.5555555555555556,
             "#d8576b"
            ],
            [
             0.6666666666666666,
             "#ed7953"
            ],
            [
             0.7777777777777778,
             "#fb9f3a"
            ],
            [
             0.8888888888888888,
             "#fdca26"
            ],
            [
             1,
             "#f0f921"
            ]
           ]
          },
          "colorway": [
           "#636efa",
           "#EF553B",
           "#00cc96",
           "#ab63fa",
           "#FFA15A",
           "#19d3f3",
           "#FF6692",
           "#B6E880",
           "#FF97FF",
           "#FECB52"
          ],
          "font": {
           "color": "#2a3f5f"
          },
          "geo": {
           "bgcolor": "white",
           "lakecolor": "white",
           "landcolor": "#E5ECF6",
           "showlakes": true,
           "showland": true,
           "subunitcolor": "white"
          },
          "hoverlabel": {
           "align": "left"
          },
          "hovermode": "closest",
          "mapbox": {
           "style": "light"
          },
          "paper_bgcolor": "white",
          "plot_bgcolor": "#E5ECF6",
          "polar": {
           "angularaxis": {
            "gridcolor": "white",
            "linecolor": "white",
            "ticks": ""
           },
           "bgcolor": "#E5ECF6",
           "radialaxis": {
            "gridcolor": "white",
            "linecolor": "white",
            "ticks": ""
           }
          },
          "scene": {
           "xaxis": {
            "backgroundcolor": "#E5ECF6",
            "gridcolor": "white",
            "gridwidth": 2,
            "linecolor": "white",
            "showbackground": true,
            "ticks": "",
            "zerolinecolor": "white"
           },
           "yaxis": {
            "backgroundcolor": "#E5ECF6",
            "gridcolor": "white",
            "gridwidth": 2,
            "linecolor": "white",
            "showbackground": true,
            "ticks": "",
            "zerolinecolor": "white"
           },
           "zaxis": {
            "backgroundcolor": "#E5ECF6",
            "gridcolor": "white",
            "gridwidth": 2,
            "linecolor": "white",
            "showbackground": true,
            "ticks": "",
            "zerolinecolor": "white"
           }
          },
          "shapedefaults": {
           "line": {
            "color": "#2a3f5f"
           }
          },
          "ternary": {
           "aaxis": {
            "gridcolor": "white",
            "linecolor": "white",
            "ticks": ""
           },
           "baxis": {
            "gridcolor": "white",
            "linecolor": "white",
            "ticks": ""
           },
           "bgcolor": "#E5ECF6",
           "caxis": {
            "gridcolor": "white",
            "linecolor": "white",
            "ticks": ""
           }
          },
          "title": {
           "x": 0.05
          },
          "xaxis": {
           "automargin": true,
           "gridcolor": "white",
           "linecolor": "white",
           "ticks": "",
           "title": {
            "standoff": 15
           },
           "zerolinecolor": "white",
           "zerolinewidth": 2
          },
          "yaxis": {
           "automargin": true,
           "gridcolor": "white",
           "linecolor": "white",
           "ticks": "",
           "title": {
            "standoff": 15
           },
           "zerolinecolor": "white",
           "zerolinewidth": 2
          }
         }
        },
        "xaxis": {
         "anchor": "y",
         "domain": [
          0,
          1
         ],
         "title": {
          "text": "Space"
         }
        },
        "yaxis": {
         "anchor": "x",
         "domain": [
          0,
          1
         ],
         "title": {
          "text": "Number of Sales"
         }
        }
       }
      }
     },
     "metadata": {},
     "output_type": "display_data"
    }
   ],
   "source": [
    "\n",
    "fig= px.bar( df , x=df['SecondMemoryType'].value_counts().index ,\n",
    "           y= df['SecondMemoryType'].value_counts().values)\n",
    "fig.update_xaxes(title='Space')\n",
    "fig.update_yaxes(title='Number of Sales')\n",
    "fig.update_traces(marker_color='lightsalmon')"
   ]
  },
  {
   "cell_type": "markdown",
   "id": "c7c70bcb",
   "metadata": {},
   "source": [
    "-Laptops with Touch Screens"
   ]
  },
  {
   "cell_type": "code",
   "execution_count": 63,
   "id": "50d6e45b",
   "metadata": {},
   "outputs": [
    {
     "data": {
      "application/vnd.plotly.v1+json": {
       "config": {
        "plotlyServerURL": "https://plot.ly"
       },
       "data": [
        {
         "hole": 0.3,
         "labels": [
          "No TouchScreen",
          "TouchScreen"
         ],
         "type": "pie",
         "values": [
          1063,
          180
         ]
        }
       ],
       "layout": {
        "template": {
         "data": {
          "bar": [
           {
            "error_x": {
             "color": "#2a3f5f"
            },
            "error_y": {
             "color": "#2a3f5f"
            },
            "marker": {
             "line": {
              "color": "#E5ECF6",
              "width": 0.5
             },
             "pattern": {
              "fillmode": "overlay",
              "size": 10,
              "solidity": 0.2
             }
            },
            "type": "bar"
           }
          ],
          "barpolar": [
           {
            "marker": {
             "line": {
              "color": "#E5ECF6",
              "width": 0.5
             },
             "pattern": {
              "fillmode": "overlay",
              "size": 10,
              "solidity": 0.2
             }
            },
            "type": "barpolar"
           }
          ],
          "carpet": [
           {
            "aaxis": {
             "endlinecolor": "#2a3f5f",
             "gridcolor": "white",
             "linecolor": "white",
             "minorgridcolor": "white",
             "startlinecolor": "#2a3f5f"
            },
            "baxis": {
             "endlinecolor": "#2a3f5f",
             "gridcolor": "white",
             "linecolor": "white",
             "minorgridcolor": "white",
             "startlinecolor": "#2a3f5f"
            },
            "type": "carpet"
           }
          ],
          "choropleth": [
           {
            "colorbar": {
             "outlinewidth": 0,
             "ticks": ""
            },
            "type": "choropleth"
           }
          ],
          "contour": [
           {
            "colorbar": {
             "outlinewidth": 0,
             "ticks": ""
            },
            "colorscale": [
             [
              0,
              "#0d0887"
             ],
             [
              0.1111111111111111,
              "#46039f"
             ],
             [
              0.2222222222222222,
              "#7201a8"
             ],
             [
              0.3333333333333333,
              "#9c179e"
             ],
             [
              0.4444444444444444,
              "#bd3786"
             ],
             [
              0.5555555555555556,
              "#d8576b"
             ],
             [
              0.6666666666666666,
              "#ed7953"
             ],
             [
              0.7777777777777778,
              "#fb9f3a"
             ],
             [
              0.8888888888888888,
              "#fdca26"
             ],
             [
              1,
              "#f0f921"
             ]
            ],
            "type": "contour"
           }
          ],
          "contourcarpet": [
           {
            "colorbar": {
             "outlinewidth": 0,
             "ticks": ""
            },
            "type": "contourcarpet"
           }
          ],
          "heatmap": [
           {
            "colorbar": {
             "outlinewidth": 0,
             "ticks": ""
            },
            "colorscale": [
             [
              0,
              "#0d0887"
             ],
             [
              0.1111111111111111,
              "#46039f"
             ],
             [
              0.2222222222222222,
              "#7201a8"
             ],
             [
              0.3333333333333333,
              "#9c179e"
             ],
             [
              0.4444444444444444,
              "#bd3786"
             ],
             [
              0.5555555555555556,
              "#d8576b"
             ],
             [
              0.6666666666666666,
              "#ed7953"
             ],
             [
              0.7777777777777778,
              "#fb9f3a"
             ],
             [
              0.8888888888888888,
              "#fdca26"
             ],
             [
              1,
              "#f0f921"
             ]
            ],
            "type": "heatmap"
           }
          ],
          "heatmapgl": [
           {
            "colorbar": {
             "outlinewidth": 0,
             "ticks": ""
            },
            "colorscale": [
             [
              0,
              "#0d0887"
             ],
             [
              0.1111111111111111,
              "#46039f"
             ],
             [
              0.2222222222222222,
              "#7201a8"
             ],
             [
              0.3333333333333333,
              "#9c179e"
             ],
             [
              0.4444444444444444,
              "#bd3786"
             ],
             [
              0.5555555555555556,
              "#d8576b"
             ],
             [
              0.6666666666666666,
              "#ed7953"
             ],
             [
              0.7777777777777778,
              "#fb9f3a"
             ],
             [
              0.8888888888888888,
              "#fdca26"
             ],
             [
              1,
              "#f0f921"
             ]
            ],
            "type": "heatmapgl"
           }
          ],
          "histogram": [
           {
            "marker": {
             "pattern": {
              "fillmode": "overlay",
              "size": 10,
              "solidity": 0.2
             }
            },
            "type": "histogram"
           }
          ],
          "histogram2d": [
           {
            "colorbar": {
             "outlinewidth": 0,
             "ticks": ""
            },
            "colorscale": [
             [
              0,
              "#0d0887"
             ],
             [
              0.1111111111111111,
              "#46039f"
             ],
             [
              0.2222222222222222,
              "#7201a8"
             ],
             [
              0.3333333333333333,
              "#9c179e"
             ],
             [
              0.4444444444444444,
              "#bd3786"
             ],
             [
              0.5555555555555556,
              "#d8576b"
             ],
             [
              0.6666666666666666,
              "#ed7953"
             ],
             [
              0.7777777777777778,
              "#fb9f3a"
             ],
             [
              0.8888888888888888,
              "#fdca26"
             ],
             [
              1,
              "#f0f921"
             ]
            ],
            "type": "histogram2d"
           }
          ],
          "histogram2dcontour": [
           {
            "colorbar": {
             "outlinewidth": 0,
             "ticks": ""
            },
            "colorscale": [
             [
              0,
              "#0d0887"
             ],
             [
              0.1111111111111111,
              "#46039f"
             ],
             [
              0.2222222222222222,
              "#7201a8"
             ],
             [
              0.3333333333333333,
              "#9c179e"
             ],
             [
              0.4444444444444444,
              "#bd3786"
             ],
             [
              0.5555555555555556,
              "#d8576b"
             ],
             [
              0.6666666666666666,
              "#ed7953"
             ],
             [
              0.7777777777777778,
              "#fb9f3a"
             ],
             [
              0.8888888888888888,
              "#fdca26"
             ],
             [
              1,
              "#f0f921"
             ]
            ],
            "type": "histogram2dcontour"
           }
          ],
          "mesh3d": [
           {
            "colorbar": {
             "outlinewidth": 0,
             "ticks": ""
            },
            "type": "mesh3d"
           }
          ],
          "parcoords": [
           {
            "line": {
             "colorbar": {
              "outlinewidth": 0,
              "ticks": ""
             }
            },
            "type": "parcoords"
           }
          ],
          "pie": [
           {
            "automargin": true,
            "type": "pie"
           }
          ],
          "scatter": [
           {
            "fillpattern": {
             "fillmode": "overlay",
             "size": 10,
             "solidity": 0.2
            },
            "type": "scatter"
           }
          ],
          "scatter3d": [
           {
            "line": {
             "colorbar": {
              "outlinewidth": 0,
              "ticks": ""
             }
            },
            "marker": {
             "colorbar": {
              "outlinewidth": 0,
              "ticks": ""
             }
            },
            "type": "scatter3d"
           }
          ],
          "scattercarpet": [
           {
            "marker": {
             "colorbar": {
              "outlinewidth": 0,
              "ticks": ""
             }
            },
            "type": "scattercarpet"
           }
          ],
          "scattergeo": [
           {
            "marker": {
             "colorbar": {
              "outlinewidth": 0,
              "ticks": ""
             }
            },
            "type": "scattergeo"
           }
          ],
          "scattergl": [
           {
            "marker": {
             "colorbar": {
              "outlinewidth": 0,
              "ticks": ""
             }
            },
            "type": "scattergl"
           }
          ],
          "scattermapbox": [
           {
            "marker": {
             "colorbar": {
              "outlinewidth": 0,
              "ticks": ""
             }
            },
            "type": "scattermapbox"
           }
          ],
          "scatterpolar": [
           {
            "marker": {
             "colorbar": {
              "outlinewidth": 0,
              "ticks": ""
             }
            },
            "type": "scatterpolar"
           }
          ],
          "scatterpolargl": [
           {
            "marker": {
             "colorbar": {
              "outlinewidth": 0,
              "ticks": ""
             }
            },
            "type": "scatterpolargl"
           }
          ],
          "scatterternary": [
           {
            "marker": {
             "colorbar": {
              "outlinewidth": 0,
              "ticks": ""
             }
            },
            "type": "scatterternary"
           }
          ],
          "surface": [
           {
            "colorbar": {
             "outlinewidth": 0,
             "ticks": ""
            },
            "colorscale": [
             [
              0,
              "#0d0887"
             ],
             [
              0.1111111111111111,
              "#46039f"
             ],
             [
              0.2222222222222222,
              "#7201a8"
             ],
             [
              0.3333333333333333,
              "#9c179e"
             ],
             [
              0.4444444444444444,
              "#bd3786"
             ],
             [
              0.5555555555555556,
              "#d8576b"
             ],
             [
              0.6666666666666666,
              "#ed7953"
             ],
             [
              0.7777777777777778,
              "#fb9f3a"
             ],
             [
              0.8888888888888888,
              "#fdca26"
             ],
             [
              1,
              "#f0f921"
             ]
            ],
            "type": "surface"
           }
          ],
          "table": [
           {
            "cells": {
             "fill": {
              "color": "#EBF0F8"
             },
             "line": {
              "color": "white"
             }
            },
            "header": {
             "fill": {
              "color": "#C8D4E3"
             },
             "line": {
              "color": "white"
             }
            },
            "type": "table"
           }
          ]
         },
         "layout": {
          "annotationdefaults": {
           "arrowcolor": "#2a3f5f",
           "arrowhead": 0,
           "arrowwidth": 1
          },
          "autotypenumbers": "strict",
          "coloraxis": {
           "colorbar": {
            "outlinewidth": 0,
            "ticks": ""
           }
          },
          "colorscale": {
           "diverging": [
            [
             0,
             "#8e0152"
            ],
            [
             0.1,
             "#c51b7d"
            ],
            [
             0.2,
             "#de77ae"
            ],
            [
             0.3,
             "#f1b6da"
            ],
            [
             0.4,
             "#fde0ef"
            ],
            [
             0.5,
             "#f7f7f7"
            ],
            [
             0.6,
             "#e6f5d0"
            ],
            [
             0.7,
             "#b8e186"
            ],
            [
             0.8,
             "#7fbc41"
            ],
            [
             0.9,
             "#4d9221"
            ],
            [
             1,
             "#276419"
            ]
           ],
           "sequential": [
            [
             0,
             "#0d0887"
            ],
            [
             0.1111111111111111,
             "#46039f"
            ],
            [
             0.2222222222222222,
             "#7201a8"
            ],
            [
             0.3333333333333333,
             "#9c179e"
            ],
            [
             0.4444444444444444,
             "#bd3786"
            ],
            [
             0.5555555555555556,
             "#d8576b"
            ],
            [
             0.6666666666666666,
             "#ed7953"
            ],
            [
             0.7777777777777778,
             "#fb9f3a"
            ],
            [
             0.8888888888888888,
             "#fdca26"
            ],
            [
             1,
             "#f0f921"
            ]
           ],
           "sequentialminus": [
            [
             0,
             "#0d0887"
            ],
            [
             0.1111111111111111,
             "#46039f"
            ],
            [
             0.2222222222222222,
             "#7201a8"
            ],
            [
             0.3333333333333333,
             "#9c179e"
            ],
            [
             0.4444444444444444,
             "#bd3786"
            ],
            [
             0.5555555555555556,
             "#d8576b"
            ],
            [
             0.6666666666666666,
             "#ed7953"
            ],
            [
             0.7777777777777778,
             "#fb9f3a"
            ],
            [
             0.8888888888888888,
             "#fdca26"
            ],
            [
             1,
             "#f0f921"
            ]
           ]
          },
          "colorway": [
           "#636efa",
           "#EF553B",
           "#00cc96",
           "#ab63fa",
           "#FFA15A",
           "#19d3f3",
           "#FF6692",
           "#B6E880",
           "#FF97FF",
           "#FECB52"
          ],
          "font": {
           "color": "#2a3f5f"
          },
          "geo": {
           "bgcolor": "white",
           "lakecolor": "white",
           "landcolor": "#E5ECF6",
           "showlakes": true,
           "showland": true,
           "subunitcolor": "white"
          },
          "hoverlabel": {
           "align": "left"
          },
          "hovermode": "closest",
          "mapbox": {
           "style": "light"
          },
          "paper_bgcolor": "white",
          "plot_bgcolor": "#E5ECF6",
          "polar": {
           "angularaxis": {
            "gridcolor": "white",
            "linecolor": "white",
            "ticks": ""
           },
           "bgcolor": "#E5ECF6",
           "radialaxis": {
            "gridcolor": "white",
            "linecolor": "white",
            "ticks": ""
           }
          },
          "scene": {
           "xaxis": {
            "backgroundcolor": "#E5ECF6",
            "gridcolor": "white",
            "gridwidth": 2,
            "linecolor": "white",
            "showbackground": true,
            "ticks": "",
            "zerolinecolor": "white"
           },
           "yaxis": {
            "backgroundcolor": "#E5ECF6",
            "gridcolor": "white",
            "gridwidth": 2,
            "linecolor": "white",
            "showbackground": true,
            "ticks": "",
            "zerolinecolor": "white"
           },
           "zaxis": {
            "backgroundcolor": "#E5ECF6",
            "gridcolor": "white",
            "gridwidth": 2,
            "linecolor": "white",
            "showbackground": true,
            "ticks": "",
            "zerolinecolor": "white"
           }
          },
          "shapedefaults": {
           "line": {
            "color": "#2a3f5f"
           }
          },
          "ternary": {
           "aaxis": {
            "gridcolor": "white",
            "linecolor": "white",
            "ticks": ""
           },
           "baxis": {
            "gridcolor": "white",
            "linecolor": "white",
            "ticks": ""
           },
           "bgcolor": "#E5ECF6",
           "caxis": {
            "gridcolor": "white",
            "linecolor": "white",
            "ticks": ""
           }
          },
          "title": {
           "x": 0.05
          },
          "xaxis": {
           "automargin": true,
           "gridcolor": "white",
           "linecolor": "white",
           "ticks": "",
           "title": {
            "standoff": 15
           },
           "zerolinecolor": "white",
           "zerolinewidth": 2
          },
          "yaxis": {
           "automargin": true,
           "gridcolor": "white",
           "linecolor": "white",
           "ticks": "",
           "title": {
            "standoff": 15
           },
           "zerolinecolor": "white",
           "zerolinewidth": 2
          }
         }
        },
        "title": {
         "text": "Touch Screen Or Not"
        }
       }
      }
     },
     "metadata": {},
     "output_type": "display_data"
    }
   ],
   "source": [
    "## Creating a data frame with value counts of TouchScreens Laptops\n",
    "count_T = df['TouchScreen'].value_counts()\n",
    "\n",
    "\n",
    "## Creating Variables to be used in pie chart graph \n",
    "labels = [ 'No TouchScreen','TouchScreen']\n",
    "values = count_T.values\n",
    "\n",
    "\n",
    "## Pie chart \n",
    "fig = go.Figure(data=[go.Pie(labels=labels, values=values, hole=0.3)])\n",
    "fig.update_layout(title='Touch Screen Or Not')\n",
    "fig.show()"
   ]
  },
  {
   "cell_type": "markdown",
   "id": "ea4fd853",
   "metadata": {},
   "source": [
    "## Bi & Multi Variate analysis"
   ]
  },
  {
   "cell_type": "code",
   "execution_count": 64,
   "id": "72358e91",
   "metadata": {},
   "outputs": [
    {
     "data": {
      "text/html": [
       "<div>\n",
       "<style scoped>\n",
       "    .dataframe tbody tr th:only-of-type {\n",
       "        vertical-align: middle;\n",
       "    }\n",
       "\n",
       "    .dataframe tbody tr th {\n",
       "        vertical-align: top;\n",
       "    }\n",
       "\n",
       "    .dataframe thead th {\n",
       "        text-align: right;\n",
       "    }\n",
       "</style>\n",
       "<table border=\"1\" class=\"dataframe\">\n",
       "  <thead>\n",
       "    <tr style=\"text-align: right;\">\n",
       "      <th></th>\n",
       "      <th>Company</th>\n",
       "      <th>TypeName</th>\n",
       "      <th>Inches</th>\n",
       "      <th>RamGB</th>\n",
       "      <th>OpSys</th>\n",
       "      <th>WeightKG</th>\n",
       "      <th>Price</th>\n",
       "      <th>GHz</th>\n",
       "      <th>CpuBrand</th>\n",
       "      <th>CpuVersion</th>\n",
       "      <th>MainMemory</th>\n",
       "      <th>SecondMemory</th>\n",
       "      <th>MainMemoryType</th>\n",
       "      <th>SecondMemoryType</th>\n",
       "      <th>TouchScreen</th>\n",
       "      <th>Resolution</th>\n",
       "      <th>PanelType</th>\n",
       "      <th>GpuBrand</th>\n",
       "      <th>GpuVersion</th>\n",
       "    </tr>\n",
       "  </thead>\n",
       "  <tbody>\n",
       "    <tr>\n",
       "      <th>0</th>\n",
       "      <td>Apple</td>\n",
       "      <td>Ultrabook</td>\n",
       "      <td>13.3</td>\n",
       "      <td>8</td>\n",
       "      <td>macOS</td>\n",
       "      <td>1.37</td>\n",
       "      <td>856.544198</td>\n",
       "      <td>2.3</td>\n",
       "      <td>Intel</td>\n",
       "      <td>Core i5</td>\n",
       "      <td>128.0</td>\n",
       "      <td>0.0</td>\n",
       "      <td>SSD</td>\n",
       "      <td>None</td>\n",
       "      <td>0</td>\n",
       "      <td>2560x1600</td>\n",
       "      <td>IPSPanelRetinaDisplay</td>\n",
       "      <td>Intel</td>\n",
       "      <td>Iris Plus Graphics 640</td>\n",
       "    </tr>\n",
       "  </tbody>\n",
       "</table>\n",
       "</div>"
      ],
      "text/plain": [
       "  Company   TypeName  Inches  RamGB  OpSys  WeightKG       Price  GHz   \n",
       "0   Apple  Ultrabook    13.3      8  macOS      1.37  856.544198  2.3  \\\n",
       "\n",
       "  CpuBrand CpuVersion  MainMemory  SecondMemory MainMemoryType   \n",
       "0    Intel   Core i5        128.0           0.0            SSD  \\\n",
       "\n",
       "  SecondMemoryType  TouchScreen Resolution              PanelType GpuBrand   \n",
       "0             None            0  2560x1600  IPSPanelRetinaDisplay    Intel  \\\n",
       "\n",
       "                GpuVersion  \n",
       "0   Iris Plus Graphics 640  "
      ]
     },
     "execution_count": 64,
     "metadata": {},
     "output_type": "execute_result"
    }
   ],
   "source": [
    "df.head(1)"
   ]
  },
  {
   "cell_type": "markdown",
   "id": "4b4e3344",
   "metadata": {},
   "source": [
    "-Most Common Types by each Brands"
   ]
  },
  {
   "cell_type": "code",
   "execution_count": 65,
   "id": "b8342030",
   "metadata": {},
   "outputs": [
    {
     "data": {
      "application/vnd.plotly.v1+json": {
       "config": {
        "plotlyServerURL": "https://plot.ly"
       },
       "data": [
        {
         "alignmentgroup": "True",
         "hovertemplate": "Company=HP<br>TypeName=%{x}<br>count=%{y}<extra></extra>",
         "legendgroup": "HP",
         "marker": {
          "color": "#636efa",
          "pattern": {
           "shape": ""
          }
         },
         "name": "HP",
         "offsetgroup": "HP",
         "orientation": "v",
         "showlegend": true,
         "textposition": "auto",
         "type": "bar",
         "x": [
          "Notebook",
          "Ultrabook",
          "2 in 1 Convertible",
          "Workstation",
          "Gaming",
          "Netbook"
         ],
         "xaxis": "x",
         "y": [
          175,
          34,
          18,
          14,
          12,
          7
         ],
         "yaxis": "y"
        },
        {
         "alignmentgroup": "True",
         "hovertemplate": "Company=Lenovo<br>TypeName=%{x}<br>count=%{y}<extra></extra>",
         "legendgroup": "Lenovo",
         "marker": {
          "color": "#EF553B",
          "pattern": {
           "shape": ""
          }
         },
         "name": "Lenovo",
         "offsetgroup": "Lenovo",
         "orientation": "v",
         "showlegend": true,
         "textposition": "auto",
         "type": "bar",
         "x": [
          "Notebook",
          "2 in 1 Convertible",
          "Gaming",
          "Ultrabook",
          "Netbook",
          "Workstation"
         ],
         "xaxis": "x",
         "y": [
          170,
          42,
          32,
          30,
          4,
          4
         ],
         "yaxis": "y"
        },
        {
         "alignmentgroup": "True",
         "hovertemplate": "Company=Dell<br>TypeName=%{x}<br>count=%{y}<extra></extra>",
         "legendgroup": "Dell",
         "marker": {
          "color": "#00cc96",
          "pattern": {
           "shape": ""
          }
         },
         "name": "Dell",
         "offsetgroup": "Dell",
         "orientation": "v",
         "showlegend": true,
         "textposition": "auto",
         "type": "bar",
         "x": [
          "Notebook",
          "Ultrabook",
          "Gaming",
          "2 in 1 Convertible",
          "Workstation",
          "Netbook"
         ],
         "xaxis": "x",
         "y": [
          153,
          47,
          40,
          28,
          11,
          2
         ],
         "yaxis": "y"
        },
        {
         "alignmentgroup": "True",
         "hovertemplate": "Company=Acer<br>TypeName=%{x}<br>count=%{y}<extra></extra>",
         "legendgroup": "Acer",
         "marker": {
          "color": "#ab63fa",
          "pattern": {
           "shape": ""
          }
         },
         "name": "Acer",
         "offsetgroup": "Acer",
         "orientation": "v",
         "showlegend": true,
         "textposition": "auto",
         "type": "bar",
         "x": [
          "Notebook",
          "Gaming",
          "2 in 1 Convertible",
          "Netbook",
          "Ultrabook"
         ],
         "xaxis": "x",
         "y": [
          76,
          8,
          8,
          5,
          4
         ],
         "yaxis": "y"
        },
        {
         "alignmentgroup": "True",
         "hovertemplate": "Company=Asus<br>TypeName=%{x}<br>count=%{y}<extra></extra>",
         "legendgroup": "Asus",
         "marker": {
          "color": "#FFA15A",
          "pattern": {
           "shape": ""
          }
         },
         "name": "Asus",
         "offsetgroup": "Asus",
         "orientation": "v",
         "showlegend": true,
         "textposition": "auto",
         "type": "bar",
         "x": [
          "Notebook",
          "Gaming",
          "Ultrabook",
          "2 in 1 Convertible",
          "Netbook"
         ],
         "xaxis": "x",
         "y": [
          62,
          53,
          18,
          13,
          3
         ],
         "yaxis": "y"
        },
        {
         "alignmentgroup": "True",
         "hovertemplate": "Company=MSI<br>TypeName=%{x}<br>count=%{y}<extra></extra>",
         "legendgroup": "MSI",
         "marker": {
          "color": "#19d3f3",
          "pattern": {
           "shape": ""
          }
         },
         "name": "MSI",
         "offsetgroup": "MSI",
         "orientation": "v",
         "showlegend": true,
         "textposition": "auto",
         "type": "bar",
         "x": [
          "Gaming"
         ],
         "xaxis": "x",
         "y": [
          53
         ],
         "yaxis": "y"
        },
        {
         "alignmentgroup": "True",
         "hovertemplate": "Company=Toshiba<br>TypeName=%{x}<br>count=%{y}<extra></extra>",
         "legendgroup": "Toshiba",
         "marker": {
          "color": "#FF6692",
          "pattern": {
           "shape": ""
          }
         },
         "name": "Toshiba",
         "offsetgroup": "Toshiba",
         "orientation": "v",
         "showlegend": true,
         "textposition": "auto",
         "type": "bar",
         "x": [
          "Notebook",
          "Ultrabook"
         ],
         "xaxis": "x",
         "y": [
          35,
          12
         ],
         "yaxis": "y"
        },
        {
         "alignmentgroup": "True",
         "hovertemplate": "Company=Apple<br>TypeName=%{x}<br>count=%{y}<extra></extra>",
         "legendgroup": "Apple",
         "marker": {
          "color": "#B6E880",
          "pattern": {
           "shape": ""
          }
         },
         "name": "Apple",
         "offsetgroup": "Apple",
         "orientation": "v",
         "showlegend": true,
         "textposition": "auto",
         "type": "bar",
         "x": [
          "Ultrabook"
         ],
         "xaxis": "x",
         "y": [
          21
         ],
         "yaxis": "y"
        },
        {
         "alignmentgroup": "True",
         "hovertemplate": "Company=Mediacom<br>TypeName=%{x}<br>count=%{y}<extra></extra>",
         "legendgroup": "Mediacom",
         "marker": {
          "color": "#FF97FF",
          "pattern": {
           "shape": ""
          }
         },
         "name": "Mediacom",
         "offsetgroup": "Mediacom",
         "orientation": "v",
         "showlegend": true,
         "textposition": "auto",
         "type": "bar",
         "x": [
          "Notebook",
          "2 in 1 Convertible"
         ],
         "xaxis": "x",
         "y": [
          6,
          1
         ],
         "yaxis": "y"
        },
        {
         "alignmentgroup": "True",
         "hovertemplate": "Company=Microsoft<br>TypeName=%{x}<br>count=%{y}<extra></extra>",
         "legendgroup": "Microsoft",
         "marker": {
          "color": "#FECB52",
          "pattern": {
           "shape": ""
          }
         },
         "name": "Microsoft",
         "offsetgroup": "Microsoft",
         "orientation": "v",
         "showlegend": true,
         "textposition": "auto",
         "type": "bar",
         "x": [
          "Ultrabook"
         ],
         "xaxis": "x",
         "y": [
          6
         ],
         "yaxis": "y"
        },
        {
         "alignmentgroup": "True",
         "hovertemplate": "Company=Samsung<br>TypeName=%{x}<br>count=%{y}<extra></extra>",
         "legendgroup": "Samsung",
         "marker": {
          "color": "#636efa",
          "pattern": {
           "shape": ""
          }
         },
         "name": "Samsung",
         "offsetgroup": "Samsung",
         "orientation": "v",
         "showlegend": true,
         "textposition": "auto",
         "type": "bar",
         "x": [
          "Ultrabook",
          "2 in 1 Convertible",
          "Netbook",
          "Notebook"
         ],
         "xaxis": "x",
         "y": [
          5,
          1,
          1,
          1
         ],
         "yaxis": "y"
        },
        {
         "alignmentgroup": "True",
         "hovertemplate": "Company=Razer<br>TypeName=%{x}<br>count=%{y}<extra></extra>",
         "legendgroup": "Razer",
         "marker": {
          "color": "#EF553B",
          "pattern": {
           "shape": ""
          }
         },
         "name": "Razer",
         "offsetgroup": "Razer",
         "orientation": "v",
         "showlegend": true,
         "textposition": "auto",
         "type": "bar",
         "x": [
          "Gaming",
          "Ultrabook"
         ],
         "xaxis": "x",
         "y": [
          5,
          2
         ],
         "yaxis": "y"
        },
        {
         "alignmentgroup": "True",
         "hovertemplate": "Company=Vero<br>TypeName=%{x}<br>count=%{y}<extra></extra>",
         "legendgroup": "Vero",
         "marker": {
          "color": "#00cc96",
          "pattern": {
           "shape": ""
          }
         },
         "name": "Vero",
         "offsetgroup": "Vero",
         "orientation": "v",
         "showlegend": true,
         "textposition": "auto",
         "type": "bar",
         "x": [
          "Notebook"
         ],
         "xaxis": "x",
         "y": [
          4
         ],
         "yaxis": "y"
        },
        {
         "alignmentgroup": "True",
         "hovertemplate": "Company=Google<br>TypeName=%{x}<br>count=%{y}<extra></extra>",
         "legendgroup": "Google",
         "marker": {
          "color": "#ab63fa",
          "pattern": {
           "shape": ""
          }
         },
         "name": "Google",
         "offsetgroup": "Google",
         "orientation": "v",
         "showlegend": true,
         "textposition": "auto",
         "type": "bar",
         "x": [
          "Ultrabook"
         ],
         "xaxis": "x",
         "y": [
          3
         ],
         "yaxis": "y"
        },
        {
         "alignmentgroup": "True",
         "hovertemplate": "Company=Chuwi<br>TypeName=%{x}<br>count=%{y}<extra></extra>",
         "legendgroup": "Chuwi",
         "marker": {
          "color": "#FFA15A",
          "pattern": {
           "shape": ""
          }
         },
         "name": "Chuwi",
         "offsetgroup": "Chuwi",
         "orientation": "v",
         "showlegend": true,
         "textposition": "auto",
         "type": "bar",
         "x": [
          "Notebook"
         ],
         "xaxis": "x",
         "y": [
          3
         ],
         "yaxis": "y"
        },
        {
         "alignmentgroup": "True",
         "hovertemplate": "Company=LG<br>TypeName=%{x}<br>count=%{y}<extra></extra>",
         "legendgroup": "LG",
         "marker": {
          "color": "#19d3f3",
          "pattern": {
           "shape": ""
          }
         },
         "name": "LG",
         "offsetgroup": "LG",
         "orientation": "v",
         "showlegend": true,
         "textposition": "auto",
         "type": "bar",
         "x": [
          "Ultrabook"
         ],
         "xaxis": "x",
         "y": [
          3
         ],
         "yaxis": "y"
        },
        {
         "alignmentgroup": "True",
         "hovertemplate": "Company=Fujitsu<br>TypeName=%{x}<br>count=%{y}<extra></extra>",
         "legendgroup": "Fujitsu",
         "marker": {
          "color": "#FF6692",
          "pattern": {
           "shape": ""
          }
         },
         "name": "Fujitsu",
         "offsetgroup": "Fujitsu",
         "orientation": "v",
         "showlegend": true,
         "textposition": "auto",
         "type": "bar",
         "x": [
          "Notebook"
         ],
         "xaxis": "x",
         "y": [
          2
         ],
         "yaxis": "y"
        },
        {
         "alignmentgroup": "True",
         "hovertemplate": "Company=Huawei<br>TypeName=%{x}<br>count=%{y}<extra></extra>",
         "legendgroup": "Huawei",
         "marker": {
          "color": "#B6E880",
          "pattern": {
           "shape": ""
          }
         },
         "name": "Huawei",
         "offsetgroup": "Huawei",
         "orientation": "v",
         "showlegend": true,
         "textposition": "auto",
         "type": "bar",
         "x": [
          "Ultrabook"
         ],
         "xaxis": "x",
         "y": [
          2
         ],
         "yaxis": "y"
        },
        {
         "alignmentgroup": "True",
         "hovertemplate": "Company=Xiaomi<br>TypeName=%{x}<br>count=%{y}<extra></extra>",
         "legendgroup": "Xiaomi",
         "marker": {
          "color": "#FF97FF",
          "pattern": {
           "shape": ""
          }
         },
         "name": "Xiaomi",
         "offsetgroup": "Xiaomi",
         "orientation": "v",
         "showlegend": true,
         "textposition": "auto",
         "type": "bar",
         "x": [
          "Notebook",
          "Ultrabook"
         ],
         "xaxis": "x",
         "y": [
          2,
          2
         ],
         "yaxis": "y"
        }
       ],
       "layout": {
        "barmode": "group",
        "legend": {
         "title": {
          "text": "Company"
         },
         "tracegroupgap": 0
        },
        "margin": {
         "t": 60
        },
        "template": {
         "data": {
          "bar": [
           {
            "error_x": {
             "color": "#2a3f5f"
            },
            "error_y": {
             "color": "#2a3f5f"
            },
            "marker": {
             "line": {
              "color": "#E5ECF6",
              "width": 0.5
             },
             "pattern": {
              "fillmode": "overlay",
              "size": 10,
              "solidity": 0.2
             }
            },
            "type": "bar"
           }
          ],
          "barpolar": [
           {
            "marker": {
             "line": {
              "color": "#E5ECF6",
              "width": 0.5
             },
             "pattern": {
              "fillmode": "overlay",
              "size": 10,
              "solidity": 0.2
             }
            },
            "type": "barpolar"
           }
          ],
          "carpet": [
           {
            "aaxis": {
             "endlinecolor": "#2a3f5f",
             "gridcolor": "white",
             "linecolor": "white",
             "minorgridcolor": "white",
             "startlinecolor": "#2a3f5f"
            },
            "baxis": {
             "endlinecolor": "#2a3f5f",
             "gridcolor": "white",
             "linecolor": "white",
             "minorgridcolor": "white",
             "startlinecolor": "#2a3f5f"
            },
            "type": "carpet"
           }
          ],
          "choropleth": [
           {
            "colorbar": {
             "outlinewidth": 0,
             "ticks": ""
            },
            "type": "choropleth"
           }
          ],
          "contour": [
           {
            "colorbar": {
             "outlinewidth": 0,
             "ticks": ""
            },
            "colorscale": [
             [
              0,
              "#0d0887"
             ],
             [
              0.1111111111111111,
              "#46039f"
             ],
             [
              0.2222222222222222,
              "#7201a8"
             ],
             [
              0.3333333333333333,
              "#9c179e"
             ],
             [
              0.4444444444444444,
              "#bd3786"
             ],
             [
              0.5555555555555556,
              "#d8576b"
             ],
             [
              0.6666666666666666,
              "#ed7953"
             ],
             [
              0.7777777777777778,
              "#fb9f3a"
             ],
             [
              0.8888888888888888,
              "#fdca26"
             ],
             [
              1,
              "#f0f921"
             ]
            ],
            "type": "contour"
           }
          ],
          "contourcarpet": [
           {
            "colorbar": {
             "outlinewidth": 0,
             "ticks": ""
            },
            "type": "contourcarpet"
           }
          ],
          "heatmap": [
           {
            "colorbar": {
             "outlinewidth": 0,
             "ticks": ""
            },
            "colorscale": [
             [
              0,
              "#0d0887"
             ],
             [
              0.1111111111111111,
              "#46039f"
             ],
             [
              0.2222222222222222,
              "#7201a8"
             ],
             [
              0.3333333333333333,
              "#9c179e"
             ],
             [
              0.4444444444444444,
              "#bd3786"
             ],
             [
              0.5555555555555556,
              "#d8576b"
             ],
             [
              0.6666666666666666,
              "#ed7953"
             ],
             [
              0.7777777777777778,
              "#fb9f3a"
             ],
             [
              0.8888888888888888,
              "#fdca26"
             ],
             [
              1,
              "#f0f921"
             ]
            ],
            "type": "heatmap"
           }
          ],
          "heatmapgl": [
           {
            "colorbar": {
             "outlinewidth": 0,
             "ticks": ""
            },
            "colorscale": [
             [
              0,
              "#0d0887"
             ],
             [
              0.1111111111111111,
              "#46039f"
             ],
             [
              0.2222222222222222,
              "#7201a8"
             ],
             [
              0.3333333333333333,
              "#9c179e"
             ],
             [
              0.4444444444444444,
              "#bd3786"
             ],
             [
              0.5555555555555556,
              "#d8576b"
             ],
             [
              0.6666666666666666,
              "#ed7953"
             ],
             [
              0.7777777777777778,
              "#fb9f3a"
             ],
             [
              0.8888888888888888,
              "#fdca26"
             ],
             [
              1,
              "#f0f921"
             ]
            ],
            "type": "heatmapgl"
           }
          ],
          "histogram": [
           {
            "marker": {
             "pattern": {
              "fillmode": "overlay",
              "size": 10,
              "solidity": 0.2
             }
            },
            "type": "histogram"
           }
          ],
          "histogram2d": [
           {
            "colorbar": {
             "outlinewidth": 0,
             "ticks": ""
            },
            "colorscale": [
             [
              0,
              "#0d0887"
             ],
             [
              0.1111111111111111,
              "#46039f"
             ],
             [
              0.2222222222222222,
              "#7201a8"
             ],
             [
              0.3333333333333333,
              "#9c179e"
             ],
             [
              0.4444444444444444,
              "#bd3786"
             ],
             [
              0.5555555555555556,
              "#d8576b"
             ],
             [
              0.6666666666666666,
              "#ed7953"
             ],
             [
              0.7777777777777778,
              "#fb9f3a"
             ],
             [
              0.8888888888888888,
              "#fdca26"
             ],
             [
              1,
              "#f0f921"
             ]
            ],
            "type": "histogram2d"
           }
          ],
          "histogram2dcontour": [
           {
            "colorbar": {
             "outlinewidth": 0,
             "ticks": ""
            },
            "colorscale": [
             [
              0,
              "#0d0887"
             ],
             [
              0.1111111111111111,
              "#46039f"
             ],
             [
              0.2222222222222222,
              "#7201a8"
             ],
             [
              0.3333333333333333,
              "#9c179e"
             ],
             [
              0.4444444444444444,
              "#bd3786"
             ],
             [
              0.5555555555555556,
              "#d8576b"
             ],
             [
              0.6666666666666666,
              "#ed7953"
             ],
             [
              0.7777777777777778,
              "#fb9f3a"
             ],
             [
              0.8888888888888888,
              "#fdca26"
             ],
             [
              1,
              "#f0f921"
             ]
            ],
            "type": "histogram2dcontour"
           }
          ],
          "mesh3d": [
           {
            "colorbar": {
             "outlinewidth": 0,
             "ticks": ""
            },
            "type": "mesh3d"
           }
          ],
          "parcoords": [
           {
            "line": {
             "colorbar": {
              "outlinewidth": 0,
              "ticks": ""
             }
            },
            "type": "parcoords"
           }
          ],
          "pie": [
           {
            "automargin": true,
            "type": "pie"
           }
          ],
          "scatter": [
           {
            "fillpattern": {
             "fillmode": "overlay",
             "size": 10,
             "solidity": 0.2
            },
            "type": "scatter"
           }
          ],
          "scatter3d": [
           {
            "line": {
             "colorbar": {
              "outlinewidth": 0,
              "ticks": ""
             }
            },
            "marker": {
             "colorbar": {
              "outlinewidth": 0,
              "ticks": ""
             }
            },
            "type": "scatter3d"
           }
          ],
          "scattercarpet": [
           {
            "marker": {
             "colorbar": {
              "outlinewidth": 0,
              "ticks": ""
             }
            },
            "type": "scattercarpet"
           }
          ],
          "scattergeo": [
           {
            "marker": {
             "colorbar": {
              "outlinewidth": 0,
              "ticks": ""
             }
            },
            "type": "scattergeo"
           }
          ],
          "scattergl": [
           {
            "marker": {
             "colorbar": {
              "outlinewidth": 0,
              "ticks": ""
             }
            },
            "type": "scattergl"
           }
          ],
          "scattermapbox": [
           {
            "marker": {
             "colorbar": {
              "outlinewidth": 0,
              "ticks": ""
             }
            },
            "type": "scattermapbox"
           }
          ],
          "scatterpolar": [
           {
            "marker": {
             "colorbar": {
              "outlinewidth": 0,
              "ticks": ""
             }
            },
            "type": "scatterpolar"
           }
          ],
          "scatterpolargl": [
           {
            "marker": {
             "colorbar": {
              "outlinewidth": 0,
              "ticks": ""
             }
            },
            "type": "scatterpolargl"
           }
          ],
          "scatterternary": [
           {
            "marker": {
             "colorbar": {
              "outlinewidth": 0,
              "ticks": ""
             }
            },
            "type": "scatterternary"
           }
          ],
          "surface": [
           {
            "colorbar": {
             "outlinewidth": 0,
             "ticks": ""
            },
            "colorscale": [
             [
              0,
              "#0d0887"
             ],
             [
              0.1111111111111111,
              "#46039f"
             ],
             [
              0.2222222222222222,
              "#7201a8"
             ],
             [
              0.3333333333333333,
              "#9c179e"
             ],
             [
              0.4444444444444444,
              "#bd3786"
             ],
             [
              0.5555555555555556,
              "#d8576b"
             ],
             [
              0.6666666666666666,
              "#ed7953"
             ],
             [
              0.7777777777777778,
              "#fb9f3a"
             ],
             [
              0.8888888888888888,
              "#fdca26"
             ],
             [
              1,
              "#f0f921"
             ]
            ],
            "type": "surface"
           }
          ],
          "table": [
           {
            "cells": {
             "fill": {
              "color": "#EBF0F8"
             },
             "line": {
              "color": "white"
             }
            },
            "header": {
             "fill": {
              "color": "#C8D4E3"
             },
             "line": {
              "color": "white"
             }
            },
            "type": "table"
           }
          ]
         },
         "layout": {
          "annotationdefaults": {
           "arrowcolor": "#2a3f5f",
           "arrowhead": 0,
           "arrowwidth": 1
          },
          "autotypenumbers": "strict",
          "coloraxis": {
           "colorbar": {
            "outlinewidth": 0,
            "ticks": ""
           }
          },
          "colorscale": {
           "diverging": [
            [
             0,
             "#8e0152"
            ],
            [
             0.1,
             "#c51b7d"
            ],
            [
             0.2,
             "#de77ae"
            ],
            [
             0.3,
             "#f1b6da"
            ],
            [
             0.4,
             "#fde0ef"
            ],
            [
             0.5,
             "#f7f7f7"
            ],
            [
             0.6,
             "#e6f5d0"
            ],
            [
             0.7,
             "#b8e186"
            ],
            [
             0.8,
             "#7fbc41"
            ],
            [
             0.9,
             "#4d9221"
            ],
            [
             1,
             "#276419"
            ]
           ],
           "sequential": [
            [
             0,
             "#0d0887"
            ],
            [
             0.1111111111111111,
             "#46039f"
            ],
            [
             0.2222222222222222,
             "#7201a8"
            ],
            [
             0.3333333333333333,
             "#9c179e"
            ],
            [
             0.4444444444444444,
             "#bd3786"
            ],
            [
             0.5555555555555556,
             "#d8576b"
            ],
            [
             0.6666666666666666,
             "#ed7953"
            ],
            [
             0.7777777777777778,
             "#fb9f3a"
            ],
            [
             0.8888888888888888,
             "#fdca26"
            ],
            [
             1,
             "#f0f921"
            ]
           ],
           "sequentialminus": [
            [
             0,
             "#0d0887"
            ],
            [
             0.1111111111111111,
             "#46039f"
            ],
            [
             0.2222222222222222,
             "#7201a8"
            ],
            [
             0.3333333333333333,
             "#9c179e"
            ],
            [
             0.4444444444444444,
             "#bd3786"
            ],
            [
             0.5555555555555556,
             "#d8576b"
            ],
            [
             0.6666666666666666,
             "#ed7953"
            ],
            [
             0.7777777777777778,
             "#fb9f3a"
            ],
            [
             0.8888888888888888,
             "#fdca26"
            ],
            [
             1,
             "#f0f921"
            ]
           ]
          },
          "colorway": [
           "#636efa",
           "#EF553B",
           "#00cc96",
           "#ab63fa",
           "#FFA15A",
           "#19d3f3",
           "#FF6692",
           "#B6E880",
           "#FF97FF",
           "#FECB52"
          ],
          "font": {
           "color": "#2a3f5f"
          },
          "geo": {
           "bgcolor": "white",
           "lakecolor": "white",
           "landcolor": "#E5ECF6",
           "showlakes": true,
           "showland": true,
           "subunitcolor": "white"
          },
          "hoverlabel": {
           "align": "left"
          },
          "hovermode": "closest",
          "mapbox": {
           "style": "light"
          },
          "paper_bgcolor": "white",
          "plot_bgcolor": "#E5ECF6",
          "polar": {
           "angularaxis": {
            "gridcolor": "white",
            "linecolor": "white",
            "ticks": ""
           },
           "bgcolor": "#E5ECF6",
           "radialaxis": {
            "gridcolor": "white",
            "linecolor": "white",
            "ticks": ""
           }
          },
          "scene": {
           "xaxis": {
            "backgroundcolor": "#E5ECF6",
            "gridcolor": "white",
            "gridwidth": 2,
            "linecolor": "white",
            "showbackground": true,
            "ticks": "",
            "zerolinecolor": "white"
           },
           "yaxis": {
            "backgroundcolor": "#E5ECF6",
            "gridcolor": "white",
            "gridwidth": 2,
            "linecolor": "white",
            "showbackground": true,
            "ticks": "",
            "zerolinecolor": "white"
           },
           "zaxis": {
            "backgroundcolor": "#E5ECF6",
            "gridcolor": "white",
            "gridwidth": 2,
            "linecolor": "white",
            "showbackground": true,
            "ticks": "",
            "zerolinecolor": "white"
           }
          },
          "shapedefaults": {
           "line": {
            "color": "#2a3f5f"
           }
          },
          "ternary": {
           "aaxis": {
            "gridcolor": "white",
            "linecolor": "white",
            "ticks": ""
           },
           "baxis": {
            "gridcolor": "white",
            "linecolor": "white",
            "ticks": ""
           },
           "bgcolor": "#E5ECF6",
           "caxis": {
            "gridcolor": "white",
            "linecolor": "white",
            "ticks": ""
           }
          },
          "title": {
           "x": 0.05
          },
          "xaxis": {
           "automargin": true,
           "gridcolor": "white",
           "linecolor": "white",
           "ticks": "",
           "title": {
            "standoff": 15
           },
           "zerolinecolor": "white",
           "zerolinewidth": 2
          },
          "yaxis": {
           "automargin": true,
           "gridcolor": "white",
           "linecolor": "white",
           "ticks": "",
           "title": {
            "standoff": 15
           },
           "zerolinecolor": "white",
           "zerolinewidth": 2
          }
         }
        },
        "xaxis": {
         "anchor": "y",
         "domain": [
          0,
          1
         ],
         "title": {
          "text": "Type "
         }
        },
        "yaxis": {
         "anchor": "x",
         "domain": [
          0,
          1
         ],
         "title": {
          "text": "Total Sales"
         }
        }
       }
      }
     },
     "metadata": {},
     "output_type": "display_data"
    }
   ],
   "source": [
    "## Creating a data frame by grouping\n",
    "df1=df.groupby(['Company'])['TypeName'].value_counts().to_frame().sort_values(by='count',ascending=False)\n",
    "df1=df1.reset_index()\n",
    "df1\n",
    "\n",
    "## Creating a bar chart to Vis\n",
    "\n",
    "fig= px.bar( df1 , x=df1['TypeName'] ,\n",
    "           y= df1['count']\n",
    "        , color='Company'\n",
    "        , barmode = 'group')\n",
    "fig.update_xaxes(title='Type ')\n",
    "fig.update_yaxes(title='Total Sales')\n"
   ]
  },
  {
   "cell_type": "markdown",
   "id": "03b3d575",
   "metadata": {},
   "source": [
    "- Average Price Of each company"
   ]
  },
  {
   "cell_type": "code",
   "execution_count": 66,
   "id": "7744077d",
   "metadata": {},
   "outputs": [
    {
     "data": {
      "application/vnd.plotly.v1+json": {
       "config": {
        "plotlyServerURL": "https://plot.ly"
       },
       "data": [
        {
         "alignmentgroup": "True",
         "hovertemplate": "Company=%{x}<br>Price=%{y}<extra></extra>",
         "legendgroup": "",
         "marker": {
          "color": "#636efa",
          "pattern": {
           "shape": ""
          }
         },
         "name": "",
         "offsetgroup": "",
         "orientation": "v",
         "showlegend": false,
         "textposition": "auto",
         "type": "bar",
         "x": [
          "Razer",
          "LG",
          "MSI",
          "Google",
          "Microsoft",
          "Apple",
          "Samsung",
          "Huawei",
          "Toshiba",
          "Dell"
         ],
         "xaxis": "x",
         "y": [
          2139.389897142857,
          1342.01664,
          1101.7745866867924,
          1072.63296,
          1030.845456,
          1000.0859986285714,
          963.99504,
          910.4486400000001,
          800.9684425531915,
          767.5666742434164
         ],
         "yaxis": "y"
        }
       ],
       "layout": {
        "barmode": "relative",
        "legend": {
         "tracegroupgap": 0
        },
        "template": {
         "data": {
          "bar": [
           {
            "error_x": {
             "color": "#2a3f5f"
            },
            "error_y": {
             "color": "#2a3f5f"
            },
            "marker": {
             "line": {
              "color": "#E5ECF6",
              "width": 0.5
             },
             "pattern": {
              "fillmode": "overlay",
              "size": 10,
              "solidity": 0.2
             }
            },
            "type": "bar"
           }
          ],
          "barpolar": [
           {
            "marker": {
             "line": {
              "color": "#E5ECF6",
              "width": 0.5
             },
             "pattern": {
              "fillmode": "overlay",
              "size": 10,
              "solidity": 0.2
             }
            },
            "type": "barpolar"
           }
          ],
          "carpet": [
           {
            "aaxis": {
             "endlinecolor": "#2a3f5f",
             "gridcolor": "white",
             "linecolor": "white",
             "minorgridcolor": "white",
             "startlinecolor": "#2a3f5f"
            },
            "baxis": {
             "endlinecolor": "#2a3f5f",
             "gridcolor": "white",
             "linecolor": "white",
             "minorgridcolor": "white",
             "startlinecolor": "#2a3f5f"
            },
            "type": "carpet"
           }
          ],
          "choropleth": [
           {
            "colorbar": {
             "outlinewidth": 0,
             "ticks": ""
            },
            "type": "choropleth"
           }
          ],
          "contour": [
           {
            "colorbar": {
             "outlinewidth": 0,
             "ticks": ""
            },
            "colorscale": [
             [
              0,
              "#0d0887"
             ],
             [
              0.1111111111111111,
              "#46039f"
             ],
             [
              0.2222222222222222,
              "#7201a8"
             ],
             [
              0.3333333333333333,
              "#9c179e"
             ],
             [
              0.4444444444444444,
              "#bd3786"
             ],
             [
              0.5555555555555556,
              "#d8576b"
             ],
             [
              0.6666666666666666,
              "#ed7953"
             ],
             [
              0.7777777777777778,
              "#fb9f3a"
             ],
             [
              0.8888888888888888,
              "#fdca26"
             ],
             [
              1,
              "#f0f921"
             ]
            ],
            "type": "contour"
           }
          ],
          "contourcarpet": [
           {
            "colorbar": {
             "outlinewidth": 0,
             "ticks": ""
            },
            "type": "contourcarpet"
           }
          ],
          "heatmap": [
           {
            "colorbar": {
             "outlinewidth": 0,
             "ticks": ""
            },
            "colorscale": [
             [
              0,
              "#0d0887"
             ],
             [
              0.1111111111111111,
              "#46039f"
             ],
             [
              0.2222222222222222,
              "#7201a8"
             ],
             [
              0.3333333333333333,
              "#9c179e"
             ],
             [
              0.4444444444444444,
              "#bd3786"
             ],
             [
              0.5555555555555556,
              "#d8576b"
             ],
             [
              0.6666666666666666,
              "#ed7953"
             ],
             [
              0.7777777777777778,
              "#fb9f3a"
             ],
             [
              0.8888888888888888,
              "#fdca26"
             ],
             [
              1,
              "#f0f921"
             ]
            ],
            "type": "heatmap"
           }
          ],
          "heatmapgl": [
           {
            "colorbar": {
             "outlinewidth": 0,
             "ticks": ""
            },
            "colorscale": [
             [
              0,
              "#0d0887"
             ],
             [
              0.1111111111111111,
              "#46039f"
             ],
             [
              0.2222222222222222,
              "#7201a8"
             ],
             [
              0.3333333333333333,
              "#9c179e"
             ],
             [
              0.4444444444444444,
              "#bd3786"
             ],
             [
              0.5555555555555556,
              "#d8576b"
             ],
             [
              0.6666666666666666,
              "#ed7953"
             ],
             [
              0.7777777777777778,
              "#fb9f3a"
             ],
             [
              0.8888888888888888,
              "#fdca26"
             ],
             [
              1,
              "#f0f921"
             ]
            ],
            "type": "heatmapgl"
           }
          ],
          "histogram": [
           {
            "marker": {
             "pattern": {
              "fillmode": "overlay",
              "size": 10,
              "solidity": 0.2
             }
            },
            "type": "histogram"
           }
          ],
          "histogram2d": [
           {
            "colorbar": {
             "outlinewidth": 0,
             "ticks": ""
            },
            "colorscale": [
             [
              0,
              "#0d0887"
             ],
             [
              0.1111111111111111,
              "#46039f"
             ],
             [
              0.2222222222222222,
              "#7201a8"
             ],
             [
              0.3333333333333333,
              "#9c179e"
             ],
             [
              0.4444444444444444,
              "#bd3786"
             ],
             [
              0.5555555555555556,
              "#d8576b"
             ],
             [
              0.6666666666666666,
              "#ed7953"
             ],
             [
              0.7777777777777778,
              "#fb9f3a"
             ],
             [
              0.8888888888888888,
              "#fdca26"
             ],
             [
              1,
              "#f0f921"
             ]
            ],
            "type": "histogram2d"
           }
          ],
          "histogram2dcontour": [
           {
            "colorbar": {
             "outlinewidth": 0,
             "ticks": ""
            },
            "colorscale": [
             [
              0,
              "#0d0887"
             ],
             [
              0.1111111111111111,
              "#46039f"
             ],
             [
              0.2222222222222222,
              "#7201a8"
             ],
             [
              0.3333333333333333,
              "#9c179e"
             ],
             [
              0.4444444444444444,
              "#bd3786"
             ],
             [
              0.5555555555555556,
              "#d8576b"
             ],
             [
              0.6666666666666666,
              "#ed7953"
             ],
             [
              0.7777777777777778,
              "#fb9f3a"
             ],
             [
              0.8888888888888888,
              "#fdca26"
             ],
             [
              1,
              "#f0f921"
             ]
            ],
            "type": "histogram2dcontour"
           }
          ],
          "mesh3d": [
           {
            "colorbar": {
             "outlinewidth": 0,
             "ticks": ""
            },
            "type": "mesh3d"
           }
          ],
          "parcoords": [
           {
            "line": {
             "colorbar": {
              "outlinewidth": 0,
              "ticks": ""
             }
            },
            "type": "parcoords"
           }
          ],
          "pie": [
           {
            "automargin": true,
            "type": "pie"
           }
          ],
          "scatter": [
           {
            "fillpattern": {
             "fillmode": "overlay",
             "size": 10,
             "solidity": 0.2
            },
            "type": "scatter"
           }
          ],
          "scatter3d": [
           {
            "line": {
             "colorbar": {
              "outlinewidth": 0,
              "ticks": ""
             }
            },
            "marker": {
             "colorbar": {
              "outlinewidth": 0,
              "ticks": ""
             }
            },
            "type": "scatter3d"
           }
          ],
          "scattercarpet": [
           {
            "marker": {
             "colorbar": {
              "outlinewidth": 0,
              "ticks": ""
             }
            },
            "type": "scattercarpet"
           }
          ],
          "scattergeo": [
           {
            "marker": {
             "colorbar": {
              "outlinewidth": 0,
              "ticks": ""
             }
            },
            "type": "scattergeo"
           }
          ],
          "scattergl": [
           {
            "marker": {
             "colorbar": {
              "outlinewidth": 0,
              "ticks": ""
             }
            },
            "type": "scattergl"
           }
          ],
          "scattermapbox": [
           {
            "marker": {
             "colorbar": {
              "outlinewidth": 0,
              "ticks": ""
             }
            },
            "type": "scattermapbox"
           }
          ],
          "scatterpolar": [
           {
            "marker": {
             "colorbar": {
              "outlinewidth": 0,
              "ticks": ""
             }
            },
            "type": "scatterpolar"
           }
          ],
          "scatterpolargl": [
           {
            "marker": {
             "colorbar": {
              "outlinewidth": 0,
              "ticks": ""
             }
            },
            "type": "scatterpolargl"
           }
          ],
          "scatterternary": [
           {
            "marker": {
             "colorbar": {
              "outlinewidth": 0,
              "ticks": ""
             }
            },
            "type": "scatterternary"
           }
          ],
          "surface": [
           {
            "colorbar": {
             "outlinewidth": 0,
             "ticks": ""
            },
            "colorscale": [
             [
              0,
              "#0d0887"
             ],
             [
              0.1111111111111111,
              "#46039f"
             ],
             [
              0.2222222222222222,
              "#7201a8"
             ],
             [
              0.3333333333333333,
              "#9c179e"
             ],
             [
              0.4444444444444444,
              "#bd3786"
             ],
             [
              0.5555555555555556,
              "#d8576b"
             ],
             [
              0.6666666666666666,
              "#ed7953"
             ],
             [
              0.7777777777777778,
              "#fb9f3a"
             ],
             [
              0.8888888888888888,
              "#fdca26"
             ],
             [
              1,
              "#f0f921"
             ]
            ],
            "type": "surface"
           }
          ],
          "table": [
           {
            "cells": {
             "fill": {
              "color": "#EBF0F8"
             },
             "line": {
              "color": "white"
             }
            },
            "header": {
             "fill": {
              "color": "#C8D4E3"
             },
             "line": {
              "color": "white"
             }
            },
            "type": "table"
           }
          ]
         },
         "layout": {
          "annotationdefaults": {
           "arrowcolor": "#2a3f5f",
           "arrowhead": 0,
           "arrowwidth": 1
          },
          "autotypenumbers": "strict",
          "coloraxis": {
           "colorbar": {
            "outlinewidth": 0,
            "ticks": ""
           }
          },
          "colorscale": {
           "diverging": [
            [
             0,
             "#8e0152"
            ],
            [
             0.1,
             "#c51b7d"
            ],
            [
             0.2,
             "#de77ae"
            ],
            [
             0.3,
             "#f1b6da"
            ],
            [
             0.4,
             "#fde0ef"
            ],
            [
             0.5,
             "#f7f7f7"
            ],
            [
             0.6,
             "#e6f5d0"
            ],
            [
             0.7,
             "#b8e186"
            ],
            [
             0.8,
             "#7fbc41"
            ],
            [
             0.9,
             "#4d9221"
            ],
            [
             1,
             "#276419"
            ]
           ],
           "sequential": [
            [
             0,
             "#0d0887"
            ],
            [
             0.1111111111111111,
             "#46039f"
            ],
            [
             0.2222222222222222,
             "#7201a8"
            ],
            [
             0.3333333333333333,
             "#9c179e"
            ],
            [
             0.4444444444444444,
             "#bd3786"
            ],
            [
             0.5555555555555556,
             "#d8576b"
            ],
            [
             0.6666666666666666,
             "#ed7953"
            ],
            [
             0.7777777777777778,
             "#fb9f3a"
            ],
            [
             0.8888888888888888,
             "#fdca26"
            ],
            [
             1,
             "#f0f921"
            ]
           ],
           "sequentialminus": [
            [
             0,
             "#0d0887"
            ],
            [
             0.1111111111111111,
             "#46039f"
            ],
            [
             0.2222222222222222,
             "#7201a8"
            ],
            [
             0.3333333333333333,
             "#9c179e"
            ],
            [
             0.4444444444444444,
             "#bd3786"
            ],
            [
             0.5555555555555556,
             "#d8576b"
            ],
            [
             0.6666666666666666,
             "#ed7953"
            ],
            [
             0.7777777777777778,
             "#fb9f3a"
            ],
            [
             0.8888888888888888,
             "#fdca26"
            ],
            [
             1,
             "#f0f921"
            ]
           ]
          },
          "colorway": [
           "#636efa",
           "#EF553B",
           "#00cc96",
           "#ab63fa",
           "#FFA15A",
           "#19d3f3",
           "#FF6692",
           "#B6E880",
           "#FF97FF",
           "#FECB52"
          ],
          "font": {
           "color": "#2a3f5f"
          },
          "geo": {
           "bgcolor": "white",
           "lakecolor": "white",
           "landcolor": "#E5ECF6",
           "showlakes": true,
           "showland": true,
           "subunitcolor": "white"
          },
          "hoverlabel": {
           "align": "left"
          },
          "hovermode": "closest",
          "mapbox": {
           "style": "light"
          },
          "paper_bgcolor": "white",
          "plot_bgcolor": "#E5ECF6",
          "polar": {
           "angularaxis": {
            "gridcolor": "white",
            "linecolor": "white",
            "ticks": ""
           },
           "bgcolor": "#E5ECF6",
           "radialaxis": {
            "gridcolor": "white",
            "linecolor": "white",
            "ticks": ""
           }
          },
          "scene": {
           "xaxis": {
            "backgroundcolor": "#E5ECF6",
            "gridcolor": "white",
            "gridwidth": 2,
            "linecolor": "white",
            "showbackground": true,
            "ticks": "",
            "zerolinecolor": "white"
           },
           "yaxis": {
            "backgroundcolor": "#E5ECF6",
            "gridcolor": "white",
            "gridwidth": 2,
            "linecolor": "white",
            "showbackground": true,
            "ticks": "",
            "zerolinecolor": "white"
           },
           "zaxis": {
            "backgroundcolor": "#E5ECF6",
            "gridcolor": "white",
            "gridwidth": 2,
            "linecolor": "white",
            "showbackground": true,
            "ticks": "",
            "zerolinecolor": "white"
           }
          },
          "shapedefaults": {
           "line": {
            "color": "#2a3f5f"
           }
          },
          "ternary": {
           "aaxis": {
            "gridcolor": "white",
            "linecolor": "white",
            "ticks": ""
           },
           "baxis": {
            "gridcolor": "white",
            "linecolor": "white",
            "ticks": ""
           },
           "bgcolor": "#E5ECF6",
           "caxis": {
            "gridcolor": "white",
            "linecolor": "white",
            "ticks": ""
           }
          },
          "title": {
           "x": 0.05
          },
          "xaxis": {
           "automargin": true,
           "gridcolor": "white",
           "linecolor": "white",
           "ticks": "",
           "title": {
            "standoff": 15
           },
           "zerolinecolor": "white",
           "zerolinewidth": 2
          },
          "yaxis": {
           "automargin": true,
           "gridcolor": "white",
           "linecolor": "white",
           "ticks": "",
           "title": {
            "standoff": 15
           },
           "zerolinecolor": "white",
           "zerolinewidth": 2
          }
         }
        },
        "title": {
         "text": "Brands with their avg Price"
        },
        "xaxis": {
         "anchor": "y",
         "domain": [
          0,
          1
         ],
         "title": {
          "text": "Company"
         }
        },
        "yaxis": {
         "anchor": "x",
         "domain": [
          0,
          1
         ],
         "title": {
          "text": "Price"
         }
        }
       }
      }
     },
     "metadata": {},
     "output_type": "display_data"
    }
   ],
   "source": [
    "## Create a data frame with average price of each laptop\n",
    "df1= df.groupby('Company')['Price'].mean().reset_index().nlargest(10,'Price')\n",
    "\n",
    "## Create a bar chart with to Visu\n",
    "\n",
    "px.bar(df1 ,\n",
    "       x=df1['Company'] , \n",
    "       y='Price',\n",
    "       title='Brands with their avg Price')\n"
   ]
  },
  {
   "cell_type": "markdown",
   "id": "0abfac5d",
   "metadata": {},
   "source": [
    "\n",
    "- Average Price of each Type"
   ]
  },
  {
   "cell_type": "code",
   "execution_count": 67,
   "id": "46967410",
   "metadata": {},
   "outputs": [
    {
     "data": {
      "application/vnd.plotly.v1+json": {
       "config": {
        "plotlyServerURL": "https://plot.ly"
       },
       "data": [
        {
         "alignmentgroup": "True",
         "hovertemplate": "TypeName=%{x}<br>Price=%{y}<extra></extra>",
         "legendgroup": "",
         "marker": {
          "color": "#636efa",
          "pattern": {
           "shape": ""
          }
         },
         "name": "",
         "offsetgroup": "",
         "orientation": "v",
         "showlegend": false,
         "textposition": "auto",
         "type": "bar",
         "x": [
          "Workstation",
          "Gaming",
          "Ultrabook",
          "2 in 1 Convertible",
          "Notebook",
          "Netbook"
         ],
         "xaxis": "x",
         "y": [
          1457.9703081931034,
          1106.4519439448277,
          1000.7105417142857,
          826.6844735999999,
          503.2534700586357,
          444.5266647272727
         ],
         "yaxis": "y"
        }
       ],
       "layout": {
        "barmode": "relative",
        "legend": {
         "tracegroupgap": 0
        },
        "template": {
         "data": {
          "bar": [
           {
            "error_x": {
             "color": "#2a3f5f"
            },
            "error_y": {
             "color": "#2a3f5f"
            },
            "marker": {
             "line": {
              "color": "#E5ECF6",
              "width": 0.5
             },
             "pattern": {
              "fillmode": "overlay",
              "size": 10,
              "solidity": 0.2
             }
            },
            "type": "bar"
           }
          ],
          "barpolar": [
           {
            "marker": {
             "line": {
              "color": "#E5ECF6",
              "width": 0.5
             },
             "pattern": {
              "fillmode": "overlay",
              "size": 10,
              "solidity": 0.2
             }
            },
            "type": "barpolar"
           }
          ],
          "carpet": [
           {
            "aaxis": {
             "endlinecolor": "#2a3f5f",
             "gridcolor": "white",
             "linecolor": "white",
             "minorgridcolor": "white",
             "startlinecolor": "#2a3f5f"
            },
            "baxis": {
             "endlinecolor": "#2a3f5f",
             "gridcolor": "white",
             "linecolor": "white",
             "minorgridcolor": "white",
             "startlinecolor": "#2a3f5f"
            },
            "type": "carpet"
           }
          ],
          "choropleth": [
           {
            "colorbar": {
             "outlinewidth": 0,
             "ticks": ""
            },
            "type": "choropleth"
           }
          ],
          "contour": [
           {
            "colorbar": {
             "outlinewidth": 0,
             "ticks": ""
            },
            "colorscale": [
             [
              0,
              "#0d0887"
             ],
             [
              0.1111111111111111,
              "#46039f"
             ],
             [
              0.2222222222222222,
              "#7201a8"
             ],
             [
              0.3333333333333333,
              "#9c179e"
             ],
             [
              0.4444444444444444,
              "#bd3786"
             ],
             [
              0.5555555555555556,
              "#d8576b"
             ],
             [
              0.6666666666666666,
              "#ed7953"
             ],
             [
              0.7777777777777778,
              "#fb9f3a"
             ],
             [
              0.8888888888888888,
              "#fdca26"
             ],
             [
              1,
              "#f0f921"
             ]
            ],
            "type": "contour"
           }
          ],
          "contourcarpet": [
           {
            "colorbar": {
             "outlinewidth": 0,
             "ticks": ""
            },
            "type": "contourcarpet"
           }
          ],
          "heatmap": [
           {
            "colorbar": {
             "outlinewidth": 0,
             "ticks": ""
            },
            "colorscale": [
             [
              0,
              "#0d0887"
             ],
             [
              0.1111111111111111,
              "#46039f"
             ],
             [
              0.2222222222222222,
              "#7201a8"
             ],
             [
              0.3333333333333333,
              "#9c179e"
             ],
             [
              0.4444444444444444,
              "#bd3786"
             ],
             [
              0.5555555555555556,
              "#d8576b"
             ],
             [
              0.6666666666666666,
              "#ed7953"
             ],
             [
              0.7777777777777778,
              "#fb9f3a"
             ],
             [
              0.8888888888888888,
              "#fdca26"
             ],
             [
              1,
              "#f0f921"
             ]
            ],
            "type": "heatmap"
           }
          ],
          "heatmapgl": [
           {
            "colorbar": {
             "outlinewidth": 0,
             "ticks": ""
            },
            "colorscale": [
             [
              0,
              "#0d0887"
             ],
             [
              0.1111111111111111,
              "#46039f"
             ],
             [
              0.2222222222222222,
              "#7201a8"
             ],
             [
              0.3333333333333333,
              "#9c179e"
             ],
             [
              0.4444444444444444,
              "#bd3786"
             ],
             [
              0.5555555555555556,
              "#d8576b"
             ],
             [
              0.6666666666666666,
              "#ed7953"
             ],
             [
              0.7777777777777778,
              "#fb9f3a"
             ],
             [
              0.8888888888888888,
              "#fdca26"
             ],
             [
              1,
              "#f0f921"
             ]
            ],
            "type": "heatmapgl"
           }
          ],
          "histogram": [
           {
            "marker": {
             "pattern": {
              "fillmode": "overlay",
              "size": 10,
              "solidity": 0.2
             }
            },
            "type": "histogram"
           }
          ],
          "histogram2d": [
           {
            "colorbar": {
             "outlinewidth": 0,
             "ticks": ""
            },
            "colorscale": [
             [
              0,
              "#0d0887"
             ],
             [
              0.1111111111111111,
              "#46039f"
             ],
             [
              0.2222222222222222,
              "#7201a8"
             ],
             [
              0.3333333333333333,
              "#9c179e"
             ],
             [
              0.4444444444444444,
              "#bd3786"
             ],
             [
              0.5555555555555556,
              "#d8576b"
             ],
             [
              0.6666666666666666,
              "#ed7953"
             ],
             [
              0.7777777777777778,
              "#fb9f3a"
             ],
             [
              0.8888888888888888,
              "#fdca26"
             ],
             [
              1,
              "#f0f921"
             ]
            ],
            "type": "histogram2d"
           }
          ],
          "histogram2dcontour": [
           {
            "colorbar": {
             "outlinewidth": 0,
             "ticks": ""
            },
            "colorscale": [
             [
              0,
              "#0d0887"
             ],
             [
              0.1111111111111111,
              "#46039f"
             ],
             [
              0.2222222222222222,
              "#7201a8"
             ],
             [
              0.3333333333333333,
              "#9c179e"
             ],
             [
              0.4444444444444444,
              "#bd3786"
             ],
             [
              0.5555555555555556,
              "#d8576b"
             ],
             [
              0.6666666666666666,
              "#ed7953"
             ],
             [
              0.7777777777777778,
              "#fb9f3a"
             ],
             [
              0.8888888888888888,
              "#fdca26"
             ],
             [
              1,
              "#f0f921"
             ]
            ],
            "type": "histogram2dcontour"
           }
          ],
          "mesh3d": [
           {
            "colorbar": {
             "outlinewidth": 0,
             "ticks": ""
            },
            "type": "mesh3d"
           }
          ],
          "parcoords": [
           {
            "line": {
             "colorbar": {
              "outlinewidth": 0,
              "ticks": ""
             }
            },
            "type": "parcoords"
           }
          ],
          "pie": [
           {
            "automargin": true,
            "type": "pie"
           }
          ],
          "scatter": [
           {
            "fillpattern": {
             "fillmode": "overlay",
             "size": 10,
             "solidity": 0.2
            },
            "type": "scatter"
           }
          ],
          "scatter3d": [
           {
            "line": {
             "colorbar": {
              "outlinewidth": 0,
              "ticks": ""
             }
            },
            "marker": {
             "colorbar": {
              "outlinewidth": 0,
              "ticks": ""
             }
            },
            "type": "scatter3d"
           }
          ],
          "scattercarpet": [
           {
            "marker": {
             "colorbar": {
              "outlinewidth": 0,
              "ticks": ""
             }
            },
            "type": "scattercarpet"
           }
          ],
          "scattergeo": [
           {
            "marker": {
             "colorbar": {
              "outlinewidth": 0,
              "ticks": ""
             }
            },
            "type": "scattergeo"
           }
          ],
          "scattergl": [
           {
            "marker": {
             "colorbar": {
              "outlinewidth": 0,
              "ticks": ""
             }
            },
            "type": "scattergl"
           }
          ],
          "scattermapbox": [
           {
            "marker": {
             "colorbar": {
              "outlinewidth": 0,
              "ticks": ""
             }
            },
            "type": "scattermapbox"
           }
          ],
          "scatterpolar": [
           {
            "marker": {
             "colorbar": {
              "outlinewidth": 0,
              "ticks": ""
             }
            },
            "type": "scatterpolar"
           }
          ],
          "scatterpolargl": [
           {
            "marker": {
             "colorbar": {
              "outlinewidth": 0,
              "ticks": ""
             }
            },
            "type": "scatterpolargl"
           }
          ],
          "scatterternary": [
           {
            "marker": {
             "colorbar": {
              "outlinewidth": 0,
              "ticks": ""
             }
            },
            "type": "scatterternary"
           }
          ],
          "surface": [
           {
            "colorbar": {
             "outlinewidth": 0,
             "ticks": ""
            },
            "colorscale": [
             [
              0,
              "#0d0887"
             ],
             [
              0.1111111111111111,
              "#46039f"
             ],
             [
              0.2222222222222222,
              "#7201a8"
             ],
             [
              0.3333333333333333,
              "#9c179e"
             ],
             [
              0.4444444444444444,
              "#bd3786"
             ],
             [
              0.5555555555555556,
              "#d8576b"
             ],
             [
              0.6666666666666666,
              "#ed7953"
             ],
             [
              0.7777777777777778,
              "#fb9f3a"
             ],
             [
              0.8888888888888888,
              "#fdca26"
             ],
             [
              1,
              "#f0f921"
             ]
            ],
            "type": "surface"
           }
          ],
          "table": [
           {
            "cells": {
             "fill": {
              "color": "#EBF0F8"
             },
             "line": {
              "color": "white"
             }
            },
            "header": {
             "fill": {
              "color": "#C8D4E3"
             },
             "line": {
              "color": "white"
             }
            },
            "type": "table"
           }
          ]
         },
         "layout": {
          "annotationdefaults": {
           "arrowcolor": "#2a3f5f",
           "arrowhead": 0,
           "arrowwidth": 1
          },
          "autotypenumbers": "strict",
          "coloraxis": {
           "colorbar": {
            "outlinewidth": 0,
            "ticks": ""
           }
          },
          "colorscale": {
           "diverging": [
            [
             0,
             "#8e0152"
            ],
            [
             0.1,
             "#c51b7d"
            ],
            [
             0.2,
             "#de77ae"
            ],
            [
             0.3,
             "#f1b6da"
            ],
            [
             0.4,
             "#fde0ef"
            ],
            [
             0.5,
             "#f7f7f7"
            ],
            [
             0.6,
             "#e6f5d0"
            ],
            [
             0.7,
             "#b8e186"
            ],
            [
             0.8,
             "#7fbc41"
            ],
            [
             0.9,
             "#4d9221"
            ],
            [
             1,
             "#276419"
            ]
           ],
           "sequential": [
            [
             0,
             "#0d0887"
            ],
            [
             0.1111111111111111,
             "#46039f"
            ],
            [
             0.2222222222222222,
             "#7201a8"
            ],
            [
             0.3333333333333333,
             "#9c179e"
            ],
            [
             0.4444444444444444,
             "#bd3786"
            ],
            [
             0.5555555555555556,
             "#d8576b"
            ],
            [
             0.6666666666666666,
             "#ed7953"
            ],
            [
             0.7777777777777778,
             "#fb9f3a"
            ],
            [
             0.8888888888888888,
             "#fdca26"
            ],
            [
             1,
             "#f0f921"
            ]
           ],
           "sequentialminus": [
            [
             0,
             "#0d0887"
            ],
            [
             0.1111111111111111,
             "#46039f"
            ],
            [
             0.2222222222222222,
             "#7201a8"
            ],
            [
             0.3333333333333333,
             "#9c179e"
            ],
            [
             0.4444444444444444,
             "#bd3786"
            ],
            [
             0.5555555555555556,
             "#d8576b"
            ],
            [
             0.6666666666666666,
             "#ed7953"
            ],
            [
             0.7777777777777778,
             "#fb9f3a"
            ],
            [
             0.8888888888888888,
             "#fdca26"
            ],
            [
             1,
             "#f0f921"
            ]
           ]
          },
          "colorway": [
           "#636efa",
           "#EF553B",
           "#00cc96",
           "#ab63fa",
           "#FFA15A",
           "#19d3f3",
           "#FF6692",
           "#B6E880",
           "#FF97FF",
           "#FECB52"
          ],
          "font": {
           "color": "#2a3f5f"
          },
          "geo": {
           "bgcolor": "white",
           "lakecolor": "white",
           "landcolor": "#E5ECF6",
           "showlakes": true,
           "showland": true,
           "subunitcolor": "white"
          },
          "hoverlabel": {
           "align": "left"
          },
          "hovermode": "closest",
          "mapbox": {
           "style": "light"
          },
          "paper_bgcolor": "white",
          "plot_bgcolor": "#E5ECF6",
          "polar": {
           "angularaxis": {
            "gridcolor": "white",
            "linecolor": "white",
            "ticks": ""
           },
           "bgcolor": "#E5ECF6",
           "radialaxis": {
            "gridcolor": "white",
            "linecolor": "white",
            "ticks": ""
           }
          },
          "scene": {
           "xaxis": {
            "backgroundcolor": "#E5ECF6",
            "gridcolor": "white",
            "gridwidth": 2,
            "linecolor": "white",
            "showbackground": true,
            "ticks": "",
            "zerolinecolor": "white"
           },
           "yaxis": {
            "backgroundcolor": "#E5ECF6",
            "gridcolor": "white",
            "gridwidth": 2,
            "linecolor": "white",
            "showbackground": true,
            "ticks": "",
            "zerolinecolor": "white"
           },
           "zaxis": {
            "backgroundcolor": "#E5ECF6",
            "gridcolor": "white",
            "gridwidth": 2,
            "linecolor": "white",
            "showbackground": true,
            "ticks": "",
            "zerolinecolor": "white"
           }
          },
          "shapedefaults": {
           "line": {
            "color": "#2a3f5f"
           }
          },
          "ternary": {
           "aaxis": {
            "gridcolor": "white",
            "linecolor": "white",
            "ticks": ""
           },
           "baxis": {
            "gridcolor": "white",
            "linecolor": "white",
            "ticks": ""
           },
           "bgcolor": "#E5ECF6",
           "caxis": {
            "gridcolor": "white",
            "linecolor": "white",
            "ticks": ""
           }
          },
          "title": {
           "x": 0.05
          },
          "xaxis": {
           "automargin": true,
           "gridcolor": "white",
           "linecolor": "white",
           "ticks": "",
           "title": {
            "standoff": 15
           },
           "zerolinecolor": "white",
           "zerolinewidth": 2
          },
          "yaxis": {
           "automargin": true,
           "gridcolor": "white",
           "linecolor": "white",
           "ticks": "",
           "title": {
            "standoff": 15
           },
           "zerolinecolor": "white",
           "zerolinewidth": 2
          }
         }
        },
        "title": {
         "text": "Type with their avg Price"
        },
        "xaxis": {
         "anchor": "y",
         "domain": [
          0,
          1
         ],
         "title": {
          "text": "TypeName"
         }
        },
        "yaxis": {
         "anchor": "x",
         "domain": [
          0,
          1
         ],
         "title": {
          "text": "Price"
         }
        }
       }
      }
     },
     "metadata": {},
     "output_type": "display_data"
    }
   ],
   "source": [
    "## Create a data frame with average price of each laptop\n",
    "df1= df.groupby('TypeName')['Price'].mean().reset_index().nlargest(10,'Price')\n",
    "\n",
    "## Create a bar chart with to Visu\n",
    "\n",
    "px.bar(df1 ,\n",
    "       x=df1['TypeName'] , \n",
    "       y='Price',\n",
    "       title='Type with their avg Price')\n"
   ]
  },
  {
   "cell_type": "code",
   "execution_count": null,
   "id": "b6c277de",
   "metadata": {},
   "outputs": [],
   "source": []
  },
  {
   "cell_type": "markdown",
   "id": "c0becd40",
   "metadata": {},
   "source": [
    "- Relationship Between Price and RAM"
   ]
  },
  {
   "cell_type": "code",
   "execution_count": 68,
   "id": "527beb63",
   "metadata": {},
   "outputs": [
    {
     "data": {
      "application/vnd.plotly.v1+json": {
       "config": {
        "plotlyServerURL": "https://plot.ly"
       },
       "data": [
        {
         "hovertemplate": "RamGB=%{x}<br>Price=%{y}<extra></extra>",
         "legendgroup": "",
         "marker": {
          "color": "#636efa",
          "symbol": "circle"
         },
         "mode": "markers",
         "name": "",
         "showlegend": false,
         "type": "scattergl",
         "x": [
          8,
          8,
          8,
          16,
          8,
          4,
          16,
          8,
          16,
          8,
          4,
          4,
          16,
          4,
          8,
          8,
          8,
          16,
          8,
          8,
          8,
          4,
          8,
          8,
          4,
          8,
          8,
          8,
          8,
          4,
          2,
          4,
          16,
          8,
          4,
          4,
          8,
          4,
          8,
          4,
          16,
          8,
          4,
          12,
          8,
          8,
          4,
          4,
          8,
          4,
          8,
          4,
          8,
          4,
          4,
          16,
          4,
          16,
          8,
          8,
          8,
          8,
          16,
          4,
          4,
          4,
          12,
          4,
          64,
          8,
          8,
          8,
          8,
          8,
          8,
          4,
          8,
          8,
          8,
          8,
          4,
          4,
          16,
          8,
          8,
          16,
          8,
          8,
          2,
          16,
          8,
          8,
          8,
          8,
          4,
          6,
          12,
          8,
          4,
          8,
          8,
          8,
          6,
          4,
          8,
          16,
          8,
          16,
          8,
          8,
          4,
          8,
          8,
          8,
          4,
          8,
          6,
          16,
          8,
          16,
          4,
          8,
          4,
          16,
          8,
          8,
          4,
          8,
          4,
          8,
          8,
          4,
          8,
          4,
          4,
          4,
          8,
          8,
          4,
          4,
          8,
          8,
          4,
          4,
          16,
          8,
          4,
          16,
          4,
          6,
          4,
          8,
          8,
          4,
          4,
          4,
          8,
          16,
          4,
          16,
          4,
          8,
          8,
          4,
          8,
          6,
          4,
          4,
          8,
          8,
          4,
          32,
          8,
          8,
          16,
          8,
          16,
          8,
          8,
          16,
          16,
          8,
          8,
          8,
          4,
          8,
          8,
          8,
          8,
          32,
          8,
          16,
          8,
          16,
          4,
          8,
          16,
          16,
          16,
          6,
          8,
          8,
          8,
          16,
          4,
          8,
          8,
          8,
          8,
          8,
          8,
          16,
          8,
          8,
          8,
          8,
          16,
          8,
          16,
          8,
          8,
          8,
          4,
          4,
          16,
          8,
          8,
          16,
          4,
          4,
          32,
          8,
          8,
          8,
          8,
          8,
          8,
          8,
          8,
          16,
          4,
          8,
          8,
          16,
          4,
          8,
          4,
          8,
          8,
          16,
          16,
          8,
          8,
          4,
          4,
          4,
          8,
          8,
          8,
          8,
          8,
          8,
          16,
          8,
          16,
          8,
          12,
          8,
          8,
          4,
          8,
          6,
          4,
          8,
          6,
          8,
          12,
          8,
          8,
          16,
          8,
          2,
          8,
          8,
          8,
          8,
          8,
          8,
          16,
          6,
          16,
          4,
          16,
          6,
          8,
          8,
          4,
          16,
          8,
          8,
          4,
          8,
          16,
          16,
          8,
          2,
          8,
          16,
          4,
          8,
          4,
          8,
          4,
          8,
          8,
          8,
          4,
          6,
          8,
          8,
          32,
          8,
          8,
          8,
          4,
          8,
          8,
          8,
          4,
          8,
          4,
          12,
          8,
          16,
          8,
          16,
          2,
          16,
          4,
          8,
          8,
          8,
          8,
          16,
          8,
          4,
          8,
          8,
          8,
          4,
          8,
          6,
          8,
          8,
          8,
          8,
          8,
          8,
          8,
          12,
          4,
          16,
          4,
          8,
          4,
          4,
          4,
          4,
          8,
          8,
          4,
          8,
          8,
          16,
          8,
          4,
          8,
          8,
          16,
          8,
          16,
          12,
          8,
          8,
          4,
          8,
          8,
          8,
          16,
          4,
          16,
          8,
          8,
          16,
          8,
          16,
          8,
          4,
          2,
          8,
          8,
          4,
          8,
          8,
          4,
          4,
          8,
          8,
          8,
          16,
          6,
          8,
          8,
          16,
          8,
          8,
          8,
          12,
          4,
          4,
          8,
          4,
          16,
          16,
          8,
          4,
          16,
          24,
          4,
          8,
          4,
          8,
          4,
          8,
          8,
          4,
          8,
          8,
          16,
          8,
          16,
          8,
          8,
          8,
          4,
          8,
          4,
          8,
          8,
          4,
          4,
          8,
          8,
          8,
          4,
          4,
          8,
          12,
          12,
          8,
          8,
          8,
          8,
          12,
          8,
          8,
          8,
          8,
          8,
          4,
          4,
          4,
          4,
          8,
          16,
          16,
          16,
          16,
          8,
          32,
          8,
          8,
          24,
          8,
          8,
          8,
          8,
          8,
          4,
          8,
          8,
          4,
          4,
          8,
          8,
          4,
          8,
          8,
          8,
          4,
          8,
          16,
          16,
          2,
          4,
          24,
          8,
          16,
          8,
          8,
          8,
          4,
          8,
          8,
          4,
          8,
          4,
          8,
          16,
          8,
          8,
          4,
          8,
          8,
          8,
          4,
          12,
          8,
          8,
          4,
          8,
          8,
          4,
          4,
          4,
          4,
          4,
          8,
          4,
          8,
          16,
          8,
          8,
          4,
          4,
          6,
          6,
          4,
          4,
          4,
          16,
          8,
          8,
          8,
          4,
          4,
          4,
          8,
          8,
          6,
          8,
          4,
          4,
          16,
          32,
          16,
          8,
          4,
          8,
          4,
          16,
          4,
          16,
          16,
          12,
          12,
          8,
          8,
          12,
          4,
          16,
          4,
          8,
          8,
          8,
          8,
          8,
          8,
          4,
          4,
          16,
          4,
          16,
          8,
          6,
          8,
          4,
          32,
          16,
          4,
          4,
          4,
          8,
          8,
          16,
          4,
          8,
          8,
          4,
          8,
          4,
          2,
          4,
          6,
          16,
          16,
          4,
          4,
          8,
          8,
          8,
          2,
          8,
          16,
          8,
          8,
          16,
          8,
          4,
          4,
          8,
          16,
          8,
          8,
          32,
          8,
          8,
          8,
          4,
          8,
          8,
          16,
          8,
          32,
          8,
          4,
          4,
          6,
          8,
          4,
          8,
          8,
          4,
          8,
          8,
          8,
          4,
          4,
          16,
          8,
          8,
          8,
          16,
          8,
          4,
          16,
          4,
          8,
          16,
          4,
          4,
          6,
          4,
          4,
          4,
          8,
          8,
          8,
          4,
          16,
          4,
          16,
          8,
          4,
          8,
          4,
          4,
          8,
          1,
          16,
          8,
          6,
          8,
          8,
          8,
          4,
          16,
          8,
          8,
          4,
          4,
          8,
          64,
          8,
          8,
          32,
          8,
          4,
          4,
          8,
          4,
          16,
          12,
          6,
          4,
          8,
          4,
          16,
          8,
          16,
          4,
          8,
          8,
          8,
          8,
          16,
          2,
          16,
          8,
          16,
          4,
          8,
          4,
          4,
          8,
          8,
          8,
          16,
          4,
          8,
          16,
          8,
          8,
          4,
          4,
          4,
          16,
          8,
          4,
          16,
          16,
          4,
          8,
          12,
          16,
          4,
          16,
          8,
          32,
          16,
          16,
          8,
          16,
          16,
          8,
          4,
          16,
          8,
          8,
          4,
          8,
          8,
          8,
          8,
          4,
          8,
          8,
          8,
          8,
          8,
          8,
          8,
          4,
          8,
          4,
          8,
          16,
          4,
          12,
          16,
          8,
          8,
          8,
          8,
          16,
          4,
          16,
          4,
          4,
          4,
          8,
          8,
          8,
          4,
          8,
          4,
          4,
          8,
          32,
          16,
          4,
          8,
          8,
          16,
          16,
          4,
          4,
          8,
          16,
          32,
          8,
          8,
          8,
          4,
          4,
          8,
          8,
          8,
          4,
          16,
          8,
          8,
          8,
          8,
          4,
          8,
          8,
          4,
          8,
          8,
          4,
          8,
          16,
          4,
          8,
          8,
          8,
          8,
          4,
          4,
          8,
          4,
          16,
          8,
          4,
          8,
          4,
          4,
          4,
          4,
          4,
          8,
          4,
          4,
          4,
          12,
          4,
          4,
          4,
          16,
          8,
          8,
          16,
          8,
          8,
          8,
          4,
          8,
          8,
          32,
          16,
          8,
          8,
          16,
          8,
          4,
          8,
          8,
          8,
          8,
          6,
          8,
          4,
          4,
          8,
          16,
          16,
          8,
          4,
          8,
          8,
          4,
          8,
          8,
          4,
          4,
          4,
          4,
          4,
          16,
          4,
          8,
          4,
          8,
          16,
          8,
          4,
          4,
          8,
          8,
          16,
          8,
          8,
          4,
          4,
          8,
          8,
          8,
          8,
          8,
          16,
          8,
          4,
          8,
          4,
          8,
          8,
          12,
          8,
          8,
          4,
          4,
          4,
          32,
          6,
          16,
          8,
          32,
          8,
          16,
          8,
          4,
          16,
          16,
          12,
          4,
          6,
          4,
          4,
          4,
          8,
          8,
          8,
          8,
          8,
          4,
          4,
          8,
          8,
          8,
          4,
          16,
          8,
          8,
          8,
          4,
          4,
          4,
          4,
          4,
          8,
          8,
          4,
          8,
          4,
          4,
          8,
          4,
          8,
          4,
          16,
          8,
          8,
          4,
          8,
          8,
          8,
          8,
          4,
          4,
          4,
          8,
          8,
          4,
          6,
          8,
          8,
          8,
          8,
          4,
          8,
          8,
          8,
          4,
          2,
          16,
          8,
          4,
          8,
          8,
          16,
          16,
          4,
          16,
          8,
          8,
          4,
          16,
          4,
          4,
          8,
          12,
          16,
          16,
          4,
          16,
          16,
          8,
          64,
          8,
          16,
          8,
          4,
          4,
          8,
          8,
          8,
          8,
          4,
          16,
          4,
          4,
          8,
          32,
          4,
          16,
          8,
          4,
          8,
          8,
          4,
          4,
          4,
          4,
          8,
          4,
          4,
          8,
          8,
          8,
          4,
          16,
          4,
          4,
          4,
          8,
          16,
          8,
          8,
          4,
          4,
          16,
          8,
          4,
          4,
          8,
          4,
          8,
          16,
          8,
          16,
          8,
          4,
          8,
          8,
          4,
          4,
          8,
          4,
          8,
          8,
          8,
          8,
          8,
          4,
          8,
          4,
          16,
          8,
          8,
          16,
          8,
          16,
          8,
          8,
          8,
          8,
          8,
          8,
          8,
          8,
          8,
          4,
          4,
          8,
          8,
          8,
          4,
          16,
          12,
          8,
          8,
          8,
          16,
          8,
          8,
          4,
          8,
          8,
          4,
          2,
          8,
          8,
          16,
          4,
          4,
          8,
          4,
          4,
          16,
          16,
          4,
          8,
          6,
          8,
          4,
          6,
          8,
          16,
          4,
          8,
          16,
          8,
          4,
          8,
          8,
          12,
          4,
          16,
          4,
          16,
          4,
          8,
          16,
          8,
          8,
          8,
          4,
          8,
          16,
          8,
          16,
          16,
          8,
          16,
          2,
          4,
          8,
          8,
          8,
          8,
          8,
          6,
          8,
          4,
          4,
          8,
          4,
          16,
          8,
          16,
          16,
          8,
          16,
          4,
          4,
          8,
          4,
          8,
          16,
          6,
          8,
          4,
          16,
          4,
          4,
          16,
          8,
          8,
          4,
          4,
          6,
          8,
          4,
          4,
          16,
          4,
          8,
          8,
          4,
          8,
          6,
          4,
          2,
          8,
          6,
          8,
          2,
          4,
          4,
          16,
          2,
          6
         ],
         "xaxis": "x",
         "y": [
          856.5441984,
          574.7462784,
          367.632,
          1622.3440320000002,
          1153.1496960000002,
          255.744,
          1368.2112192,
          740.8264320000001,
          955.8432000000001,
          492.30719999999997,
          251.84390399999998,
          220.57280640000002,
          1560.0192192,
          318.976704,
          807.1280640000001,
          970.900128,
          476.3232,
          1827.29088,
          319.04064,
          625.93344,
          638.72064,
          164.95488,
          523.63584,
          421.33824,
          267.66167040000005,
          702.65664,
          511.488,
          829.8892800000001,
          572.8665599999999,
          156.63680639999998,
          127.23263999999999,
          280.67904,
          1194.9638400000001,
          638.08128,
          159.20064,
          234.64512,
          625.93344,
          312.4488384,
          561.9974400000001,
          248.71104,
          958.4006400000001,
          334.3788864,
          436.04352,
          638.72064,
          907.2518400000001,
          830.52864,
          408.55104,
          297.94176,
          537.70176,
          254.77856640000002,
          705.21408,
          245.51424,
          490.900608,
          280.67904,
          374.7864384,
          1565.7926400000001,
          265.3344,
          830.52864,
          561.9974400000001,
          382.97664000000003,
          601.6377600000001,
          441.1584,
          1267.8508800000002,
          280.48083840000004,
          146.41344,
          351.00864,
          606.75264,
          696.26304,
          610.5888,
          556.2432,
          700.0992,
          248.71104,
          606.75264,
          331.82784,
          546.6528000000001,
          338.86080000000004,
          624.65472,
          700.8408575999999,
          965.4336000000001,
          549.8496,
          255.10464000000002,
          252.54719999999998,
          862.4966400000001,
          446.91264,
          382.9702464,
          926.43264,
          1054.30464,
          446.91264,
          440.51903999999996,
          765.31392,
          764.0352,
          670.6886400000001,
          541.5379200000001,
          383.552064,
          310.0896,
          368.91072,
          798.56064,
          459.69984,
          223.13664000000003,
          413.66592,
          715.44384,
          856.7424,
          421.33824,
          265.270464,
          762.75648,
          830.52864,
          946.2528,
          806.8723200000001,
          881.6774399999999,
          894.46464,
          461.61792,
          1041.51744,
          693.06624,
          722.6877888,
          360.59904,
          714.80448,
          306.25344,
          1433.12544,
          402.15744000000007,
          812.62656,
          288.35136,
          519.1603200000001,
          177.7356864,
          892.5465600000001,
          593.3260799999999,
          408.5446464,
          287.07264000000004,
          565.1942399999999,
          365.71392000000003,
          382.33727999999996,
          631.68768,
          161.3488896,
          599.71968,
          319.04064,
          446.91264,
          418.7808,
          713.5385472,
          555.60384,
          384.89472,
          235.92384,
          702.65664,
          1287.67104,
          219.93984,
          285.79392,
          798.7268736,
          574.7846400000001,
          318.40128,
          1208.3904,
          691.78752,
          395.76384,
          402.15744000000007,
          840.7583999999999,
          670.6886400000001,
          285.79392,
          257.66208,
          514.6848,
          465.45408,
          689.86944,
          222.49728,
          1150.20864,
          232.4137536,
          678.0348864,
          546.0134400000001,
          482.07744,
          862.4966400000001,
          446.91264,
          197.56224,
          312.64704,
          590.12928,
          293.46624,
          287.07264000000004,
          1789.56864,
          519.79968,
          958.4006400000001,
          670.6886400000001,
          894.46464,
          1182.1766400000001,
          507.01248000000004,
          766.5926400000001,
          990.36864,
          1532.54592,
          498.06144000000006,
          632.32704,
          693.7056,
          166.2336,
          639.296064,
          446.27328000000006,
          536.42304,
          584.37504,
          3899.45664,
          613.1462399999999,
          881.6774399999999,
          668.1312,
          1179.6192,
          315.20448,
          474.40512,
          1118.24064,
          1953.2448,
          893.82528,
          280.67904,
          1246.11264,
          926.43264,
          498.06144000000006,
          899.5795200000001,
          223.13664000000003,
          351.00864,
          958.4006400000001,
          595.8067968,
          376.58304,
          659.18016,
          734.62464,
          817.74144,
          433.070496,
          574.7846400000001,
          871.44768,
          507.65184,
          1570.4855424,
          531.94752,
          549.2166336,
          491.66784,
          569.66976,
          811.3478400000001,
          255.09824640000002,
          210.98880000000003,
          958.4006400000001,
          549.21024,
          440.51903999999996,
          574.7846400000001,
          249.3504,
          367.632,
          2487.1104,
          540.89856,
          376.58304,
          732.0672,
          568.39104,
          561.9974400000001,
          689.86944,
          629.7696000000001,
          357.40224,
          1917.44064,
          431.568,
          1304.2944,
          523.63584,
          1150.20864,
          299.85984,
          1182.1766400000001,
          448.83072,
          606.75264,
          285.090624,
          677.08224,
          1597.76064,
          1086.2726400000001,
          730.14912,
          283.87584,
          461.61792,
          420.05952,
          361.2384,
          510.84864000000005,
          958.4006400000001,
          650.86848,
          562.6368,
          1252.442304,
          990.36864,
          469.97435520000005,
          1597.76064,
          519.1603200000001,
          455.9084352,
          702.65664,
          476.3232,
          312.64704,
          542.81664,
          549.21024,
          273.64608,
          530.02944,
          370.18944,
          608.03136,
          421.33824,
          701.37792,
          624.65472,
          753.8054400000001,
          421.3446336,
          127.23263999999999,
          758.9203200000001,
          312.64704,
          1169.38944,
          472.48704,
          830.52864,
          625.93344,
          1844.4640896,
          319.04064,
          938.58048,
          325.43424,
          1356.7219200000002,
          414.94464000000005,
          351.00864,
          808.7904,
          230.16320639999998,
          1262.736,
          666.85248,
          523.63584,
          299.85984,
          638.72064,
          1597.76064,
          1342.01664,
          299.85984,
          175.824,
          539.61984,
          1565.7926400000001,
          294.041664,
          626.5728,
          310.0896,
          826.0531199999999,
          376.58304,
          699.45984,
          576.70272,
          421.33824,
          186.69312,
          351.00864,
          671.264064,
          853.5456,
          1687.27104,
          766.5926400000001,
          602.91648,
          852.90624,
          287.07264000000004,
          638.72064,
          810.7084799999999,
          731.4278400000001,
          175.8176064,
          730.62864,
          175.760064,
          574.7846400000001,
          457.78176,
          1342.01664,
          1009.54944,
          721.83744,
          178.38144000000003,
          1028.0653056,
          239.76,
          423.89568,
          833.7254399999999,
          900.85824,
          1111.3803071999998,
          897.02208,
          620.754624,
          205.8675264,
          638.72064,
          356.36008319999996,
          912.36672,
          280.67904,
          604.1952,
          459.69984,
          408.55104,
          319.04064,
          248.71104,
          693.7056,
          517.2422399999999,
          574.7846400000001,
          1118.88,
          702.65664,
          272.36736,
          1405.95264,
          312.64704,
          555.6102336,
          312.64064640000004,
          353.56608,
          197.56224,
          182.85696000000002,
          540.89856,
          761.4777600000001,
          257.98176,
          1058.1408,
          702.65664,
          1118.1767040000002,
          1459.01952,
          351.00864,
          875.28384,
          1365.0336,
          1604.1542399999998,
          664.29504,
          1017.22176,
          443.7094464,
          862.4966400000001,
          497.9783232,
          319.04064,
          786.1314816,
          599.71968,
          1733.9443199999998,
          1678.32,
          195.64416,
          977.5814399999999,
          731.74752,
          561.9974400000001,
          1437.92064,
          1197.5212800000002,
          1116.96192,
          1074.1248,
          261.49824,
          194.653152,
          1230.768,
          1242.27648,
          299.85984,
          504.4614336,
          593.3260799999999,
          382.912704,
          440.51903999999996,
          959.04,
          345.222432,
          777.0653568,
          1214.14464,
          287.07264000000004,
          912.36672,
          381.69792,
          1789.56864,
          741.01824,
          730.404864,
          702.65664,
          1278.0806400000001,
          191.16863999999998,
          171.98784,
          645.7536,
          382.97664000000003,
          1563.2352,
          1565.7926400000001,
          1083.7152,
          221.85792,
          1405.95264,
          1522.9555200000002,
          357.40224,
          331.82784,
          478.88064,
          913.64544,
          223.13664000000003,
          702.65664,
          753.8054400000001,
          282.469248,
          1274.2444799999998,
          657.0958464,
          1655.3030400000002,
          376.58304,
          1262.736,
          980.7782400000001,
          859.9392000000001,
          625.93344,
          306.25344,
          1308.13056,
          632.32704,
          1150.20864,
          409.12646400000006,
          347.81184,
          278.1216,
          478.88064,
          510.84864000000005,
          1336.2624,
          194.36544,
          299.85984,
          485.27423999999996,
          1086.2726400000001,
          1187.9308800000001,
          1278.0806400000001,
          737.82144,
          815.184,
          1177.605216,
          830.52864,
          473.1264,
          1539.57888,
          872.08704,
          1069.00992,
          806.8723200000001,
          375.04857599999997,
          464.17536,
          159.136704,
          361.2384,
          670.6886400000001,
          1494.82368,
          1214.14464,
          1149.5692800000002,
          1246.752,
          647.0259264,
          1789.56864,
          863.136,
          370.18944,
          811.3478400000001,
          702.65664,
          574.720704,
          1118.24064,
          606.75264,
          582.45696,
          217.38240000000002,
          395.7574464,
          1022.33664,
          191.16863999999998,
          169.43040000000002,
          606.75264,
          782.57664,
          391.92768,
          845.87328,
          734.62464,
          574.7846400000001,
          408.55104,
          534.50496,
          779.5332864,
          895.0720319999999,
          156.6432,
          333.40705920000005,
          1897.62048,
          568.39104,
          961.59744,
          894.46464,
          894.46464,
          818.2081728,
          440.51903999999996,
          568.39104,
          856.7424,
          510.84864000000005,
          293.46624,
          374.0256,
          880.39872,
          1926.2446272000002,
          549.8496,
          830.52864,
          235.92384,
          1054.30464,
          875.28384,
          509.83205760000004,
          255.09824640000002,
          1150.20864,
          549.21024,
          894.46464,
          470.4858432,
          732.0672,
          510.20928000000004,
          223.13664000000003,
          451.06848,
          501.89760000000007,
          295.60809600000005,
          253.82592,
          1105.45344,
          319.04064,
          714.1587264,
          1725.63264,
          347.90774400000004,
          818.3807999999999,
          143.21663999999998,
          163.0368,
          606.75264,
          363.731904,
          395.060544,
          223.13664000000003,
          402.7968,
          1256.3424,
          1917.44064,
          536.42304,
          1022.33664,
          613.1462399999999,
          219.93984,
          632.9664,
          1189.8425664000001,
          248.71104,
          414.94464000000005,
          530.6688,
          437.96160000000003,
          159.20064,
          1192.4064,
          1702.61568,
          1744.81344,
          478.88703360000005,
          248.71104,
          644.8073472,
          459.69984,
          982.9456704,
          188.6112,
          1501.85664,
          957.76128,
          1069.64928,
          389.37024,
          1131.6672,
          472.48704,
          606.75264,
          385.53408,
          1086.2726400000001,
          338.22144,
          293.46624,
          1294.704,
          942.41664,
          1067.7312000000002,
          1127.19168,
          779.3798400000001,
          427.3993728,
          210.34944,
          1405.95264,
          297.30240000000003,
          1469.8886400000001,
          894.46464,
          360.59904,
          830.52864,
          223.13664000000003,
          3132.22464,
          562.0038336,
          283.81190399999997,
          229.53024000000002,
          555.60384,
          746.77248,
          888.07104,
          1449.9789696,
          242.31744,
          718.6406400000001,
          936.6623999999999,
          496.14336,
          510.84864000000005,
          595.88352,
          152.80704,
          299.22048,
          408.5574336,
          1214.784,
          945.61344,
          530.02944,
          370.18944,
          255.10464000000002,
          579.6565632,
          1194.9638400000001,
          159.20064,
          1123.6240512,
          1533.82464,
          709.05024,
          333.042624,
          1566.432,
          747.41184,
          287.712,
          175.18464,
          587.57184,
          1661.6966400000001,
          775.54368,
          1012.7462400000001,
          1789.56864,
          453.30623999999995,
          927.0080640000001,
          761.989248,
          233.302464,
          680.27904,
          587.57184,
          725.6736000000001,
          764.6745599999999,
          2012.3024831999999,
          785.77344,
          267.89184,
          342.0576,
          344.61503999999996,
          950.5812672,
          318.40128,
          476.3232,
          804.3148800000001,
          263.41632,
          1194.228576,
          522.964512,
          661.0982399999999,
          223.13664000000003,
          446.91264,
          827.33184,
          725.6736000000001,
          316.4832,
          1469.8886400000001,
          830.52864,
          638.017344,
          267.89184,
          1311.32736,
          446.91264,
          958.4006400000001,
          1798.9992000000002,
          391.6783296,
          348.87957120000004,
          363.79584,
          203.31648,
          239.76,
          446.91264,
          1219.8924864,
          1655.9424000000001,
          622.0972800000001,
          171.98784,
          1118.24064,
          427.73184000000003,
          1200.07872,
          523.63584,
          255.10464000000002,
          274.28544,
          397.330272,
          287.712,
          508.2912,
          638.72064,
          1186.0128,
          761.4777600000001,
          418.7871936,
          798.56064,
          696.26304,
          464.17536,
          190.52928,
          912.1493376,
          547.9762752,
          753.8054400000001,
          190.52928,
          169.43040000000002,
          767.232,
          1078.3701504,
          534.8885760000001,
          958.4006400000001,
          2339.673984,
          862.1641728000001,
          313.222464,
          414.94464000000005,
          376.9155072,
          312.64704,
          1237.1616000000001,
          414.94464000000005,
          415.584,
          357.40224,
          613.7856,
          498.06144000000006,
          1546.61184,
          421.33824,
          1339.1267328000001,
          262.649088,
          771.70752,
          425.1744,
          981.4176000000001,
          638.72064,
          2109.2486400000003,
          210.98880000000003,
          1054.30464,
          720.3733056,
          2806.15104,
          303.696,
          1214.784,
          370.18944,
          543.392064,
          766.5926400000001,
          702.65664,
          998.04096,
          1834.3174463999999,
          382.97664000000003,
          670.0492800000001,
          1188.57024,
          996.76224,
          721.83744,
          542.81664,
          418.7808,
          300.7165824,
          702.65664,
          1022.33664,
          190.52928,
          755.2567872000001,
          1150.20864,
          652.1472,
          702.65664,
          536.42304,
          1515.2832,
          406.63296,
          1853.50464,
          372.043584,
          2294.535168,
          1502.496,
          1127.83104,
          210.34944,
          1469.8886400000001,
          1209.02976,
          696.26304,
          638.72064,
          1469.8886400000001,
          629.7696000000001,
          856.10304,
          129.726144,
          1259.5392000000002,
          613.1462399999999,
          744.8543999999999,
          1489.7087999999999,
          191.16863999999998,
          517.8816,
          862.4966400000001,
          472.48704,
          1320.2144640000001,
          702.65664,
          958.4006400000001,
          1118.24064,
          475.68384000000003,
          888.07104,
          498.7008,
          402.15744000000007,
          1073.48544,
          389.37024,
          1118.24064,
          1544.0544,
          958.4006400000001,
          614.42496,
          504.97292160000006,
          1188.57024,
          1150.20864,
          246.15359999999998,
          1601.6095872,
          482.71680000000003,
          313.222464,
          696.9024,
          1597.76064,
          766.5926400000001,
          1198.8,
          319.04064,
          868.25088,
          374.0256,
          226.97280000000003,
          395.76384,
          3515.84064,
          1342.01664,
          331.82784,
          758.28096,
          1054.944,
          1773.9874368,
          1546.61184,
          427.73184000000003,
          207.792,
          377.2224,
          1150.20864,
          1964.6829504000002,
          581.8176000000001,
          456.4966464,
          1195.6032,
          472.48704,
          393.20640000000003,
          655.98336,
          1455.82272,
          938.58048,
          191.16863999999998,
          1214.14464,
          553.0464,
          1216.70208,
          503.17632000000003,
          604.1952,
          287.07264000000004,
          1636.12224,
          414.94464000000005,
          299.85984,
          543.8779776,
          862.4966400000001,
          821.5776000000001,
          650.2291200000001,
          1432.1664,
          581.8176000000001,
          700.0992,
          1246.752,
          576.70272,
          1136.78208,
          674.5248,
          306.25344,
          887.43168,
          469.92960000000005,
          1182.1766400000001,
          1080.5184,
          255.09824640000002,
          597.8016,
          583.416,
          536.42304,
          1086.912,
          437.833728,
          222.49728,
          427.73184000000003,
          235.92384,
          1150.20864,
          291.356352,
          875.8592639999999,
          189.88992,
          242.31744,
          808.7904,
          894.46464,
          1086.2726400000001,
          1150.20864,
          1693.66464,
          943.056,
          593.9654400000001,
          575.424,
          392.56703999999996,
          597.8016,
          1287.0956159999998,
          817.74144,
          1054.30464,
          1310.04864,
          1255.0572864,
          1342.01664,
          948.1708800000001,
          229.53024000000002,
          504.45504,
          1214.14464,
          770.4288,
          1982.016,
          504.45504,
          651.5014464,
          319.04064,
          563.27616,
          613.7856,
          1022.33664,
          862.4966400000001,
          716.0256576,
          437.9552064,
          829.2435264000001,
          1166.832,
          466.668864,
          1054.944,
          744.8543999999999,
          452.7052416,
          734.62464,
          197.56224,
          1009.54944,
          184.711104,
          1150.20864,
          706.4928,
          1067.09184,
          357.146496,
          766.5926400000001,
          1763.3548799999999,
          894.46464,
          338.86080000000004,
          395.76384,
          715.44384,
          830.52864,
          638.72064,
          941.2657920000001,
          437.96160000000003,
          421.33824,
          223.13664000000003,
          1437.92064,
          1134.864,
          933.4656000000001,
          741.01824,
          952.0006463999999,
          2016.54144,
          1214.14464,
          495.504,
          810.7084799999999,
          248.71104,
          981.4176000000001,
          1125.2736,
          645.11424,
          1144.4544,
          541.2182399999999,
          297.6988032,
          527.472,
          437.96160000000003,
          2013.34464,
          444.35519999999997,
          1214.14464,
          1255.0508928,
          1790.208,
          754.4448,
          1310.624064,
          625.93344,
          640.63872,
          1150.20864,
          1118.24064,
          830.52864,
          764.0352,
          351.00864,
          414.94464000000005,
          585.0144,
          382.97664000000003,
          515.32416,
          760.19904,
          478.88064,
          715.44384,
          1219.8988800000002,
          319.04064,
          173.0236032,
          862.4966400000001,
          735.264,
          862.4966400000001,
          242.95680000000002,
          1150.20864,
          1335.62304,
          805.5936,
          760.19904,
          349.72992,
          498.06144000000006,
          764.0352,
          703.2896064,
          770.4288,
          926.43264,
          670.8548736,
          437.32223999999997,
          606.75264,
          983.97504,
          1016.5824,
          1206.6065856,
          511.488,
          773.6256000000001,
          492.3008064,
          1897.62048,
          952.6464,
          1425.13344,
          508.9241664,
          1016.5824,
          734.62464,
          757.9165248,
          669.0518784,
          996.76224,
          760.19904,
          677.7216000000001,
          1038.3206400000001,
          690.5088000000001,
          622.0972800000001,
          261.49824,
          761.989248,
          764.0352,
          785.7670464,
          862.4966400000001,
          474.40512,
          1102.896,
          679.607712,
          646.0796736000001,
          541.5379200000001,
          134.77708800000002,
          911.088,
          671.072256,
          639.36,
          1344.7914624,
          939.2198400000001,
          988.2203904,
          1464.1280064,
          184.071744,
          1675.1232,
          625.93344,
          699.45984,
          625.93344,
          1441.11744,
          450.84470400000004,
          319.04064,
          287.07264000000004,
          830.52864,
          1162.99584,
          638.08128,
          357.40224,
          632.9600064000001,
          1233.32544,
          932.1868800000001,
          2541.456,
          510.21567360000006,
          849.70944,
          831.168,
          308.1587328,
          766.5926400000001,
          766.5926400000001,
          696.9024,
          1095.5369664,
          421.33824,
          624.65472,
          1597.76064,
          345.25440000000003,
          600.9984,
          894.46464,
          2071.5264,
          413.1991872,
          1310.04864,
          479.52,
          659.1737664,
          955.8432000000001,
          766.5926400000001,
          393.20640000000003,
          247.43232,
          251.5817664,
          221.2121664,
          1022.33664,
          523.2202560000001,
          1022.33664,
          510.84864000000005,
          408.42316800000003,
          1022.33664,
          319.68,
          1469.8886400000001,
          725.769504,
          746.1139392,
          133.62624,
          1853.50464,
          766.5926400000001,
          903.479616,
          966.1944384000001,
          554.3251200000001,
          254.46527999999998,
          856.10304,
          1086.2726400000001,
          491.763744,
          274.28544,
          1258.89984,
          351.00864,
          881.6774399999999,
          1758.2336064,
          657.9014400000001,
          1423.21536,
          839.1536064000001,
          125.31455999999999,
          1080.5184,
          967.35168,
          334.7880768,
          278.1216,
          1067.09184,
          306.25344,
          1211.5872000000002,
          632.32704,
          721.83744,
          402.15744000000007,
          1310.9309568,
          177.74208000000002,
          480.79872,
          393.84576000000004,
          702.65664,
          2525.088384,
          501.25823999999994,
          1533.82464,
          1388.5108992,
          1560.0384,
          730.660608,
          1041.51744,
          1425.13344,
          1150.20864,
          1214.14464,
          1468.577952,
          645.689664,
          1009.54944,
          1495.46304,
          216.74303999999998,
          189.88992,
          382.97664000000003,
          766.5926400000001,
          1438.9947648,
          306.18311040000003,
          954.4366080000001,
          1469.8886400000001,
          504.12896639999997,
          1304.93376,
          958.4006400000001,
          1131.0278400000002,
          574.7846400000001,
          293.46624,
          304.9683264,
          957.76128,
          888.7103999999999,
          299.22048,
          159.20064,
          536.42304,
          434.12544,
          741.01824,
          235.92384,
          254.46527999999998,
          453.30623999999995,
          491.66784,
          527.472,
          834.3648,
          1376.7786432,
          415.584,
          1046.63232,
          531.30816,
          572.2335936,
          212.90688000000003,
          510.84864000000005,
          581.17824,
          753.8054400000001,
          441.79776000000004,
          702.65664,
          1661.6966400000001,
          523.63584,
          310.0896,
          743.57568,
          766.5926400000001,
          848.43072,
          235.28448,
          1374.624,
          173.90592,
          1309.9847040000002,
          319.04064,
          402.15744000000007,
          1713.4848,
          747.41184,
          568.39104,
          370.18944,
          191.16863999999998,
          402.15744000000007,
          1565.7926400000001,
          817.74144,
          1118.24064,
          1246.1062464,
          638.72064,
          1246.11264,
          111.24864,
          382.33727999999996,
          344.61503999999996,
          813.26592,
          734.62464,
          977.5814399999999,
          943.7656896,
          338.22144,
          1095.4602432000001,
          325.43424,
          197.56224,
          944.33472,
          333.6564096,
          657.9014400000001,
          734.62464,
          1054.944,
          2237.12064,
          299.8662336,
          1021.6972800000001,
          613.1462399999999,
          305.61408,
          1405.4347584000002,
          471.20832,
          747.41184,
          958.4006400000001,
          382.0623552,
          818.3807999999999,
          231.32044800000003,
          1150.20864,
          703.2896064,
          559.44,
          1486.512,
          366.35328,
          1159.15968,
          207.15264000000002,
          255.10464000000002,
          363.79584,
          685.3939200000001,
          283.8694464,
          216.74303999999998,
          1214.784,
          313.2864,
          572.2272,
          785.77344,
          532.5932736,
          466.09344000000004,
          293.46624,
          184.77504000000002,
          242.31744,
          574.7846400000001,
          351.6416064,
          515.3177664,
          133.62624,
          460.5437952,
          407.91168,
          958.4006400000001,
          146.41344,
          488.47104
         ],
         "yaxis": "y"
        },
        {
         "hovertemplate": "<b>OLS trendline</b><br>Price = 54.8089 * RamGB + 259.903<br>R<sup>2</sup>=0.464831<br><br>RamGB=%{x}<br>Price=%{y} <b>(trend)</b><extra></extra>",
         "legendgroup": "",
         "marker": {
          "color": "#636efa",
          "symbol": "circle"
         },
         "mode": "lines",
         "name": "",
         "showlegend": false,
         "type": "scattergl",
         "x": [
          1,
          2,
          2,
          2,
          2,
          2,
          2,
          2,
          2,
          2,
          2,
          2,
          2,
          2,
          2,
          2,
          2,
          4,
          4,
          4,
          4,
          4,
          4,
          4,
          4,
          4,
          4,
          4,
          4,
          4,
          4,
          4,
          4,
          4,
          4,
          4,
          4,
          4,
          4,
          4,
          4,
          4,
          4,
          4,
          4,
          4,
          4,
          4,
          4,
          4,
          4,
          4,
          4,
          4,
          4,
          4,
          4,
          4,
          4,
          4,
          4,
          4,
          4,
          4,
          4,
          4,
          4,
          4,
          4,
          4,
          4,
          4,
          4,
          4,
          4,
          4,
          4,
          4,
          4,
          4,
          4,
          4,
          4,
          4,
          4,
          4,
          4,
          4,
          4,
          4,
          4,
          4,
          4,
          4,
          4,
          4,
          4,
          4,
          4,
          4,
          4,
          4,
          4,
          4,
          4,
          4,
          4,
          4,
          4,
          4,
          4,
          4,
          4,
          4,
          4,
          4,
          4,
          4,
          4,
          4,
          4,
          4,
          4,
          4,
          4,
          4,
          4,
          4,
          4,
          4,
          4,
          4,
          4,
          4,
          4,
          4,
          4,
          4,
          4,
          4,
          4,
          4,
          4,
          4,
          4,
          4,
          4,
          4,
          4,
          4,
          4,
          4,
          4,
          4,
          4,
          4,
          4,
          4,
          4,
          4,
          4,
          4,
          4,
          4,
          4,
          4,
          4,
          4,
          4,
          4,
          4,
          4,
          4,
          4,
          4,
          4,
          4,
          4,
          4,
          4,
          4,
          4,
          4,
          4,
          4,
          4,
          4,
          4,
          4,
          4,
          4,
          4,
          4,
          4,
          4,
          4,
          4,
          4,
          4,
          4,
          4,
          4,
          4,
          4,
          4,
          4,
          4,
          4,
          4,
          4,
          4,
          4,
          4,
          4,
          4,
          4,
          4,
          4,
          4,
          4,
          4,
          4,
          4,
          4,
          4,
          4,
          4,
          4,
          4,
          4,
          4,
          4,
          4,
          4,
          4,
          4,
          4,
          4,
          4,
          4,
          4,
          4,
          4,
          4,
          4,
          4,
          4,
          4,
          4,
          4,
          4,
          4,
          4,
          4,
          4,
          4,
          4,
          4,
          4,
          4,
          4,
          4,
          4,
          4,
          4,
          4,
          4,
          4,
          4,
          4,
          4,
          4,
          4,
          4,
          4,
          4,
          4,
          4,
          4,
          4,
          4,
          4,
          4,
          4,
          4,
          4,
          4,
          4,
          4,
          4,
          4,
          4,
          4,
          4,
          4,
          4,
          4,
          4,
          4,
          4,
          4,
          4,
          4,
          4,
          4,
          4,
          4,
          4,
          4,
          4,
          4,
          4,
          4,
          4,
          4,
          4,
          4,
          4,
          4,
          4,
          4,
          4,
          4,
          4,
          4,
          4,
          4,
          4,
          4,
          4,
          4,
          4,
          4,
          4,
          4,
          4,
          4,
          4,
          4,
          4,
          4,
          4,
          4,
          4,
          4,
          4,
          4,
          4,
          4,
          4,
          4,
          4,
          4,
          4,
          4,
          4,
          4,
          4,
          4,
          4,
          4,
          4,
          4,
          4,
          4,
          4,
          4,
          4,
          4,
          4,
          4,
          4,
          4,
          4,
          6,
          6,
          6,
          6,
          6,
          6,
          6,
          6,
          6,
          6,
          6,
          6,
          6,
          6,
          6,
          6,
          6,
          6,
          6,
          6,
          6,
          6,
          6,
          6,
          6,
          6,
          6,
          6,
          6,
          6,
          6,
          6,
          6,
          6,
          8,
          8,
          8,
          8,
          8,
          8,
          8,
          8,
          8,
          8,
          8,
          8,
          8,
          8,
          8,
          8,
          8,
          8,
          8,
          8,
          8,
          8,
          8,
          8,
          8,
          8,
          8,
          8,
          8,
          8,
          8,
          8,
          8,
          8,
          8,
          8,
          8,
          8,
          8,
          8,
          8,
          8,
          8,
          8,
          8,
          8,
          8,
          8,
          8,
          8,
          8,
          8,
          8,
          8,
          8,
          8,
          8,
          8,
          8,
          8,
          8,
          8,
          8,
          8,
          8,
          8,
          8,
          8,
          8,
          8,
          8,
          8,
          8,
          8,
          8,
          8,
          8,
          8,
          8,
          8,
          8,
          8,
          8,
          8,
          8,
          8,
          8,
          8,
          8,
          8,
          8,
          8,
          8,
          8,
          8,
          8,
          8,
          8,
          8,
          8,
          8,
          8,
          8,
          8,
          8,
          8,
          8,
          8,
          8,
          8,
          8,
          8,
          8,
          8,
          8,
          8,
          8,
          8,
          8,
          8,
          8,
          8,
          8,
          8,
          8,
          8,
          8,
          8,
          8,
          8,
          8,
          8,
          8,
          8,
          8,
          8,
          8,
          8,
          8,
          8,
          8,
          8,
          8,
          8,
          8,
          8,
          8,
          8,
          8,
          8,
          8,
          8,
          8,
          8,
          8,
          8,
          8,
          8,
          8,
          8,
          8,
          8,
          8,
          8,
          8,
          8,
          8,
          8,
          8,
          8,
          8,
          8,
          8,
          8,
          8,
          8,
          8,
          8,
          8,
          8,
          8,
          8,
          8,
          8,
          8,
          8,
          8,
          8,
          8,
          8,
          8,
          8,
          8,
          8,
          8,
          8,
          8,
          8,
          8,
          8,
          8,
          8,
          8,
          8,
          8,
          8,
          8,
          8,
          8,
          8,
          8,
          8,
          8,
          8,
          8,
          8,
          8,
          8,
          8,
          8,
          8,
          8,
          8,
          8,
          8,
          8,
          8,
          8,
          8,
          8,
          8,
          8,
          8,
          8,
          8,
          8,
          8,
          8,
          8,
          8,
          8,
          8,
          8,
          8,
          8,
          8,
          8,
          8,
          8,
          8,
          8,
          8,
          8,
          8,
          8,
          8,
          8,
          8,
          8,
          8,
          8,
          8,
          8,
          8,
          8,
          8,
          8,
          8,
          8,
          8,
          8,
          8,
          8,
          8,
          8,
          8,
          8,
          8,
          8,
          8,
          8,
          8,
          8,
          8,
          8,
          8,
          8,
          8,
          8,
          8,
          8,
          8,
          8,
          8,
          8,
          8,
          8,
          8,
          8,
          8,
          8,
          8,
          8,
          8,
          8,
          8,
          8,
          8,
          8,
          8,
          8,
          8,
          8,
          8,
          8,
          8,
          8,
          8,
          8,
          8,
          8,
          8,
          8,
          8,
          8,
          8,
          8,
          8,
          8,
          8,
          8,
          8,
          8,
          8,
          8,
          8,
          8,
          8,
          8,
          8,
          8,
          8,
          8,
          8,
          8,
          8,
          8,
          8,
          8,
          8,
          8,
          8,
          8,
          8,
          8,
          8,
          8,
          8,
          8,
          8,
          8,
          8,
          8,
          8,
          8,
          8,
          8,
          8,
          8,
          8,
          8,
          8,
          8,
          8,
          8,
          8,
          8,
          8,
          8,
          8,
          8,
          8,
          8,
          8,
          8,
          8,
          8,
          8,
          8,
          8,
          8,
          8,
          8,
          8,
          8,
          8,
          8,
          8,
          8,
          8,
          8,
          8,
          8,
          8,
          8,
          8,
          8,
          8,
          8,
          8,
          8,
          8,
          8,
          8,
          8,
          8,
          8,
          8,
          8,
          8,
          8,
          8,
          8,
          8,
          8,
          8,
          8,
          8,
          8,
          8,
          8,
          8,
          8,
          8,
          8,
          8,
          8,
          8,
          8,
          8,
          8,
          8,
          8,
          8,
          8,
          8,
          8,
          8,
          8,
          8,
          8,
          8,
          8,
          8,
          8,
          8,
          8,
          8,
          8,
          8,
          8,
          8,
          8,
          8,
          8,
          8,
          8,
          8,
          8,
          8,
          8,
          8,
          8,
          8,
          8,
          8,
          8,
          8,
          8,
          8,
          8,
          8,
          8,
          8,
          8,
          8,
          8,
          8,
          8,
          8,
          8,
          8,
          8,
          8,
          8,
          8,
          8,
          8,
          8,
          8,
          8,
          8,
          8,
          8,
          8,
          8,
          8,
          8,
          8,
          8,
          8,
          8,
          8,
          8,
          8,
          8,
          8,
          8,
          8,
          8,
          8,
          8,
          8,
          8,
          8,
          8,
          8,
          8,
          8,
          8,
          8,
          8,
          8,
          8,
          8,
          8,
          8,
          8,
          8,
          8,
          8,
          8,
          8,
          8,
          8,
          8,
          8,
          8,
          8,
          8,
          8,
          8,
          8,
          8,
          8,
          8,
          8,
          8,
          8,
          8,
          8,
          8,
          8,
          8,
          8,
          8,
          8,
          8,
          8,
          8,
          8,
          8,
          8,
          8,
          8,
          8,
          8,
          8,
          8,
          8,
          8,
          8,
          8,
          8,
          8,
          8,
          8,
          8,
          8,
          8,
          8,
          8,
          8,
          8,
          8,
          12,
          12,
          12,
          12,
          12,
          12,
          12,
          12,
          12,
          12,
          12,
          12,
          12,
          12,
          12,
          12,
          12,
          12,
          12,
          12,
          12,
          12,
          12,
          12,
          12,
          16,
          16,
          16,
          16,
          16,
          16,
          16,
          16,
          16,
          16,
          16,
          16,
          16,
          16,
          16,
          16,
          16,
          16,
          16,
          16,
          16,
          16,
          16,
          16,
          16,
          16,
          16,
          16,
          16,
          16,
          16,
          16,
          16,
          16,
          16,
          16,
          16,
          16,
          16,
          16,
          16,
          16,
          16,
          16,
          16,
          16,
          16,
          16,
          16,
          16,
          16,
          16,
          16,
          16,
          16,
          16,
          16,
          16,
          16,
          16,
          16,
          16,
          16,
          16,
          16,
          16,
          16,
          16,
          16,
          16,
          16,
          16,
          16,
          16,
          16,
          16,
          16,
          16,
          16,
          16,
          16,
          16,
          16,
          16,
          16,
          16,
          16,
          16,
          16,
          16,
          16,
          16,
          16,
          16,
          16,
          16,
          16,
          16,
          16,
          16,
          16,
          16,
          16,
          16,
          16,
          16,
          16,
          16,
          16,
          16,
          16,
          16,
          16,
          16,
          16,
          16,
          16,
          16,
          16,
          16,
          16,
          16,
          16,
          16,
          16,
          16,
          16,
          16,
          16,
          16,
          16,
          16,
          16,
          16,
          16,
          16,
          16,
          16,
          16,
          16,
          16,
          16,
          16,
          16,
          16,
          16,
          16,
          16,
          16,
          16,
          16,
          16,
          16,
          16,
          16,
          16,
          16,
          16,
          16,
          16,
          16,
          16,
          16,
          16,
          16,
          16,
          16,
          16,
          16,
          16,
          16,
          16,
          16,
          16,
          16,
          16,
          16,
          16,
          16,
          16,
          16,
          16,
          16,
          16,
          16,
          16,
          16,
          16,
          16,
          16,
          16,
          16,
          24,
          24,
          24,
          32,
          32,
          32,
          32,
          32,
          32,
          32,
          32,
          32,
          32,
          32,
          32,
          32,
          32,
          32,
          32,
          32,
          64,
          64,
          64
         ],
         "xaxis": "x",
         "y": [
          314.7123045905625,
          369.52121138401805,
          369.52121138401805,
          369.52121138401805,
          369.52121138401805,
          369.52121138401805,
          369.52121138401805,
          369.52121138401805,
          369.52121138401805,
          369.52121138401805,
          369.52121138401805,
          369.52121138401805,
          369.52121138401805,
          369.52121138401805,
          369.52121138401805,
          369.52121138401805,
          369.52121138401805,
          479.13902497092914,
          479.13902497092914,
          479.13902497092914,
          479.13902497092914,
          479.13902497092914,
          479.13902497092914,
          479.13902497092914,
          479.13902497092914,
          479.13902497092914,
          479.13902497092914,
          479.13902497092914,
          479.13902497092914,
          479.13902497092914,
          479.13902497092914,
          479.13902497092914,
          479.13902497092914,
          479.13902497092914,
          479.13902497092914,
          479.13902497092914,
          479.13902497092914,
          479.13902497092914,
          479.13902497092914,
          479.13902497092914,
          479.13902497092914,
          479.13902497092914,
          479.13902497092914,
          479.13902497092914,
          479.13902497092914,
          479.13902497092914,
          479.13902497092914,
          479.13902497092914,
          479.13902497092914,
          479.13902497092914,
          479.13902497092914,
          479.13902497092914,
          479.13902497092914,
          479.13902497092914,
          479.13902497092914,
          479.13902497092914,
          479.13902497092914,
          479.13902497092914,
          479.13902497092914,
          479.13902497092914,
          479.13902497092914,
          479.13902497092914,
          479.13902497092914,
          479.13902497092914,
          479.13902497092914,
          479.13902497092914,
          479.13902497092914,
          479.13902497092914,
          479.13902497092914,
          479.13902497092914,
          479.13902497092914,
          479.13902497092914,
          479.13902497092914,
          479.13902497092914,
          479.13902497092914,
          479.13902497092914,
          479.13902497092914,
          479.13902497092914,
          479.13902497092914,
          479.13902497092914,
          479.13902497092914,
          479.13902497092914,
          479.13902497092914,
          479.13902497092914,
          479.13902497092914,
          479.13902497092914,
          479.13902497092914,
          479.13902497092914,
          479.13902497092914,
          479.13902497092914,
          479.13902497092914,
          479.13902497092914,
          479.13902497092914,
          479.13902497092914,
          479.13902497092914,
          479.13902497092914,
          479.13902497092914,
          479.13902497092914,
          479.13902497092914,
          479.13902497092914,
          479.13902497092914,
          479.13902497092914,
          479.13902497092914,
          479.13902497092914,
          479.13902497092914,
          479.13902497092914,
          479.13902497092914,
          479.13902497092914,
          479.13902497092914,
          479.13902497092914,
          479.13902497092914,
          479.13902497092914,
          479.13902497092914,
          479.13902497092914,
          479.13902497092914,
          479.13902497092914,
          479.13902497092914,
          479.13902497092914,
          479.13902497092914,
          479.13902497092914,
          479.13902497092914,
          479.13902497092914,
          479.13902497092914,
          479.13902497092914,
          479.13902497092914,
          479.13902497092914,
          479.13902497092914,
          479.13902497092914,
          479.13902497092914,
          479.13902497092914,
          479.13902497092914,
          479.13902497092914,
          479.13902497092914,
          479.13902497092914,
          479.13902497092914,
          479.13902497092914,
          479.13902497092914,
          479.13902497092914,
          479.13902497092914,
          479.13902497092914,
          479.13902497092914,
          479.13902497092914,
          479.13902497092914,
          479.13902497092914,
          479.13902497092914,
          479.13902497092914,
          479.13902497092914,
          479.13902497092914,
          479.13902497092914,
          479.13902497092914,
          479.13902497092914,
          479.13902497092914,
          479.13902497092914,
          479.13902497092914,
          479.13902497092914,
          479.13902497092914,
          479.13902497092914,
          479.13902497092914,
          479.13902497092914,
          479.13902497092914,
          479.13902497092914,
          479.13902497092914,
          479.13902497092914,
          479.13902497092914,
          479.13902497092914,
          479.13902497092914,
          479.13902497092914,
          479.13902497092914,
          479.13902497092914,
          479.13902497092914,
          479.13902497092914,
          479.13902497092914,
          479.13902497092914,
          479.13902497092914,
          479.13902497092914,
          479.13902497092914,
          479.13902497092914,
          479.13902497092914,
          479.13902497092914,
          479.13902497092914,
          479.13902497092914,
          479.13902497092914,
          479.13902497092914,
          479.13902497092914,
          479.13902497092914,
          479.13902497092914,
          479.13902497092914,
          479.13902497092914,
          479.13902497092914,
          479.13902497092914,
          479.13902497092914,
          479.13902497092914,
          479.13902497092914,
          479.13902497092914,
          479.13902497092914,
          479.13902497092914,
          479.13902497092914,
          479.13902497092914,
          479.13902497092914,
          479.13902497092914,
          479.13902497092914,
          479.13902497092914,
          479.13902497092914,
          479.13902497092914,
          479.13902497092914,
          479.13902497092914,
          479.13902497092914,
          479.13902497092914,
          479.13902497092914,
          479.13902497092914,
          479.13902497092914,
          479.13902497092914,
          479.13902497092914,
          479.13902497092914,
          479.13902497092914,
          479.13902497092914,
          479.13902497092914,
          479.13902497092914,
          479.13902497092914,
          479.13902497092914,
          479.13902497092914,
          479.13902497092914,
          479.13902497092914,
          479.13902497092914,
          479.13902497092914,
          479.13902497092914,
          479.13902497092914,
          479.13902497092914,
          479.13902497092914,
          479.13902497092914,
          479.13902497092914,
          479.13902497092914,
          479.13902497092914,
          479.13902497092914,
          479.13902497092914,
          479.13902497092914,
          479.13902497092914,
          479.13902497092914,
          479.13902497092914,
          479.13902497092914,
          479.13902497092914,
          479.13902497092914,
          479.13902497092914,
          479.13902497092914,
          479.13902497092914,
          479.13902497092914,
          479.13902497092914,
          479.13902497092914,
          479.13902497092914,
          479.13902497092914,
          479.13902497092914,
          479.13902497092914,
          479.13902497092914,
          479.13902497092914,
          479.13902497092914,
          479.13902497092914,
          479.13902497092914,
          479.13902497092914,
          479.13902497092914,
          479.13902497092914,
          479.13902497092914,
          479.13902497092914,
          479.13902497092914,
          479.13902497092914,
          479.13902497092914,
          479.13902497092914,
          479.13902497092914,
          479.13902497092914,
          479.13902497092914,
          479.13902497092914,
          479.13902497092914,
          479.13902497092914,
          479.13902497092914,
          479.13902497092914,
          479.13902497092914,
          479.13902497092914,
          479.13902497092914,
          479.13902497092914,
          479.13902497092914,
          479.13902497092914,
          479.13902497092914,
          479.13902497092914,
          479.13902497092914,
          479.13902497092914,
          479.13902497092914,
          479.13902497092914,
          479.13902497092914,
          479.13902497092914,
          479.13902497092914,
          479.13902497092914,
          479.13902497092914,
          479.13902497092914,
          479.13902497092914,
          479.13902497092914,
          479.13902497092914,
          479.13902497092914,
          479.13902497092914,
          479.13902497092914,
          479.13902497092914,
          479.13902497092914,
          479.13902497092914,
          479.13902497092914,
          479.13902497092914,
          479.13902497092914,
          479.13902497092914,
          479.13902497092914,
          479.13902497092914,
          479.13902497092914,
          479.13902497092914,
          479.13902497092914,
          479.13902497092914,
          479.13902497092914,
          479.13902497092914,
          479.13902497092914,
          479.13902497092914,
          479.13902497092914,
          479.13902497092914,
          479.13902497092914,
          479.13902497092914,
          479.13902497092914,
          479.13902497092914,
          479.13902497092914,
          479.13902497092914,
          479.13902497092914,
          479.13902497092914,
          479.13902497092914,
          479.13902497092914,
          479.13902497092914,
          479.13902497092914,
          479.13902497092914,
          479.13902497092914,
          479.13902497092914,
          479.13902497092914,
          479.13902497092914,
          479.13902497092914,
          479.13902497092914,
          479.13902497092914,
          479.13902497092914,
          479.13902497092914,
          479.13902497092914,
          479.13902497092914,
          479.13902497092914,
          479.13902497092914,
          479.13902497092914,
          479.13902497092914,
          479.13902497092914,
          479.13902497092914,
          479.13902497092914,
          479.13902497092914,
          479.13902497092914,
          479.13902497092914,
          479.13902497092914,
          479.13902497092914,
          479.13902497092914,
          479.13902497092914,
          479.13902497092914,
          479.13902497092914,
          479.13902497092914,
          479.13902497092914,
          479.13902497092914,
          479.13902497092914,
          479.13902497092914,
          479.13902497092914,
          479.13902497092914,
          479.13902497092914,
          479.13902497092914,
          479.13902497092914,
          479.13902497092914,
          479.13902497092914,
          479.13902497092914,
          479.13902497092914,
          479.13902497092914,
          479.13902497092914,
          479.13902497092914,
          588.7568385578402,
          588.7568385578402,
          588.7568385578402,
          588.7568385578402,
          588.7568385578402,
          588.7568385578402,
          588.7568385578402,
          588.7568385578402,
          588.7568385578402,
          588.7568385578402,
          588.7568385578402,
          588.7568385578402,
          588.7568385578402,
          588.7568385578402,
          588.7568385578402,
          588.7568385578402,
          588.7568385578402,
          588.7568385578402,
          588.7568385578402,
          588.7568385578402,
          588.7568385578402,
          588.7568385578402,
          588.7568385578402,
          588.7568385578402,
          588.7568385578402,
          588.7568385578402,
          588.7568385578402,
          588.7568385578402,
          588.7568385578402,
          588.7568385578402,
          588.7568385578402,
          588.7568385578402,
          588.7568385578402,
          588.7568385578402,
          698.3746521447513,
          698.3746521447513,
          698.3746521447513,
          698.3746521447513,
          698.3746521447513,
          698.3746521447513,
          698.3746521447513,
          698.3746521447513,
          698.3746521447513,
          698.3746521447513,
          698.3746521447513,
          698.3746521447513,
          698.3746521447513,
          698.3746521447513,
          698.3746521447513,
          698.3746521447513,
          698.3746521447513,
          698.3746521447513,
          698.3746521447513,
          698.3746521447513,
          698.3746521447513,
          698.3746521447513,
          698.3746521447513,
          698.3746521447513,
          698.3746521447513,
          698.3746521447513,
          698.3746521447513,
          698.3746521447513,
          698.3746521447513,
          698.3746521447513,
          698.3746521447513,
          698.3746521447513,
          698.3746521447513,
          698.3746521447513,
          698.3746521447513,
          698.3746521447513,
          698.3746521447513,
          698.3746521447513,
          698.3746521447513,
          698.3746521447513,
          698.3746521447513,
          698.3746521447513,
          698.3746521447513,
          698.3746521447513,
          698.3746521447513,
          698.3746521447513,
          698.3746521447513,
          698.3746521447513,
          698.3746521447513,
          698.3746521447513,
          698.3746521447513,
          698.3746521447513,
          698.3746521447513,
          698.3746521447513,
          698.3746521447513,
          698.3746521447513,
          698.3746521447513,
          698.3746521447513,
          698.3746521447513,
          698.3746521447513,
          698.3746521447513,
          698.3746521447513,
          698.3746521447513,
          698.3746521447513,
          698.3746521447513,
          698.3746521447513,
          698.3746521447513,
          698.3746521447513,
          698.3746521447513,
          698.3746521447513,
          698.3746521447513,
          698.3746521447513,
          698.3746521447513,
          698.3746521447513,
          698.3746521447513,
          698.3746521447513,
          698.3746521447513,
          698.3746521447513,
          698.3746521447513,
          698.3746521447513,
          698.3746521447513,
          698.3746521447513,
          698.3746521447513,
          698.3746521447513,
          698.3746521447513,
          698.3746521447513,
          698.3746521447513,
          698.3746521447513,
          698.3746521447513,
          698.3746521447513,
          698.3746521447513,
          698.3746521447513,
          698.3746521447513,
          698.3746521447513,
          698.3746521447513,
          698.3746521447513,
          698.3746521447513,
          698.3746521447513,
          698.3746521447513,
          698.3746521447513,
          698.3746521447513,
          698.3746521447513,
          698.3746521447513,
          698.3746521447513,
          698.3746521447513,
          698.3746521447513,
          698.3746521447513,
          698.3746521447513,
          698.3746521447513,
          698.3746521447513,
          698.3746521447513,
          698.3746521447513,
          698.3746521447513,
          698.3746521447513,
          698.3746521447513,
          698.3746521447513,
          698.3746521447513,
          698.3746521447513,
          698.3746521447513,
          698.3746521447513,
          698.3746521447513,
          698.3746521447513,
          698.3746521447513,
          698.3746521447513,
          698.3746521447513,
          698.3746521447513,
          698.3746521447513,
          698.3746521447513,
          698.3746521447513,
          698.3746521447513,
          698.3746521447513,
          698.3746521447513,
          698.3746521447513,
          698.3746521447513,
          698.3746521447513,
          698.3746521447513,
          698.3746521447513,
          698.3746521447513,
          698.3746521447513,
          698.3746521447513,
          698.3746521447513,
          698.3746521447513,
          698.3746521447513,
          698.3746521447513,
          698.3746521447513,
          698.3746521447513,
          698.3746521447513,
          698.3746521447513,
          698.3746521447513,
          698.3746521447513,
          698.3746521447513,
          698.3746521447513,
          698.3746521447513,
          698.3746521447513,
          698.3746521447513,
          698.3746521447513,
          698.3746521447513,
          698.3746521447513,
          698.3746521447513,
          698.3746521447513,
          698.3746521447513,
          698.3746521447513,
          698.3746521447513,
          698.3746521447513,
          698.3746521447513,
          698.3746521447513,
          698.3746521447513,
          698.3746521447513,
          698.3746521447513,
          698.3746521447513,
          698.3746521447513,
          698.3746521447513,
          698.3746521447513,
          698.3746521447513,
          698.3746521447513,
          698.3746521447513,
          698.3746521447513,
          698.3746521447513,
          698.3746521447513,
          698.3746521447513,
          698.3746521447513,
          698.3746521447513,
          698.3746521447513,
          698.3746521447513,
          698.3746521447513,
          698.3746521447513,
          698.3746521447513,
          698.3746521447513,
          698.3746521447513,
          698.3746521447513,
          698.3746521447513,
          698.3746521447513,
          698.3746521447513,
          698.3746521447513,
          698.3746521447513,
          698.3746521447513,
          698.3746521447513,
          698.3746521447513,
          698.3746521447513,
          698.3746521447513,
          698.3746521447513,
          698.3746521447513,
          698.3746521447513,
          698.3746521447513,
          698.3746521447513,
          698.3746521447513,
          698.3746521447513,
          698.3746521447513,
          698.3746521447513,
          698.3746521447513,
          698.3746521447513,
          698.3746521447513,
          698.3746521447513,
          698.3746521447513,
          698.3746521447513,
          698.3746521447513,
          698.3746521447513,
          698.3746521447513,
          698.3746521447513,
          698.3746521447513,
          698.3746521447513,
          698.3746521447513,
          698.3746521447513,
          698.3746521447513,
          698.3746521447513,
          698.3746521447513,
          698.3746521447513,
          698.3746521447513,
          698.3746521447513,
          698.3746521447513,
          698.3746521447513,
          698.3746521447513,
          698.3746521447513,
          698.3746521447513,
          698.3746521447513,
          698.3746521447513,
          698.3746521447513,
          698.3746521447513,
          698.3746521447513,
          698.3746521447513,
          698.3746521447513,
          698.3746521447513,
          698.3746521447513,
          698.3746521447513,
          698.3746521447513,
          698.3746521447513,
          698.3746521447513,
          698.3746521447513,
          698.3746521447513,
          698.3746521447513,
          698.3746521447513,
          698.3746521447513,
          698.3746521447513,
          698.3746521447513,
          698.3746521447513,
          698.3746521447513,
          698.3746521447513,
          698.3746521447513,
          698.3746521447513,
          698.3746521447513,
          698.3746521447513,
          698.3746521447513,
          698.3746521447513,
          698.3746521447513,
          698.3746521447513,
          698.3746521447513,
          698.3746521447513,
          698.3746521447513,
          698.3746521447513,
          698.3746521447513,
          698.3746521447513,
          698.3746521447513,
          698.3746521447513,
          698.3746521447513,
          698.3746521447513,
          698.3746521447513,
          698.3746521447513,
          698.3746521447513,
          698.3746521447513,
          698.3746521447513,
          698.3746521447513,
          698.3746521447513,
          698.3746521447513,
          698.3746521447513,
          698.3746521447513,
          698.3746521447513,
          698.3746521447513,
          698.3746521447513,
          698.3746521447513,
          698.3746521447513,
          698.3746521447513,
          698.3746521447513,
          698.3746521447513,
          698.3746521447513,
          698.3746521447513,
          698.3746521447513,
          698.3746521447513,
          698.3746521447513,
          698.3746521447513,
          698.3746521447513,
          698.3746521447513,
          698.3746521447513,
          698.3746521447513,
          698.3746521447513,
          698.3746521447513,
          698.3746521447513,
          698.3746521447513,
          698.3746521447513,
          698.3746521447513,
          698.3746521447513,
          698.3746521447513,
          698.3746521447513,
          698.3746521447513,
          698.3746521447513,
          698.3746521447513,
          698.3746521447513,
          698.3746521447513,
          698.3746521447513,
          698.3746521447513,
          698.3746521447513,
          698.3746521447513,
          698.3746521447513,
          698.3746521447513,
          698.3746521447513,
          698.3746521447513,
          698.3746521447513,
          698.3746521447513,
          698.3746521447513,
          698.3746521447513,
          698.3746521447513,
          698.3746521447513,
          698.3746521447513,
          698.3746521447513,
          698.3746521447513,
          698.3746521447513,
          698.3746521447513,
          698.3746521447513,
          698.3746521447513,
          698.3746521447513,
          698.3746521447513,
          698.3746521447513,
          698.3746521447513,
          698.3746521447513,
          698.3746521447513,
          698.3746521447513,
          698.3746521447513,
          698.3746521447513,
          698.3746521447513,
          698.3746521447513,
          698.3746521447513,
          698.3746521447513,
          698.3746521447513,
          698.3746521447513,
          698.3746521447513,
          698.3746521447513,
          698.3746521447513,
          698.3746521447513,
          698.3746521447513,
          698.3746521447513,
          698.3746521447513,
          698.3746521447513,
          698.3746521447513,
          698.3746521447513,
          698.3746521447513,
          698.3746521447513,
          698.3746521447513,
          698.3746521447513,
          698.3746521447513,
          698.3746521447513,
          698.3746521447513,
          698.3746521447513,
          698.3746521447513,
          698.3746521447513,
          698.3746521447513,
          698.3746521447513,
          698.3746521447513,
          698.3746521447513,
          698.3746521447513,
          698.3746521447513,
          698.3746521447513,
          698.3746521447513,
          698.3746521447513,
          698.3746521447513,
          698.3746521447513,
          698.3746521447513,
          698.3746521447513,
          698.3746521447513,
          698.3746521447513,
          698.3746521447513,
          698.3746521447513,
          698.3746521447513,
          698.3746521447513,
          698.3746521447513,
          698.3746521447513,
          698.3746521447513,
          698.3746521447513,
          698.3746521447513,
          698.3746521447513,
          698.3746521447513,
          698.3746521447513,
          698.3746521447513,
          698.3746521447513,
          698.3746521447513,
          698.3746521447513,
          698.3746521447513,
          698.3746521447513,
          698.3746521447513,
          698.3746521447513,
          698.3746521447513,
          698.3746521447513,
          698.3746521447513,
          698.3746521447513,
          698.3746521447513,
          698.3746521447513,
          698.3746521447513,
          698.3746521447513,
          698.3746521447513,
          698.3746521447513,
          698.3746521447513,
          698.3746521447513,
          698.3746521447513,
          698.3746521447513,
          698.3746521447513,
          698.3746521447513,
          698.3746521447513,
          698.3746521447513,
          698.3746521447513,
          698.3746521447513,
          698.3746521447513,
          698.3746521447513,
          698.3746521447513,
          698.3746521447513,
          698.3746521447513,
          698.3746521447513,
          698.3746521447513,
          698.3746521447513,
          698.3746521447513,
          698.3746521447513,
          698.3746521447513,
          698.3746521447513,
          698.3746521447513,
          698.3746521447513,
          698.3746521447513,
          698.3746521447513,
          698.3746521447513,
          698.3746521447513,
          698.3746521447513,
          698.3746521447513,
          698.3746521447513,
          698.3746521447513,
          698.3746521447513,
          698.3746521447513,
          698.3746521447513,
          698.3746521447513,
          698.3746521447513,
          698.3746521447513,
          698.3746521447513,
          698.3746521447513,
          698.3746521447513,
          698.3746521447513,
          698.3746521447513,
          698.3746521447513,
          698.3746521447513,
          698.3746521447513,
          698.3746521447513,
          698.3746521447513,
          698.3746521447513,
          698.3746521447513,
          698.3746521447513,
          698.3746521447513,
          698.3746521447513,
          698.3746521447513,
          698.3746521447513,
          698.3746521447513,
          698.3746521447513,
          698.3746521447513,
          698.3746521447513,
          698.3746521447513,
          698.3746521447513,
          698.3746521447513,
          698.3746521447513,
          698.3746521447513,
          698.3746521447513,
          698.3746521447513,
          698.3746521447513,
          698.3746521447513,
          698.3746521447513,
          698.3746521447513,
          698.3746521447513,
          698.3746521447513,
          698.3746521447513,
          698.3746521447513,
          698.3746521447513,
          698.3746521447513,
          698.3746521447513,
          698.3746521447513,
          698.3746521447513,
          698.3746521447513,
          698.3746521447513,
          698.3746521447513,
          698.3746521447513,
          698.3746521447513,
          698.3746521447513,
          698.3746521447513,
          698.3746521447513,
          698.3746521447513,
          698.3746521447513,
          698.3746521447513,
          698.3746521447513,
          698.3746521447513,
          698.3746521447513,
          698.3746521447513,
          698.3746521447513,
          698.3746521447513,
          698.3746521447513,
          698.3746521447513,
          698.3746521447513,
          698.3746521447513,
          698.3746521447513,
          698.3746521447513,
          698.3746521447513,
          698.3746521447513,
          698.3746521447513,
          698.3746521447513,
          698.3746521447513,
          698.3746521447513,
          698.3746521447513,
          698.3746521447513,
          698.3746521447513,
          698.3746521447513,
          698.3746521447513,
          698.3746521447513,
          698.3746521447513,
          698.3746521447513,
          698.3746521447513,
          698.3746521447513,
          698.3746521447513,
          698.3746521447513,
          698.3746521447513,
          698.3746521447513,
          698.3746521447513,
          698.3746521447513,
          698.3746521447513,
          698.3746521447513,
          698.3746521447513,
          698.3746521447513,
          698.3746521447513,
          698.3746521447513,
          698.3746521447513,
          698.3746521447513,
          698.3746521447513,
          698.3746521447513,
          698.3746521447513,
          698.3746521447513,
          698.3746521447513,
          698.3746521447513,
          698.3746521447513,
          698.3746521447513,
          698.3746521447513,
          698.3746521447513,
          698.3746521447513,
          698.3746521447513,
          698.3746521447513,
          698.3746521447513,
          698.3746521447513,
          698.3746521447513,
          698.3746521447513,
          698.3746521447513,
          698.3746521447513,
          698.3746521447513,
          698.3746521447513,
          698.3746521447513,
          698.3746521447513,
          698.3746521447513,
          698.3746521447513,
          698.3746521447513,
          698.3746521447513,
          698.3746521447513,
          698.3746521447513,
          698.3746521447513,
          698.3746521447513,
          698.3746521447513,
          698.3746521447513,
          698.3746521447513,
          698.3746521447513,
          698.3746521447513,
          698.3746521447513,
          698.3746521447513,
          698.3746521447513,
          698.3746521447513,
          698.3746521447513,
          698.3746521447513,
          698.3746521447513,
          698.3746521447513,
          698.3746521447513,
          917.6102793185735,
          917.6102793185735,
          917.6102793185735,
          917.6102793185735,
          917.6102793185735,
          917.6102793185735,
          917.6102793185735,
          917.6102793185735,
          917.6102793185735,
          917.6102793185735,
          917.6102793185735,
          917.6102793185735,
          917.6102793185735,
          917.6102793185735,
          917.6102793185735,
          917.6102793185735,
          917.6102793185735,
          917.6102793185735,
          917.6102793185735,
          917.6102793185735,
          917.6102793185735,
          917.6102793185735,
          917.6102793185735,
          917.6102793185735,
          917.6102793185735,
          1136.8459064923957,
          1136.8459064923957,
          1136.8459064923957,
          1136.8459064923957,
          1136.8459064923957,
          1136.8459064923957,
          1136.8459064923957,
          1136.8459064923957,
          1136.8459064923957,
          1136.8459064923957,
          1136.8459064923957,
          1136.8459064923957,
          1136.8459064923957,
          1136.8459064923957,
          1136.8459064923957,
          1136.8459064923957,
          1136.8459064923957,
          1136.8459064923957,
          1136.8459064923957,
          1136.8459064923957,
          1136.8459064923957,
          1136.8459064923957,
          1136.8459064923957,
          1136.8459064923957,
          1136.8459064923957,
          1136.8459064923957,
          1136.8459064923957,
          1136.8459064923957,
          1136.8459064923957,
          1136.8459064923957,
          1136.8459064923957,
          1136.8459064923957,
          1136.8459064923957,
          1136.8459064923957,
          1136.8459064923957,
          1136.8459064923957,
          1136.8459064923957,
          1136.8459064923957,
          1136.8459064923957,
          1136.8459064923957,
          1136.8459064923957,
          1136.8459064923957,
          1136.8459064923957,
          1136.8459064923957,
          1136.8459064923957,
          1136.8459064923957,
          1136.8459064923957,
          1136.8459064923957,
          1136.8459064923957,
          1136.8459064923957,
          1136.8459064923957,
          1136.8459064923957,
          1136.8459064923957,
          1136.8459064923957,
          1136.8459064923957,
          1136.8459064923957,
          1136.8459064923957,
          1136.8459064923957,
          1136.8459064923957,
          1136.8459064923957,
          1136.8459064923957,
          1136.8459064923957,
          1136.8459064923957,
          1136.8459064923957,
          1136.8459064923957,
          1136.8459064923957,
          1136.8459064923957,
          1136.8459064923957,
          1136.8459064923957,
          1136.8459064923957,
          1136.8459064923957,
          1136.8459064923957,
          1136.8459064923957,
          1136.8459064923957,
          1136.8459064923957,
          1136.8459064923957,
          1136.8459064923957,
          1136.8459064923957,
          1136.8459064923957,
          1136.8459064923957,
          1136.8459064923957,
          1136.8459064923957,
          1136.8459064923957,
          1136.8459064923957,
          1136.8459064923957,
          1136.8459064923957,
          1136.8459064923957,
          1136.8459064923957,
          1136.8459064923957,
          1136.8459064923957,
          1136.8459064923957,
          1136.8459064923957,
          1136.8459064923957,
          1136.8459064923957,
          1136.8459064923957,
          1136.8459064923957,
          1136.8459064923957,
          1136.8459064923957,
          1136.8459064923957,
          1136.8459064923957,
          1136.8459064923957,
          1136.8459064923957,
          1136.8459064923957,
          1136.8459064923957,
          1136.8459064923957,
          1136.8459064923957,
          1136.8459064923957,
          1136.8459064923957,
          1136.8459064923957,
          1136.8459064923957,
          1136.8459064923957,
          1136.8459064923957,
          1136.8459064923957,
          1136.8459064923957,
          1136.8459064923957,
          1136.8459064923957,
          1136.8459064923957,
          1136.8459064923957,
          1136.8459064923957,
          1136.8459064923957,
          1136.8459064923957,
          1136.8459064923957,
          1136.8459064923957,
          1136.8459064923957,
          1136.8459064923957,
          1136.8459064923957,
          1136.8459064923957,
          1136.8459064923957,
          1136.8459064923957,
          1136.8459064923957,
          1136.8459064923957,
          1136.8459064923957,
          1136.8459064923957,
          1136.8459064923957,
          1136.8459064923957,
          1136.8459064923957,
          1136.8459064923957,
          1136.8459064923957,
          1136.8459064923957,
          1136.8459064923957,
          1136.8459064923957,
          1136.8459064923957,
          1136.8459064923957,
          1136.8459064923957,
          1136.8459064923957,
          1136.8459064923957,
          1136.8459064923957,
          1136.8459064923957,
          1136.8459064923957,
          1136.8459064923957,
          1136.8459064923957,
          1136.8459064923957,
          1136.8459064923957,
          1136.8459064923957,
          1136.8459064923957,
          1136.8459064923957,
          1136.8459064923957,
          1136.8459064923957,
          1136.8459064923957,
          1136.8459064923957,
          1136.8459064923957,
          1136.8459064923957,
          1136.8459064923957,
          1136.8459064923957,
          1136.8459064923957,
          1136.8459064923957,
          1136.8459064923957,
          1136.8459064923957,
          1136.8459064923957,
          1136.8459064923957,
          1136.8459064923957,
          1136.8459064923957,
          1136.8459064923957,
          1136.8459064923957,
          1136.8459064923957,
          1136.8459064923957,
          1136.8459064923957,
          1136.8459064923957,
          1136.8459064923957,
          1136.8459064923957,
          1136.8459064923957,
          1136.8459064923957,
          1136.8459064923957,
          1136.8459064923957,
          1136.8459064923957,
          1136.8459064923957,
          1136.8459064923957,
          1136.8459064923957,
          1136.8459064923957,
          1136.8459064923957,
          1136.8459064923957,
          1136.8459064923957,
          1575.31716084004,
          1575.31716084004,
          1575.31716084004,
          2013.7884151876844,
          2013.7884151876844,
          2013.7884151876844,
          2013.7884151876844,
          2013.7884151876844,
          2013.7884151876844,
          2013.7884151876844,
          2013.7884151876844,
          2013.7884151876844,
          2013.7884151876844,
          2013.7884151876844,
          2013.7884151876844,
          2013.7884151876844,
          2013.7884151876844,
          2013.7884151876844,
          2013.7884151876844,
          2013.7884151876844,
          3767.6734325782622,
          3767.6734325782622,
          3767.6734325782622
         ],
         "yaxis": "y"
        }
       ],
       "layout": {
        "legend": {
         "tracegroupgap": 0
        },
        "margin": {
         "t": 60
        },
        "template": {
         "data": {
          "bar": [
           {
            "error_x": {
             "color": "#2a3f5f"
            },
            "error_y": {
             "color": "#2a3f5f"
            },
            "marker": {
             "line": {
              "color": "#E5ECF6",
              "width": 0.5
             },
             "pattern": {
              "fillmode": "overlay",
              "size": 10,
              "solidity": 0.2
             }
            },
            "type": "bar"
           }
          ],
          "barpolar": [
           {
            "marker": {
             "line": {
              "color": "#E5ECF6",
              "width": 0.5
             },
             "pattern": {
              "fillmode": "overlay",
              "size": 10,
              "solidity": 0.2
             }
            },
            "type": "barpolar"
           }
          ],
          "carpet": [
           {
            "aaxis": {
             "endlinecolor": "#2a3f5f",
             "gridcolor": "white",
             "linecolor": "white",
             "minorgridcolor": "white",
             "startlinecolor": "#2a3f5f"
            },
            "baxis": {
             "endlinecolor": "#2a3f5f",
             "gridcolor": "white",
             "linecolor": "white",
             "minorgridcolor": "white",
             "startlinecolor": "#2a3f5f"
            },
            "type": "carpet"
           }
          ],
          "choropleth": [
           {
            "colorbar": {
             "outlinewidth": 0,
             "ticks": ""
            },
            "type": "choropleth"
           }
          ],
          "contour": [
           {
            "colorbar": {
             "outlinewidth": 0,
             "ticks": ""
            },
            "colorscale": [
             [
              0,
              "#0d0887"
             ],
             [
              0.1111111111111111,
              "#46039f"
             ],
             [
              0.2222222222222222,
              "#7201a8"
             ],
             [
              0.3333333333333333,
              "#9c179e"
             ],
             [
              0.4444444444444444,
              "#bd3786"
             ],
             [
              0.5555555555555556,
              "#d8576b"
             ],
             [
              0.6666666666666666,
              "#ed7953"
             ],
             [
              0.7777777777777778,
              "#fb9f3a"
             ],
             [
              0.8888888888888888,
              "#fdca26"
             ],
             [
              1,
              "#f0f921"
             ]
            ],
            "type": "contour"
           }
          ],
          "contourcarpet": [
           {
            "colorbar": {
             "outlinewidth": 0,
             "ticks": ""
            },
            "type": "contourcarpet"
           }
          ],
          "heatmap": [
           {
            "colorbar": {
             "outlinewidth": 0,
             "ticks": ""
            },
            "colorscale": [
             [
              0,
              "#0d0887"
             ],
             [
              0.1111111111111111,
              "#46039f"
             ],
             [
              0.2222222222222222,
              "#7201a8"
             ],
             [
              0.3333333333333333,
              "#9c179e"
             ],
             [
              0.4444444444444444,
              "#bd3786"
             ],
             [
              0.5555555555555556,
              "#d8576b"
             ],
             [
              0.6666666666666666,
              "#ed7953"
             ],
             [
              0.7777777777777778,
              "#fb9f3a"
             ],
             [
              0.8888888888888888,
              "#fdca26"
             ],
             [
              1,
              "#f0f921"
             ]
            ],
            "type": "heatmap"
           }
          ],
          "heatmapgl": [
           {
            "colorbar": {
             "outlinewidth": 0,
             "ticks": ""
            },
            "colorscale": [
             [
              0,
              "#0d0887"
             ],
             [
              0.1111111111111111,
              "#46039f"
             ],
             [
              0.2222222222222222,
              "#7201a8"
             ],
             [
              0.3333333333333333,
              "#9c179e"
             ],
             [
              0.4444444444444444,
              "#bd3786"
             ],
             [
              0.5555555555555556,
              "#d8576b"
             ],
             [
              0.6666666666666666,
              "#ed7953"
             ],
             [
              0.7777777777777778,
              "#fb9f3a"
             ],
             [
              0.8888888888888888,
              "#fdca26"
             ],
             [
              1,
              "#f0f921"
             ]
            ],
            "type": "heatmapgl"
           }
          ],
          "histogram": [
           {
            "marker": {
             "pattern": {
              "fillmode": "overlay",
              "size": 10,
              "solidity": 0.2
             }
            },
            "type": "histogram"
           }
          ],
          "histogram2d": [
           {
            "colorbar": {
             "outlinewidth": 0,
             "ticks": ""
            },
            "colorscale": [
             [
              0,
              "#0d0887"
             ],
             [
              0.1111111111111111,
              "#46039f"
             ],
             [
              0.2222222222222222,
              "#7201a8"
             ],
             [
              0.3333333333333333,
              "#9c179e"
             ],
             [
              0.4444444444444444,
              "#bd3786"
             ],
             [
              0.5555555555555556,
              "#d8576b"
             ],
             [
              0.6666666666666666,
              "#ed7953"
             ],
             [
              0.7777777777777778,
              "#fb9f3a"
             ],
             [
              0.8888888888888888,
              "#fdca26"
             ],
             [
              1,
              "#f0f921"
             ]
            ],
            "type": "histogram2d"
           }
          ],
          "histogram2dcontour": [
           {
            "colorbar": {
             "outlinewidth": 0,
             "ticks": ""
            },
            "colorscale": [
             [
              0,
              "#0d0887"
             ],
             [
              0.1111111111111111,
              "#46039f"
             ],
             [
              0.2222222222222222,
              "#7201a8"
             ],
             [
              0.3333333333333333,
              "#9c179e"
             ],
             [
              0.4444444444444444,
              "#bd3786"
             ],
             [
              0.5555555555555556,
              "#d8576b"
             ],
             [
              0.6666666666666666,
              "#ed7953"
             ],
             [
              0.7777777777777778,
              "#fb9f3a"
             ],
             [
              0.8888888888888888,
              "#fdca26"
             ],
             [
              1,
              "#f0f921"
             ]
            ],
            "type": "histogram2dcontour"
           }
          ],
          "mesh3d": [
           {
            "colorbar": {
             "outlinewidth": 0,
             "ticks": ""
            },
            "type": "mesh3d"
           }
          ],
          "parcoords": [
           {
            "line": {
             "colorbar": {
              "outlinewidth": 0,
              "ticks": ""
             }
            },
            "type": "parcoords"
           }
          ],
          "pie": [
           {
            "automargin": true,
            "type": "pie"
           }
          ],
          "scatter": [
           {
            "fillpattern": {
             "fillmode": "overlay",
             "size": 10,
             "solidity": 0.2
            },
            "type": "scatter"
           }
          ],
          "scatter3d": [
           {
            "line": {
             "colorbar": {
              "outlinewidth": 0,
              "ticks": ""
             }
            },
            "marker": {
             "colorbar": {
              "outlinewidth": 0,
              "ticks": ""
             }
            },
            "type": "scatter3d"
           }
          ],
          "scattercarpet": [
           {
            "marker": {
             "colorbar": {
              "outlinewidth": 0,
              "ticks": ""
             }
            },
            "type": "scattercarpet"
           }
          ],
          "scattergeo": [
           {
            "marker": {
             "colorbar": {
              "outlinewidth": 0,
              "ticks": ""
             }
            },
            "type": "scattergeo"
           }
          ],
          "scattergl": [
           {
            "marker": {
             "colorbar": {
              "outlinewidth": 0,
              "ticks": ""
             }
            },
            "type": "scattergl"
           }
          ],
          "scattermapbox": [
           {
            "marker": {
             "colorbar": {
              "outlinewidth": 0,
              "ticks": ""
             }
            },
            "type": "scattermapbox"
           }
          ],
          "scatterpolar": [
           {
            "marker": {
             "colorbar": {
              "outlinewidth": 0,
              "ticks": ""
             }
            },
            "type": "scatterpolar"
           }
          ],
          "scatterpolargl": [
           {
            "marker": {
             "colorbar": {
              "outlinewidth": 0,
              "ticks": ""
             }
            },
            "type": "scatterpolargl"
           }
          ],
          "scatterternary": [
           {
            "marker": {
             "colorbar": {
              "outlinewidth": 0,
              "ticks": ""
             }
            },
            "type": "scatterternary"
           }
          ],
          "surface": [
           {
            "colorbar": {
             "outlinewidth": 0,
             "ticks": ""
            },
            "colorscale": [
             [
              0,
              "#0d0887"
             ],
             [
              0.1111111111111111,
              "#46039f"
             ],
             [
              0.2222222222222222,
              "#7201a8"
             ],
             [
              0.3333333333333333,
              "#9c179e"
             ],
             [
              0.4444444444444444,
              "#bd3786"
             ],
             [
              0.5555555555555556,
              "#d8576b"
             ],
             [
              0.6666666666666666,
              "#ed7953"
             ],
             [
              0.7777777777777778,
              "#fb9f3a"
             ],
             [
              0.8888888888888888,
              "#fdca26"
             ],
             [
              1,
              "#f0f921"
             ]
            ],
            "type": "surface"
           }
          ],
          "table": [
           {
            "cells": {
             "fill": {
              "color": "#EBF0F8"
             },
             "line": {
              "color": "white"
             }
            },
            "header": {
             "fill": {
              "color": "#C8D4E3"
             },
             "line": {
              "color": "white"
             }
            },
            "type": "table"
           }
          ]
         },
         "layout": {
          "annotationdefaults": {
           "arrowcolor": "#2a3f5f",
           "arrowhead": 0,
           "arrowwidth": 1
          },
          "autotypenumbers": "strict",
          "coloraxis": {
           "colorbar": {
            "outlinewidth": 0,
            "ticks": ""
           }
          },
          "colorscale": {
           "diverging": [
            [
             0,
             "#8e0152"
            ],
            [
             0.1,
             "#c51b7d"
            ],
            [
             0.2,
             "#de77ae"
            ],
            [
             0.3,
             "#f1b6da"
            ],
            [
             0.4,
             "#fde0ef"
            ],
            [
             0.5,
             "#f7f7f7"
            ],
            [
             0.6,
             "#e6f5d0"
            ],
            [
             0.7,
             "#b8e186"
            ],
            [
             0.8,
             "#7fbc41"
            ],
            [
             0.9,
             "#4d9221"
            ],
            [
             1,
             "#276419"
            ]
           ],
           "sequential": [
            [
             0,
             "#0d0887"
            ],
            [
             0.1111111111111111,
             "#46039f"
            ],
            [
             0.2222222222222222,
             "#7201a8"
            ],
            [
             0.3333333333333333,
             "#9c179e"
            ],
            [
             0.4444444444444444,
             "#bd3786"
            ],
            [
             0.5555555555555556,
             "#d8576b"
            ],
            [
             0.6666666666666666,
             "#ed7953"
            ],
            [
             0.7777777777777778,
             "#fb9f3a"
            ],
            [
             0.8888888888888888,
             "#fdca26"
            ],
            [
             1,
             "#f0f921"
            ]
           ],
           "sequentialminus": [
            [
             0,
             "#0d0887"
            ],
            [
             0.1111111111111111,
             "#46039f"
            ],
            [
             0.2222222222222222,
             "#7201a8"
            ],
            [
             0.3333333333333333,
             "#9c179e"
            ],
            [
             0.4444444444444444,
             "#bd3786"
            ],
            [
             0.5555555555555556,
             "#d8576b"
            ],
            [
             0.6666666666666666,
             "#ed7953"
            ],
            [
             0.7777777777777778,
             "#fb9f3a"
            ],
            [
             0.8888888888888888,
             "#fdca26"
            ],
            [
             1,
             "#f0f921"
            ]
           ]
          },
          "colorway": [
           "#636efa",
           "#EF553B",
           "#00cc96",
           "#ab63fa",
           "#FFA15A",
           "#19d3f3",
           "#FF6692",
           "#B6E880",
           "#FF97FF",
           "#FECB52"
          ],
          "font": {
           "color": "#2a3f5f"
          },
          "geo": {
           "bgcolor": "white",
           "lakecolor": "white",
           "landcolor": "#E5ECF6",
           "showlakes": true,
           "showland": true,
           "subunitcolor": "white"
          },
          "hoverlabel": {
           "align": "left"
          },
          "hovermode": "closest",
          "mapbox": {
           "style": "light"
          },
          "paper_bgcolor": "white",
          "plot_bgcolor": "#E5ECF6",
          "polar": {
           "angularaxis": {
            "gridcolor": "white",
            "linecolor": "white",
            "ticks": ""
           },
           "bgcolor": "#E5ECF6",
           "radialaxis": {
            "gridcolor": "white",
            "linecolor": "white",
            "ticks": ""
           }
          },
          "scene": {
           "xaxis": {
            "backgroundcolor": "#E5ECF6",
            "gridcolor": "white",
            "gridwidth": 2,
            "linecolor": "white",
            "showbackground": true,
            "ticks": "",
            "zerolinecolor": "white"
           },
           "yaxis": {
            "backgroundcolor": "#E5ECF6",
            "gridcolor": "white",
            "gridwidth": 2,
            "linecolor": "white",
            "showbackground": true,
            "ticks": "",
            "zerolinecolor": "white"
           },
           "zaxis": {
            "backgroundcolor": "#E5ECF6",
            "gridcolor": "white",
            "gridwidth": 2,
            "linecolor": "white",
            "showbackground": true,
            "ticks": "",
            "zerolinecolor": "white"
           }
          },
          "shapedefaults": {
           "line": {
            "color": "#2a3f5f"
           }
          },
          "ternary": {
           "aaxis": {
            "gridcolor": "white",
            "linecolor": "white",
            "ticks": ""
           },
           "baxis": {
            "gridcolor": "white",
            "linecolor": "white",
            "ticks": ""
           },
           "bgcolor": "#E5ECF6",
           "caxis": {
            "gridcolor": "white",
            "linecolor": "white",
            "ticks": ""
           }
          },
          "title": {
           "x": 0.05
          },
          "xaxis": {
           "automargin": true,
           "gridcolor": "white",
           "linecolor": "white",
           "ticks": "",
           "title": {
            "standoff": 15
           },
           "zerolinecolor": "white",
           "zerolinewidth": 2
          },
          "yaxis": {
           "automargin": true,
           "gridcolor": "white",
           "linecolor": "white",
           "ticks": "",
           "title": {
            "standoff": 15
           },
           "zerolinecolor": "white",
           "zerolinewidth": 2
          }
         }
        },
        "xaxis": {
         "anchor": "y",
         "domain": [
          0,
          1
         ],
         "title": {
          "text": "RAM"
         }
        },
        "yaxis": {
         "anchor": "x",
         "domain": [
          0,
          1
         ],
         "title": {
          "text": "Average Price"
         }
        }
       }
      }
     },
     "metadata": {},
     "output_type": "display_data"
    }
   ],
   "source": [
    "\n",
    "## Creating a bar chart graph \n",
    "fig= px.scatter( df, x=df['RamGB'],\n",
    "           y= df['Price'] ,trendline=\"ols\" )\n",
    "fig.update_xaxes(title='RAM')\n",
    "fig.update_yaxes(title='Average Price')"
   ]
  },
  {
   "cell_type": "code",
   "execution_count": 69,
   "id": "308cf30a",
   "metadata": {},
   "outputs": [
    {
     "data": {
      "application/vnd.plotly.v1+json": {
       "config": {
        "plotlyServerURL": "https://plot.ly"
       },
       "data": [
        {
         "hovertemplate": "GHz=%{x}<br>Price=%{y}<extra></extra>",
         "legendgroup": "",
         "marker": {
          "color": "#636efa",
          "symbol": "circle"
         },
         "mode": "markers",
         "name": "",
         "showlegend": false,
         "type": "scattergl",
         "x": [
          2.3,
          1.8,
          2.5,
          2.7,
          3.1,
          3,
          2.2,
          1.8,
          1.8,
          1.6,
          2.5,
          2,
          2.8,
          2,
          1.2,
          2.3,
          2.7,
          2.9,
          2.4,
          1.6,
          2.5,
          1.5,
          1.6,
          1.8,
          2,
          1.6,
          1.6,
          1.9,
          1.6,
          1.44,
          1.5,
          2.5,
          1.8,
          1.6,
          1.1,
          2.7,
          1.6,
          2.5,
          1.6,
          2,
          2.8,
          2.5,
          1.6,
          1.6,
          2,
          3,
          2.5,
          1.1,
          1.8,
          2.5,
          1.8,
          2.4,
          1.8,
          2,
          2.5,
          2.8,
          2,
          1.8,
          1.6,
          2.7,
          1.6,
          2.5,
          2.8,
          2,
          1.6,
          2.5,
          2.8,
          2.5,
          1.8,
          1.8,
          2.5,
          2,
          2.8,
          2.5,
          1.8,
          2.7,
          1.6,
          1.6,
          1.3,
          1.6,
          2.5,
          3,
          2.8,
          1.8,
          2.5,
          2.8,
          1.8,
          3,
          1.8,
          1.8,
          2.5,
          2.7,
          1.6,
          2.7,
          2,
          2.4,
          2.8,
          2.7,
          1.5,
          1.6,
          2.7,
          2.5,
          2.5,
          2,
          2.7,
          2.8,
          2.7,
          1.8,
          2.4,
          2.5,
          1.6,
          1.6,
          1.8,
          1.8,
          2,
          1.8,
          2.4,
          2.8,
          2.5,
          1.8,
          3,
          1.6,
          1.5,
          1.8,
          1.6,
          2.5,
          2,
          1.8,
          2.7,
          2.7,
          1.8,
          1.1,
          2.5,
          2.5,
          2.5,
          2.7,
          1.6,
          2.8,
          2.3,
          2.5,
          1.8,
          1.2,
          1.1,
          2,
          2.8,
          2.8,
          2.5,
          2.8,
          2.7,
          1.6,
          2.4,
          1.6,
          1.8,
          2.2,
          3,
          1.6,
          1.6,
          2.8,
          1.1,
          2.8,
          1.1,
          2.8,
          1.6,
          1.6,
          2.5,
          2.5,
          2.9,
          2.4,
          1.6,
          2.4,
          2,
          2.9,
          2.5,
          1.6,
          1.8,
          1.6,
          1.8,
          2.5,
          1.6,
          1.8,
          2.8,
          2.5,
          1.2,
          1.8,
          1.1,
          2.5,
          1.6,
          1.8,
          1.6,
          2.9,
          1.6,
          2.8,
          1.8,
          2.8,
          2.3,
          2.7,
          2.8,
          3,
          2.8,
          2.4,
          1.8,
          1.8,
          2.8,
          2.8,
          2,
          2.5,
          2.7,
          1.8,
          2.5,
          1.8,
          1.6,
          1.8,
          1.6,
          1.6,
          2.5,
          1.6,
          2.8,
          2.7,
          2.7,
          2.5,
          2.5,
          2.7,
          2.4,
          1.5,
          2.8,
          2.5,
          2.3,
          2.7,
          2,
          2.5,
          2.9,
          2.5,
          2,
          1.8,
          2.7,
          2.5,
          2.7,
          1.8,
          2.5,
          2.9,
          1.6,
          3.1,
          1.8,
          2.8,
          3,
          1.8,
          2.7,
          1.6,
          2.5,
          1.8,
          2.8,
          2.8,
          1.8,
          2,
          1.6,
          2.5,
          2.5,
          1.6,
          1.8,
          1.8,
          1.8,
          2.9,
          3,
          1.8,
          2.6,
          2.5,
          2.7,
          1.8,
          1.8,
          2,
          1.8,
          2.7,
          2,
          2.5,
          2.5,
          1.8,
          2.7,
          2.7,
          2.5,
          2.8,
          2.7,
          1.5,
          2.8,
          2,
          2.8,
          1.6,
          2.8,
          2.8,
          2.9,
          2.4,
          2.7,
          2.4,
          2.8,
          2.5,
          2.5,
          2.8,
          1.1,
          2.8,
          2.5,
          2.5,
          2,
          2.5,
          1.8,
          2.8,
          2.2,
          1.1,
          1.6,
          1.8,
          1.6,
          2.5,
          1.6,
          2.7,
          2.5,
          2.7,
          1.8,
          2.7,
          1.1,
          2.5,
          2.7,
          2.7,
          2.8,
          2.8,
          2.5,
          2.7,
          2,
          2.8,
          2.6,
          2.5,
          1.1,
          1.6,
          1.6,
          3.6,
          2.4,
          1.8,
          1.8,
          2.8,
          1.6,
          1.9,
          1.1,
          1.6,
          2.7,
          2.8,
          2.8,
          2.5,
          1.8,
          1.1,
          2.5,
          2.5,
          2.6,
          2,
          2.5,
          2.5,
          2.5,
          2,
          1.6,
          1.6,
          2.5,
          2.7,
          2.7,
          2.7,
          3,
          3,
          2.2,
          1.8,
          3,
          1.1,
          1.6,
          1.1,
          2.8,
          2.8,
          2,
          2.8,
          2.5,
          2.7,
          2.7,
          2.4,
          2.6,
          2.7,
          2.7,
          2.8,
          2.8,
          1.6,
          2.8,
          2.7,
          3,
          1.8,
          2.5,
          2.8,
          2.7,
          1.1,
          2.8,
          1.6,
          2.8,
          2.8,
          2.7,
          2.5,
          2.8,
          2,
          1.1,
          2.8,
          2.8,
          2,
          2.5,
          2.5,
          2.5,
          2,
          2.5,
          2.5,
          1.8,
          2.8,
          1.1,
          2.9,
          2.4,
          2.9,
          2.8,
          1.8,
          2.8,
          2.8,
          1.1,
          1.6,
          2.7,
          2.7,
          2.8,
          2.9,
          3.2,
          1.6,
          1.3,
          2.7,
          2.5,
          2.5,
          1.6,
          2.5,
          1.1,
          2.8,
          2.8,
          2.5,
          3,
          2.5,
          2.5,
          2.5,
          2.7,
          2.9,
          2.5,
          1.8,
          1.6,
          2.7,
          2.2,
          2.5,
          2,
          2,
          1.6,
          2.5,
          2.7,
          2.9,
          1.1,
          2,
          1.6,
          2.8,
          2.6,
          1.8,
          2.5,
          1.2,
          1.6,
          2.6,
          2.3,
          2.8,
          2.5,
          2.5,
          1.8,
          2.4,
          1.6,
          1.44,
          2,
          1.6,
          2.7,
          2.8,
          2.7,
          2.7,
          2.5,
          2.7,
          2.8,
          2.5,
          2.6,
          2.3,
          1.8,
          2.8,
          2.4,
          2.5,
          1.1,
          2.5,
          1.6,
          1.1,
          1.6,
          2.5,
          2.7,
          1.6,
          2.7,
          2.8,
          2.5,
          2.7,
          2.5,
          1.8,
          1.8,
          1.1,
          1.6,
          2.8,
          2.5,
          2.8,
          2.8,
          2.7,
          2.6,
          2,
          1.6,
          2.3,
          2.7,
          2,
          2.5,
          2.8,
          2.8,
          2.5,
          2.7,
          1.1,
          2.5,
          2.8,
          1.6,
          1.6,
          2.8,
          2.7,
          1.8,
          2,
          2.7,
          2.5,
          1.8,
          2.4,
          2.5,
          2.3,
          2,
          2.7,
          2,
          2.5,
          2.8,
          2,
          2.7,
          1.1,
          1.44,
          2.7,
          2.5,
          2,
          2,
          2.7,
          1.2,
          2.8,
          2.5,
          1.6,
          2.6,
          1.1,
          2.5,
          2.8,
          1.6,
          3,
          2.5,
          1.6,
          1.44,
          2.7,
          2.7,
          2.9,
          2.7,
          1.1,
          2.6,
          2.4,
          2.8,
          1.6,
          2.7,
          2.8,
          2.6,
          1.8,
          2.5,
          2.5,
          3.6,
          1,
          2.8,
          2,
          2.3,
          2.7,
          2.5,
          2.5,
          2.8,
          2.7,
          2.4,
          1.1,
          2.7,
          2,
          2.8,
          2.5,
          2.5,
          2.8,
          1.6,
          3.1,
          2.6,
          2,
          2,
          2.6,
          2.8,
          2.7,
          2.8,
          1.6,
          2.6,
          2.3,
          1.6,
          2.5,
          2.3,
          1.44,
          2.5,
          2.5,
          2.7,
          2.8,
          1.6,
          2,
          1.1,
          2.5,
          1.6,
          1.6,
          2.7,
          2.8,
          2.8,
          3,
          2.7,
          2.8,
          2,
          1.6,
          2.5,
          2.8,
          2.3,
          2.7,
          2.7,
          2.5,
          1.6,
          2.8,
          2,
          2.5,
          1.8,
          1.8,
          2.6,
          2.8,
          2.4,
          1.1,
          2.3,
          2,
          2.8,
          2.1,
          2.7,
          2.5,
          2,
          2.8,
          2.5,
          2.5,
          2.2,
          2.4,
          2.8,
          2.5,
          1.1,
          1.8,
          2.5,
          2.5,
          1.1,
          2.5,
          2,
          1.8,
          2.9,
          2.5,
          2,
          2.4,
          1.6,
          1.6,
          2.5,
          2.8,
          2.7,
          2.5,
          1.6,
          2.7,
          0.9,
          2.5,
          2.5,
          2.9,
          3.6,
          2.5,
          2,
          2.5,
          1.6,
          2.5,
          2.3,
          2.5,
          2.8,
          2.8,
          2.5,
          1.1,
          2.6,
          2.5,
          2.6,
          2,
          1.92,
          2.7,
          2.5,
          2.5,
          2.5,
          2.8,
          2.8,
          2.5,
          2.4,
          2.5,
          3,
          2.6,
          2.5,
          3,
          2.5,
          2.5,
          2.7,
          2.8,
          1.6,
          2.8,
          2,
          2.7,
          2,
          2.5,
          2.5,
          2.8,
          1.6,
          2.7,
          2.5,
          2.9,
          1.6,
          2.4,
          2.3,
          2.7,
          1.8,
          2.5,
          2.6,
          2.8,
          2.5,
          2.8,
          2.8,
          1.2,
          2.5,
          2,
          2.3,
          1.1,
          2.6,
          2.7,
          1.1,
          2.7,
          2.7,
          2.3,
          2.8,
          2.7,
          2.7,
          2.4,
          2.8,
          1.1,
          2.8,
          2.6,
          2.6,
          1.6,
          2.7,
          2.8,
          2.5,
          2.8,
          2.8,
          2.5,
          2.8,
          1.1,
          2.7,
          2.5,
          1.2,
          2.5,
          1.1,
          2.5,
          2.7,
          2,
          2.8,
          2.5,
          2.5,
          2.5,
          1.1,
          2.6,
          2.3,
          2.5,
          2.8,
          2.5,
          2.8,
          2.8,
          2.5,
          2.7,
          2.5,
          2.7,
          2.5,
          1.6,
          2.8,
          2.3,
          2,
          2.5,
          2.7,
          2.5,
          2.5,
          2.1,
          2.5,
          2,
          1.6,
          2.4,
          2.9,
          2.6,
          2.5,
          2.3,
          2.6,
          2.8,
          2.8,
          2.4,
          1.6,
          2.5,
          2.6,
          2.8,
          2.5,
          2.5,
          2.5,
          2.7,
          1.1,
          2.3,
          2.5,
          2.5,
          1.6,
          2.8,
          2.7,
          2.8,
          2.7,
          2.5,
          1.1,
          2.8,
          2.3,
          2,
          2.5,
          2.6,
          2.5,
          2.5,
          2.5,
          2.3,
          2.3,
          2.7,
          2.5,
          2.8,
          2.5,
          2,
          2.7,
          2.4,
          2.7,
          2.8,
          1.1,
          2.3,
          2.5,
          2.5,
          2.5,
          2.5,
          1.1,
          2.5,
          1.6,
          2.5,
          2,
          2.5,
          1.6,
          2.2,
          2.5,
          2.7,
          2.7,
          2.5,
          2.6,
          2.5,
          2.8,
          2.7,
          2,
          2.6,
          1.3,
          2.7,
          1.3,
          2.7,
          2.5,
          2.7,
          2.7,
          1.5,
          2.3,
          2.7,
          2.8,
          1.2,
          2.7,
          2.7,
          2.4,
          2.5,
          2.5,
          2.8,
          2.8,
          2.5,
          2.5,
          2.5,
          2.5,
          2.3,
          2.7,
          2.3,
          2.5,
          2.3,
          1.1,
          2.3,
          1.6,
          2.2,
          2.3,
          2.3,
          2,
          2.8,
          2.7,
          2.3,
          1.6,
          2.5,
          2.3,
          1.2,
          2.1,
          2.5,
          2.7,
          2,
          1.6,
          2.7,
          2.8,
          2.3,
          1.2,
          2.6,
          2.8,
          1.2,
          1.1,
          2.5,
          1.6,
          2.4,
          2.6,
          2.5,
          2.7,
          2.5,
          2,
          2.5,
          2.4,
          2.8,
          2.5,
          1.3,
          2.6,
          2.6,
          2.3,
          2.8,
          2.7,
          2.3,
          2.7,
          2.8,
          2.7,
          2.3,
          3.6,
          2.3,
          2.3,
          2.5,
          2.5,
          2.8,
          2.7,
          2.5,
          1.2,
          2,
          1.1,
          2.3,
          2.5,
          2.7,
          1.1,
          2.8,
          2.7,
          2.8,
          2.5,
          2.4,
          2.5,
          2.3,
          2.4,
          2.5,
          2.6,
          2.5,
          2.4,
          2.5,
          2.5,
          2.5,
          2.5,
          2.4,
          2.3,
          2.4,
          2.7,
          2.3,
          2.5,
          2.3,
          2.3,
          2.5,
          2.7,
          2.4,
          2.5,
          2.5,
          2.5,
          2.5,
          2.5,
          2.5,
          3,
          2.8,
          2.3,
          2.5,
          2.5,
          2.5,
          2.6,
          2.4,
          2.5,
          2.5,
          1.44,
          2.5,
          2.3,
          2.3,
          2.4,
          2.3,
          2.7,
          2.6,
          1.6,
          2.6,
          2.7,
          2.7,
          2.5,
          2.7,
          2.3,
          2.5,
          2.2,
          2.7,
          2.6,
          2.6,
          2.5,
          2.7,
          2.6,
          2.7,
          2.7,
          2.5,
          2.6,
          1.1,
          2.3,
          2.3,
          2.3,
          2.7,
          2.5,
          2.3,
          2.3,
          2.8,
          2.3,
          2.3,
          1.2,
          2.7,
          1.44,
          2.7,
          2.5,
          2.3,
          2.5,
          2.3,
          1.5,
          2.2,
          1.6,
          2,
          2.8,
          1.6,
          2.3,
          2.5,
          2.5,
          2.6,
          1.6,
          2.6,
          2.3,
          2.3,
          1.5,
          2.6,
          2.8,
          2.3,
          2.6,
          2.3,
          2.5,
          2.6,
          1.1,
          2.3,
          2,
          2.5,
          1.44,
          2.4,
          2.7,
          2.5,
          2.7,
          2.6,
          1.44,
          2.3,
          2.3,
          2.3,
          2.4,
          2.5,
          1.44,
          2.4,
          2.5,
          2.3,
          2.7,
          2.6,
          1.1,
          2.7,
          2.5,
          2.5,
          2.6,
          2.5,
          2.7,
          2.5,
          2.6,
          2.8,
          2.4,
          2.6,
          2.6,
          2.6,
          2.5,
          2.7,
          2.3,
          2.5,
          2,
          1.8,
          2.3,
          2.8,
          2.3,
          2.5,
          2.8,
          2.6,
          2.3,
          2.6,
          2.6,
          2.6,
          2.8,
          2,
          2.3,
          2.8,
          2.5,
          2,
          1.6,
          2.7,
          2.5,
          1.8,
          1.6,
          2.3,
          2.7,
          2.4,
          2.5,
          2.6,
          2.6,
          2.3,
          2.3,
          2.7,
          2.7,
          2,
          2.6,
          2.6,
          2.7,
          2.5,
          2.4,
          2.8,
          2.5,
          2.5,
          1.1,
          2.5,
          2.8,
          2,
          2.6,
          2,
          2.8,
          2,
          2.5,
          2.7,
          2.6,
          2.5,
          2.5,
          2.2,
          2,
          2.8,
          1.2,
          2.8,
          2.6,
          2.5,
          2.8,
          1.5,
          2,
          2.5,
          2.6,
          1.3,
          2.6,
          2.6,
          2.7,
          2.4,
          2.4,
          1.6,
          2.7,
          2.5,
          2.6,
          2.8,
          2.5,
          2.8,
          2.4,
          2.8,
          1.6,
          2,
          2.5,
          2.3,
          2.6,
          2.7,
          3.6,
          2.5,
          2,
          2.7,
          2.3,
          2.5,
          2.6,
          2.5,
          1.2,
          1.6,
          2.5,
          2.3,
          2.3,
          1.6,
          1.1,
          2.6,
          2,
          2.5,
          2.6,
          2.3,
          0.9,
          2.4,
          1.6,
          1.6,
          2.6,
          2.9,
          2.7,
          1.6,
          2.5,
          2.5,
          2.5,
          1.6,
          2.5
         ],
         "xaxis": "x",
         "y": [
          856.5441984,
          574.7462784,
          367.632,
          1622.3440320000002,
          1153.1496960000002,
          255.744,
          1368.2112192,
          740.8264320000001,
          955.8432000000001,
          492.30719999999997,
          251.84390399999998,
          220.57280640000002,
          1560.0192192,
          318.976704,
          807.1280640000001,
          970.900128,
          476.3232,
          1827.29088,
          319.04064,
          625.93344,
          638.72064,
          164.95488,
          523.63584,
          421.33824,
          267.66167040000005,
          702.65664,
          511.488,
          829.8892800000001,
          572.8665599999999,
          156.63680639999998,
          127.23263999999999,
          280.67904,
          1194.9638400000001,
          638.08128,
          159.20064,
          234.64512,
          625.93344,
          312.4488384,
          561.9974400000001,
          248.71104,
          958.4006400000001,
          334.3788864,
          436.04352,
          638.72064,
          907.2518400000001,
          830.52864,
          408.55104,
          297.94176,
          537.70176,
          254.77856640000002,
          705.21408,
          245.51424,
          490.900608,
          280.67904,
          374.7864384,
          1565.7926400000001,
          265.3344,
          830.52864,
          561.9974400000001,
          382.97664000000003,
          601.6377600000001,
          441.1584,
          1267.8508800000002,
          280.48083840000004,
          146.41344,
          351.00864,
          606.75264,
          696.26304,
          610.5888,
          556.2432,
          700.0992,
          248.71104,
          606.75264,
          331.82784,
          546.6528000000001,
          338.86080000000004,
          624.65472,
          700.8408575999999,
          965.4336000000001,
          549.8496,
          255.10464000000002,
          252.54719999999998,
          862.4966400000001,
          446.91264,
          382.9702464,
          926.43264,
          1054.30464,
          446.91264,
          440.51903999999996,
          765.31392,
          764.0352,
          670.6886400000001,
          541.5379200000001,
          383.552064,
          310.0896,
          368.91072,
          798.56064,
          459.69984,
          223.13664000000003,
          413.66592,
          715.44384,
          856.7424,
          421.33824,
          265.270464,
          762.75648,
          830.52864,
          946.2528,
          806.8723200000001,
          881.6774399999999,
          894.46464,
          461.61792,
          1041.51744,
          693.06624,
          722.6877888,
          360.59904,
          714.80448,
          306.25344,
          1433.12544,
          402.15744000000007,
          812.62656,
          288.35136,
          519.1603200000001,
          177.7356864,
          892.5465600000001,
          593.3260799999999,
          408.5446464,
          287.07264000000004,
          565.1942399999999,
          365.71392000000003,
          382.33727999999996,
          631.68768,
          161.3488896,
          599.71968,
          319.04064,
          446.91264,
          418.7808,
          713.5385472,
          555.60384,
          384.89472,
          235.92384,
          702.65664,
          1287.67104,
          219.93984,
          285.79392,
          798.7268736,
          574.7846400000001,
          318.40128,
          1208.3904,
          691.78752,
          395.76384,
          402.15744000000007,
          840.7583999999999,
          670.6886400000001,
          285.79392,
          257.66208,
          514.6848,
          465.45408,
          689.86944,
          222.49728,
          1150.20864,
          232.4137536,
          678.0348864,
          546.0134400000001,
          482.07744,
          862.4966400000001,
          446.91264,
          197.56224,
          312.64704,
          590.12928,
          293.46624,
          287.07264000000004,
          1789.56864,
          519.79968,
          958.4006400000001,
          670.6886400000001,
          894.46464,
          1182.1766400000001,
          507.01248000000004,
          766.5926400000001,
          990.36864,
          1532.54592,
          498.06144000000006,
          632.32704,
          693.7056,
          166.2336,
          639.296064,
          446.27328000000006,
          536.42304,
          584.37504,
          3899.45664,
          613.1462399999999,
          881.6774399999999,
          668.1312,
          1179.6192,
          315.20448,
          474.40512,
          1118.24064,
          1953.2448,
          893.82528,
          280.67904,
          1246.11264,
          926.43264,
          498.06144000000006,
          899.5795200000001,
          223.13664000000003,
          351.00864,
          958.4006400000001,
          595.8067968,
          376.58304,
          659.18016,
          734.62464,
          817.74144,
          433.070496,
          574.7846400000001,
          871.44768,
          507.65184,
          1570.4855424,
          531.94752,
          549.2166336,
          491.66784,
          569.66976,
          811.3478400000001,
          255.09824640000002,
          210.98880000000003,
          958.4006400000001,
          549.21024,
          440.51903999999996,
          574.7846400000001,
          249.3504,
          367.632,
          2487.1104,
          540.89856,
          376.58304,
          732.0672,
          568.39104,
          561.9974400000001,
          689.86944,
          629.7696000000001,
          357.40224,
          1917.44064,
          431.568,
          1304.2944,
          523.63584,
          1150.20864,
          299.85984,
          1182.1766400000001,
          448.83072,
          606.75264,
          285.090624,
          677.08224,
          1597.76064,
          1086.2726400000001,
          730.14912,
          283.87584,
          461.61792,
          420.05952,
          361.2384,
          510.84864000000005,
          958.4006400000001,
          650.86848,
          562.6368,
          1252.442304,
          990.36864,
          469.97435520000005,
          1597.76064,
          519.1603200000001,
          455.9084352,
          702.65664,
          476.3232,
          312.64704,
          542.81664,
          549.21024,
          273.64608,
          530.02944,
          370.18944,
          608.03136,
          421.33824,
          701.37792,
          624.65472,
          753.8054400000001,
          421.3446336,
          127.23263999999999,
          758.9203200000001,
          312.64704,
          1169.38944,
          472.48704,
          830.52864,
          625.93344,
          1844.4640896,
          319.04064,
          938.58048,
          325.43424,
          1356.7219200000002,
          414.94464000000005,
          351.00864,
          808.7904,
          230.16320639999998,
          1262.736,
          666.85248,
          523.63584,
          299.85984,
          638.72064,
          1597.76064,
          1342.01664,
          299.85984,
          175.824,
          539.61984,
          1565.7926400000001,
          294.041664,
          626.5728,
          310.0896,
          826.0531199999999,
          376.58304,
          699.45984,
          576.70272,
          421.33824,
          186.69312,
          351.00864,
          671.264064,
          853.5456,
          1687.27104,
          766.5926400000001,
          602.91648,
          852.90624,
          287.07264000000004,
          638.72064,
          810.7084799999999,
          731.4278400000001,
          175.8176064,
          730.62864,
          175.760064,
          574.7846400000001,
          457.78176,
          1342.01664,
          1009.54944,
          721.83744,
          178.38144000000003,
          1028.0653056,
          239.76,
          423.89568,
          833.7254399999999,
          900.85824,
          1111.3803071999998,
          897.02208,
          620.754624,
          205.8675264,
          638.72064,
          356.36008319999996,
          912.36672,
          280.67904,
          604.1952,
          459.69984,
          408.55104,
          319.04064,
          248.71104,
          693.7056,
          517.2422399999999,
          574.7846400000001,
          1118.88,
          702.65664,
          272.36736,
          1405.95264,
          312.64704,
          555.6102336,
          312.64064640000004,
          353.56608,
          197.56224,
          182.85696000000002,
          540.89856,
          761.4777600000001,
          257.98176,
          1058.1408,
          702.65664,
          1118.1767040000002,
          1459.01952,
          351.00864,
          875.28384,
          1365.0336,
          1604.1542399999998,
          664.29504,
          1017.22176,
          443.7094464,
          862.4966400000001,
          497.9783232,
          319.04064,
          786.1314816,
          599.71968,
          1733.9443199999998,
          1678.32,
          195.64416,
          977.5814399999999,
          731.74752,
          561.9974400000001,
          1437.92064,
          1197.5212800000002,
          1116.96192,
          1074.1248,
          261.49824,
          194.653152,
          1230.768,
          1242.27648,
          299.85984,
          504.4614336,
          593.3260799999999,
          382.912704,
          440.51903999999996,
          959.04,
          345.222432,
          777.0653568,
          1214.14464,
          287.07264000000004,
          912.36672,
          381.69792,
          1789.56864,
          741.01824,
          730.404864,
          702.65664,
          1278.0806400000001,
          191.16863999999998,
          171.98784,
          645.7536,
          382.97664000000003,
          1563.2352,
          1565.7926400000001,
          1083.7152,
          221.85792,
          1405.95264,
          1522.9555200000002,
          357.40224,
          331.82784,
          478.88064,
          913.64544,
          223.13664000000003,
          702.65664,
          753.8054400000001,
          282.469248,
          1274.2444799999998,
          657.0958464,
          1655.3030400000002,
          376.58304,
          1262.736,
          980.7782400000001,
          859.9392000000001,
          625.93344,
          306.25344,
          1308.13056,
          632.32704,
          1150.20864,
          409.12646400000006,
          347.81184,
          278.1216,
          478.88064,
          510.84864000000005,
          1336.2624,
          194.36544,
          299.85984,
          485.27423999999996,
          1086.2726400000001,
          1187.9308800000001,
          1278.0806400000001,
          737.82144,
          815.184,
          1177.605216,
          830.52864,
          473.1264,
          1539.57888,
          872.08704,
          1069.00992,
          806.8723200000001,
          375.04857599999997,
          464.17536,
          159.136704,
          361.2384,
          670.6886400000001,
          1494.82368,
          1214.14464,
          1149.5692800000002,
          1246.752,
          647.0259264,
          1789.56864,
          863.136,
          370.18944,
          811.3478400000001,
          702.65664,
          574.720704,
          1118.24064,
          606.75264,
          582.45696,
          217.38240000000002,
          395.7574464,
          1022.33664,
          191.16863999999998,
          169.43040000000002,
          606.75264,
          782.57664,
          391.92768,
          845.87328,
          734.62464,
          574.7846400000001,
          408.55104,
          534.50496,
          779.5332864,
          895.0720319999999,
          156.6432,
          333.40705920000005,
          1897.62048,
          568.39104,
          961.59744,
          894.46464,
          894.46464,
          818.2081728,
          440.51903999999996,
          568.39104,
          856.7424,
          510.84864000000005,
          293.46624,
          374.0256,
          880.39872,
          1926.2446272000002,
          549.8496,
          830.52864,
          235.92384,
          1054.30464,
          875.28384,
          509.83205760000004,
          255.09824640000002,
          1150.20864,
          549.21024,
          894.46464,
          470.4858432,
          732.0672,
          510.20928000000004,
          223.13664000000003,
          451.06848,
          501.89760000000007,
          295.60809600000005,
          253.82592,
          1105.45344,
          319.04064,
          714.1587264,
          1725.63264,
          347.90774400000004,
          818.3807999999999,
          143.21663999999998,
          163.0368,
          606.75264,
          363.731904,
          395.060544,
          223.13664000000003,
          402.7968,
          1256.3424,
          1917.44064,
          536.42304,
          1022.33664,
          613.1462399999999,
          219.93984,
          632.9664,
          1189.8425664000001,
          248.71104,
          414.94464000000005,
          530.6688,
          437.96160000000003,
          159.20064,
          1192.4064,
          1702.61568,
          1744.81344,
          478.88703360000005,
          248.71104,
          644.8073472,
          459.69984,
          982.9456704,
          188.6112,
          1501.85664,
          957.76128,
          1069.64928,
          389.37024,
          1131.6672,
          472.48704,
          606.75264,
          385.53408,
          1086.2726400000001,
          338.22144,
          293.46624,
          1294.704,
          942.41664,
          1067.7312000000002,
          1127.19168,
          779.3798400000001,
          427.3993728,
          210.34944,
          1405.95264,
          297.30240000000003,
          1469.8886400000001,
          894.46464,
          360.59904,
          830.52864,
          223.13664000000003,
          3132.22464,
          562.0038336,
          283.81190399999997,
          229.53024000000002,
          555.60384,
          746.77248,
          888.07104,
          1449.9789696,
          242.31744,
          718.6406400000001,
          936.6623999999999,
          496.14336,
          510.84864000000005,
          595.88352,
          152.80704,
          299.22048,
          408.5574336,
          1214.784,
          945.61344,
          530.02944,
          370.18944,
          255.10464000000002,
          579.6565632,
          1194.9638400000001,
          159.20064,
          1123.6240512,
          1533.82464,
          709.05024,
          333.042624,
          1566.432,
          747.41184,
          287.712,
          175.18464,
          587.57184,
          1661.6966400000001,
          775.54368,
          1012.7462400000001,
          1789.56864,
          453.30623999999995,
          927.0080640000001,
          761.989248,
          233.302464,
          680.27904,
          587.57184,
          725.6736000000001,
          764.6745599999999,
          2012.3024831999999,
          785.77344,
          267.89184,
          342.0576,
          344.61503999999996,
          950.5812672,
          318.40128,
          476.3232,
          804.3148800000001,
          263.41632,
          1194.228576,
          522.964512,
          661.0982399999999,
          223.13664000000003,
          446.91264,
          827.33184,
          725.6736000000001,
          316.4832,
          1469.8886400000001,
          830.52864,
          638.017344,
          267.89184,
          1311.32736,
          446.91264,
          958.4006400000001,
          1798.9992000000002,
          391.6783296,
          348.87957120000004,
          363.79584,
          203.31648,
          239.76,
          446.91264,
          1219.8924864,
          1655.9424000000001,
          622.0972800000001,
          171.98784,
          1118.24064,
          427.73184000000003,
          1200.07872,
          523.63584,
          255.10464000000002,
          274.28544,
          397.330272,
          287.712,
          508.2912,
          638.72064,
          1186.0128,
          761.4777600000001,
          418.7871936,
          798.56064,
          696.26304,
          464.17536,
          190.52928,
          912.1493376,
          547.9762752,
          753.8054400000001,
          190.52928,
          169.43040000000002,
          767.232,
          1078.3701504,
          534.8885760000001,
          958.4006400000001,
          2339.673984,
          862.1641728000001,
          313.222464,
          414.94464000000005,
          376.9155072,
          312.64704,
          1237.1616000000001,
          414.94464000000005,
          415.584,
          357.40224,
          613.7856,
          498.06144000000006,
          1546.61184,
          421.33824,
          1339.1267328000001,
          262.649088,
          771.70752,
          425.1744,
          981.4176000000001,
          638.72064,
          2109.2486400000003,
          210.98880000000003,
          1054.30464,
          720.3733056,
          2806.15104,
          303.696,
          1214.784,
          370.18944,
          543.392064,
          766.5926400000001,
          702.65664,
          998.04096,
          1834.3174463999999,
          382.97664000000003,
          670.0492800000001,
          1188.57024,
          996.76224,
          721.83744,
          542.81664,
          418.7808,
          300.7165824,
          702.65664,
          1022.33664,
          190.52928,
          755.2567872000001,
          1150.20864,
          652.1472,
          702.65664,
          536.42304,
          1515.2832,
          406.63296,
          1853.50464,
          372.043584,
          2294.535168,
          1502.496,
          1127.83104,
          210.34944,
          1469.8886400000001,
          1209.02976,
          696.26304,
          638.72064,
          1469.8886400000001,
          629.7696000000001,
          856.10304,
          129.726144,
          1259.5392000000002,
          613.1462399999999,
          744.8543999999999,
          1489.7087999999999,
          191.16863999999998,
          517.8816,
          862.4966400000001,
          472.48704,
          1320.2144640000001,
          702.65664,
          958.4006400000001,
          1118.24064,
          475.68384000000003,
          888.07104,
          498.7008,
          402.15744000000007,
          1073.48544,
          389.37024,
          1118.24064,
          1544.0544,
          958.4006400000001,
          614.42496,
          504.97292160000006,
          1188.57024,
          1150.20864,
          246.15359999999998,
          1601.6095872,
          482.71680000000003,
          313.222464,
          696.9024,
          1597.76064,
          766.5926400000001,
          1198.8,
          319.04064,
          868.25088,
          374.0256,
          226.97280000000003,
          395.76384,
          3515.84064,
          1342.01664,
          331.82784,
          758.28096,
          1054.944,
          1773.9874368,
          1546.61184,
          427.73184000000003,
          207.792,
          377.2224,
          1150.20864,
          1964.6829504000002,
          581.8176000000001,
          456.4966464,
          1195.6032,
          472.48704,
          393.20640000000003,
          655.98336,
          1455.82272,
          938.58048,
          191.16863999999998,
          1214.14464,
          553.0464,
          1216.70208,
          503.17632000000003,
          604.1952,
          287.07264000000004,
          1636.12224,
          414.94464000000005,
          299.85984,
          543.8779776,
          862.4966400000001,
          821.5776000000001,
          650.2291200000001,
          1432.1664,
          581.8176000000001,
          700.0992,
          1246.752,
          576.70272,
          1136.78208,
          674.5248,
          306.25344,
          887.43168,
          469.92960000000005,
          1182.1766400000001,
          1080.5184,
          255.09824640000002,
          597.8016,
          583.416,
          536.42304,
          1086.912,
          437.833728,
          222.49728,
          427.73184000000003,
          235.92384,
          1150.20864,
          291.356352,
          875.8592639999999,
          189.88992,
          242.31744,
          808.7904,
          894.46464,
          1086.2726400000001,
          1150.20864,
          1693.66464,
          943.056,
          593.9654400000001,
          575.424,
          392.56703999999996,
          597.8016,
          1287.0956159999998,
          817.74144,
          1054.30464,
          1310.04864,
          1255.0572864,
          1342.01664,
          948.1708800000001,
          229.53024000000002,
          504.45504,
          1214.14464,
          770.4288,
          1982.016,
          504.45504,
          651.5014464,
          319.04064,
          563.27616,
          613.7856,
          1022.33664,
          862.4966400000001,
          716.0256576,
          437.9552064,
          829.2435264000001,
          1166.832,
          466.668864,
          1054.944,
          744.8543999999999,
          452.7052416,
          734.62464,
          197.56224,
          1009.54944,
          184.711104,
          1150.20864,
          706.4928,
          1067.09184,
          357.146496,
          766.5926400000001,
          1763.3548799999999,
          894.46464,
          338.86080000000004,
          395.76384,
          715.44384,
          830.52864,
          638.72064,
          941.2657920000001,
          437.96160000000003,
          421.33824,
          223.13664000000003,
          1437.92064,
          1134.864,
          933.4656000000001,
          741.01824,
          952.0006463999999,
          2016.54144,
          1214.14464,
          495.504,
          810.7084799999999,
          248.71104,
          981.4176000000001,
          1125.2736,
          645.11424,
          1144.4544,
          541.2182399999999,
          297.6988032,
          527.472,
          437.96160000000003,
          2013.34464,
          444.35519999999997,
          1214.14464,
          1255.0508928,
          1790.208,
          754.4448,
          1310.624064,
          625.93344,
          640.63872,
          1150.20864,
          1118.24064,
          830.52864,
          764.0352,
          351.00864,
          414.94464000000005,
          585.0144,
          382.97664000000003,
          515.32416,
          760.19904,
          478.88064,
          715.44384,
          1219.8988800000002,
          319.04064,
          173.0236032,
          862.4966400000001,
          735.264,
          862.4966400000001,
          242.95680000000002,
          1150.20864,
          1335.62304,
          805.5936,
          760.19904,
          349.72992,
          498.06144000000006,
          764.0352,
          703.2896064,
          770.4288,
          926.43264,
          670.8548736,
          437.32223999999997,
          606.75264,
          983.97504,
          1016.5824,
          1206.6065856,
          511.488,
          773.6256000000001,
          492.3008064,
          1897.62048,
          952.6464,
          1425.13344,
          508.9241664,
          1016.5824,
          734.62464,
          757.9165248,
          669.0518784,
          996.76224,
          760.19904,
          677.7216000000001,
          1038.3206400000001,
          690.5088000000001,
          622.0972800000001,
          261.49824,
          761.989248,
          764.0352,
          785.7670464,
          862.4966400000001,
          474.40512,
          1102.896,
          679.607712,
          646.0796736000001,
          541.5379200000001,
          134.77708800000002,
          911.088,
          671.072256,
          639.36,
          1344.7914624,
          939.2198400000001,
          988.2203904,
          1464.1280064,
          184.071744,
          1675.1232,
          625.93344,
          699.45984,
          625.93344,
          1441.11744,
          450.84470400000004,
          319.04064,
          287.07264000000004,
          830.52864,
          1162.99584,
          638.08128,
          357.40224,
          632.9600064000001,
          1233.32544,
          932.1868800000001,
          2541.456,
          510.21567360000006,
          849.70944,
          831.168,
          308.1587328,
          766.5926400000001,
          766.5926400000001,
          696.9024,
          1095.5369664,
          421.33824,
          624.65472,
          1597.76064,
          345.25440000000003,
          600.9984,
          894.46464,
          2071.5264,
          413.1991872,
          1310.04864,
          479.52,
          659.1737664,
          955.8432000000001,
          766.5926400000001,
          393.20640000000003,
          247.43232,
          251.5817664,
          221.2121664,
          1022.33664,
          523.2202560000001,
          1022.33664,
          510.84864000000005,
          408.42316800000003,
          1022.33664,
          319.68,
          1469.8886400000001,
          725.769504,
          746.1139392,
          133.62624,
          1853.50464,
          766.5926400000001,
          903.479616,
          966.1944384000001,
          554.3251200000001,
          254.46527999999998,
          856.10304,
          1086.2726400000001,
          491.763744,
          274.28544,
          1258.89984,
          351.00864,
          881.6774399999999,
          1758.2336064,
          657.9014400000001,
          1423.21536,
          839.1536064000001,
          125.31455999999999,
          1080.5184,
          967.35168,
          334.7880768,
          278.1216,
          1067.09184,
          306.25344,
          1211.5872000000002,
          632.32704,
          721.83744,
          402.15744000000007,
          1310.9309568,
          177.74208000000002,
          480.79872,
          393.84576000000004,
          702.65664,
          2525.088384,
          501.25823999999994,
          1533.82464,
          1388.5108992,
          1560.0384,
          730.660608,
          1041.51744,
          1425.13344,
          1150.20864,
          1214.14464,
          1468.577952,
          645.689664,
          1009.54944,
          1495.46304,
          216.74303999999998,
          189.88992,
          382.97664000000003,
          766.5926400000001,
          1438.9947648,
          306.18311040000003,
          954.4366080000001,
          1469.8886400000001,
          504.12896639999997,
          1304.93376,
          958.4006400000001,
          1131.0278400000002,
          574.7846400000001,
          293.46624,
          304.9683264,
          957.76128,
          888.7103999999999,
          299.22048,
          159.20064,
          536.42304,
          434.12544,
          741.01824,
          235.92384,
          254.46527999999998,
          453.30623999999995,
          491.66784,
          527.472,
          834.3648,
          1376.7786432,
          415.584,
          1046.63232,
          531.30816,
          572.2335936,
          212.90688000000003,
          510.84864000000005,
          581.17824,
          753.8054400000001,
          441.79776000000004,
          702.65664,
          1661.6966400000001,
          523.63584,
          310.0896,
          743.57568,
          766.5926400000001,
          848.43072,
          235.28448,
          1374.624,
          173.90592,
          1309.9847040000002,
          319.04064,
          402.15744000000007,
          1713.4848,
          747.41184,
          568.39104,
          370.18944,
          191.16863999999998,
          402.15744000000007,
          1565.7926400000001,
          817.74144,
          1118.24064,
          1246.1062464,
          638.72064,
          1246.11264,
          111.24864,
          382.33727999999996,
          344.61503999999996,
          813.26592,
          734.62464,
          977.5814399999999,
          943.7656896,
          338.22144,
          1095.4602432000001,
          325.43424,
          197.56224,
          944.33472,
          333.6564096,
          657.9014400000001,
          734.62464,
          1054.944,
          2237.12064,
          299.8662336,
          1021.6972800000001,
          613.1462399999999,
          305.61408,
          1405.4347584000002,
          471.20832,
          747.41184,
          958.4006400000001,
          382.0623552,
          818.3807999999999,
          231.32044800000003,
          1150.20864,
          703.2896064,
          559.44,
          1486.512,
          366.35328,
          1159.15968,
          207.15264000000002,
          255.10464000000002,
          363.79584,
          685.3939200000001,
          283.8694464,
          216.74303999999998,
          1214.784,
          313.2864,
          572.2272,
          785.77344,
          532.5932736,
          466.09344000000004,
          293.46624,
          184.77504000000002,
          242.31744,
          574.7846400000001,
          351.6416064,
          515.3177664,
          133.62624,
          460.5437952,
          407.91168,
          958.4006400000001,
          146.41344,
          488.47104
         ],
         "yaxis": "y"
        },
        {
         "hovertemplate": "<b>OLS trendline</b><br>Price = 379.799 * GHz + -147.551<br>R<sup>2</sup>=0.181971<br><br>GHz=%{x}<br>Price=%{y} <b>(trend)</b><extra></extra>",
         "legendgroup": "",
         "marker": {
          "color": "#636efa",
          "symbol": "circle"
         },
         "mode": "lines",
         "name": "",
         "showlegend": false,
         "type": "scattergl",
         "x": [
          0.9,
          0.9,
          1,
          1.1,
          1.1,
          1.1,
          1.1,
          1.1,
          1.1,
          1.1,
          1.1,
          1.1,
          1.1,
          1.1,
          1.1,
          1.1,
          1.1,
          1.1,
          1.1,
          1.1,
          1.1,
          1.1,
          1.1,
          1.1,
          1.1,
          1.1,
          1.1,
          1.1,
          1.1,
          1.1,
          1.1,
          1.1,
          1.1,
          1.1,
          1.1,
          1.1,
          1.1,
          1.1,
          1.1,
          1.1,
          1.1,
          1.1,
          1.1,
          1.1,
          1.1,
          1.1,
          1.1,
          1.1,
          1.1,
          1.1,
          1.1,
          1.1,
          1.1,
          1.1,
          1.1,
          1.1,
          1.2,
          1.2,
          1.2,
          1.2,
          1.2,
          1.2,
          1.2,
          1.2,
          1.2,
          1.2,
          1.2,
          1.2,
          1.2,
          1.2,
          1.2,
          1.3,
          1.3,
          1.3,
          1.3,
          1.3,
          1.3,
          1.44,
          1.44,
          1.44,
          1.44,
          1.44,
          1.44,
          1.44,
          1.44,
          1.44,
          1.44,
          1.5,
          1.5,
          1.5,
          1.5,
          1.5,
          1.5,
          1.5,
          1.5,
          1.5,
          1.5,
          1.6,
          1.6,
          1.6,
          1.6,
          1.6,
          1.6,
          1.6,
          1.6,
          1.6,
          1.6,
          1.6,
          1.6,
          1.6,
          1.6,
          1.6,
          1.6,
          1.6,
          1.6,
          1.6,
          1.6,
          1.6,
          1.6,
          1.6,
          1.6,
          1.6,
          1.6,
          1.6,
          1.6,
          1.6,
          1.6,
          1.6,
          1.6,
          1.6,
          1.6,
          1.6,
          1.6,
          1.6,
          1.6,
          1.6,
          1.6,
          1.6,
          1.6,
          1.6,
          1.6,
          1.6,
          1.6,
          1.6,
          1.6,
          1.6,
          1.6,
          1.6,
          1.6,
          1.6,
          1.6,
          1.6,
          1.6,
          1.6,
          1.6,
          1.6,
          1.6,
          1.6,
          1.6,
          1.6,
          1.6,
          1.6,
          1.6,
          1.6,
          1.6,
          1.6,
          1.6,
          1.6,
          1.6,
          1.6,
          1.6,
          1.6,
          1.6,
          1.6,
          1.6,
          1.6,
          1.6,
          1.6,
          1.6,
          1.6,
          1.6,
          1.6,
          1.6,
          1.6,
          1.6,
          1.6,
          1.6,
          1.6,
          1.6,
          1.6,
          1.6,
          1.6,
          1.6,
          1.6,
          1.6,
          1.6,
          1.6,
          1.6,
          1.6,
          1.6,
          1.6,
          1.6,
          1.6,
          1.6,
          1.6,
          1.6,
          1.6,
          1.6,
          1.6,
          1.6,
          1.6,
          1.6,
          1.6,
          1.6,
          1.6,
          1.8,
          1.8,
          1.8,
          1.8,
          1.8,
          1.8,
          1.8,
          1.8,
          1.8,
          1.8,
          1.8,
          1.8,
          1.8,
          1.8,
          1.8,
          1.8,
          1.8,
          1.8,
          1.8,
          1.8,
          1.8,
          1.8,
          1.8,
          1.8,
          1.8,
          1.8,
          1.8,
          1.8,
          1.8,
          1.8,
          1.8,
          1.8,
          1.8,
          1.8,
          1.8,
          1.8,
          1.8,
          1.8,
          1.8,
          1.8,
          1.8,
          1.8,
          1.8,
          1.8,
          1.8,
          1.8,
          1.8,
          1.8,
          1.8,
          1.8,
          1.8,
          1.8,
          1.8,
          1.8,
          1.8,
          1.8,
          1.8,
          1.8,
          1.8,
          1.8,
          1.8,
          1.8,
          1.8,
          1.8,
          1.8,
          1.8,
          1.8,
          1.8,
          1.8,
          1.8,
          1.8,
          1.8,
          1.8,
          1.8,
          1.8,
          1.8,
          1.8,
          1.9,
          1.9,
          1.92,
          2,
          2,
          2,
          2,
          2,
          2,
          2,
          2,
          2,
          2,
          2,
          2,
          2,
          2,
          2,
          2,
          2,
          2,
          2,
          2,
          2,
          2,
          2,
          2,
          2,
          2,
          2,
          2,
          2,
          2,
          2,
          2,
          2,
          2,
          2,
          2,
          2,
          2,
          2,
          2,
          2,
          2,
          2,
          2,
          2,
          2,
          2,
          2,
          2,
          2,
          2,
          2,
          2,
          2,
          2,
          2,
          2,
          2,
          2,
          2,
          2,
          2,
          2,
          2,
          2,
          2,
          2,
          2,
          2,
          2,
          2,
          2,
          2,
          2,
          2,
          2,
          2,
          2,
          2,
          2,
          2,
          2,
          2,
          2.1,
          2.1,
          2.1,
          2.2,
          2.2,
          2.2,
          2.2,
          2.2,
          2.2,
          2.2,
          2.2,
          2.2,
          2.2,
          2.2,
          2.3,
          2.3,
          2.3,
          2.3,
          2.3,
          2.3,
          2.3,
          2.3,
          2.3,
          2.3,
          2.3,
          2.3,
          2.3,
          2.3,
          2.3,
          2.3,
          2.3,
          2.3,
          2.3,
          2.3,
          2.3,
          2.3,
          2.3,
          2.3,
          2.3,
          2.3,
          2.3,
          2.3,
          2.3,
          2.3,
          2.3,
          2.3,
          2.3,
          2.3,
          2.3,
          2.3,
          2.3,
          2.3,
          2.3,
          2.3,
          2.3,
          2.3,
          2.3,
          2.3,
          2.3,
          2.3,
          2.3,
          2.3,
          2.3,
          2.3,
          2.3,
          2.3,
          2.3,
          2.3,
          2.3,
          2.3,
          2.3,
          2.3,
          2.3,
          2.3,
          2.3,
          2.3,
          2.3,
          2.3,
          2.3,
          2.3,
          2.3,
          2.3,
          2.3,
          2.3,
          2.3,
          2.3,
          2.3,
          2.3,
          2.3,
          2.3,
          2.3,
          2.3,
          2.3,
          2.3,
          2.3,
          2.3,
          2.3,
          2.3,
          2.4,
          2.4,
          2.4,
          2.4,
          2.4,
          2.4,
          2.4,
          2.4,
          2.4,
          2.4,
          2.4,
          2.4,
          2.4,
          2.4,
          2.4,
          2.4,
          2.4,
          2.4,
          2.4,
          2.4,
          2.4,
          2.4,
          2.4,
          2.4,
          2.4,
          2.4,
          2.4,
          2.4,
          2.4,
          2.4,
          2.4,
          2.4,
          2.4,
          2.4,
          2.4,
          2.4,
          2.4,
          2.4,
          2.4,
          2.4,
          2.4,
          2.4,
          2.4,
          2.4,
          2.4,
          2.4,
          2.4,
          2.4,
          2.4,
          2.4,
          2.5,
          2.5,
          2.5,
          2.5,
          2.5,
          2.5,
          2.5,
          2.5,
          2.5,
          2.5,
          2.5,
          2.5,
          2.5,
          2.5,
          2.5,
          2.5,
          2.5,
          2.5,
          2.5,
          2.5,
          2.5,
          2.5,
          2.5,
          2.5,
          2.5,
          2.5,
          2.5,
          2.5,
          2.5,
          2.5,
          2.5,
          2.5,
          2.5,
          2.5,
          2.5,
          2.5,
          2.5,
          2.5,
          2.5,
          2.5,
          2.5,
          2.5,
          2.5,
          2.5,
          2.5,
          2.5,
          2.5,
          2.5,
          2.5,
          2.5,
          2.5,
          2.5,
          2.5,
          2.5,
          2.5,
          2.5,
          2.5,
          2.5,
          2.5,
          2.5,
          2.5,
          2.5,
          2.5,
          2.5,
          2.5,
          2.5,
          2.5,
          2.5,
          2.5,
          2.5,
          2.5,
          2.5,
          2.5,
          2.5,
          2.5,
          2.5,
          2.5,
          2.5,
          2.5,
          2.5,
          2.5,
          2.5,
          2.5,
          2.5,
          2.5,
          2.5,
          2.5,
          2.5,
          2.5,
          2.5,
          2.5,
          2.5,
          2.5,
          2.5,
          2.5,
          2.5,
          2.5,
          2.5,
          2.5,
          2.5,
          2.5,
          2.5,
          2.5,
          2.5,
          2.5,
          2.5,
          2.5,
          2.5,
          2.5,
          2.5,
          2.5,
          2.5,
          2.5,
          2.5,
          2.5,
          2.5,
          2.5,
          2.5,
          2.5,
          2.5,
          2.5,
          2.5,
          2.5,
          2.5,
          2.5,
          2.5,
          2.5,
          2.5,
          2.5,
          2.5,
          2.5,
          2.5,
          2.5,
          2.5,
          2.5,
          2.5,
          2.5,
          2.5,
          2.5,
          2.5,
          2.5,
          2.5,
          2.5,
          2.5,
          2.5,
          2.5,
          2.5,
          2.5,
          2.5,
          2.5,
          2.5,
          2.5,
          2.5,
          2.5,
          2.5,
          2.5,
          2.5,
          2.5,
          2.5,
          2.5,
          2.5,
          2.5,
          2.5,
          2.5,
          2.5,
          2.5,
          2.5,
          2.5,
          2.5,
          2.5,
          2.5,
          2.5,
          2.5,
          2.5,
          2.5,
          2.5,
          2.5,
          2.5,
          2.5,
          2.5,
          2.5,
          2.5,
          2.5,
          2.5,
          2.5,
          2.5,
          2.5,
          2.5,
          2.5,
          2.5,
          2.5,
          2.5,
          2.5,
          2.5,
          2.5,
          2.5,
          2.5,
          2.5,
          2.5,
          2.5,
          2.5,
          2.5,
          2.5,
          2.5,
          2.5,
          2.5,
          2.5,
          2.5,
          2.5,
          2.5,
          2.5,
          2.5,
          2.5,
          2.5,
          2.5,
          2.5,
          2.5,
          2.5,
          2.5,
          2.5,
          2.5,
          2.5,
          2.5,
          2.5,
          2.5,
          2.5,
          2.5,
          2.5,
          2.5,
          2.5,
          2.5,
          2.5,
          2.5,
          2.5,
          2.5,
          2.5,
          2.5,
          2.5,
          2.5,
          2.5,
          2.5,
          2.5,
          2.5,
          2.5,
          2.5,
          2.5,
          2.5,
          2.5,
          2.5,
          2.5,
          2.5,
          2.5,
          2.5,
          2.5,
          2.5,
          2.5,
          2.5,
          2.5,
          2.5,
          2.5,
          2.5,
          2.5,
          2.5,
          2.5,
          2.5,
          2.5,
          2.5,
          2.5,
          2.5,
          2.5,
          2.5,
          2.5,
          2.5,
          2.5,
          2.5,
          2.5,
          2.5,
          2.5,
          2.6,
          2.6,
          2.6,
          2.6,
          2.6,
          2.6,
          2.6,
          2.6,
          2.6,
          2.6,
          2.6,
          2.6,
          2.6,
          2.6,
          2.6,
          2.6,
          2.6,
          2.6,
          2.6,
          2.6,
          2.6,
          2.6,
          2.6,
          2.6,
          2.6,
          2.6,
          2.6,
          2.6,
          2.6,
          2.6,
          2.6,
          2.6,
          2.6,
          2.6,
          2.6,
          2.6,
          2.6,
          2.6,
          2.6,
          2.6,
          2.6,
          2.6,
          2.6,
          2.6,
          2.6,
          2.6,
          2.6,
          2.6,
          2.6,
          2.6,
          2.6,
          2.6,
          2.6,
          2.6,
          2.6,
          2.6,
          2.6,
          2.6,
          2.6,
          2.6,
          2.6,
          2.6,
          2.6,
          2.6,
          2.6,
          2.6,
          2.6,
          2.6,
          2.6,
          2.6,
          2.6,
          2.6,
          2.6,
          2.7,
          2.7,
          2.7,
          2.7,
          2.7,
          2.7,
          2.7,
          2.7,
          2.7,
          2.7,
          2.7,
          2.7,
          2.7,
          2.7,
          2.7,
          2.7,
          2.7,
          2.7,
          2.7,
          2.7,
          2.7,
          2.7,
          2.7,
          2.7,
          2.7,
          2.7,
          2.7,
          2.7,
          2.7,
          2.7,
          2.7,
          2.7,
          2.7,
          2.7,
          2.7,
          2.7,
          2.7,
          2.7,
          2.7,
          2.7,
          2.7,
          2.7,
          2.7,
          2.7,
          2.7,
          2.7,
          2.7,
          2.7,
          2.7,
          2.7,
          2.7,
          2.7,
          2.7,
          2.7,
          2.7,
          2.7,
          2.7,
          2.7,
          2.7,
          2.7,
          2.7,
          2.7,
          2.7,
          2.7,
          2.7,
          2.7,
          2.7,
          2.7,
          2.7,
          2.7,
          2.7,
          2.7,
          2.7,
          2.7,
          2.7,
          2.7,
          2.7,
          2.7,
          2.7,
          2.7,
          2.7,
          2.7,
          2.7,
          2.7,
          2.7,
          2.7,
          2.7,
          2.7,
          2.7,
          2.7,
          2.7,
          2.7,
          2.7,
          2.7,
          2.7,
          2.7,
          2.7,
          2.7,
          2.7,
          2.7,
          2.7,
          2.7,
          2.7,
          2.7,
          2.7,
          2.7,
          2.7,
          2.7,
          2.7,
          2.7,
          2.7,
          2.7,
          2.7,
          2.7,
          2.7,
          2.7,
          2.7,
          2.7,
          2.7,
          2.7,
          2.7,
          2.7,
          2.7,
          2.7,
          2.7,
          2.7,
          2.7,
          2.7,
          2.7,
          2.7,
          2.7,
          2.7,
          2.7,
          2.7,
          2.7,
          2.7,
          2.7,
          2.7,
          2.7,
          2.7,
          2.7,
          2.7,
          2.7,
          2.7,
          2.7,
          2.7,
          2.7,
          2.7,
          2.7,
          2.7,
          2.7,
          2.7,
          2.7,
          2.7,
          2.7,
          2.7,
          2.7,
          2.7,
          2.8,
          2.8,
          2.8,
          2.8,
          2.8,
          2.8,
          2.8,
          2.8,
          2.8,
          2.8,
          2.8,
          2.8,
          2.8,
          2.8,
          2.8,
          2.8,
          2.8,
          2.8,
          2.8,
          2.8,
          2.8,
          2.8,
          2.8,
          2.8,
          2.8,
          2.8,
          2.8,
          2.8,
          2.8,
          2.8,
          2.8,
          2.8,
          2.8,
          2.8,
          2.8,
          2.8,
          2.8,
          2.8,
          2.8,
          2.8,
          2.8,
          2.8,
          2.8,
          2.8,
          2.8,
          2.8,
          2.8,
          2.8,
          2.8,
          2.8,
          2.8,
          2.8,
          2.8,
          2.8,
          2.8,
          2.8,
          2.8,
          2.8,
          2.8,
          2.8,
          2.8,
          2.8,
          2.8,
          2.8,
          2.8,
          2.8,
          2.8,
          2.8,
          2.8,
          2.8,
          2.8,
          2.8,
          2.8,
          2.8,
          2.8,
          2.8,
          2.8,
          2.8,
          2.8,
          2.8,
          2.8,
          2.8,
          2.8,
          2.8,
          2.8,
          2.8,
          2.8,
          2.8,
          2.8,
          2.8,
          2.8,
          2.8,
          2.8,
          2.8,
          2.8,
          2.8,
          2.8,
          2.8,
          2.8,
          2.8,
          2.8,
          2.8,
          2.8,
          2.8,
          2.8,
          2.8,
          2.8,
          2.8,
          2.8,
          2.8,
          2.8,
          2.8,
          2.8,
          2.8,
          2.8,
          2.8,
          2.8,
          2.8,
          2.8,
          2.8,
          2.8,
          2.8,
          2.8,
          2.8,
          2.8,
          2.8,
          2.8,
          2.8,
          2.8,
          2.8,
          2.8,
          2.8,
          2.8,
          2.8,
          2.8,
          2.8,
          2.8,
          2.8,
          2.8,
          2.8,
          2.8,
          2.8,
          2.8,
          2.8,
          2.8,
          2.8,
          2.8,
          2.8,
          2.8,
          2.8,
          2.8,
          2.8,
          2.8,
          2.8,
          2.8,
          2.8,
          2.8,
          2.8,
          2.8,
          2.8,
          2.8,
          2.9,
          2.9,
          2.9,
          2.9,
          2.9,
          2.9,
          2.9,
          2.9,
          2.9,
          2.9,
          2.9,
          2.9,
          2.9,
          2.9,
          2.9,
          2.9,
          2.9,
          2.9,
          2.9,
          3,
          3,
          3,
          3,
          3,
          3,
          3,
          3,
          3,
          3,
          3,
          3,
          3,
          3,
          3,
          3,
          3,
          3,
          3,
          3.1,
          3.1,
          3.1,
          3.2,
          3.6,
          3.6,
          3.6,
          3.6,
          3.6
         ],
         "xaxis": "x",
         "y": [
          194.26798078680906,
          194.26798078680906,
          232.24790766642286,
          270.2278345460367,
          270.2278345460367,
          270.2278345460367,
          270.2278345460367,
          270.2278345460367,
          270.2278345460367,
          270.2278345460367,
          270.2278345460367,
          270.2278345460367,
          270.2278345460367,
          270.2278345460367,
          270.2278345460367,
          270.2278345460367,
          270.2278345460367,
          270.2278345460367,
          270.2278345460367,
          270.2278345460367,
          270.2278345460367,
          270.2278345460367,
          270.2278345460367,
          270.2278345460367,
          270.2278345460367,
          270.2278345460367,
          270.2278345460367,
          270.2278345460367,
          270.2278345460367,
          270.2278345460367,
          270.2278345460367,
          270.2278345460367,
          270.2278345460367,
          270.2278345460367,
          270.2278345460367,
          270.2278345460367,
          270.2278345460367,
          270.2278345460367,
          270.2278345460367,
          270.2278345460367,
          270.2278345460367,
          270.2278345460367,
          270.2278345460367,
          270.2278345460367,
          270.2278345460367,
          270.2278345460367,
          270.2278345460367,
          270.2278345460367,
          270.2278345460367,
          270.2278345460367,
          270.2278345460367,
          270.2278345460367,
          270.2278345460367,
          270.2278345460367,
          270.2278345460367,
          270.2278345460367,
          308.20776142565046,
          308.20776142565046,
          308.20776142565046,
          308.20776142565046,
          308.20776142565046,
          308.20776142565046,
          308.20776142565046,
          308.20776142565046,
          308.20776142565046,
          308.20776142565046,
          308.20776142565046,
          308.20776142565046,
          308.20776142565046,
          308.20776142565046,
          308.20776142565046,
          346.1876883052643,
          346.1876883052643,
          346.1876883052643,
          346.1876883052643,
          346.1876883052643,
          346.1876883052643,
          399.35958593672365,
          399.35958593672365,
          399.35958593672365,
          399.35958593672365,
          399.35958593672365,
          399.35958593672365,
          399.35958593672365,
          399.35958593672365,
          399.35958593672365,
          399.35958593672365,
          422.14754206449186,
          422.14754206449186,
          422.14754206449186,
          422.14754206449186,
          422.14754206449186,
          422.14754206449186,
          422.14754206449186,
          422.14754206449186,
          422.14754206449186,
          422.14754206449186,
          460.1274689441058,
          460.1274689441058,
          460.1274689441058,
          460.1274689441058,
          460.1274689441058,
          460.1274689441058,
          460.1274689441058,
          460.1274689441058,
          460.1274689441058,
          460.1274689441058,
          460.1274689441058,
          460.1274689441058,
          460.1274689441058,
          460.1274689441058,
          460.1274689441058,
          460.1274689441058,
          460.1274689441058,
          460.1274689441058,
          460.1274689441058,
          460.1274689441058,
          460.1274689441058,
          460.1274689441058,
          460.1274689441058,
          460.1274689441058,
          460.1274689441058,
          460.1274689441058,
          460.1274689441058,
          460.1274689441058,
          460.1274689441058,
          460.1274689441058,
          460.1274689441058,
          460.1274689441058,
          460.1274689441058,
          460.1274689441058,
          460.1274689441058,
          460.1274689441058,
          460.1274689441058,
          460.1274689441058,
          460.1274689441058,
          460.1274689441058,
          460.1274689441058,
          460.1274689441058,
          460.1274689441058,
          460.1274689441058,
          460.1274689441058,
          460.1274689441058,
          460.1274689441058,
          460.1274689441058,
          460.1274689441058,
          460.1274689441058,
          460.1274689441058,
          460.1274689441058,
          460.1274689441058,
          460.1274689441058,
          460.1274689441058,
          460.1274689441058,
          460.1274689441058,
          460.1274689441058,
          460.1274689441058,
          460.1274689441058,
          460.1274689441058,
          460.1274689441058,
          460.1274689441058,
          460.1274689441058,
          460.1274689441058,
          460.1274689441058,
          460.1274689441058,
          460.1274689441058,
          460.1274689441058,
          460.1274689441058,
          460.1274689441058,
          460.1274689441058,
          460.1274689441058,
          460.1274689441058,
          460.1274689441058,
          460.1274689441058,
          460.1274689441058,
          460.1274689441058,
          460.1274689441058,
          460.1274689441058,
          460.1274689441058,
          460.1274689441058,
          460.1274689441058,
          460.1274689441058,
          460.1274689441058,
          460.1274689441058,
          460.1274689441058,
          460.1274689441058,
          460.1274689441058,
          460.1274689441058,
          460.1274689441058,
          460.1274689441058,
          460.1274689441058,
          460.1274689441058,
          460.1274689441058,
          460.1274689441058,
          460.1274689441058,
          460.1274689441058,
          460.1274689441058,
          460.1274689441058,
          460.1274689441058,
          460.1274689441058,
          460.1274689441058,
          460.1274689441058,
          460.1274689441058,
          460.1274689441058,
          460.1274689441058,
          460.1274689441058,
          460.1274689441058,
          460.1274689441058,
          460.1274689441058,
          460.1274689441058,
          460.1274689441058,
          460.1274689441058,
          460.1274689441058,
          460.1274689441058,
          460.1274689441058,
          460.1274689441058,
          536.0873227033334,
          536.0873227033334,
          536.0873227033334,
          536.0873227033334,
          536.0873227033334,
          536.0873227033334,
          536.0873227033334,
          536.0873227033334,
          536.0873227033334,
          536.0873227033334,
          536.0873227033334,
          536.0873227033334,
          536.0873227033334,
          536.0873227033334,
          536.0873227033334,
          536.0873227033334,
          536.0873227033334,
          536.0873227033334,
          536.0873227033334,
          536.0873227033334,
          536.0873227033334,
          536.0873227033334,
          536.0873227033334,
          536.0873227033334,
          536.0873227033334,
          536.0873227033334,
          536.0873227033334,
          536.0873227033334,
          536.0873227033334,
          536.0873227033334,
          536.0873227033334,
          536.0873227033334,
          536.0873227033334,
          536.0873227033334,
          536.0873227033334,
          536.0873227033334,
          536.0873227033334,
          536.0873227033334,
          536.0873227033334,
          536.0873227033334,
          536.0873227033334,
          536.0873227033334,
          536.0873227033334,
          536.0873227033334,
          536.0873227033334,
          536.0873227033334,
          536.0873227033334,
          536.0873227033334,
          536.0873227033334,
          536.0873227033334,
          536.0873227033334,
          536.0873227033334,
          536.0873227033334,
          536.0873227033334,
          536.0873227033334,
          536.0873227033334,
          536.0873227033334,
          536.0873227033334,
          536.0873227033334,
          536.0873227033334,
          536.0873227033334,
          536.0873227033334,
          536.0873227033334,
          536.0873227033334,
          536.0873227033334,
          536.0873227033334,
          536.0873227033334,
          536.0873227033334,
          536.0873227033334,
          536.0873227033334,
          536.0873227033334,
          536.0873227033334,
          536.0873227033334,
          536.0873227033334,
          536.0873227033334,
          536.0873227033334,
          536.0873227033334,
          574.0672495829472,
          574.0672495829472,
          581.6632349588699,
          612.047176462561,
          612.047176462561,
          612.047176462561,
          612.047176462561,
          612.047176462561,
          612.047176462561,
          612.047176462561,
          612.047176462561,
          612.047176462561,
          612.047176462561,
          612.047176462561,
          612.047176462561,
          612.047176462561,
          612.047176462561,
          612.047176462561,
          612.047176462561,
          612.047176462561,
          612.047176462561,
          612.047176462561,
          612.047176462561,
          612.047176462561,
          612.047176462561,
          612.047176462561,
          612.047176462561,
          612.047176462561,
          612.047176462561,
          612.047176462561,
          612.047176462561,
          612.047176462561,
          612.047176462561,
          612.047176462561,
          612.047176462561,
          612.047176462561,
          612.047176462561,
          612.047176462561,
          612.047176462561,
          612.047176462561,
          612.047176462561,
          612.047176462561,
          612.047176462561,
          612.047176462561,
          612.047176462561,
          612.047176462561,
          612.047176462561,
          612.047176462561,
          612.047176462561,
          612.047176462561,
          612.047176462561,
          612.047176462561,
          612.047176462561,
          612.047176462561,
          612.047176462561,
          612.047176462561,
          612.047176462561,
          612.047176462561,
          612.047176462561,
          612.047176462561,
          612.047176462561,
          612.047176462561,
          612.047176462561,
          612.047176462561,
          612.047176462561,
          612.047176462561,
          612.047176462561,
          612.047176462561,
          612.047176462561,
          612.047176462561,
          612.047176462561,
          612.047176462561,
          612.047176462561,
          612.047176462561,
          612.047176462561,
          612.047176462561,
          612.047176462561,
          612.047176462561,
          612.047176462561,
          612.047176462561,
          612.047176462561,
          612.047176462561,
          612.047176462561,
          612.047176462561,
          612.047176462561,
          612.047176462561,
          650.0271033421748,
          650.0271033421748,
          650.0271033421748,
          688.0070302217887,
          688.0070302217887,
          688.0070302217887,
          688.0070302217887,
          688.0070302217887,
          688.0070302217887,
          688.0070302217887,
          688.0070302217887,
          688.0070302217887,
          688.0070302217887,
          688.0070302217887,
          725.9869571014024,
          725.9869571014024,
          725.9869571014024,
          725.9869571014024,
          725.9869571014024,
          725.9869571014024,
          725.9869571014024,
          725.9869571014024,
          725.9869571014024,
          725.9869571014024,
          725.9869571014024,
          725.9869571014024,
          725.9869571014024,
          725.9869571014024,
          725.9869571014024,
          725.9869571014024,
          725.9869571014024,
          725.9869571014024,
          725.9869571014024,
          725.9869571014024,
          725.9869571014024,
          725.9869571014024,
          725.9869571014024,
          725.9869571014024,
          725.9869571014024,
          725.9869571014024,
          725.9869571014024,
          725.9869571014024,
          725.9869571014024,
          725.9869571014024,
          725.9869571014024,
          725.9869571014024,
          725.9869571014024,
          725.9869571014024,
          725.9869571014024,
          725.9869571014024,
          725.9869571014024,
          725.9869571014024,
          725.9869571014024,
          725.9869571014024,
          725.9869571014024,
          725.9869571014024,
          725.9869571014024,
          725.9869571014024,
          725.9869571014024,
          725.9869571014024,
          725.9869571014024,
          725.9869571014024,
          725.9869571014024,
          725.9869571014024,
          725.9869571014024,
          725.9869571014024,
          725.9869571014024,
          725.9869571014024,
          725.9869571014024,
          725.9869571014024,
          725.9869571014024,
          725.9869571014024,
          725.9869571014024,
          725.9869571014024,
          725.9869571014024,
          725.9869571014024,
          725.9869571014024,
          725.9869571014024,
          725.9869571014024,
          725.9869571014024,
          725.9869571014024,
          725.9869571014024,
          725.9869571014024,
          725.9869571014024,
          725.9869571014024,
          725.9869571014024,
          725.9869571014024,
          725.9869571014024,
          725.9869571014024,
          725.9869571014024,
          725.9869571014024,
          725.9869571014024,
          725.9869571014024,
          725.9869571014024,
          725.9869571014024,
          725.9869571014024,
          725.9869571014024,
          725.9869571014024,
          763.9668839810162,
          763.9668839810162,
          763.9668839810162,
          763.9668839810162,
          763.9668839810162,
          763.9668839810162,
          763.9668839810162,
          763.9668839810162,
          763.9668839810162,
          763.9668839810162,
          763.9668839810162,
          763.9668839810162,
          763.9668839810162,
          763.9668839810162,
          763.9668839810162,
          763.9668839810162,
          763.9668839810162,
          763.9668839810162,
          763.9668839810162,
          763.9668839810162,
          763.9668839810162,
          763.9668839810162,
          763.9668839810162,
          763.9668839810162,
          763.9668839810162,
          763.9668839810162,
          763.9668839810162,
          763.9668839810162,
          763.9668839810162,
          763.9668839810162,
          763.9668839810162,
          763.9668839810162,
          763.9668839810162,
          763.9668839810162,
          763.9668839810162,
          763.9668839810162,
          763.9668839810162,
          763.9668839810162,
          763.9668839810162,
          763.9668839810162,
          763.9668839810162,
          763.9668839810162,
          763.9668839810162,
          763.9668839810162,
          763.9668839810162,
          763.9668839810162,
          763.9668839810162,
          763.9668839810162,
          763.9668839810162,
          763.9668839810162,
          801.9468108606301,
          801.9468108606301,
          801.9468108606301,
          801.9468108606301,
          801.9468108606301,
          801.9468108606301,
          801.9468108606301,
          801.9468108606301,
          801.9468108606301,
          801.9468108606301,
          801.9468108606301,
          801.9468108606301,
          801.9468108606301,
          801.9468108606301,
          801.9468108606301,
          801.9468108606301,
          801.9468108606301,
          801.9468108606301,
          801.9468108606301,
          801.9468108606301,
          801.9468108606301,
          801.9468108606301,
          801.9468108606301,
          801.9468108606301,
          801.9468108606301,
          801.9468108606301,
          801.9468108606301,
          801.9468108606301,
          801.9468108606301,
          801.9468108606301,
          801.9468108606301,
          801.9468108606301,
          801.9468108606301,
          801.9468108606301,
          801.9468108606301,
          801.9468108606301,
          801.9468108606301,
          801.9468108606301,
          801.9468108606301,
          801.9468108606301,
          801.9468108606301,
          801.9468108606301,
          801.9468108606301,
          801.9468108606301,
          801.9468108606301,
          801.9468108606301,
          801.9468108606301,
          801.9468108606301,
          801.9468108606301,
          801.9468108606301,
          801.9468108606301,
          801.9468108606301,
          801.9468108606301,
          801.9468108606301,
          801.9468108606301,
          801.9468108606301,
          801.9468108606301,
          801.9468108606301,
          801.9468108606301,
          801.9468108606301,
          801.9468108606301,
          801.9468108606301,
          801.9468108606301,
          801.9468108606301,
          801.9468108606301,
          801.9468108606301,
          801.9468108606301,
          801.9468108606301,
          801.9468108606301,
          801.9468108606301,
          801.9468108606301,
          801.9468108606301,
          801.9468108606301,
          801.9468108606301,
          801.9468108606301,
          801.9468108606301,
          801.9468108606301,
          801.9468108606301,
          801.9468108606301,
          801.9468108606301,
          801.9468108606301,
          801.9468108606301,
          801.9468108606301,
          801.9468108606301,
          801.9468108606301,
          801.9468108606301,
          801.9468108606301,
          801.9468108606301,
          801.9468108606301,
          801.9468108606301,
          801.9468108606301,
          801.9468108606301,
          801.9468108606301,
          801.9468108606301,
          801.9468108606301,
          801.9468108606301,
          801.9468108606301,
          801.9468108606301,
          801.9468108606301,
          801.9468108606301,
          801.9468108606301,
          801.9468108606301,
          801.9468108606301,
          801.9468108606301,
          801.9468108606301,
          801.9468108606301,
          801.9468108606301,
          801.9468108606301,
          801.9468108606301,
          801.9468108606301,
          801.9468108606301,
          801.9468108606301,
          801.9468108606301,
          801.9468108606301,
          801.9468108606301,
          801.9468108606301,
          801.9468108606301,
          801.9468108606301,
          801.9468108606301,
          801.9468108606301,
          801.9468108606301,
          801.9468108606301,
          801.9468108606301,
          801.9468108606301,
          801.9468108606301,
          801.9468108606301,
          801.9468108606301,
          801.9468108606301,
          801.9468108606301,
          801.9468108606301,
          801.9468108606301,
          801.9468108606301,
          801.9468108606301,
          801.9468108606301,
          801.9468108606301,
          801.9468108606301,
          801.9468108606301,
          801.9468108606301,
          801.9468108606301,
          801.9468108606301,
          801.9468108606301,
          801.9468108606301,
          801.9468108606301,
          801.9468108606301,
          801.9468108606301,
          801.9468108606301,
          801.9468108606301,
          801.9468108606301,
          801.9468108606301,
          801.9468108606301,
          801.9468108606301,
          801.9468108606301,
          801.9468108606301,
          801.9468108606301,
          801.9468108606301,
          801.9468108606301,
          801.9468108606301,
          801.9468108606301,
          801.9468108606301,
          801.9468108606301,
          801.9468108606301,
          801.9468108606301,
          801.9468108606301,
          801.9468108606301,
          801.9468108606301,
          801.9468108606301,
          801.9468108606301,
          801.9468108606301,
          801.9468108606301,
          801.9468108606301,
          801.9468108606301,
          801.9468108606301,
          801.9468108606301,
          801.9468108606301,
          801.9468108606301,
          801.9468108606301,
          801.9468108606301,
          801.9468108606301,
          801.9468108606301,
          801.9468108606301,
          801.9468108606301,
          801.9468108606301,
          801.9468108606301,
          801.9468108606301,
          801.9468108606301,
          801.9468108606301,
          801.9468108606301,
          801.9468108606301,
          801.9468108606301,
          801.9468108606301,
          801.9468108606301,
          801.9468108606301,
          801.9468108606301,
          801.9468108606301,
          801.9468108606301,
          801.9468108606301,
          801.9468108606301,
          801.9468108606301,
          801.9468108606301,
          801.9468108606301,
          801.9468108606301,
          801.9468108606301,
          801.9468108606301,
          801.9468108606301,
          801.9468108606301,
          801.9468108606301,
          801.9468108606301,
          801.9468108606301,
          801.9468108606301,
          801.9468108606301,
          801.9468108606301,
          801.9468108606301,
          801.9468108606301,
          801.9468108606301,
          801.9468108606301,
          801.9468108606301,
          801.9468108606301,
          801.9468108606301,
          801.9468108606301,
          801.9468108606301,
          801.9468108606301,
          801.9468108606301,
          801.9468108606301,
          801.9468108606301,
          801.9468108606301,
          801.9468108606301,
          801.9468108606301,
          801.9468108606301,
          801.9468108606301,
          801.9468108606301,
          801.9468108606301,
          801.9468108606301,
          801.9468108606301,
          801.9468108606301,
          801.9468108606301,
          801.9468108606301,
          801.9468108606301,
          801.9468108606301,
          801.9468108606301,
          801.9468108606301,
          801.9468108606301,
          801.9468108606301,
          801.9468108606301,
          801.9468108606301,
          801.9468108606301,
          801.9468108606301,
          801.9468108606301,
          801.9468108606301,
          801.9468108606301,
          801.9468108606301,
          801.9468108606301,
          801.9468108606301,
          801.9468108606301,
          801.9468108606301,
          801.9468108606301,
          801.9468108606301,
          801.9468108606301,
          801.9468108606301,
          801.9468108606301,
          801.9468108606301,
          801.9468108606301,
          801.9468108606301,
          801.9468108606301,
          801.9468108606301,
          801.9468108606301,
          801.9468108606301,
          801.9468108606301,
          801.9468108606301,
          801.9468108606301,
          801.9468108606301,
          801.9468108606301,
          801.9468108606301,
          801.9468108606301,
          801.9468108606301,
          801.9468108606301,
          801.9468108606301,
          801.9468108606301,
          801.9468108606301,
          839.9267377402439,
          839.9267377402439,
          839.9267377402439,
          839.9267377402439,
          839.9267377402439,
          839.9267377402439,
          839.9267377402439,
          839.9267377402439,
          839.9267377402439,
          839.9267377402439,
          839.9267377402439,
          839.9267377402439,
          839.9267377402439,
          839.9267377402439,
          839.9267377402439,
          839.9267377402439,
          839.9267377402439,
          839.9267377402439,
          839.9267377402439,
          839.9267377402439,
          839.9267377402439,
          839.9267377402439,
          839.9267377402439,
          839.9267377402439,
          839.9267377402439,
          839.9267377402439,
          839.9267377402439,
          839.9267377402439,
          839.9267377402439,
          839.9267377402439,
          839.9267377402439,
          839.9267377402439,
          839.9267377402439,
          839.9267377402439,
          839.9267377402439,
          839.9267377402439,
          839.9267377402439,
          839.9267377402439,
          839.9267377402439,
          839.9267377402439,
          839.9267377402439,
          839.9267377402439,
          839.9267377402439,
          839.9267377402439,
          839.9267377402439,
          839.9267377402439,
          839.9267377402439,
          839.9267377402439,
          839.9267377402439,
          839.9267377402439,
          839.9267377402439,
          839.9267377402439,
          839.9267377402439,
          839.9267377402439,
          839.9267377402439,
          839.9267377402439,
          839.9267377402439,
          839.9267377402439,
          839.9267377402439,
          839.9267377402439,
          839.9267377402439,
          839.9267377402439,
          839.9267377402439,
          839.9267377402439,
          839.9267377402439,
          839.9267377402439,
          839.9267377402439,
          839.9267377402439,
          839.9267377402439,
          839.9267377402439,
          839.9267377402439,
          839.9267377402439,
          839.9267377402439,
          877.9066646198577,
          877.9066646198577,
          877.9066646198577,
          877.9066646198577,
          877.9066646198577,
          877.9066646198577,
          877.9066646198577,
          877.9066646198577,
          877.9066646198577,
          877.9066646198577,
          877.9066646198577,
          877.9066646198577,
          877.9066646198577,
          877.9066646198577,
          877.9066646198577,
          877.9066646198577,
          877.9066646198577,
          877.9066646198577,
          877.9066646198577,
          877.9066646198577,
          877.9066646198577,
          877.9066646198577,
          877.9066646198577,
          877.9066646198577,
          877.9066646198577,
          877.9066646198577,
          877.9066646198577,
          877.9066646198577,
          877.9066646198577,
          877.9066646198577,
          877.9066646198577,
          877.9066646198577,
          877.9066646198577,
          877.9066646198577,
          877.9066646198577,
          877.9066646198577,
          877.9066646198577,
          877.9066646198577,
          877.9066646198577,
          877.9066646198577,
          877.9066646198577,
          877.9066646198577,
          877.9066646198577,
          877.9066646198577,
          877.9066646198577,
          877.9066646198577,
          877.9066646198577,
          877.9066646198577,
          877.9066646198577,
          877.9066646198577,
          877.9066646198577,
          877.9066646198577,
          877.9066646198577,
          877.9066646198577,
          877.9066646198577,
          877.9066646198577,
          877.9066646198577,
          877.9066646198577,
          877.9066646198577,
          877.9066646198577,
          877.9066646198577,
          877.9066646198577,
          877.9066646198577,
          877.9066646198577,
          877.9066646198577,
          877.9066646198577,
          877.9066646198577,
          877.9066646198577,
          877.9066646198577,
          877.9066646198577,
          877.9066646198577,
          877.9066646198577,
          877.9066646198577,
          877.9066646198577,
          877.9066646198577,
          877.9066646198577,
          877.9066646198577,
          877.9066646198577,
          877.9066646198577,
          877.9066646198577,
          877.9066646198577,
          877.9066646198577,
          877.9066646198577,
          877.9066646198577,
          877.9066646198577,
          877.9066646198577,
          877.9066646198577,
          877.9066646198577,
          877.9066646198577,
          877.9066646198577,
          877.9066646198577,
          877.9066646198577,
          877.9066646198577,
          877.9066646198577,
          877.9066646198577,
          877.9066646198577,
          877.9066646198577,
          877.9066646198577,
          877.9066646198577,
          877.9066646198577,
          877.9066646198577,
          877.9066646198577,
          877.9066646198577,
          877.9066646198577,
          877.9066646198577,
          877.9066646198577,
          877.9066646198577,
          877.9066646198577,
          877.9066646198577,
          877.9066646198577,
          877.9066646198577,
          877.9066646198577,
          877.9066646198577,
          877.9066646198577,
          877.9066646198577,
          877.9066646198577,
          877.9066646198577,
          877.9066646198577,
          877.9066646198577,
          877.9066646198577,
          877.9066646198577,
          877.9066646198577,
          877.9066646198577,
          877.9066646198577,
          877.9066646198577,
          877.9066646198577,
          877.9066646198577,
          877.9066646198577,
          877.9066646198577,
          877.9066646198577,
          877.9066646198577,
          877.9066646198577,
          877.9066646198577,
          877.9066646198577,
          877.9066646198577,
          877.9066646198577,
          877.9066646198577,
          877.9066646198577,
          877.9066646198577,
          877.9066646198577,
          877.9066646198577,
          877.9066646198577,
          877.9066646198577,
          877.9066646198577,
          877.9066646198577,
          877.9066646198577,
          877.9066646198577,
          877.9066646198577,
          877.9066646198577,
          877.9066646198577,
          877.9066646198577,
          877.9066646198577,
          877.9066646198577,
          877.9066646198577,
          877.9066646198577,
          877.9066646198577,
          877.9066646198577,
          877.9066646198577,
          915.8865914994714,
          915.8865914994714,
          915.8865914994714,
          915.8865914994714,
          915.8865914994714,
          915.8865914994714,
          915.8865914994714,
          915.8865914994714,
          915.8865914994714,
          915.8865914994714,
          915.8865914994714,
          915.8865914994714,
          915.8865914994714,
          915.8865914994714,
          915.8865914994714,
          915.8865914994714,
          915.8865914994714,
          915.8865914994714,
          915.8865914994714,
          915.8865914994714,
          915.8865914994714,
          915.8865914994714,
          915.8865914994714,
          915.8865914994714,
          915.8865914994714,
          915.8865914994714,
          915.8865914994714,
          915.8865914994714,
          915.8865914994714,
          915.8865914994714,
          915.8865914994714,
          915.8865914994714,
          915.8865914994714,
          915.8865914994714,
          915.8865914994714,
          915.8865914994714,
          915.8865914994714,
          915.8865914994714,
          915.8865914994714,
          915.8865914994714,
          915.8865914994714,
          915.8865914994714,
          915.8865914994714,
          915.8865914994714,
          915.8865914994714,
          915.8865914994714,
          915.8865914994714,
          915.8865914994714,
          915.8865914994714,
          915.8865914994714,
          915.8865914994714,
          915.8865914994714,
          915.8865914994714,
          915.8865914994714,
          915.8865914994714,
          915.8865914994714,
          915.8865914994714,
          915.8865914994714,
          915.8865914994714,
          915.8865914994714,
          915.8865914994714,
          915.8865914994714,
          915.8865914994714,
          915.8865914994714,
          915.8865914994714,
          915.8865914994714,
          915.8865914994714,
          915.8865914994714,
          915.8865914994714,
          915.8865914994714,
          915.8865914994714,
          915.8865914994714,
          915.8865914994714,
          915.8865914994714,
          915.8865914994714,
          915.8865914994714,
          915.8865914994714,
          915.8865914994714,
          915.8865914994714,
          915.8865914994714,
          915.8865914994714,
          915.8865914994714,
          915.8865914994714,
          915.8865914994714,
          915.8865914994714,
          915.8865914994714,
          915.8865914994714,
          915.8865914994714,
          915.8865914994714,
          915.8865914994714,
          915.8865914994714,
          915.8865914994714,
          915.8865914994714,
          915.8865914994714,
          915.8865914994714,
          915.8865914994714,
          915.8865914994714,
          915.8865914994714,
          915.8865914994714,
          915.8865914994714,
          915.8865914994714,
          915.8865914994714,
          915.8865914994714,
          915.8865914994714,
          915.8865914994714,
          915.8865914994714,
          915.8865914994714,
          915.8865914994714,
          915.8865914994714,
          915.8865914994714,
          915.8865914994714,
          915.8865914994714,
          915.8865914994714,
          915.8865914994714,
          915.8865914994714,
          915.8865914994714,
          915.8865914994714,
          915.8865914994714,
          915.8865914994714,
          915.8865914994714,
          915.8865914994714,
          915.8865914994714,
          915.8865914994714,
          915.8865914994714,
          915.8865914994714,
          915.8865914994714,
          915.8865914994714,
          915.8865914994714,
          915.8865914994714,
          915.8865914994714,
          915.8865914994714,
          915.8865914994714,
          915.8865914994714,
          915.8865914994714,
          915.8865914994714,
          915.8865914994714,
          915.8865914994714,
          915.8865914994714,
          915.8865914994714,
          915.8865914994714,
          915.8865914994714,
          915.8865914994714,
          915.8865914994714,
          915.8865914994714,
          915.8865914994714,
          915.8865914994714,
          915.8865914994714,
          915.8865914994714,
          915.8865914994714,
          915.8865914994714,
          915.8865914994714,
          915.8865914994714,
          915.8865914994714,
          915.8865914994714,
          915.8865914994714,
          915.8865914994714,
          915.8865914994714,
          915.8865914994714,
          915.8865914994714,
          915.8865914994714,
          915.8865914994714,
          953.8665183790853,
          953.8665183790853,
          953.8665183790853,
          953.8665183790853,
          953.8665183790853,
          953.8665183790853,
          953.8665183790853,
          953.8665183790853,
          953.8665183790853,
          953.8665183790853,
          953.8665183790853,
          953.8665183790853,
          953.8665183790853,
          953.8665183790853,
          953.8665183790853,
          953.8665183790853,
          953.8665183790853,
          953.8665183790853,
          953.8665183790853,
          991.846445258699,
          991.846445258699,
          991.846445258699,
          991.846445258699,
          991.846445258699,
          991.846445258699,
          991.846445258699,
          991.846445258699,
          991.846445258699,
          991.846445258699,
          991.846445258699,
          991.846445258699,
          991.846445258699,
          991.846445258699,
          991.846445258699,
          991.846445258699,
          991.846445258699,
          991.846445258699,
          991.846445258699,
          1029.8263721383128,
          1029.8263721383128,
          1029.8263721383128,
          1067.806299017927,
          1219.726006536382,
          1219.726006536382,
          1219.726006536382,
          1219.726006536382,
          1219.726006536382
         ],
         "yaxis": "y"
        }
       ],
       "layout": {
        "legend": {
         "tracegroupgap": 0
        },
        "margin": {
         "t": 60
        },
        "template": {
         "data": {
          "bar": [
           {
            "error_x": {
             "color": "#2a3f5f"
            },
            "error_y": {
             "color": "#2a3f5f"
            },
            "marker": {
             "line": {
              "color": "#E5ECF6",
              "width": 0.5
             },
             "pattern": {
              "fillmode": "overlay",
              "size": 10,
              "solidity": 0.2
             }
            },
            "type": "bar"
           }
          ],
          "barpolar": [
           {
            "marker": {
             "line": {
              "color": "#E5ECF6",
              "width": 0.5
             },
             "pattern": {
              "fillmode": "overlay",
              "size": 10,
              "solidity": 0.2
             }
            },
            "type": "barpolar"
           }
          ],
          "carpet": [
           {
            "aaxis": {
             "endlinecolor": "#2a3f5f",
             "gridcolor": "white",
             "linecolor": "white",
             "minorgridcolor": "white",
             "startlinecolor": "#2a3f5f"
            },
            "baxis": {
             "endlinecolor": "#2a3f5f",
             "gridcolor": "white",
             "linecolor": "white",
             "minorgridcolor": "white",
             "startlinecolor": "#2a3f5f"
            },
            "type": "carpet"
           }
          ],
          "choropleth": [
           {
            "colorbar": {
             "outlinewidth": 0,
             "ticks": ""
            },
            "type": "choropleth"
           }
          ],
          "contour": [
           {
            "colorbar": {
             "outlinewidth": 0,
             "ticks": ""
            },
            "colorscale": [
             [
              0,
              "#0d0887"
             ],
             [
              0.1111111111111111,
              "#46039f"
             ],
             [
              0.2222222222222222,
              "#7201a8"
             ],
             [
              0.3333333333333333,
              "#9c179e"
             ],
             [
              0.4444444444444444,
              "#bd3786"
             ],
             [
              0.5555555555555556,
              "#d8576b"
             ],
             [
              0.6666666666666666,
              "#ed7953"
             ],
             [
              0.7777777777777778,
              "#fb9f3a"
             ],
             [
              0.8888888888888888,
              "#fdca26"
             ],
             [
              1,
              "#f0f921"
             ]
            ],
            "type": "contour"
           }
          ],
          "contourcarpet": [
           {
            "colorbar": {
             "outlinewidth": 0,
             "ticks": ""
            },
            "type": "contourcarpet"
           }
          ],
          "heatmap": [
           {
            "colorbar": {
             "outlinewidth": 0,
             "ticks": ""
            },
            "colorscale": [
             [
              0,
              "#0d0887"
             ],
             [
              0.1111111111111111,
              "#46039f"
             ],
             [
              0.2222222222222222,
              "#7201a8"
             ],
             [
              0.3333333333333333,
              "#9c179e"
             ],
             [
              0.4444444444444444,
              "#bd3786"
             ],
             [
              0.5555555555555556,
              "#d8576b"
             ],
             [
              0.6666666666666666,
              "#ed7953"
             ],
             [
              0.7777777777777778,
              "#fb9f3a"
             ],
             [
              0.8888888888888888,
              "#fdca26"
             ],
             [
              1,
              "#f0f921"
             ]
            ],
            "type": "heatmap"
           }
          ],
          "heatmapgl": [
           {
            "colorbar": {
             "outlinewidth": 0,
             "ticks": ""
            },
            "colorscale": [
             [
              0,
              "#0d0887"
             ],
             [
              0.1111111111111111,
              "#46039f"
             ],
             [
              0.2222222222222222,
              "#7201a8"
             ],
             [
              0.3333333333333333,
              "#9c179e"
             ],
             [
              0.4444444444444444,
              "#bd3786"
             ],
             [
              0.5555555555555556,
              "#d8576b"
             ],
             [
              0.6666666666666666,
              "#ed7953"
             ],
             [
              0.7777777777777778,
              "#fb9f3a"
             ],
             [
              0.8888888888888888,
              "#fdca26"
             ],
             [
              1,
              "#f0f921"
             ]
            ],
            "type": "heatmapgl"
           }
          ],
          "histogram": [
           {
            "marker": {
             "pattern": {
              "fillmode": "overlay",
              "size": 10,
              "solidity": 0.2
             }
            },
            "type": "histogram"
           }
          ],
          "histogram2d": [
           {
            "colorbar": {
             "outlinewidth": 0,
             "ticks": ""
            },
            "colorscale": [
             [
              0,
              "#0d0887"
             ],
             [
              0.1111111111111111,
              "#46039f"
             ],
             [
              0.2222222222222222,
              "#7201a8"
             ],
             [
              0.3333333333333333,
              "#9c179e"
             ],
             [
              0.4444444444444444,
              "#bd3786"
             ],
             [
              0.5555555555555556,
              "#d8576b"
             ],
             [
              0.6666666666666666,
              "#ed7953"
             ],
             [
              0.7777777777777778,
              "#fb9f3a"
             ],
             [
              0.8888888888888888,
              "#fdca26"
             ],
             [
              1,
              "#f0f921"
             ]
            ],
            "type": "histogram2d"
           }
          ],
          "histogram2dcontour": [
           {
            "colorbar": {
             "outlinewidth": 0,
             "ticks": ""
            },
            "colorscale": [
             [
              0,
              "#0d0887"
             ],
             [
              0.1111111111111111,
              "#46039f"
             ],
             [
              0.2222222222222222,
              "#7201a8"
             ],
             [
              0.3333333333333333,
              "#9c179e"
             ],
             [
              0.4444444444444444,
              "#bd3786"
             ],
             [
              0.5555555555555556,
              "#d8576b"
             ],
             [
              0.6666666666666666,
              "#ed7953"
             ],
             [
              0.7777777777777778,
              "#fb9f3a"
             ],
             [
              0.8888888888888888,
              "#fdca26"
             ],
             [
              1,
              "#f0f921"
             ]
            ],
            "type": "histogram2dcontour"
           }
          ],
          "mesh3d": [
           {
            "colorbar": {
             "outlinewidth": 0,
             "ticks": ""
            },
            "type": "mesh3d"
           }
          ],
          "parcoords": [
           {
            "line": {
             "colorbar": {
              "outlinewidth": 0,
              "ticks": ""
             }
            },
            "type": "parcoords"
           }
          ],
          "pie": [
           {
            "automargin": true,
            "type": "pie"
           }
          ],
          "scatter": [
           {
            "fillpattern": {
             "fillmode": "overlay",
             "size": 10,
             "solidity": 0.2
            },
            "type": "scatter"
           }
          ],
          "scatter3d": [
           {
            "line": {
             "colorbar": {
              "outlinewidth": 0,
              "ticks": ""
             }
            },
            "marker": {
             "colorbar": {
              "outlinewidth": 0,
              "ticks": ""
             }
            },
            "type": "scatter3d"
           }
          ],
          "scattercarpet": [
           {
            "marker": {
             "colorbar": {
              "outlinewidth": 0,
              "ticks": ""
             }
            },
            "type": "scattercarpet"
           }
          ],
          "scattergeo": [
           {
            "marker": {
             "colorbar": {
              "outlinewidth": 0,
              "ticks": ""
             }
            },
            "type": "scattergeo"
           }
          ],
          "scattergl": [
           {
            "marker": {
             "colorbar": {
              "outlinewidth": 0,
              "ticks": ""
             }
            },
            "type": "scattergl"
           }
          ],
          "scattermapbox": [
           {
            "marker": {
             "colorbar": {
              "outlinewidth": 0,
              "ticks": ""
             }
            },
            "type": "scattermapbox"
           }
          ],
          "scatterpolar": [
           {
            "marker": {
             "colorbar": {
              "outlinewidth": 0,
              "ticks": ""
             }
            },
            "type": "scatterpolar"
           }
          ],
          "scatterpolargl": [
           {
            "marker": {
             "colorbar": {
              "outlinewidth": 0,
              "ticks": ""
             }
            },
            "type": "scatterpolargl"
           }
          ],
          "scatterternary": [
           {
            "marker": {
             "colorbar": {
              "outlinewidth": 0,
              "ticks": ""
             }
            },
            "type": "scatterternary"
           }
          ],
          "surface": [
           {
            "colorbar": {
             "outlinewidth": 0,
             "ticks": ""
            },
            "colorscale": [
             [
              0,
              "#0d0887"
             ],
             [
              0.1111111111111111,
              "#46039f"
             ],
             [
              0.2222222222222222,
              "#7201a8"
             ],
             [
              0.3333333333333333,
              "#9c179e"
             ],
             [
              0.4444444444444444,
              "#bd3786"
             ],
             [
              0.5555555555555556,
              "#d8576b"
             ],
             [
              0.6666666666666666,
              "#ed7953"
             ],
             [
              0.7777777777777778,
              "#fb9f3a"
             ],
             [
              0.8888888888888888,
              "#fdca26"
             ],
             [
              1,
              "#f0f921"
             ]
            ],
            "type": "surface"
           }
          ],
          "table": [
           {
            "cells": {
             "fill": {
              "color": "#EBF0F8"
             },
             "line": {
              "color": "white"
             }
            },
            "header": {
             "fill": {
              "color": "#C8D4E3"
             },
             "line": {
              "color": "white"
             }
            },
            "type": "table"
           }
          ]
         },
         "layout": {
          "annotationdefaults": {
           "arrowcolor": "#2a3f5f",
           "arrowhead": 0,
           "arrowwidth": 1
          },
          "autotypenumbers": "strict",
          "coloraxis": {
           "colorbar": {
            "outlinewidth": 0,
            "ticks": ""
           }
          },
          "colorscale": {
           "diverging": [
            [
             0,
             "#8e0152"
            ],
            [
             0.1,
             "#c51b7d"
            ],
            [
             0.2,
             "#de77ae"
            ],
            [
             0.3,
             "#f1b6da"
            ],
            [
             0.4,
             "#fde0ef"
            ],
            [
             0.5,
             "#f7f7f7"
            ],
            [
             0.6,
             "#e6f5d0"
            ],
            [
             0.7,
             "#b8e186"
            ],
            [
             0.8,
             "#7fbc41"
            ],
            [
             0.9,
             "#4d9221"
            ],
            [
             1,
             "#276419"
            ]
           ],
           "sequential": [
            [
             0,
             "#0d0887"
            ],
            [
             0.1111111111111111,
             "#46039f"
            ],
            [
             0.2222222222222222,
             "#7201a8"
            ],
            [
             0.3333333333333333,
             "#9c179e"
            ],
            [
             0.4444444444444444,
             "#bd3786"
            ],
            [
             0.5555555555555556,
             "#d8576b"
            ],
            [
             0.6666666666666666,
             "#ed7953"
            ],
            [
             0.7777777777777778,
             "#fb9f3a"
            ],
            [
             0.8888888888888888,
             "#fdca26"
            ],
            [
             1,
             "#f0f921"
            ]
           ],
           "sequentialminus": [
            [
             0,
             "#0d0887"
            ],
            [
             0.1111111111111111,
             "#46039f"
            ],
            [
             0.2222222222222222,
             "#7201a8"
            ],
            [
             0.3333333333333333,
             "#9c179e"
            ],
            [
             0.4444444444444444,
             "#bd3786"
            ],
            [
             0.5555555555555556,
             "#d8576b"
            ],
            [
             0.6666666666666666,
             "#ed7953"
            ],
            [
             0.7777777777777778,
             "#fb9f3a"
            ],
            [
             0.8888888888888888,
             "#fdca26"
            ],
            [
             1,
             "#f0f921"
            ]
           ]
          },
          "colorway": [
           "#636efa",
           "#EF553B",
           "#00cc96",
           "#ab63fa",
           "#FFA15A",
           "#19d3f3",
           "#FF6692",
           "#B6E880",
           "#FF97FF",
           "#FECB52"
          ],
          "font": {
           "color": "#2a3f5f"
          },
          "geo": {
           "bgcolor": "white",
           "lakecolor": "white",
           "landcolor": "#E5ECF6",
           "showlakes": true,
           "showland": true,
           "subunitcolor": "white"
          },
          "hoverlabel": {
           "align": "left"
          },
          "hovermode": "closest",
          "mapbox": {
           "style": "light"
          },
          "paper_bgcolor": "white",
          "plot_bgcolor": "#E5ECF6",
          "polar": {
           "angularaxis": {
            "gridcolor": "white",
            "linecolor": "white",
            "ticks": ""
           },
           "bgcolor": "#E5ECF6",
           "radialaxis": {
            "gridcolor": "white",
            "linecolor": "white",
            "ticks": ""
           }
          },
          "scene": {
           "xaxis": {
            "backgroundcolor": "#E5ECF6",
            "gridcolor": "white",
            "gridwidth": 2,
            "linecolor": "white",
            "showbackground": true,
            "ticks": "",
            "zerolinecolor": "white"
           },
           "yaxis": {
            "backgroundcolor": "#E5ECF6",
            "gridcolor": "white",
            "gridwidth": 2,
            "linecolor": "white",
            "showbackground": true,
            "ticks": "",
            "zerolinecolor": "white"
           },
           "zaxis": {
            "backgroundcolor": "#E5ECF6",
            "gridcolor": "white",
            "gridwidth": 2,
            "linecolor": "white",
            "showbackground": true,
            "ticks": "",
            "zerolinecolor": "white"
           }
          },
          "shapedefaults": {
           "line": {
            "color": "#2a3f5f"
           }
          },
          "ternary": {
           "aaxis": {
            "gridcolor": "white",
            "linecolor": "white",
            "ticks": ""
           },
           "baxis": {
            "gridcolor": "white",
            "linecolor": "white",
            "ticks": ""
           },
           "bgcolor": "#E5ECF6",
           "caxis": {
            "gridcolor": "white",
            "linecolor": "white",
            "ticks": ""
           }
          },
          "title": {
           "x": 0.05
          },
          "xaxis": {
           "automargin": true,
           "gridcolor": "white",
           "linecolor": "white",
           "ticks": "",
           "title": {
            "standoff": 15
           },
           "zerolinecolor": "white",
           "zerolinewidth": 2
          },
          "yaxis": {
           "automargin": true,
           "gridcolor": "white",
           "linecolor": "white",
           "ticks": "",
           "title": {
            "standoff": 15
           },
           "zerolinecolor": "white",
           "zerolinewidth": 2
          }
         }
        },
        "xaxis": {
         "anchor": "y",
         "domain": [
          0,
          1
         ],
         "title": {
          "text": "GHz"
         }
        },
        "yaxis": {
         "anchor": "x",
         "domain": [
          0,
          1
         ],
         "title": {
          "text": "Average Price"
         }
        }
       }
      }
     },
     "metadata": {},
     "output_type": "display_data"
    }
   ],
   "source": [
    "\n",
    "## Creating a bar chart graph \n",
    "fig= px.scatter( df, x=df['GHz'],\n",
    "           y= df['Price'] ,trendline=\"ols\" )\n",
    "fig.update_xaxes(title='GHz')\n",
    "fig.update_yaxes(title='Average Price')"
   ]
  },
  {
   "cell_type": "markdown",
   "id": "726c9a60",
   "metadata": {},
   "source": [
    "- CPU effect on price"
   ]
  },
  {
   "cell_type": "code",
   "execution_count": 70,
   "id": "4fc067fc",
   "metadata": {},
   "outputs": [
    {
     "data": {
      "application/vnd.plotly.v1+json": {
       "config": {
        "plotlyServerURL": "https://plot.ly"
       },
       "data": [
        {
         "alignmentgroup": "True",
         "hovertemplate": "CpuBrand=Intel<br>Price=%{y}<extra></extra>",
         "legendgroup": "Intel",
         "marker": {
          "color": "#636efa"
         },
         "name": "Intel",
         "notched": false,
         "offsetgroup": "Intel",
         "orientation": "v",
         "showlegend": true,
         "type": "box",
         "x0": " ",
         "xaxis": "x",
         "y": [
          856.5441984,
          574.7462784,
          367.632,
          1622.3440320000002,
          1153.1496960000002,
          1368.2112192,
          740.8264320000001,
          955.8432000000001,
          492.30719999999997,
          251.84390399999998,
          220.57280640000002,
          1560.0192192,
          318.976704,
          807.1280640000001,
          970.900128,
          476.3232,
          1827.29088,
          319.04064,
          625.93344,
          638.72064,
          523.63584,
          421.33824,
          267.66167040000005,
          702.65664,
          511.488,
          829.8892800000001,
          572.8665599999999,
          156.63680639999998,
          1194.9638400000001,
          638.08128,
          159.20064,
          234.64512,
          625.93344,
          312.4488384,
          561.9974400000001,
          248.71104,
          958.4006400000001,
          334.3788864,
          436.04352,
          638.72064,
          907.2518400000001,
          408.55104,
          297.94176,
          537.70176,
          705.21408,
          245.51424,
          490.900608,
          280.67904,
          374.7864384,
          1565.7926400000001,
          265.3344,
          830.52864,
          561.9974400000001,
          382.97664000000003,
          601.6377600000001,
          441.1584,
          1267.8508800000002,
          280.48083840000004,
          146.41344,
          351.00864,
          606.75264,
          696.26304,
          610.5888,
          556.2432,
          700.0992,
          248.71104,
          606.75264,
          331.82784,
          546.6528000000001,
          338.86080000000004,
          624.65472,
          700.8408575999999,
          965.4336000000001,
          549.8496,
          862.4966400000001,
          446.91264,
          382.9702464,
          926.43264,
          1054.30464,
          440.51903999999996,
          765.31392,
          764.0352,
          670.6886400000001,
          541.5379200000001,
          383.552064,
          310.0896,
          368.91072,
          798.56064,
          459.69984,
          413.66592,
          715.44384,
          856.7424,
          421.33824,
          265.270464,
          762.75648,
          830.52864,
          946.2528,
          806.8723200000001,
          881.6774399999999,
          894.46464,
          461.61792,
          1041.51744,
          693.06624,
          722.6877888,
          360.59904,
          714.80448,
          306.25344,
          1433.12544,
          402.15744000000007,
          812.62656,
          519.1603200000001,
          892.5465600000001,
          593.3260799999999,
          408.5446464,
          287.07264000000004,
          565.1942399999999,
          365.71392000000003,
          382.33727999999996,
          631.68768,
          161.3488896,
          599.71968,
          319.04064,
          446.91264,
          418.7808,
          713.5385472,
          555.60384,
          384.89472,
          702.65664,
          1287.67104,
          219.93984,
          285.79392,
          798.7268736,
          574.7846400000001,
          318.40128,
          1208.3904,
          691.78752,
          395.76384,
          402.15744000000007,
          840.7583999999999,
          670.6886400000001,
          285.79392,
          514.6848,
          465.45408,
          689.86944,
          222.49728,
          1150.20864,
          232.4137536,
          678.0348864,
          546.0134400000001,
          482.07744,
          862.4966400000001,
          446.91264,
          312.64704,
          590.12928,
          293.46624,
          287.07264000000004,
          1789.56864,
          519.79968,
          958.4006400000001,
          670.6886400000001,
          894.46464,
          1182.1766400000001,
          507.01248000000004,
          766.5926400000001,
          990.36864,
          1532.54592,
          498.06144000000006,
          632.32704,
          693.7056,
          166.2336,
          639.296064,
          446.27328000000006,
          536.42304,
          584.37504,
          3899.45664,
          613.1462399999999,
          881.6774399999999,
          668.1312,
          1179.6192,
          315.20448,
          474.40512,
          1118.24064,
          1953.2448,
          893.82528,
          280.67904,
          1246.11264,
          926.43264,
          498.06144000000006,
          899.5795200000001,
          223.13664000000003,
          351.00864,
          958.4006400000001,
          595.8067968,
          376.58304,
          659.18016,
          734.62464,
          817.74144,
          433.070496,
          574.7846400000001,
          871.44768,
          507.65184,
          1570.4855424,
          531.94752,
          549.2166336,
          491.66784,
          569.66976,
          811.3478400000001,
          255.09824640000002,
          958.4006400000001,
          549.21024,
          440.51903999999996,
          574.7846400000001,
          249.3504,
          2487.1104,
          540.89856,
          376.58304,
          732.0672,
          568.39104,
          561.9974400000001,
          689.86944,
          629.7696000000001,
          357.40224,
          1917.44064,
          431.568,
          1304.2944,
          523.63584,
          1150.20864,
          1182.1766400000001,
          448.83072,
          606.75264,
          677.08224,
          1597.76064,
          1086.2726400000001,
          730.14912,
          283.87584,
          461.61792,
          420.05952,
          361.2384,
          510.84864000000005,
          958.4006400000001,
          650.86848,
          562.6368,
          1252.442304,
          469.97435520000005,
          1597.76064,
          519.1603200000001,
          455.9084352,
          702.65664,
          476.3232,
          312.64704,
          542.81664,
          549.21024,
          273.64608,
          530.02944,
          370.18944,
          608.03136,
          421.33824,
          701.37792,
          624.65472,
          753.8054400000001,
          421.3446336,
          127.23263999999999,
          758.9203200000001,
          312.64704,
          1169.38944,
          472.48704,
          830.52864,
          625.93344,
          1844.4640896,
          938.58048,
          325.43424,
          1356.7219200000002,
          414.94464000000005,
          351.00864,
          808.7904,
          230.16320639999998,
          1262.736,
          666.85248,
          523.63584,
          299.85984,
          638.72064,
          1597.76064,
          1342.01664,
          175.824,
          539.61984,
          1565.7926400000001,
          294.041664,
          626.5728,
          310.0896,
          826.0531199999999,
          376.58304,
          699.45984,
          576.70272,
          186.69312,
          351.00864,
          671.264064,
          853.5456,
          1687.27104,
          766.5926400000001,
          602.91648,
          852.90624,
          287.07264000000004,
          638.72064,
          810.7084799999999,
          731.4278400000001,
          175.8176064,
          730.62864,
          175.760064,
          457.78176,
          1342.01664,
          1009.54944,
          721.83744,
          178.38144000000003,
          1028.0653056,
          239.76,
          423.89568,
          833.7254399999999,
          900.85824,
          1111.3803071999998,
          897.02208,
          620.754624,
          205.8675264,
          638.72064,
          356.36008319999996,
          912.36672,
          280.67904,
          604.1952,
          459.69984,
          408.55104,
          319.04064,
          248.71104,
          693.7056,
          517.2422399999999,
          574.7846400000001,
          1118.88,
          702.65664,
          555.6102336,
          353.56608,
          197.56224,
          182.85696000000002,
          540.89856,
          761.4777600000001,
          257.98176,
          1058.1408,
          702.65664,
          1118.1767040000002,
          1459.01952,
          351.00864,
          875.28384,
          1365.0336,
          1604.1542399999998,
          664.29504,
          1017.22176,
          443.7094464,
          862.4966400000001,
          497.9783232,
          786.1314816,
          599.71968,
          1733.9443199999998,
          1678.32,
          195.64416,
          977.5814399999999,
          731.74752,
          561.9974400000001,
          1437.92064,
          1197.5212800000002,
          1116.96192,
          1074.1248,
          261.49824,
          194.653152,
          1230.768,
          1242.27648,
          299.85984,
          504.4614336,
          593.3260799999999,
          382.912704,
          440.51903999999996,
          959.04,
          345.222432,
          777.0653568,
          1214.14464,
          287.07264000000004,
          912.36672,
          381.69792,
          1789.56864,
          741.01824,
          730.404864,
          702.65664,
          1278.0806400000001,
          191.16863999999998,
          171.98784,
          645.7536,
          382.97664000000003,
          1563.2352,
          1565.7926400000001,
          221.85792,
          1405.95264,
          1522.9555200000002,
          357.40224,
          478.88064,
          913.64544,
          223.13664000000003,
          702.65664,
          753.8054400000001,
          282.469248,
          1274.2444799999998,
          657.0958464,
          1655.3030400000002,
          376.58304,
          1262.736,
          980.7782400000001,
          859.9392000000001,
          625.93344,
          306.25344,
          1308.13056,
          632.32704,
          1150.20864,
          409.12646400000006,
          347.81184,
          278.1216,
          478.88064,
          510.84864000000005,
          1336.2624,
          194.36544,
          299.85984,
          485.27423999999996,
          1086.2726400000001,
          1187.9308800000001,
          1278.0806400000001,
          737.82144,
          815.184,
          1177.605216,
          830.52864,
          473.1264,
          1539.57888,
          872.08704,
          1069.00992,
          806.8723200000001,
          375.04857599999997,
          464.17536,
          159.136704,
          361.2384,
          670.6886400000001,
          1494.82368,
          1214.14464,
          1149.5692800000002,
          1246.752,
          647.0259264,
          1789.56864,
          863.136,
          811.3478400000001,
          702.65664,
          574.720704,
          1118.24064,
          606.75264,
          582.45696,
          217.38240000000002,
          395.7574464,
          1022.33664,
          191.16863999999998,
          169.43040000000002,
          606.75264,
          782.57664,
          391.92768,
          845.87328,
          734.62464,
          574.7846400000001,
          408.55104,
          534.50496,
          779.5332864,
          895.0720319999999,
          156.6432,
          333.40705920000005,
          1897.62048,
          568.39104,
          961.59744,
          894.46464,
          894.46464,
          818.2081728,
          440.51903999999996,
          568.39104,
          856.7424,
          510.84864000000005,
          293.46624,
          374.0256,
          880.39872,
          1926.2446272000002,
          549.8496,
          830.52864,
          235.92384,
          1054.30464,
          875.28384,
          509.83205760000004,
          255.09824640000002,
          1150.20864,
          549.21024,
          894.46464,
          470.4858432,
          732.0672,
          510.20928000000004,
          451.06848,
          501.89760000000007,
          295.60809600000005,
          253.82592,
          1105.45344,
          319.04064,
          714.1587264,
          1725.63264,
          347.90774400000004,
          818.3807999999999,
          143.21663999999998,
          163.0368,
          606.75264,
          395.060544,
          223.13664000000003,
          402.7968,
          1256.3424,
          1917.44064,
          536.42304,
          1022.33664,
          613.1462399999999,
          219.93984,
          632.9664,
          1189.8425664000001,
          248.71104,
          530.6688,
          437.96160000000003,
          159.20064,
          1192.4064,
          1702.61568,
          1744.81344,
          478.88703360000005,
          248.71104,
          644.8073472,
          459.69984,
          982.9456704,
          188.6112,
          1501.85664,
          957.76128,
          1069.64928,
          389.37024,
          1131.6672,
          472.48704,
          385.53408,
          1086.2726400000001,
          338.22144,
          293.46624,
          1294.704,
          942.41664,
          1067.7312000000002,
          1127.19168,
          779.3798400000001,
          427.3993728,
          210.34944,
          1405.95264,
          297.30240000000003,
          1469.8886400000001,
          894.46464,
          360.59904,
          830.52864,
          223.13664000000003,
          3132.22464,
          562.0038336,
          283.81190399999997,
          229.53024000000002,
          555.60384,
          746.77248,
          888.07104,
          1449.9789696,
          242.31744,
          718.6406400000001,
          936.6623999999999,
          496.14336,
          510.84864000000005,
          595.88352,
          152.80704,
          299.22048,
          408.5574336,
          1214.784,
          945.61344,
          530.02944,
          370.18944,
          255.10464000000002,
          579.6565632,
          1194.9638400000001,
          159.20064,
          1123.6240512,
          1533.82464,
          709.05024,
          1566.432,
          747.41184,
          287.712,
          175.18464,
          587.57184,
          1661.6966400000001,
          775.54368,
          1012.7462400000001,
          1789.56864,
          453.30623999999995,
          927.0080640000001,
          761.989248,
          233.302464,
          680.27904,
          587.57184,
          725.6736000000001,
          764.6745599999999,
          2012.3024831999999,
          785.77344,
          267.89184,
          342.0576,
          344.61503999999996,
          950.5812672,
          318.40128,
          476.3232,
          804.3148800000001,
          263.41632,
          1194.228576,
          522.964512,
          661.0982399999999,
          446.91264,
          827.33184,
          725.6736000000001,
          316.4832,
          1469.8886400000001,
          830.52864,
          638.017344,
          267.89184,
          1311.32736,
          446.91264,
          958.4006400000001,
          1798.9992000000002,
          391.6783296,
          348.87957120000004,
          203.31648,
          239.76,
          446.91264,
          1219.8924864,
          1655.9424000000001,
          622.0972800000001,
          171.98784,
          1118.24064,
          427.73184000000003,
          1200.07872,
          523.63584,
          397.330272,
          287.712,
          508.2912,
          638.72064,
          1186.0128,
          761.4777600000001,
          798.56064,
          696.26304,
          464.17536,
          190.52928,
          912.1493376,
          547.9762752,
          753.8054400000001,
          169.43040000000002,
          767.232,
          1078.3701504,
          534.8885760000001,
          958.4006400000001,
          2339.673984,
          862.1641728000001,
          313.222464,
          414.94464000000005,
          376.9155072,
          1237.1616000000001,
          414.94464000000005,
          357.40224,
          613.7856,
          498.06144000000006,
          1546.61184,
          421.33824,
          1339.1267328000001,
          262.649088,
          771.70752,
          425.1744,
          981.4176000000001,
          638.72064,
          2109.2486400000003,
          210.98880000000003,
          1054.30464,
          720.3733056,
          2806.15104,
          303.696,
          1214.784,
          370.18944,
          543.392064,
          766.5926400000001,
          702.65664,
          998.04096,
          1834.3174463999999,
          382.97664000000003,
          670.0492800000001,
          1188.57024,
          996.76224,
          721.83744,
          542.81664,
          418.7808,
          300.7165824,
          702.65664,
          1022.33664,
          190.52928,
          755.2567872000001,
          1150.20864,
          652.1472,
          702.65664,
          536.42304,
          1515.2832,
          406.63296,
          1853.50464,
          372.043584,
          2294.535168,
          1502.496,
          1127.83104,
          210.34944,
          1469.8886400000001,
          1209.02976,
          696.26304,
          638.72064,
          1469.8886400000001,
          629.7696000000001,
          856.10304,
          129.726144,
          1259.5392000000002,
          613.1462399999999,
          744.8543999999999,
          1489.7087999999999,
          191.16863999999998,
          517.8816,
          862.4966400000001,
          472.48704,
          1320.2144640000001,
          702.65664,
          958.4006400000001,
          1118.24064,
          475.68384000000003,
          888.07104,
          498.7008,
          1073.48544,
          389.37024,
          1118.24064,
          1544.0544,
          958.4006400000001,
          614.42496,
          504.97292160000006,
          1188.57024,
          1150.20864,
          246.15359999999998,
          1601.6095872,
          482.71680000000003,
          313.222464,
          696.9024,
          1597.76064,
          766.5926400000001,
          1198.8,
          319.04064,
          868.25088,
          374.0256,
          226.97280000000003,
          395.76384,
          3515.84064,
          1342.01664,
          331.82784,
          758.28096,
          1054.944,
          1773.9874368,
          1546.61184,
          427.73184000000003,
          207.792,
          377.2224,
          1150.20864,
          1964.6829504000002,
          581.8176000000001,
          456.4966464,
          1195.6032,
          472.48704,
          393.20640000000003,
          655.98336,
          1455.82272,
          938.58048,
          191.16863999999998,
          1214.14464,
          553.0464,
          1216.70208,
          503.17632000000003,
          604.1952,
          287.07264000000004,
          1636.12224,
          414.94464000000005,
          299.85984,
          543.8779776,
          862.4966400000001,
          821.5776000000001,
          650.2291200000001,
          1432.1664,
          581.8176000000001,
          700.0992,
          1246.752,
          576.70272,
          1136.78208,
          674.5248,
          306.25344,
          887.43168,
          469.92960000000005,
          1182.1766400000001,
          1080.5184,
          255.09824640000002,
          597.8016,
          583.416,
          536.42304,
          1086.912,
          437.833728,
          222.49728,
          427.73184000000003,
          235.92384,
          1150.20864,
          291.356352,
          875.8592639999999,
          189.88992,
          808.7904,
          894.46464,
          1086.2726400000001,
          1150.20864,
          1693.66464,
          943.056,
          593.9654400000001,
          575.424,
          392.56703999999996,
          597.8016,
          1287.0956159999998,
          817.74144,
          1054.30464,
          1310.04864,
          1255.0572864,
          1342.01664,
          948.1708800000001,
          229.53024000000002,
          504.45504,
          1214.14464,
          770.4288,
          1982.016,
          504.45504,
          651.5014464,
          319.04064,
          563.27616,
          613.7856,
          1022.33664,
          862.4966400000001,
          716.0256576,
          437.9552064,
          829.2435264000001,
          1166.832,
          466.668864,
          1054.944,
          744.8543999999999,
          452.7052416,
          734.62464,
          197.56224,
          1009.54944,
          184.711104,
          1150.20864,
          706.4928,
          1067.09184,
          357.146496,
          766.5926400000001,
          1763.3548799999999,
          894.46464,
          338.86080000000004,
          395.76384,
          715.44384,
          830.52864,
          941.2657920000001,
          437.96160000000003,
          421.33824,
          223.13664000000003,
          1437.92064,
          1134.864,
          933.4656000000001,
          741.01824,
          952.0006463999999,
          2016.54144,
          1214.14464,
          495.504,
          810.7084799999999,
          248.71104,
          981.4176000000001,
          1125.2736,
          645.11424,
          1144.4544,
          541.2182399999999,
          297.6988032,
          527.472,
          437.96160000000003,
          2013.34464,
          444.35519999999997,
          1214.14464,
          1255.0508928,
          1790.208,
          754.4448,
          1310.624064,
          625.93344,
          640.63872,
          1150.20864,
          1118.24064,
          830.52864,
          764.0352,
          414.94464000000005,
          585.0144,
          382.97664000000003,
          515.32416,
          760.19904,
          478.88064,
          715.44384,
          1219.8988800000002,
          319.04064,
          173.0236032,
          862.4966400000001,
          735.264,
          862.4966400000001,
          242.95680000000002,
          1150.20864,
          1335.62304,
          805.5936,
          760.19904,
          349.72992,
          498.06144000000006,
          764.0352,
          703.2896064,
          770.4288,
          926.43264,
          670.8548736,
          437.32223999999997,
          606.75264,
          983.97504,
          1016.5824,
          1206.6065856,
          511.488,
          773.6256000000001,
          492.3008064,
          1897.62048,
          952.6464,
          1425.13344,
          508.9241664,
          1016.5824,
          734.62464,
          757.9165248,
          669.0518784,
          996.76224,
          760.19904,
          677.7216000000001,
          1038.3206400000001,
          690.5088000000001,
          622.0972800000001,
          761.989248,
          764.0352,
          785.7670464,
          862.4966400000001,
          474.40512,
          1102.896,
          679.607712,
          646.0796736000001,
          541.5379200000001,
          134.77708800000002,
          911.088,
          671.072256,
          639.36,
          1344.7914624,
          939.2198400000001,
          988.2203904,
          1464.1280064,
          184.071744,
          1675.1232,
          625.93344,
          699.45984,
          625.93344,
          1441.11744,
          450.84470400000004,
          319.04064,
          830.52864,
          1162.99584,
          638.08128,
          357.40224,
          632.9600064000001,
          1233.32544,
          932.1868800000001,
          2541.456,
          510.21567360000006,
          849.70944,
          831.168,
          308.1587328,
          766.5926400000001,
          766.5926400000001,
          696.9024,
          1095.5369664,
          421.33824,
          624.65472,
          1597.76064,
          345.25440000000003,
          600.9984,
          894.46464,
          2071.5264,
          413.1991872,
          1310.04864,
          479.52,
          659.1737664,
          955.8432000000001,
          766.5926400000001,
          393.20640000000003,
          251.5817664,
          221.2121664,
          1022.33664,
          523.2202560000001,
          1022.33664,
          510.84864000000005,
          408.42316800000003,
          1022.33664,
          319.68,
          1469.8886400000001,
          725.769504,
          746.1139392,
          133.62624,
          1853.50464,
          766.5926400000001,
          903.479616,
          966.1944384000001,
          554.3251200000001,
          856.10304,
          1086.2726400000001,
          491.763744,
          274.28544,
          1258.89984,
          351.00864,
          881.6774399999999,
          1758.2336064,
          657.9014400000001,
          1423.21536,
          839.1536064000001,
          125.31455999999999,
          1080.5184,
          967.35168,
          334.7880768,
          278.1216,
          1067.09184,
          306.25344,
          1211.5872000000002,
          632.32704,
          721.83744,
          402.15744000000007,
          1310.9309568,
          177.74208000000002,
          480.79872,
          393.84576000000004,
          702.65664,
          2525.088384,
          501.25823999999994,
          1533.82464,
          1388.5108992,
          1560.0384,
          730.660608,
          1041.51744,
          1425.13344,
          1150.20864,
          1214.14464,
          1468.577952,
          645.689664,
          1009.54944,
          1495.46304,
          216.74303999999998,
          382.97664000000003,
          766.5926400000001,
          1438.9947648,
          954.4366080000001,
          1469.8886400000001,
          504.12896639999997,
          1304.93376,
          958.4006400000001,
          1131.0278400000002,
          574.7846400000001,
          293.46624,
          304.9683264,
          957.76128,
          888.7103999999999,
          299.22048,
          159.20064,
          536.42304,
          434.12544,
          741.01824,
          235.92384,
          254.46527999999998,
          453.30623999999995,
          491.66784,
          527.472,
          834.3648,
          1376.7786432,
          415.584,
          1046.63232,
          531.30816,
          572.2335936,
          212.90688000000003,
          510.84864000000005,
          581.17824,
          753.8054400000001,
          441.79776000000004,
          702.65664,
          1661.6966400000001,
          523.63584,
          310.0896,
          743.57568,
          766.5926400000001,
          848.43072,
          235.28448,
          1374.624,
          173.90592,
          1309.9847040000002,
          319.04064,
          402.15744000000007,
          1713.4848,
          747.41184,
          568.39104,
          370.18944,
          402.15744000000007,
          1565.7926400000001,
          817.74144,
          1118.24064,
          1246.1062464,
          638.72064,
          1246.11264,
          111.24864,
          382.33727999999996,
          344.61503999999996,
          813.26592,
          734.62464,
          977.5814399999999,
          943.7656896,
          1095.4602432000001,
          325.43424,
          197.56224,
          944.33472,
          333.6564096,
          657.9014400000001,
          734.62464,
          1054.944,
          2237.12064,
          299.8662336,
          1021.6972800000001,
          613.1462399999999,
          305.61408,
          1405.4347584000002,
          471.20832,
          747.41184,
          958.4006400000001,
          818.3807999999999,
          231.32044800000003,
          1150.20864,
          703.2896064,
          559.44,
          1486.512,
          366.35328,
          1159.15968,
          207.15264000000002,
          363.79584,
          685.3939200000001,
          283.8694464,
          216.74303999999998,
          1214.784,
          313.2864,
          572.2272,
          785.77344,
          532.5932736,
          466.09344000000004,
          293.46624,
          184.77504000000002,
          242.31744,
          574.7846400000001,
          515.3177664,
          133.62624,
          460.5437952,
          407.91168,
          958.4006400000001,
          146.41344,
          488.47104
         ],
         "y0": " ",
         "yaxis": "y"
        },
        {
         "alignmentgroup": "True",
         "hovertemplate": "CpuBrand=AMD<br>Price=%{y}<extra></extra>",
         "legendgroup": "AMD",
         "marker": {
          "color": "#EF553B"
         },
         "name": "AMD",
         "notched": false,
         "offsetgroup": "AMD",
         "orientation": "v",
         "showlegend": true,
         "type": "box",
         "x0": " ",
         "xaxis": "x",
         "y": [
          255.744,
          164.95488,
          127.23263999999999,
          280.67904,
          830.52864,
          254.77856640000002,
          255.10464000000002,
          252.54719999999998,
          446.91264,
          223.13664000000003,
          288.35136,
          177.7356864,
          235.92384,
          257.66208,
          197.56224,
          210.98880000000003,
          367.632,
          299.85984,
          285.090624,
          990.36864,
          319.04064,
          299.85984,
          421.33824,
          574.7846400000001,
          272.36736,
          1405.95264,
          312.64704,
          312.64064640000004,
          319.04064,
          1083.7152,
          331.82784,
          370.18944,
          223.13664000000003,
          363.731904,
          414.94464000000005,
          606.75264,
          333.042624,
          223.13664000000003,
          363.79584,
          255.10464000000002,
          274.28544,
          418.7871936,
          190.52928,
          312.64704,
          415.584,
          402.15744000000007,
          242.31744,
          638.72064,
          351.00864,
          261.49824,
          287.07264000000004,
          247.43232,
          254.46527999999998,
          189.88992,
          306.18311040000003,
          191.16863999999998,
          338.22144,
          382.0623552,
          255.10464000000002,
          351.6416064
         ],
         "y0": " ",
         "yaxis": "y"
        }
       ],
       "layout": {
        "boxmode": "group",
        "legend": {
         "title": {
          "text": "CpuBrand"
         },
         "tracegroupgap": 0
        },
        "margin": {
         "t": 60
        },
        "template": {
         "data": {
          "bar": [
           {
            "error_x": {
             "color": "#2a3f5f"
            },
            "error_y": {
             "color": "#2a3f5f"
            },
            "marker": {
             "line": {
              "color": "#E5ECF6",
              "width": 0.5
             },
             "pattern": {
              "fillmode": "overlay",
              "size": 10,
              "solidity": 0.2
             }
            },
            "type": "bar"
           }
          ],
          "barpolar": [
           {
            "marker": {
             "line": {
              "color": "#E5ECF6",
              "width": 0.5
             },
             "pattern": {
              "fillmode": "overlay",
              "size": 10,
              "solidity": 0.2
             }
            },
            "type": "barpolar"
           }
          ],
          "carpet": [
           {
            "aaxis": {
             "endlinecolor": "#2a3f5f",
             "gridcolor": "white",
             "linecolor": "white",
             "minorgridcolor": "white",
             "startlinecolor": "#2a3f5f"
            },
            "baxis": {
             "endlinecolor": "#2a3f5f",
             "gridcolor": "white",
             "linecolor": "white",
             "minorgridcolor": "white",
             "startlinecolor": "#2a3f5f"
            },
            "type": "carpet"
           }
          ],
          "choropleth": [
           {
            "colorbar": {
             "outlinewidth": 0,
             "ticks": ""
            },
            "type": "choropleth"
           }
          ],
          "contour": [
           {
            "colorbar": {
             "outlinewidth": 0,
             "ticks": ""
            },
            "colorscale": [
             [
              0,
              "#0d0887"
             ],
             [
              0.1111111111111111,
              "#46039f"
             ],
             [
              0.2222222222222222,
              "#7201a8"
             ],
             [
              0.3333333333333333,
              "#9c179e"
             ],
             [
              0.4444444444444444,
              "#bd3786"
             ],
             [
              0.5555555555555556,
              "#d8576b"
             ],
             [
              0.6666666666666666,
              "#ed7953"
             ],
             [
              0.7777777777777778,
              "#fb9f3a"
             ],
             [
              0.8888888888888888,
              "#fdca26"
             ],
             [
              1,
              "#f0f921"
             ]
            ],
            "type": "contour"
           }
          ],
          "contourcarpet": [
           {
            "colorbar": {
             "outlinewidth": 0,
             "ticks": ""
            },
            "type": "contourcarpet"
           }
          ],
          "heatmap": [
           {
            "colorbar": {
             "outlinewidth": 0,
             "ticks": ""
            },
            "colorscale": [
             [
              0,
              "#0d0887"
             ],
             [
              0.1111111111111111,
              "#46039f"
             ],
             [
              0.2222222222222222,
              "#7201a8"
             ],
             [
              0.3333333333333333,
              "#9c179e"
             ],
             [
              0.4444444444444444,
              "#bd3786"
             ],
             [
              0.5555555555555556,
              "#d8576b"
             ],
             [
              0.6666666666666666,
              "#ed7953"
             ],
             [
              0.7777777777777778,
              "#fb9f3a"
             ],
             [
              0.8888888888888888,
              "#fdca26"
             ],
             [
              1,
              "#f0f921"
             ]
            ],
            "type": "heatmap"
           }
          ],
          "heatmapgl": [
           {
            "colorbar": {
             "outlinewidth": 0,
             "ticks": ""
            },
            "colorscale": [
             [
              0,
              "#0d0887"
             ],
             [
              0.1111111111111111,
              "#46039f"
             ],
             [
              0.2222222222222222,
              "#7201a8"
             ],
             [
              0.3333333333333333,
              "#9c179e"
             ],
             [
              0.4444444444444444,
              "#bd3786"
             ],
             [
              0.5555555555555556,
              "#d8576b"
             ],
             [
              0.6666666666666666,
              "#ed7953"
             ],
             [
              0.7777777777777778,
              "#fb9f3a"
             ],
             [
              0.8888888888888888,
              "#fdca26"
             ],
             [
              1,
              "#f0f921"
             ]
            ],
            "type": "heatmapgl"
           }
          ],
          "histogram": [
           {
            "marker": {
             "pattern": {
              "fillmode": "overlay",
              "size": 10,
              "solidity": 0.2
             }
            },
            "type": "histogram"
           }
          ],
          "histogram2d": [
           {
            "colorbar": {
             "outlinewidth": 0,
             "ticks": ""
            },
            "colorscale": [
             [
              0,
              "#0d0887"
             ],
             [
              0.1111111111111111,
              "#46039f"
             ],
             [
              0.2222222222222222,
              "#7201a8"
             ],
             [
              0.3333333333333333,
              "#9c179e"
             ],
             [
              0.4444444444444444,
              "#bd3786"
             ],
             [
              0.5555555555555556,
              "#d8576b"
             ],
             [
              0.6666666666666666,
              "#ed7953"
             ],
             [
              0.7777777777777778,
              "#fb9f3a"
             ],
             [
              0.8888888888888888,
              "#fdca26"
             ],
             [
              1,
              "#f0f921"
             ]
            ],
            "type": "histogram2d"
           }
          ],
          "histogram2dcontour": [
           {
            "colorbar": {
             "outlinewidth": 0,
             "ticks": ""
            },
            "colorscale": [
             [
              0,
              "#0d0887"
             ],
             [
              0.1111111111111111,
              "#46039f"
             ],
             [
              0.2222222222222222,
              "#7201a8"
             ],
             [
              0.3333333333333333,
              "#9c179e"
             ],
             [
              0.4444444444444444,
              "#bd3786"
             ],
             [
              0.5555555555555556,
              "#d8576b"
             ],
             [
              0.6666666666666666,
              "#ed7953"
             ],
             [
              0.7777777777777778,
              "#fb9f3a"
             ],
             [
              0.8888888888888888,
              "#fdca26"
             ],
             [
              1,
              "#f0f921"
             ]
            ],
            "type": "histogram2dcontour"
           }
          ],
          "mesh3d": [
           {
            "colorbar": {
             "outlinewidth": 0,
             "ticks": ""
            },
            "type": "mesh3d"
           }
          ],
          "parcoords": [
           {
            "line": {
             "colorbar": {
              "outlinewidth": 0,
              "ticks": ""
             }
            },
            "type": "parcoords"
           }
          ],
          "pie": [
           {
            "automargin": true,
            "type": "pie"
           }
          ],
          "scatter": [
           {
            "fillpattern": {
             "fillmode": "overlay",
             "size": 10,
             "solidity": 0.2
            },
            "type": "scatter"
           }
          ],
          "scatter3d": [
           {
            "line": {
             "colorbar": {
              "outlinewidth": 0,
              "ticks": ""
             }
            },
            "marker": {
             "colorbar": {
              "outlinewidth": 0,
              "ticks": ""
             }
            },
            "type": "scatter3d"
           }
          ],
          "scattercarpet": [
           {
            "marker": {
             "colorbar": {
              "outlinewidth": 0,
              "ticks": ""
             }
            },
            "type": "scattercarpet"
           }
          ],
          "scattergeo": [
           {
            "marker": {
             "colorbar": {
              "outlinewidth": 0,
              "ticks": ""
             }
            },
            "type": "scattergeo"
           }
          ],
          "scattergl": [
           {
            "marker": {
             "colorbar": {
              "outlinewidth": 0,
              "ticks": ""
             }
            },
            "type": "scattergl"
           }
          ],
          "scattermapbox": [
           {
            "marker": {
             "colorbar": {
              "outlinewidth": 0,
              "ticks": ""
             }
            },
            "type": "scattermapbox"
           }
          ],
          "scatterpolar": [
           {
            "marker": {
             "colorbar": {
              "outlinewidth": 0,
              "ticks": ""
             }
            },
            "type": "scatterpolar"
           }
          ],
          "scatterpolargl": [
           {
            "marker": {
             "colorbar": {
              "outlinewidth": 0,
              "ticks": ""
             }
            },
            "type": "scatterpolargl"
           }
          ],
          "scatterternary": [
           {
            "marker": {
             "colorbar": {
              "outlinewidth": 0,
              "ticks": ""
             }
            },
            "type": "scatterternary"
           }
          ],
          "surface": [
           {
            "colorbar": {
             "outlinewidth": 0,
             "ticks": ""
            },
            "colorscale": [
             [
              0,
              "#0d0887"
             ],
             [
              0.1111111111111111,
              "#46039f"
             ],
             [
              0.2222222222222222,
              "#7201a8"
             ],
             [
              0.3333333333333333,
              "#9c179e"
             ],
             [
              0.4444444444444444,
              "#bd3786"
             ],
             [
              0.5555555555555556,
              "#d8576b"
             ],
             [
              0.6666666666666666,
              "#ed7953"
             ],
             [
              0.7777777777777778,
              "#fb9f3a"
             ],
             [
              0.8888888888888888,
              "#fdca26"
             ],
             [
              1,
              "#f0f921"
             ]
            ],
            "type": "surface"
           }
          ],
          "table": [
           {
            "cells": {
             "fill": {
              "color": "#EBF0F8"
             },
             "line": {
              "color": "white"
             }
            },
            "header": {
             "fill": {
              "color": "#C8D4E3"
             },
             "line": {
              "color": "white"
             }
            },
            "type": "table"
           }
          ]
         },
         "layout": {
          "annotationdefaults": {
           "arrowcolor": "#2a3f5f",
           "arrowhead": 0,
           "arrowwidth": 1
          },
          "autotypenumbers": "strict",
          "coloraxis": {
           "colorbar": {
            "outlinewidth": 0,
            "ticks": ""
           }
          },
          "colorscale": {
           "diverging": [
            [
             0,
             "#8e0152"
            ],
            [
             0.1,
             "#c51b7d"
            ],
            [
             0.2,
             "#de77ae"
            ],
            [
             0.3,
             "#f1b6da"
            ],
            [
             0.4,
             "#fde0ef"
            ],
            [
             0.5,
             "#f7f7f7"
            ],
            [
             0.6,
             "#e6f5d0"
            ],
            [
             0.7,
             "#b8e186"
            ],
            [
             0.8,
             "#7fbc41"
            ],
            [
             0.9,
             "#4d9221"
            ],
            [
             1,
             "#276419"
            ]
           ],
           "sequential": [
            [
             0,
             "#0d0887"
            ],
            [
             0.1111111111111111,
             "#46039f"
            ],
            [
             0.2222222222222222,
             "#7201a8"
            ],
            [
             0.3333333333333333,
             "#9c179e"
            ],
            [
             0.4444444444444444,
             "#bd3786"
            ],
            [
             0.5555555555555556,
             "#d8576b"
            ],
            [
             0.6666666666666666,
             "#ed7953"
            ],
            [
             0.7777777777777778,
             "#fb9f3a"
            ],
            [
             0.8888888888888888,
             "#fdca26"
            ],
            [
             1,
             "#f0f921"
            ]
           ],
           "sequentialminus": [
            [
             0,
             "#0d0887"
            ],
            [
             0.1111111111111111,
             "#46039f"
            ],
            [
             0.2222222222222222,
             "#7201a8"
            ],
            [
             0.3333333333333333,
             "#9c179e"
            ],
            [
             0.4444444444444444,
             "#bd3786"
            ],
            [
             0.5555555555555556,
             "#d8576b"
            ],
            [
             0.6666666666666666,
             "#ed7953"
            ],
            [
             0.7777777777777778,
             "#fb9f3a"
            ],
            [
             0.8888888888888888,
             "#fdca26"
            ],
            [
             1,
             "#f0f921"
            ]
           ]
          },
          "colorway": [
           "#636efa",
           "#EF553B",
           "#00cc96",
           "#ab63fa",
           "#FFA15A",
           "#19d3f3",
           "#FF6692",
           "#B6E880",
           "#FF97FF",
           "#FECB52"
          ],
          "font": {
           "color": "#2a3f5f"
          },
          "geo": {
           "bgcolor": "white",
           "lakecolor": "white",
           "landcolor": "#E5ECF6",
           "showlakes": true,
           "showland": true,
           "subunitcolor": "white"
          },
          "hoverlabel": {
           "align": "left"
          },
          "hovermode": "closest",
          "mapbox": {
           "style": "light"
          },
          "paper_bgcolor": "white",
          "plot_bgcolor": "#E5ECF6",
          "polar": {
           "angularaxis": {
            "gridcolor": "white",
            "linecolor": "white",
            "ticks": ""
           },
           "bgcolor": "#E5ECF6",
           "radialaxis": {
            "gridcolor": "white",
            "linecolor": "white",
            "ticks": ""
           }
          },
          "scene": {
           "xaxis": {
            "backgroundcolor": "#E5ECF6",
            "gridcolor": "white",
            "gridwidth": 2,
            "linecolor": "white",
            "showbackground": true,
            "ticks": "",
            "zerolinecolor": "white"
           },
           "yaxis": {
            "backgroundcolor": "#E5ECF6",
            "gridcolor": "white",
            "gridwidth": 2,
            "linecolor": "white",
            "showbackground": true,
            "ticks": "",
            "zerolinecolor": "white"
           },
           "zaxis": {
            "backgroundcolor": "#E5ECF6",
            "gridcolor": "white",
            "gridwidth": 2,
            "linecolor": "white",
            "showbackground": true,
            "ticks": "",
            "zerolinecolor": "white"
           }
          },
          "shapedefaults": {
           "line": {
            "color": "#2a3f5f"
           }
          },
          "ternary": {
           "aaxis": {
            "gridcolor": "white",
            "linecolor": "white",
            "ticks": ""
           },
           "baxis": {
            "gridcolor": "white",
            "linecolor": "white",
            "ticks": ""
           },
           "bgcolor": "#E5ECF6",
           "caxis": {
            "gridcolor": "white",
            "linecolor": "white",
            "ticks": ""
           }
          },
          "title": {
           "x": 0.05
          },
          "xaxis": {
           "automargin": true,
           "gridcolor": "white",
           "linecolor": "white",
           "ticks": "",
           "title": {
            "standoff": 15
           },
           "zerolinecolor": "white",
           "zerolinewidth": 2
          },
          "yaxis": {
           "automargin": true,
           "gridcolor": "white",
           "linecolor": "white",
           "ticks": "",
           "title": {
            "standoff": 15
           },
           "zerolinecolor": "white",
           "zerolinewidth": 2
          }
         }
        },
        "xaxis": {
         "anchor": "y",
         "domain": [
          0,
          1
         ]
        },
        "yaxis": {
         "anchor": "x",
         "domain": [
          0,
          1
         ],
         "title": {
          "text": "Price"
         }
        }
       }
      }
     },
     "metadata": {},
     "output_type": "display_data"
    }
   ],
   "source": [
    "px.box(data_frame=df,\n",
    "             y='Price',\n",
    "             color='CpuBrand')"
   ]
  },
  {
   "cell_type": "markdown",
   "id": "471735e8",
   "metadata": {},
   "source": [
    "-Correlation Map"
   ]
  },
  {
   "cell_type": "code",
   "execution_count": 71,
   "id": "ea8c73f5",
   "metadata": {},
   "outputs": [
    {
     "data": {
      "text/html": [
       "<div>\n",
       "<style scoped>\n",
       "    .dataframe tbody tr th:only-of-type {\n",
       "        vertical-align: middle;\n",
       "    }\n",
       "\n",
       "    .dataframe tbody tr th {\n",
       "        vertical-align: top;\n",
       "    }\n",
       "\n",
       "    .dataframe thead th {\n",
       "        text-align: right;\n",
       "    }\n",
       "</style>\n",
       "<table border=\"1\" class=\"dataframe\">\n",
       "  <thead>\n",
       "    <tr style=\"text-align: right;\">\n",
       "      <th></th>\n",
       "      <th>Inches</th>\n",
       "      <th>RamGB</th>\n",
       "      <th>WeightKG</th>\n",
       "      <th>Price</th>\n",
       "      <th>GHz</th>\n",
       "      <th>MainMemory</th>\n",
       "      <th>SecondMemory</th>\n",
       "      <th>TouchScreen</th>\n",
       "    </tr>\n",
       "  </thead>\n",
       "  <tbody>\n",
       "    <tr>\n",
       "      <th>Inches</th>\n",
       "      <td>1.000000</td>\n",
       "      <td>0.141917</td>\n",
       "      <td>0.490564</td>\n",
       "      <td>0.041734</td>\n",
       "      <td>0.199383</td>\n",
       "      <td>0.179800</td>\n",
       "      <td>0.279549</td>\n",
       "      <td>-0.235505</td>\n",
       "    </tr>\n",
       "    <tr>\n",
       "      <th>RamGB</th>\n",
       "      <td>0.141917</td>\n",
       "      <td>1.000000</td>\n",
       "      <td>0.285718</td>\n",
       "      <td>0.681786</td>\n",
       "      <td>0.331988</td>\n",
       "      <td>0.009306</td>\n",
       "      <td>0.352430</td>\n",
       "      <td>0.090570</td>\n",
       "    </tr>\n",
       "    <tr>\n",
       "      <th>WeightKG</th>\n",
       "      <td>0.490564</td>\n",
       "      <td>0.285718</td>\n",
       "      <td>1.000000</td>\n",
       "      <td>0.175860</td>\n",
       "      <td>0.274208</td>\n",
       "      <td>0.143827</td>\n",
       "      <td>0.383895</td>\n",
       "      <td>-0.248800</td>\n",
       "    </tr>\n",
       "    <tr>\n",
       "      <th>Price</th>\n",
       "      <td>0.041734</td>\n",
       "      <td>0.681786</td>\n",
       "      <td>0.175860</td>\n",
       "      <td>1.000000</td>\n",
       "      <td>0.426580</td>\n",
       "      <td>-0.126032</td>\n",
       "      <td>0.292562</td>\n",
       "      <td>0.188202</td>\n",
       "    </tr>\n",
       "    <tr>\n",
       "      <th>GHz</th>\n",
       "      <td>0.199383</td>\n",
       "      <td>0.331988</td>\n",
       "      <td>0.274208</td>\n",
       "      <td>0.426580</td>\n",
       "      <td>1.000000</td>\n",
       "      <td>0.052306</td>\n",
       "      <td>0.229731</td>\n",
       "      <td>-0.091600</td>\n",
       "    </tr>\n",
       "    <tr>\n",
       "      <th>MainMemory</th>\n",
       "      <td>0.179800</td>\n",
       "      <td>0.009306</td>\n",
       "      <td>0.143827</td>\n",
       "      <td>-0.126032</td>\n",
       "      <td>0.052306</td>\n",
       "      <td>1.000000</td>\n",
       "      <td>-0.244858</td>\n",
       "      <td>-0.021966</td>\n",
       "    </tr>\n",
       "    <tr>\n",
       "      <th>SecondMemory</th>\n",
       "      <td>0.279549</td>\n",
       "      <td>0.352430</td>\n",
       "      <td>0.383895</td>\n",
       "      <td>0.292562</td>\n",
       "      <td>0.229731</td>\n",
       "      <td>-0.244858</td>\n",
       "      <td>1.000000</td>\n",
       "      <td>-0.132666</td>\n",
       "    </tr>\n",
       "    <tr>\n",
       "      <th>TouchScreen</th>\n",
       "      <td>-0.235505</td>\n",
       "      <td>0.090570</td>\n",
       "      <td>-0.248800</td>\n",
       "      <td>0.188202</td>\n",
       "      <td>-0.091600</td>\n",
       "      <td>-0.021966</td>\n",
       "      <td>-0.132666</td>\n",
       "      <td>1.000000</td>\n",
       "    </tr>\n",
       "  </tbody>\n",
       "</table>\n",
       "</div>"
      ],
      "text/plain": [
       "                Inches     RamGB  WeightKG     Price       GHz  MainMemory   \n",
       "Inches        1.000000  0.141917  0.490564  0.041734  0.199383    0.179800  \\\n",
       "RamGB         0.141917  1.000000  0.285718  0.681786  0.331988    0.009306   \n",
       "WeightKG      0.490564  0.285718  1.000000  0.175860  0.274208    0.143827   \n",
       "Price         0.041734  0.681786  0.175860  1.000000  0.426580   -0.126032   \n",
       "GHz           0.199383  0.331988  0.274208  0.426580  1.000000    0.052306   \n",
       "MainMemory    0.179800  0.009306  0.143827 -0.126032  0.052306    1.000000   \n",
       "SecondMemory  0.279549  0.352430  0.383895  0.292562  0.229731   -0.244858   \n",
       "TouchScreen  -0.235505  0.090570 -0.248800  0.188202 -0.091600   -0.021966   \n",
       "\n",
       "              SecondMemory  TouchScreen  \n",
       "Inches            0.279549    -0.235505  \n",
       "RamGB             0.352430     0.090570  \n",
       "WeightKG          0.383895    -0.248800  \n",
       "Price             0.292562     0.188202  \n",
       "GHz               0.229731    -0.091600  \n",
       "MainMemory       -0.244858    -0.021966  \n",
       "SecondMemory      1.000000    -0.132666  \n",
       "TouchScreen      -0.132666     1.000000  "
      ]
     },
     "execution_count": 71,
     "metadata": {},
     "output_type": "execute_result"
    }
   ],
   "source": [
    "## Correlation map\n",
    "df.corr(numeric_only=True).T"
   ]
  },
  {
   "cell_type": "code",
   "execution_count": 72,
   "id": "6eaf016c",
   "metadata": {},
   "outputs": [
    {
     "data": {
      "text/html": [
       "<div>\n",
       "<style scoped>\n",
       "    .dataframe tbody tr th:only-of-type {\n",
       "        vertical-align: middle;\n",
       "    }\n",
       "\n",
       "    .dataframe tbody tr th {\n",
       "        vertical-align: top;\n",
       "    }\n",
       "\n",
       "    .dataframe thead th {\n",
       "        text-align: right;\n",
       "    }\n",
       "</style>\n",
       "<table border=\"1\" class=\"dataframe\">\n",
       "  <thead>\n",
       "    <tr style=\"text-align: right;\">\n",
       "      <th></th>\n",
       "      <th>index</th>\n",
       "      <th>Price</th>\n",
       "    </tr>\n",
       "  </thead>\n",
       "  <tbody>\n",
       "    <tr>\n",
       "      <th>0</th>\n",
       "      <td>Price</td>\n",
       "      <td>1.000000</td>\n",
       "    </tr>\n",
       "    <tr>\n",
       "      <th>1</th>\n",
       "      <td>RamGB</td>\n",
       "      <td>0.681786</td>\n",
       "    </tr>\n",
       "    <tr>\n",
       "      <th>2</th>\n",
       "      <td>GHz</td>\n",
       "      <td>0.426580</td>\n",
       "    </tr>\n",
       "    <tr>\n",
       "      <th>3</th>\n",
       "      <td>SecondMemory</td>\n",
       "      <td>0.292562</td>\n",
       "    </tr>\n",
       "    <tr>\n",
       "      <th>4</th>\n",
       "      <td>TouchScreen</td>\n",
       "      <td>0.188202</td>\n",
       "    </tr>\n",
       "    <tr>\n",
       "      <th>5</th>\n",
       "      <td>WeightKG</td>\n",
       "      <td>0.175860</td>\n",
       "    </tr>\n",
       "    <tr>\n",
       "      <th>6</th>\n",
       "      <td>Inches</td>\n",
       "      <td>0.041734</td>\n",
       "    </tr>\n",
       "    <tr>\n",
       "      <th>7</th>\n",
       "      <td>MainMemory</td>\n",
       "      <td>-0.126032</td>\n",
       "    </tr>\n",
       "  </tbody>\n",
       "</table>\n",
       "</div>"
      ],
      "text/plain": [
       "          index     Price\n",
       "0         Price  1.000000\n",
       "1         RamGB  0.681786\n",
       "2           GHz  0.426580\n",
       "3  SecondMemory  0.292562\n",
       "4   TouchScreen  0.188202\n",
       "5      WeightKG  0.175860\n",
       "6        Inches  0.041734\n",
       "7    MainMemory -0.126032"
      ]
     },
     "execution_count": 72,
     "metadata": {},
     "output_type": "execute_result"
    }
   ],
   "source": [
    "## Correlation data frame with price\n",
    "df3 = df.corr(numeric_only=True)['Price'].sort_values(ascending=False).reset_index()\n",
    "df3"
   ]
  },
  {
   "cell_type": "code",
   "execution_count": 73,
   "id": "ffbbca6e",
   "metadata": {},
   "outputs": [
    {
     "data": {
      "application/vnd.plotly.v1+json": {
       "config": {
        "plotlyServerURL": "https://plot.ly"
       },
       "data": [
        {
         "coloraxis": "coloraxis",
         "hovertemplate": "x: %{x}<br>y: %{y}<br>color: %{z}<extra></extra>",
         "name": "0",
         "texttemplate": "%{z}",
         "type": "heatmap",
         "x": [
          "Inches",
          "RamGB",
          "WeightKG",
          "Price",
          "GHz",
          "MainMemory",
          "SecondMemory",
          "TouchScreen"
         ],
         "xaxis": "x",
         "y": [
          "Inches",
          "RamGB",
          "WeightKG",
          "Price",
          "GHz",
          "MainMemory",
          "SecondMemory",
          "TouchScreen"
         ],
         "yaxis": "y",
         "z": [
          [
           1,
           0.1419166182769248,
           0.4905637089256557,
           0.04173445693323236,
           0.1993834266231559,
           0.17980009228258034,
           0.2795492623181196,
           -0.2355051814613571
          ],
          [
           0.1419166182769248,
           1,
           0.2857177838843592,
           0.6817855123241338,
           0.33198797806045766,
           0.009306235041874548,
           0.3524295735717429,
           0.09057011207145736
          ],
          [
           0.4905637089256557,
           0.2857177838843592,
           1,
           0.1758601420469854,
           0.2742082957117586,
           0.143826714217338,
           0.3838952795898496,
           -0.24880008786046667
          ],
          [
           0.04173445693323236,
           0.6817855123241338,
           0.1758601420469854,
           1,
           0.42658019656284213,
           -0.12603223022038834,
           0.2925617504272538,
           0.18820166743837097
          ],
          [
           0.1993834266231559,
           0.33198797806045766,
           0.2742082957117586,
           0.42658019656284213,
           1,
           0.05230568619404867,
           0.22973109748711584,
           -0.09159961643770104
          ],
          [
           0.17980009228258034,
           0.009306235041874548,
           0.143826714217338,
           -0.12603223022038834,
           0.05230568619404867,
           1,
           -0.24485825249703885,
           -0.021965615477947526
          ],
          [
           0.2795492623181196,
           0.3524295735717429,
           0.3838952795898496,
           0.2925617504272538,
           0.22973109748711584,
           -0.24485825249703885,
           1,
           -0.13266555080717526
          ],
          [
           -0.2355051814613571,
           0.09057011207145736,
           -0.24880008786046667,
           0.18820166743837097,
           -0.09159961643770104,
           -0.021965615477947526,
           -0.13266555080717526,
           1
          ]
         ]
        }
       ],
       "layout": {
        "coloraxis": {
         "colorscale": [
          [
           0,
           "#0d0887"
          ],
          [
           0.1111111111111111,
           "#46039f"
          ],
          [
           0.2222222222222222,
           "#7201a8"
          ],
          [
           0.3333333333333333,
           "#9c179e"
          ],
          [
           0.4444444444444444,
           "#bd3786"
          ],
          [
           0.5555555555555556,
           "#d8576b"
          ],
          [
           0.6666666666666666,
           "#ed7953"
          ],
          [
           0.7777777777777778,
           "#fb9f3a"
          ],
          [
           0.8888888888888888,
           "#fdca26"
          ],
          [
           1,
           "#f0f921"
          ]
         ]
        },
        "margin": {
         "t": 60
        },
        "template": {
         "data": {
          "bar": [
           {
            "error_x": {
             "color": "#2a3f5f"
            },
            "error_y": {
             "color": "#2a3f5f"
            },
            "marker": {
             "line": {
              "color": "#E5ECF6",
              "width": 0.5
             },
             "pattern": {
              "fillmode": "overlay",
              "size": 10,
              "solidity": 0.2
             }
            },
            "type": "bar"
           }
          ],
          "barpolar": [
           {
            "marker": {
             "line": {
              "color": "#E5ECF6",
              "width": 0.5
             },
             "pattern": {
              "fillmode": "overlay",
              "size": 10,
              "solidity": 0.2
             }
            },
            "type": "barpolar"
           }
          ],
          "carpet": [
           {
            "aaxis": {
             "endlinecolor": "#2a3f5f",
             "gridcolor": "white",
             "linecolor": "white",
             "minorgridcolor": "white",
             "startlinecolor": "#2a3f5f"
            },
            "baxis": {
             "endlinecolor": "#2a3f5f",
             "gridcolor": "white",
             "linecolor": "white",
             "minorgridcolor": "white",
             "startlinecolor": "#2a3f5f"
            },
            "type": "carpet"
           }
          ],
          "choropleth": [
           {
            "colorbar": {
             "outlinewidth": 0,
             "ticks": ""
            },
            "type": "choropleth"
           }
          ],
          "contour": [
           {
            "colorbar": {
             "outlinewidth": 0,
             "ticks": ""
            },
            "colorscale": [
             [
              0,
              "#0d0887"
             ],
             [
              0.1111111111111111,
              "#46039f"
             ],
             [
              0.2222222222222222,
              "#7201a8"
             ],
             [
              0.3333333333333333,
              "#9c179e"
             ],
             [
              0.4444444444444444,
              "#bd3786"
             ],
             [
              0.5555555555555556,
              "#d8576b"
             ],
             [
              0.6666666666666666,
              "#ed7953"
             ],
             [
              0.7777777777777778,
              "#fb9f3a"
             ],
             [
              0.8888888888888888,
              "#fdca26"
             ],
             [
              1,
              "#f0f921"
             ]
            ],
            "type": "contour"
           }
          ],
          "contourcarpet": [
           {
            "colorbar": {
             "outlinewidth": 0,
             "ticks": ""
            },
            "type": "contourcarpet"
           }
          ],
          "heatmap": [
           {
            "colorbar": {
             "outlinewidth": 0,
             "ticks": ""
            },
            "colorscale": [
             [
              0,
              "#0d0887"
             ],
             [
              0.1111111111111111,
              "#46039f"
             ],
             [
              0.2222222222222222,
              "#7201a8"
             ],
             [
              0.3333333333333333,
              "#9c179e"
             ],
             [
              0.4444444444444444,
              "#bd3786"
             ],
             [
              0.5555555555555556,
              "#d8576b"
             ],
             [
              0.6666666666666666,
              "#ed7953"
             ],
             [
              0.7777777777777778,
              "#fb9f3a"
             ],
             [
              0.8888888888888888,
              "#fdca26"
             ],
             [
              1,
              "#f0f921"
             ]
            ],
            "type": "heatmap"
           }
          ],
          "heatmapgl": [
           {
            "colorbar": {
             "outlinewidth": 0,
             "ticks": ""
            },
            "colorscale": [
             [
              0,
              "#0d0887"
             ],
             [
              0.1111111111111111,
              "#46039f"
             ],
             [
              0.2222222222222222,
              "#7201a8"
             ],
             [
              0.3333333333333333,
              "#9c179e"
             ],
             [
              0.4444444444444444,
              "#bd3786"
             ],
             [
              0.5555555555555556,
              "#d8576b"
             ],
             [
              0.6666666666666666,
              "#ed7953"
             ],
             [
              0.7777777777777778,
              "#fb9f3a"
             ],
             [
              0.8888888888888888,
              "#fdca26"
             ],
             [
              1,
              "#f0f921"
             ]
            ],
            "type": "heatmapgl"
           }
          ],
          "histogram": [
           {
            "marker": {
             "pattern": {
              "fillmode": "overlay",
              "size": 10,
              "solidity": 0.2
             }
            },
            "type": "histogram"
           }
          ],
          "histogram2d": [
           {
            "colorbar": {
             "outlinewidth": 0,
             "ticks": ""
            },
            "colorscale": [
             [
              0,
              "#0d0887"
             ],
             [
              0.1111111111111111,
              "#46039f"
             ],
             [
              0.2222222222222222,
              "#7201a8"
             ],
             [
              0.3333333333333333,
              "#9c179e"
             ],
             [
              0.4444444444444444,
              "#bd3786"
             ],
             [
              0.5555555555555556,
              "#d8576b"
             ],
             [
              0.6666666666666666,
              "#ed7953"
             ],
             [
              0.7777777777777778,
              "#fb9f3a"
             ],
             [
              0.8888888888888888,
              "#fdca26"
             ],
             [
              1,
              "#f0f921"
             ]
            ],
            "type": "histogram2d"
           }
          ],
          "histogram2dcontour": [
           {
            "colorbar": {
             "outlinewidth": 0,
             "ticks": ""
            },
            "colorscale": [
             [
              0,
              "#0d0887"
             ],
             [
              0.1111111111111111,
              "#46039f"
             ],
             [
              0.2222222222222222,
              "#7201a8"
             ],
             [
              0.3333333333333333,
              "#9c179e"
             ],
             [
              0.4444444444444444,
              "#bd3786"
             ],
             [
              0.5555555555555556,
              "#d8576b"
             ],
             [
              0.6666666666666666,
              "#ed7953"
             ],
             [
              0.7777777777777778,
              "#fb9f3a"
             ],
             [
              0.8888888888888888,
              "#fdca26"
             ],
             [
              1,
              "#f0f921"
             ]
            ],
            "type": "histogram2dcontour"
           }
          ],
          "mesh3d": [
           {
            "colorbar": {
             "outlinewidth": 0,
             "ticks": ""
            },
            "type": "mesh3d"
           }
          ],
          "parcoords": [
           {
            "line": {
             "colorbar": {
              "outlinewidth": 0,
              "ticks": ""
             }
            },
            "type": "parcoords"
           }
          ],
          "pie": [
           {
            "automargin": true,
            "type": "pie"
           }
          ],
          "scatter": [
           {
            "fillpattern": {
             "fillmode": "overlay",
             "size": 10,
             "solidity": 0.2
            },
            "type": "scatter"
           }
          ],
          "scatter3d": [
           {
            "line": {
             "colorbar": {
              "outlinewidth": 0,
              "ticks": ""
             }
            },
            "marker": {
             "colorbar": {
              "outlinewidth": 0,
              "ticks": ""
             }
            },
            "type": "scatter3d"
           }
          ],
          "scattercarpet": [
           {
            "marker": {
             "colorbar": {
              "outlinewidth": 0,
              "ticks": ""
             }
            },
            "type": "scattercarpet"
           }
          ],
          "scattergeo": [
           {
            "marker": {
             "colorbar": {
              "outlinewidth": 0,
              "ticks": ""
             }
            },
            "type": "scattergeo"
           }
          ],
          "scattergl": [
           {
            "marker": {
             "colorbar": {
              "outlinewidth": 0,
              "ticks": ""
             }
            },
            "type": "scattergl"
           }
          ],
          "scattermapbox": [
           {
            "marker": {
             "colorbar": {
              "outlinewidth": 0,
              "ticks": ""
             }
            },
            "type": "scattermapbox"
           }
          ],
          "scatterpolar": [
           {
            "marker": {
             "colorbar": {
              "outlinewidth": 0,
              "ticks": ""
             }
            },
            "type": "scatterpolar"
           }
          ],
          "scatterpolargl": [
           {
            "marker": {
             "colorbar": {
              "outlinewidth": 0,
              "ticks": ""
             }
            },
            "type": "scatterpolargl"
           }
          ],
          "scatterternary": [
           {
            "marker": {
             "colorbar": {
              "outlinewidth": 0,
              "ticks": ""
             }
            },
            "type": "scatterternary"
           }
          ],
          "surface": [
           {
            "colorbar": {
             "outlinewidth": 0,
             "ticks": ""
            },
            "colorscale": [
             [
              0,
              "#0d0887"
             ],
             [
              0.1111111111111111,
              "#46039f"
             ],
             [
              0.2222222222222222,
              "#7201a8"
             ],
             [
              0.3333333333333333,
              "#9c179e"
             ],
             [
              0.4444444444444444,
              "#bd3786"
             ],
             [
              0.5555555555555556,
              "#d8576b"
             ],
             [
              0.6666666666666666,
              "#ed7953"
             ],
             [
              0.7777777777777778,
              "#fb9f3a"
             ],
             [
              0.8888888888888888,
              "#fdca26"
             ],
             [
              1,
              "#f0f921"
             ]
            ],
            "type": "surface"
           }
          ],
          "table": [
           {
            "cells": {
             "fill": {
              "color": "#EBF0F8"
             },
             "line": {
              "color": "white"
             }
            },
            "header": {
             "fill": {
              "color": "#C8D4E3"
             },
             "line": {
              "color": "white"
             }
            },
            "type": "table"
           }
          ]
         },
         "layout": {
          "annotationdefaults": {
           "arrowcolor": "#2a3f5f",
           "arrowhead": 0,
           "arrowwidth": 1
          },
          "autotypenumbers": "strict",
          "coloraxis": {
           "colorbar": {
            "outlinewidth": 0,
            "ticks": ""
           }
          },
          "colorscale": {
           "diverging": [
            [
             0,
             "#8e0152"
            ],
            [
             0.1,
             "#c51b7d"
            ],
            [
             0.2,
             "#de77ae"
            ],
            [
             0.3,
             "#f1b6da"
            ],
            [
             0.4,
             "#fde0ef"
            ],
            [
             0.5,
             "#f7f7f7"
            ],
            [
             0.6,
             "#e6f5d0"
            ],
            [
             0.7,
             "#b8e186"
            ],
            [
             0.8,
             "#7fbc41"
            ],
            [
             0.9,
             "#4d9221"
            ],
            [
             1,
             "#276419"
            ]
           ],
           "sequential": [
            [
             0,
             "#0d0887"
            ],
            [
             0.1111111111111111,
             "#46039f"
            ],
            [
             0.2222222222222222,
             "#7201a8"
            ],
            [
             0.3333333333333333,
             "#9c179e"
            ],
            [
             0.4444444444444444,
             "#bd3786"
            ],
            [
             0.5555555555555556,
             "#d8576b"
            ],
            [
             0.6666666666666666,
             "#ed7953"
            ],
            [
             0.7777777777777778,
             "#fb9f3a"
            ],
            [
             0.8888888888888888,
             "#fdca26"
            ],
            [
             1,
             "#f0f921"
            ]
           ],
           "sequentialminus": [
            [
             0,
             "#0d0887"
            ],
            [
             0.1111111111111111,
             "#46039f"
            ],
            [
             0.2222222222222222,
             "#7201a8"
            ],
            [
             0.3333333333333333,
             "#9c179e"
            ],
            [
             0.4444444444444444,
             "#bd3786"
            ],
            [
             0.5555555555555556,
             "#d8576b"
            ],
            [
             0.6666666666666666,
             "#ed7953"
            ],
            [
             0.7777777777777778,
             "#fb9f3a"
            ],
            [
             0.8888888888888888,
             "#fdca26"
            ],
            [
             1,
             "#f0f921"
            ]
           ]
          },
          "colorway": [
           "#636efa",
           "#EF553B",
           "#00cc96",
           "#ab63fa",
           "#FFA15A",
           "#19d3f3",
           "#FF6692",
           "#B6E880",
           "#FF97FF",
           "#FECB52"
          ],
          "font": {
           "color": "#2a3f5f"
          },
          "geo": {
           "bgcolor": "white",
           "lakecolor": "white",
           "landcolor": "#E5ECF6",
           "showlakes": true,
           "showland": true,
           "subunitcolor": "white"
          },
          "hoverlabel": {
           "align": "left"
          },
          "hovermode": "closest",
          "mapbox": {
           "style": "light"
          },
          "paper_bgcolor": "white",
          "plot_bgcolor": "#E5ECF6",
          "polar": {
           "angularaxis": {
            "gridcolor": "white",
            "linecolor": "white",
            "ticks": ""
           },
           "bgcolor": "#E5ECF6",
           "radialaxis": {
            "gridcolor": "white",
            "linecolor": "white",
            "ticks": ""
           }
          },
          "scene": {
           "xaxis": {
            "backgroundcolor": "#E5ECF6",
            "gridcolor": "white",
            "gridwidth": 2,
            "linecolor": "white",
            "showbackground": true,
            "ticks": "",
            "zerolinecolor": "white"
           },
           "yaxis": {
            "backgroundcolor": "#E5ECF6",
            "gridcolor": "white",
            "gridwidth": 2,
            "linecolor": "white",
            "showbackground": true,
            "ticks": "",
            "zerolinecolor": "white"
           },
           "zaxis": {
            "backgroundcolor": "#E5ECF6",
            "gridcolor": "white",
            "gridwidth": 2,
            "linecolor": "white",
            "showbackground": true,
            "ticks": "",
            "zerolinecolor": "white"
           }
          },
          "shapedefaults": {
           "line": {
            "color": "#2a3f5f"
           }
          },
          "ternary": {
           "aaxis": {
            "gridcolor": "white",
            "linecolor": "white",
            "ticks": ""
           },
           "baxis": {
            "gridcolor": "white",
            "linecolor": "white",
            "ticks": ""
           },
           "bgcolor": "#E5ECF6",
           "caxis": {
            "gridcolor": "white",
            "linecolor": "white",
            "ticks": ""
           }
          },
          "title": {
           "x": 0.05
          },
          "xaxis": {
           "automargin": true,
           "gridcolor": "white",
           "linecolor": "white",
           "ticks": "",
           "title": {
            "standoff": 15
           },
           "zerolinecolor": "white",
           "zerolinewidth": 2
          },
          "yaxis": {
           "automargin": true,
           "gridcolor": "white",
           "linecolor": "white",
           "ticks": "",
           "title": {
            "standoff": 15
           },
           "zerolinecolor": "white",
           "zerolinewidth": 2
          }
         }
        },
        "xaxis": {
         "anchor": "y",
         "constrain": "domain",
         "domain": [
          0,
          1
         ],
         "scaleanchor": "y"
        },
        "yaxis": {
         "anchor": "x",
         "autorange": "reversed",
         "constrain": "domain",
         "domain": [
          0,
          1
         ]
        }
       }
      }
     },
     "metadata": {},
     "output_type": "display_data"
    }
   ],
   "source": [
    "## Correlation Between Each feature\n",
    "px.imshow(df.corr(numeric_only=True),text_auto=True)"
   ]
  },
  {
   "cell_type": "markdown",
   "id": "a795246c",
   "metadata": {},
   "source": [
    "-Quantiles and deteting outliers"
   ]
  },
  {
   "cell_type": "code",
   "execution_count": 74,
   "id": "33f7ec49",
   "metadata": {},
   "outputs": [
    {
     "data": {
      "text/html": [
       "<div>\n",
       "<style scoped>\n",
       "    .dataframe tbody tr th:only-of-type {\n",
       "        vertical-align: middle;\n",
       "    }\n",
       "\n",
       "    .dataframe tbody tr th {\n",
       "        vertical-align: top;\n",
       "    }\n",
       "\n",
       "    .dataframe thead th {\n",
       "        text-align: right;\n",
       "    }\n",
       "</style>\n",
       "<table border=\"1\" class=\"dataframe\">\n",
       "  <thead>\n",
       "    <tr style=\"text-align: right;\">\n",
       "      <th></th>\n",
       "      <th>0.050</th>\n",
       "      <th>0.100</th>\n",
       "      <th>0.400</th>\n",
       "      <th>0.500</th>\n",
       "      <th>0.700</th>\n",
       "      <th>0.800</th>\n",
       "      <th>0.900</th>\n",
       "      <th>0.950</th>\n",
       "      <th>0.990</th>\n",
       "      <th>0.995</th>\n",
       "      <th>1.000</th>\n",
       "    </tr>\n",
       "  </thead>\n",
       "  <tbody>\n",
       "    <tr>\n",
       "      <th>Inches</th>\n",
       "      <td>12.500000</td>\n",
       "      <td>13.300000</td>\n",
       "      <td>15.600000</td>\n",
       "      <td>15.60000</td>\n",
       "      <td>15.600000</td>\n",
       "      <td>15.600000</td>\n",
       "      <td>17.300000</td>\n",
       "      <td>17.30000</td>\n",
       "      <td>17.300000</td>\n",
       "      <td>25.272000</td>\n",
       "      <td>35.60000</td>\n",
       "    </tr>\n",
       "    <tr>\n",
       "      <th>RamGB</th>\n",
       "      <td>4.000000</td>\n",
       "      <td>4.000000</td>\n",
       "      <td>8.000000</td>\n",
       "      <td>8.00000</td>\n",
       "      <td>8.000000</td>\n",
       "      <td>8.000000</td>\n",
       "      <td>16.000000</td>\n",
       "      <td>16.00000</td>\n",
       "      <td>32.000000</td>\n",
       "      <td>32.000000</td>\n",
       "      <td>64.00000</td>\n",
       "    </tr>\n",
       "    <tr>\n",
       "      <th>WeightKG</th>\n",
       "      <td>1.180500</td>\n",
       "      <td>1.260000</td>\n",
       "      <td>1.900000</td>\n",
       "      <td>2.04000</td>\n",
       "      <td>2.240000</td>\n",
       "      <td>2.450000</td>\n",
       "      <td>2.800000</td>\n",
       "      <td>3.35000</td>\n",
       "      <td>4.559000</td>\n",
       "      <td>5.718000</td>\n",
       "      <td>11.10000</td>\n",
       "    </tr>\n",
       "    <tr>\n",
       "      <th>Price</th>\n",
       "      <td>208.047744</td>\n",
       "      <td>255.099525</td>\n",
       "      <td>534.122623</td>\n",
       "      <td>632.32704</td>\n",
       "      <td>862.752384</td>\n",
       "      <td>1067.475456</td>\n",
       "      <td>1310.508979</td>\n",
       "      <td>1565.79264</td>\n",
       "      <td>2015.198784</td>\n",
       "      <td>2456.148753</td>\n",
       "      <td>3899.45664</td>\n",
       "    </tr>\n",
       "    <tr>\n",
       "      <th>GHz</th>\n",
       "      <td>1.200000</td>\n",
       "      <td>1.600000</td>\n",
       "      <td>2.400000</td>\n",
       "      <td>2.50000</td>\n",
       "      <td>2.600000</td>\n",
       "      <td>2.700000</td>\n",
       "      <td>2.800000</td>\n",
       "      <td>2.80000</td>\n",
       "      <td>3.000000</td>\n",
       "      <td>3.100000</td>\n",
       "      <td>3.60000</td>\n",
       "    </tr>\n",
       "    <tr>\n",
       "      <th>MainMemory</th>\n",
       "      <td>64.000000</td>\n",
       "      <td>128.000000</td>\n",
       "      <td>256.000000</td>\n",
       "      <td>256.00000</td>\n",
       "      <td>512.000000</td>\n",
       "      <td>804.800000</td>\n",
       "      <td>1000.000000</td>\n",
       "      <td>1000.00000</td>\n",
       "      <td>2000.000000</td>\n",
       "      <td>2000.000000</td>\n",
       "      <td>2000.00000</td>\n",
       "    </tr>\n",
       "    <tr>\n",
       "      <th>SecondMemory</th>\n",
       "      <td>0.000000</td>\n",
       "      <td>0.000000</td>\n",
       "      <td>0.000000</td>\n",
       "      <td>0.00000</td>\n",
       "      <td>0.000000</td>\n",
       "      <td>0.000000</td>\n",
       "      <td>1000.000000</td>\n",
       "      <td>1000.00000</td>\n",
       "      <td>2000.000000</td>\n",
       "      <td>2000.000000</td>\n",
       "      <td>2000.00000</td>\n",
       "    </tr>\n",
       "    <tr>\n",
       "      <th>TouchScreen</th>\n",
       "      <td>0.000000</td>\n",
       "      <td>0.000000</td>\n",
       "      <td>0.000000</td>\n",
       "      <td>0.00000</td>\n",
       "      <td>0.000000</td>\n",
       "      <td>0.000000</td>\n",
       "      <td>1.000000</td>\n",
       "      <td>1.00000</td>\n",
       "      <td>1.000000</td>\n",
       "      <td>1.000000</td>\n",
       "      <td>1.00000</td>\n",
       "    </tr>\n",
       "  </tbody>\n",
       "</table>\n",
       "</div>"
      ],
      "text/plain": [
       "                   0.050       0.100       0.400      0.500       0.700   \n",
       "Inches         12.500000   13.300000   15.600000   15.60000   15.600000  \\\n",
       "RamGB           4.000000    4.000000    8.000000    8.00000    8.000000   \n",
       "WeightKG        1.180500    1.260000    1.900000    2.04000    2.240000   \n",
       "Price         208.047744  255.099525  534.122623  632.32704  862.752384   \n",
       "GHz             1.200000    1.600000    2.400000    2.50000    2.600000   \n",
       "MainMemory     64.000000  128.000000  256.000000  256.00000  512.000000   \n",
       "SecondMemory    0.000000    0.000000    0.000000    0.00000    0.000000   \n",
       "TouchScreen     0.000000    0.000000    0.000000    0.00000    0.000000   \n",
       "\n",
       "                    0.800        0.900       0.950        0.990        0.995   \n",
       "Inches          15.600000    17.300000    17.30000    17.300000    25.272000  \\\n",
       "RamGB            8.000000    16.000000    16.00000    32.000000    32.000000   \n",
       "WeightKG         2.450000     2.800000     3.35000     4.559000     5.718000   \n",
       "Price         1067.475456  1310.508979  1565.79264  2015.198784  2456.148753   \n",
       "GHz              2.700000     2.800000     2.80000     3.000000     3.100000   \n",
       "MainMemory     804.800000  1000.000000  1000.00000  2000.000000  2000.000000   \n",
       "SecondMemory     0.000000  1000.000000  1000.00000  2000.000000  2000.000000   \n",
       "TouchScreen      0.000000     1.000000     1.00000     1.000000     1.000000   \n",
       "\n",
       "                   1.000  \n",
       "Inches          35.60000  \n",
       "RamGB           64.00000  \n",
       "WeightKG        11.10000  \n",
       "Price         3899.45664  \n",
       "GHz              3.60000  \n",
       "MainMemory    2000.00000  \n",
       "SecondMemory  2000.00000  \n",
       "TouchScreen      1.00000  "
      ]
     },
     "execution_count": 74,
     "metadata": {},
     "output_type": "execute_result"
    }
   ],
   "source": [
    "df.quantile(numeric_only=True,q=[0.05,0.1,0.4,0.5,0.7, 0.8, 0.9, 0.95, 0.99, 0.995,1]).T"
   ]
  },
  {
   "cell_type": "markdown",
   "id": "579b13f5",
   "metadata": {},
   "source": [
    "-Handling outliers"
   ]
  },
  {
   "cell_type": "code",
   "execution_count": 75,
   "id": "eb0ffa0a",
   "metadata": {},
   "outputs": [
    {
     "data": {
      "image/png": "[encoded data removed]",
      "text/plain": [
       "<Figure size 2500x700 with 5 Axes>"
      ]
     },
     "metadata": {},
     "output_type": "display_data"
    }
   ],
   "source": [
    "## visualizing  Outliers\n",
    "numout = ['Price','Inches','RamGB','WeightKG','GHz']\n",
    "plt.figure(figsize = (25 , 7))\n",
    "for i , col in enumerate(numout,1):\n",
    "    plt.subplot(3,5,i)\n",
    "    sns.boxplot(data = df, x= col)"
   ]
  },
  {
   "cell_type": "code",
   "execution_count": 76,
   "id": "acd2d05b",
   "metadata": {},
   "outputs": [],
   "source": [
    "df = df[(df['Price']<3000)]\n",
    "df = df[ (df['Inches']<30) ]\n",
    "df = df[(df['WeightKG'] <10)]\n",
    "df = df[(df['RamGB']<40)]"
   ]
  },
  {
   "cell_type": "code",
   "execution_count": 77,
   "id": "9abbe685",
   "metadata": {},
   "outputs": [
    {
     "data": {
      "text/html": [
       "<div>\n",
       "<style scoped>\n",
       "    .dataframe tbody tr th:only-of-type {\n",
       "        vertical-align: middle;\n",
       "    }\n",
       "\n",
       "    .dataframe tbody tr th {\n",
       "        vertical-align: top;\n",
       "    }\n",
       "\n",
       "    .dataframe thead th {\n",
       "        text-align: right;\n",
       "    }\n",
       "</style>\n",
       "<table border=\"1\" class=\"dataframe\">\n",
       "  <thead>\n",
       "    <tr style=\"text-align: right;\">\n",
       "      <th></th>\n",
       "      <th>0.050</th>\n",
       "      <th>0.100</th>\n",
       "      <th>0.400</th>\n",
       "      <th>0.500</th>\n",
       "      <th>0.700</th>\n",
       "      <th>0.800</th>\n",
       "      <th>0.900</th>\n",
       "      <th>0.950</th>\n",
       "      <th>0.990</th>\n",
       "      <th>0.995</th>\n",
       "      <th>1.000</th>\n",
       "    </tr>\n",
       "  </thead>\n",
       "  <tbody>\n",
       "    <tr>\n",
       "      <th>Inches</th>\n",
       "      <td>12.500000</td>\n",
       "      <td>13.300000</td>\n",
       "      <td>15.600000</td>\n",
       "      <td>15.60000</td>\n",
       "      <td>15.60000</td>\n",
       "      <td>15.600</td>\n",
       "      <td>17.300000</td>\n",
       "      <td>17.30000</td>\n",
       "      <td>17.300000</td>\n",
       "      <td>17.300000</td>\n",
       "      <td>27.30000</td>\n",
       "    </tr>\n",
       "    <tr>\n",
       "      <th>RamGB</th>\n",
       "      <td>4.000000</td>\n",
       "      <td>4.000000</td>\n",
       "      <td>8.000000</td>\n",
       "      <td>8.00000</td>\n",
       "      <td>8.00000</td>\n",
       "      <td>8.000</td>\n",
       "      <td>16.000000</td>\n",
       "      <td>16.00000</td>\n",
       "      <td>32.000000</td>\n",
       "      <td>32.000000</td>\n",
       "      <td>32.00000</td>\n",
       "    </tr>\n",
       "    <tr>\n",
       "      <th>WeightKG</th>\n",
       "      <td>1.184000</td>\n",
       "      <td>1.260000</td>\n",
       "      <td>1.900000</td>\n",
       "      <td>2.04000</td>\n",
       "      <td>2.24000</td>\n",
       "      <td>2.430</td>\n",
       "      <td>2.800000</td>\n",
       "      <td>3.30600</td>\n",
       "      <td>4.477600</td>\n",
       "      <td>5.302000</td>\n",
       "      <td>8.40000</td>\n",
       "    </tr>\n",
       "    <tr>\n",
       "      <th>Price</th>\n",
       "      <td>207.408384</td>\n",
       "      <td>255.098246</td>\n",
       "      <td>532.076671</td>\n",
       "      <td>632.32704</td>\n",
       "      <td>862.49664</td>\n",
       "      <td>1054.944</td>\n",
       "      <td>1308.501389</td>\n",
       "      <td>1561.95648</td>\n",
       "      <td>1961.480268</td>\n",
       "      <td>2103.967526</td>\n",
       "      <td>2806.15104</td>\n",
       "    </tr>\n",
       "    <tr>\n",
       "      <th>GHz</th>\n",
       "      <td>1.200000</td>\n",
       "      <td>1.600000</td>\n",
       "      <td>2.400000</td>\n",
       "      <td>2.50000</td>\n",
       "      <td>2.60000</td>\n",
       "      <td>2.700</td>\n",
       "      <td>2.800000</td>\n",
       "      <td>2.80000</td>\n",
       "      <td>3.000000</td>\n",
       "      <td>3.100000</td>\n",
       "      <td>3.60000</td>\n",
       "    </tr>\n",
       "    <tr>\n",
       "      <th>MainMemory</th>\n",
       "      <td>64.000000</td>\n",
       "      <td>128.000000</td>\n",
       "      <td>256.000000</td>\n",
       "      <td>256.00000</td>\n",
       "      <td>512.00000</td>\n",
       "      <td>512.000</td>\n",
       "      <td>1000.000000</td>\n",
       "      <td>1000.00000</td>\n",
       "      <td>2000.000000</td>\n",
       "      <td>2000.000000</td>\n",
       "      <td>2000.00000</td>\n",
       "    </tr>\n",
       "    <tr>\n",
       "      <th>SecondMemory</th>\n",
       "      <td>0.000000</td>\n",
       "      <td>0.000000</td>\n",
       "      <td>0.000000</td>\n",
       "      <td>0.00000</td>\n",
       "      <td>0.00000</td>\n",
       "      <td>0.000</td>\n",
       "      <td>1000.000000</td>\n",
       "      <td>1000.00000</td>\n",
       "      <td>2000.000000</td>\n",
       "      <td>2000.000000</td>\n",
       "      <td>2000.00000</td>\n",
       "    </tr>\n",
       "    <tr>\n",
       "      <th>TouchScreen</th>\n",
       "      <td>0.000000</td>\n",
       "      <td>0.000000</td>\n",
       "      <td>0.000000</td>\n",
       "      <td>0.00000</td>\n",
       "      <td>0.00000</td>\n",
       "      <td>0.000</td>\n",
       "      <td>1.000000</td>\n",
       "      <td>1.00000</td>\n",
       "      <td>1.000000</td>\n",
       "      <td>1.000000</td>\n",
       "      <td>1.00000</td>\n",
       "    </tr>\n",
       "  </tbody>\n",
       "</table>\n",
       "</div>"
      ],
      "text/plain": [
       "                   0.050       0.100       0.400      0.500      0.700   \n",
       "Inches         12.500000   13.300000   15.600000   15.60000   15.60000  \\\n",
       "RamGB           4.000000    4.000000    8.000000    8.00000    8.00000   \n",
       "WeightKG        1.184000    1.260000    1.900000    2.04000    2.24000   \n",
       "Price         207.408384  255.098246  532.076671  632.32704  862.49664   \n",
       "GHz             1.200000    1.600000    2.400000    2.50000    2.60000   \n",
       "MainMemory     64.000000  128.000000  256.000000  256.00000  512.00000   \n",
       "SecondMemory    0.000000    0.000000    0.000000    0.00000    0.00000   \n",
       "TouchScreen     0.000000    0.000000    0.000000    0.00000    0.00000   \n",
       "\n",
       "                 0.800        0.900       0.950        0.990        0.995   \n",
       "Inches          15.600    17.300000    17.30000    17.300000    17.300000  \\\n",
       "RamGB            8.000    16.000000    16.00000    32.000000    32.000000   \n",
       "WeightKG         2.430     2.800000     3.30600     4.477600     5.302000   \n",
       "Price         1054.944  1308.501389  1561.95648  1961.480268  2103.967526   \n",
       "GHz              2.700     2.800000     2.80000     3.000000     3.100000   \n",
       "MainMemory     512.000  1000.000000  1000.00000  2000.000000  2000.000000   \n",
       "SecondMemory     0.000  1000.000000  1000.00000  2000.000000  2000.000000   \n",
       "TouchScreen      0.000     1.000000     1.00000     1.000000     1.000000   \n",
       "\n",
       "                   1.000  \n",
       "Inches          27.30000  \n",
       "RamGB           32.00000  \n",
       "WeightKG         8.40000  \n",
       "Price         2806.15104  \n",
       "GHz              3.60000  \n",
       "MainMemory    2000.00000  \n",
       "SecondMemory  2000.00000  \n",
       "TouchScreen      1.00000  "
      ]
     },
     "execution_count": 77,
     "metadata": {},
     "output_type": "execute_result"
    }
   ],
   "source": [
    "df.quantile(numeric_only=True,q=[0.05,0.1,0.4,0.5,0.7, 0.8, 0.9, 0.95, 0.99, 0.995,1]).T"
   ]
  },
  {
   "cell_type": "code",
   "execution_count": 78,
   "id": "90d064a1",
   "metadata": {},
   "outputs": [
    {
     "data": {
      "text/plain": [
       "<Axes: xlabel='Price', ylabel='Count'>"
      ]
     },
     "execution_count": 78,
     "metadata": {},
     "output_type": "execute_result"
    },
    {
     "data": {
      "image/png": "[encoded data removed]",
      "text/plain": [
       "<Figure size 640x480 with 1 Axes>"
      ]
     },
     "metadata": {},
     "output_type": "display_data"
    }
   ],
   "source": [
    "sns.histplot(df['Price'])"
   ]
  },
  {
   "cell_type": "code",
   "execution_count": 79,
   "id": "13cb7ada",
   "metadata": {},
   "outputs": [
    {
     "data": {
      "text/plain": [
       "<Axes: xlabel='Price', ylabel='Count'>"
      ]
     },
     "execution_count": 79,
     "metadata": {},
     "output_type": "execute_result"
    },
    {
     "data": {
      "image/png": "[encoded data removed]",
      "text/plain": [
       "<Figure size 640x480 with 1 Axes>"
      ]
     },
     "metadata": {},
     "output_type": "display_data"
    }
   ],
   "source": [
    "sns.histplot(np.log(df['Price']))"
   ]
  },
  {
   "cell_type": "markdown",
   "id": "72fc71ed",
   "metadata": {},
   "source": [
    "## Saving a Cleaned Version of Data"
   ]
  },
  {
   "cell_type": "code",
   "execution_count": 80,
   "id": "59ea5a34",
   "metadata": {},
   "outputs": [],
   "source": [
    "df.to_csv('laptop-clean.csv', index=False)"
   ]
  },
  {
   "cell_type": "markdown",
   "id": "7ea8f1f8",
   "metadata": {},
   "source": [
    "# Machine Learning Model"
   ]
  },
  {
   "cell_type": "markdown",
   "id": "e491e975",
   "metadata": {},
   "source": [
    "## Data Splitting"
   ]
  },
  {
   "cell_type": "code",
   "execution_count": 81,
   "id": "586e9e9e",
   "metadata": {},
   "outputs": [],
   "source": [
    "\n",
    "## Filling Nan\n",
    "df.fillna('None',inplace=True)\n",
    "df.to_csv('laptop-clean.csv',index=False)\n",
    "# importing Libraries\n",
    "from sklearn.model_selection import train_test_split\n",
    "\n",
    "# Data Splitting into features and target\n",
    "X = df.drop('Price', axis=1)\n",
    "y = np.log(df['Price'])\n",
    "\n",
    "\n",
    "# Splitting into train and test\n",
    "X_train, X_test, y_train, y_test = train_test_split(X, y, test_size=0.2, random_state=42, stratify=X[['CpuBrand','TouchScreen']])"
   ]
  },
  {
   "cell_type": "code",
   "execution_count": 82,
   "id": "dc364752",
   "metadata": {},
   "outputs": [
    {
     "data": {
      "text/html": [
       "<div>\n",
       "<style scoped>\n",
       "    .dataframe tbody tr th:only-of-type {\n",
       "        vertical-align: middle;\n",
       "    }\n",
       "\n",
       "    .dataframe tbody tr th {\n",
       "        vertical-align: top;\n",
       "    }\n",
       "\n",
       "    .dataframe thead th {\n",
       "        text-align: right;\n",
       "    }\n",
       "</style>\n",
       "<table border=\"1\" class=\"dataframe\">\n",
       "  <thead>\n",
       "    <tr style=\"text-align: right;\">\n",
       "      <th></th>\n",
       "      <th>Inches</th>\n",
       "      <th>RamGB</th>\n",
       "      <th>WeightKG</th>\n",
       "      <th>GHz</th>\n",
       "      <th>MainMemory</th>\n",
       "      <th>SecondMemory</th>\n",
       "      <th>TouchScreen</th>\n",
       "    </tr>\n",
       "  </thead>\n",
       "  <tbody>\n",
       "    <tr>\n",
       "      <th>count</th>\n",
       "      <td>1229.000000</td>\n",
       "      <td>1229.000000</td>\n",
       "      <td>1229.000000</td>\n",
       "      <td>1229.000000</td>\n",
       "      <td>1229.000000</td>\n",
       "      <td>1229.000000</td>\n",
       "      <td>1229.000000</td>\n",
       "    </tr>\n",
       "    <tr>\n",
       "      <th>mean</th>\n",
       "      <td>15.062083</td>\n",
       "      <td>8.345810</td>\n",
       "      <td>2.072197</td>\n",
       "      <td>2.303190</td>\n",
       "      <td>438.766477</td>\n",
       "      <td>175.166802</td>\n",
       "      <td>0.143206</td>\n",
       "    </tr>\n",
       "    <tr>\n",
       "      <th>std</th>\n",
       "      <td>1.537880</td>\n",
       "      <td>4.752338</td>\n",
       "      <td>0.771942</td>\n",
       "      <td>0.503924</td>\n",
       "      <td>356.686892</td>\n",
       "      <td>409.823235</td>\n",
       "      <td>0.350425</td>\n",
       "    </tr>\n",
       "    <tr>\n",
       "      <th>min</th>\n",
       "      <td>10.100000</td>\n",
       "      <td>1.000000</td>\n",
       "      <td>0.000200</td>\n",
       "      <td>0.900000</td>\n",
       "      <td>0.000000</td>\n",
       "      <td>0.000000</td>\n",
       "      <td>0.000000</td>\n",
       "    </tr>\n",
       "    <tr>\n",
       "      <th>25%</th>\n",
       "      <td>14.000000</td>\n",
       "      <td>4.000000</td>\n",
       "      <td>1.500000</td>\n",
       "      <td>2.000000</td>\n",
       "      <td>256.000000</td>\n",
       "      <td>0.000000</td>\n",
       "      <td>0.000000</td>\n",
       "    </tr>\n",
       "    <tr>\n",
       "      <th>50%</th>\n",
       "      <td>15.600000</td>\n",
       "      <td>8.000000</td>\n",
       "      <td>2.040000</td>\n",
       "      <td>2.500000</td>\n",
       "      <td>256.000000</td>\n",
       "      <td>0.000000</td>\n",
       "      <td>0.000000</td>\n",
       "    </tr>\n",
       "    <tr>\n",
       "      <th>75%</th>\n",
       "      <td>15.600000</td>\n",
       "      <td>8.000000</td>\n",
       "      <td>2.320000</td>\n",
       "      <td>2.700000</td>\n",
       "      <td>512.000000</td>\n",
       "      <td>0.000000</td>\n",
       "      <td>0.000000</td>\n",
       "    </tr>\n",
       "    <tr>\n",
       "      <th>max</th>\n",
       "      <td>27.300000</td>\n",
       "      <td>32.000000</td>\n",
       "      <td>8.400000</td>\n",
       "      <td>3.600000</td>\n",
       "      <td>2000.000000</td>\n",
       "      <td>2000.000000</td>\n",
       "      <td>1.000000</td>\n",
       "    </tr>\n",
       "  </tbody>\n",
       "</table>\n",
       "</div>"
      ],
      "text/plain": [
       "            Inches        RamGB     WeightKG          GHz   MainMemory   \n",
       "count  1229.000000  1229.000000  1229.000000  1229.000000  1229.000000  \\\n",
       "mean     15.062083     8.345810     2.072197     2.303190   438.766477   \n",
       "std       1.537880     4.752338     0.771942     0.503924   356.686892   \n",
       "min      10.100000     1.000000     0.000200     0.900000     0.000000   \n",
       "25%      14.000000     4.000000     1.500000     2.000000   256.000000   \n",
       "50%      15.600000     8.000000     2.040000     2.500000   256.000000   \n",
       "75%      15.600000     8.000000     2.320000     2.700000   512.000000   \n",
       "max      27.300000    32.000000     8.400000     3.600000  2000.000000   \n",
       "\n",
       "       SecondMemory  TouchScreen  \n",
       "count   1229.000000  1229.000000  \n",
       "mean     175.166802     0.143206  \n",
       "std      409.823235     0.350425  \n",
       "min        0.000000     0.000000  \n",
       "25%        0.000000     0.000000  \n",
       "50%        0.000000     0.000000  \n",
       "75%        0.000000     0.000000  \n",
       "max     2000.000000     1.000000  "
      ]
     },
     "execution_count": 82,
     "metadata": {},
     "output_type": "execute_result"
    }
   ],
   "source": [
    "X.describe()"
   ]
  },
  {
   "cell_type": "code",
   "execution_count": 83,
   "id": "de3c19c0",
   "metadata": {},
   "outputs": [
    {
     "data": {
      "text/html": [
       "<div>\n",
       "<style scoped>\n",
       "    .dataframe tbody tr th:only-of-type {\n",
       "        vertical-align: middle;\n",
       "    }\n",
       "\n",
       "    .dataframe tbody tr th {\n",
       "        vertical-align: top;\n",
       "    }\n",
       "\n",
       "    .dataframe thead th {\n",
       "        text-align: right;\n",
       "    }\n",
       "</style>\n",
       "<table border=\"1\" class=\"dataframe\">\n",
       "  <thead>\n",
       "    <tr style=\"text-align: right;\">\n",
       "      <th></th>\n",
       "      <th>Company</th>\n",
       "      <th>TypeName</th>\n",
       "      <th>OpSys</th>\n",
       "      <th>CpuBrand</th>\n",
       "      <th>CpuVersion</th>\n",
       "      <th>MainMemoryType</th>\n",
       "      <th>SecondMemoryType</th>\n",
       "      <th>Resolution</th>\n",
       "      <th>PanelType</th>\n",
       "      <th>GpuBrand</th>\n",
       "      <th>GpuVersion</th>\n",
       "    </tr>\n",
       "  </thead>\n",
       "  <tbody>\n",
       "    <tr>\n",
       "      <th>count</th>\n",
       "      <td>1229</td>\n",
       "      <td>1229</td>\n",
       "      <td>1229</td>\n",
       "      <td>1229</td>\n",
       "      <td>1229</td>\n",
       "      <td>1229</td>\n",
       "      <td>1229</td>\n",
       "      <td>1229</td>\n",
       "      <td>1229</td>\n",
       "      <td>1229</td>\n",
       "      <td>1229</td>\n",
       "    </tr>\n",
       "    <tr>\n",
       "      <th>unique</th>\n",
       "      <td>19</td>\n",
       "      <td>6</td>\n",
       "      <td>9</td>\n",
       "      <td>2</td>\n",
       "      <td>89</td>\n",
       "      <td>5</td>\n",
       "      <td>4</td>\n",
       "      <td>15</td>\n",
       "      <td>3</td>\n",
       "      <td>3</td>\n",
       "      <td>108</td>\n",
       "    </tr>\n",
       "    <tr>\n",
       "      <th>top</th>\n",
       "      <td>Lenovo</td>\n",
       "      <td>Notebook</td>\n",
       "      <td>Windows 10</td>\n",
       "      <td>Intel</td>\n",
       "      <td>Core i5 7200U</td>\n",
       "      <td>SSD</td>\n",
       "      <td>None</td>\n",
       "      <td>1920x1080</td>\n",
       "      <td>Without</td>\n",
       "      <td>Intel</td>\n",
       "      <td>HD Graphics 620</td>\n",
       "    </tr>\n",
       "    <tr>\n",
       "      <th>freq</th>\n",
       "      <td>278</td>\n",
       "      <td>685</td>\n",
       "      <td>1010</td>\n",
       "      <td>1170</td>\n",
       "      <td>186</td>\n",
       "      <td>804</td>\n",
       "      <td>1025</td>\n",
       "      <td>807</td>\n",
       "      <td>883</td>\n",
       "      <td>678</td>\n",
       "      <td>268</td>\n",
       "    </tr>\n",
       "  </tbody>\n",
       "</table>\n",
       "</div>"
      ],
      "text/plain": [
       "       Company  TypeName       OpSys CpuBrand       CpuVersion MainMemoryType   \n",
       "count     1229      1229        1229     1229             1229           1229  \\\n",
       "unique      19         6           9        2               89              5   \n",
       "top     Lenovo  Notebook  Windows 10    Intel   Core i5 7200U             SSD   \n",
       "freq       278       685        1010     1170              186            804   \n",
       "\n",
       "       SecondMemoryType Resolution PanelType GpuBrand        GpuVersion  \n",
       "count              1229       1229      1229     1229              1229  \n",
       "unique                4         15         3        3               108  \n",
       "top                None  1920x1080   Without    Intel   HD Graphics 620  \n",
       "freq               1025        807       883      678               268  "
      ]
     },
     "execution_count": 83,
     "metadata": {},
     "output_type": "execute_result"
    }
   ],
   "source": [
    "X.describe(include='O')"
   ]
  },
  {
   "cell_type": "markdown",
   "id": "8644a280",
   "metadata": {},
   "source": [
    "## Data Pre-Processing"
   ]
  },
  {
   "cell_type": "markdown",
   "id": "d3666840",
   "metadata": {},
   "source": [
    "#### Handling Nans"
   ]
  },
  {
   "cell_type": "code",
   "execution_count": 84,
   "id": "6694bd22",
   "metadata": {},
   "outputs": [
    {
     "data": {
      "text/plain": [
       "Company             0\n",
       "TypeName            0\n",
       "Inches              0\n",
       "RamGB               0\n",
       "OpSys               0\n",
       "WeightKG            0\n",
       "Price               0\n",
       "GHz                 0\n",
       "CpuBrand            0\n",
       "CpuVersion          0\n",
       "MainMemory          0\n",
       "SecondMemory        0\n",
       "MainMemoryType      0\n",
       "SecondMemoryType    0\n",
       "TouchScreen         0\n",
       "Resolution          0\n",
       "PanelType           0\n",
       "GpuBrand            0\n",
       "GpuVersion          0\n",
       "dtype: int64"
      ]
     },
     "execution_count": 84,
     "metadata": {},
     "output_type": "execute_result"
    }
   ],
   "source": [
    "df.isna().sum()"
   ]
  },
  {
   "cell_type": "code",
   "execution_count": 85,
   "id": "a9a417dd",
   "metadata": {},
   "outputs": [
    {
     "data": {
      "text/plain": [
       "PanelType\n",
       "Without                  883\n",
       "IPSPanel                 329\n",
       "IPSPanelRetinaDisplay     17\n",
       "Name: count, dtype: int64"
      ]
     },
     "execution_count": 85,
     "metadata": {},
     "output_type": "execute_result"
    }
   ],
   "source": [
    "df['PanelType'].value_counts()"
   ]
  },
  {
   "cell_type": "markdown",
   "id": "25933d52",
   "metadata": {},
   "source": [
    "- Handling Nans\n",
    "As Nan Values here in Panel type means they don't have IPS panel type ,so we will fill it with None as String Value"
   ]
  },
  {
   "cell_type": "code",
   "execution_count": 86,
   "id": "5ee63461",
   "metadata": {},
   "outputs": [
    {
     "data": {
      "text/plain": [
       "Company             0\n",
       "TypeName            0\n",
       "Inches              0\n",
       "RamGB               0\n",
       "OpSys               0\n",
       "WeightKG            0\n",
       "GHz                 0\n",
       "CpuBrand            0\n",
       "CpuVersion          0\n",
       "MainMemory          0\n",
       "SecondMemory        0\n",
       "MainMemoryType      0\n",
       "SecondMemoryType    0\n",
       "TouchScreen         0\n",
       "Resolution          0\n",
       "PanelType           0\n",
       "GpuBrand            0\n",
       "GpuVersion          0\n",
       "dtype: int64"
      ]
     },
     "execution_count": 86,
     "metadata": {},
     "output_type": "execute_result"
    }
   ],
   "source": [
    "X.isna().sum()"
   ]
  },
  {
   "cell_type": "code",
   "execution_count": null,
   "id": "6b4fdd1b",
   "metadata": {},
   "outputs": [],
   "source": []
  },
  {
   "cell_type": "code",
   "execution_count": 87,
   "id": "b3af61c7",
   "metadata": {},
   "outputs": [
    {
     "name": "stdout",
     "output_type": "stream",
     "text": [
      "Categorical Columns : ['Company', 'TypeName', 'OpSys', 'CpuBrand', 'CpuVersion', 'MainMemoryType', 'SecondMemoryType', 'Resolution', 'PanelType', 'GpuBrand', 'GpuVersion']\n",
      "Numerical Columns : ['Inches', 'RamGB', 'WeightKG', 'GHz', 'MainMemory', 'SecondMemory', 'TouchScreen']\n"
     ]
    }
   ],
   "source": [
    "cat_cols = X.select_dtypes(include = 'O').columns.tolist()\n",
    "print('Categorical Columns :', cat_cols)\n",
    "num_cols = X.select_dtypes(exclude='O').columns.tolist()\n",
    "print('Numerical Columns :', num_cols)"
   ]
  },
  {
   "cell_type": "markdown",
   "id": "1d49949c",
   "metadata": {},
   "source": [
    "## Category Encoding\n",
    "from category_encoders import BinaryEncoder\n",
    "enc = BinaryEncoder(cols=cat_cols)\n",
    "X_train = enc.fit_transform(X_train)\n",
    "X_test = enc.transform(X_test)"
   ]
  },
  {
   "cell_type": "markdown",
   "id": "b4b4e39c",
   "metadata": {},
   "source": [
    "## Scaling\n",
    "from sklearn.preprocessing import StandardScaler\n",
    "scaler = StandardScaler()\n",
    "\n",
    "X_train[num_cols] = scaler.fit_transform(X_train[num_cols])\n",
    "X_test[num_cols] = scaler.transform(X_test[num_cols])\n"
   ]
  },
  {
   "cell_type": "code",
   "execution_count": 88,
   "id": "f8d089e1",
   "metadata": {},
   "outputs": [
    {
     "name": "stdout",
     "output_type": "stream",
     "text": [
      "['Inches', 'RamGB', 'WeightKG', 'GHz', 'MainMemory', 'SecondMemory', 'TouchScreen']\n",
      "['Company', 'TypeName', 'OpSys', 'CpuBrand', 'CpuVersion', 'MainMemoryType', 'SecondMemoryType', 'Resolution', 'PanelType', 'GpuBrand', 'GpuVersion']\n"
     ]
    }
   ],
   "source": [
    "print(num_cols)\n",
    "print(cat_cols)"
   ]
  },
  {
   "cell_type": "code",
   "execution_count": 89,
   "id": "f79b0260",
   "metadata": {},
   "outputs": [],
   "source": [
    "## Pre-Processing \n",
    "# Data Preprocessing\n",
    "from category_encoders import BinaryEncoder\n",
    "from sklearn.impute import SimpleImputer\n",
    "from sklearn.preprocessing import StandardScaler\n",
    "from sklearn.pipeline import Pipeline\n",
    "from sklearn.compose import ColumnTransformer\n",
    "\n",
    "# Preprocessing for numerical data\n",
    "numerical_transformer = Pipeline(steps=[\n",
    "    ('scaler', StandardScaler())])\n",
    "\n",
    "# Preprocessing for categorical data\n",
    "categorical_transformer = Pipeline(steps=[('binary', BinaryEncoder())])\n",
    "\n",
    "# Bundle preprocessing for numerical and categorical data\n",
    "preprocessor = ColumnTransformer(\n",
    "    transformers=[\n",
    "        ('num', numerical_transformer, ['Inches', 'RamGB', 'WeightKG', 'GHz', \n",
    "                                        'MainMemory', 'SecondMemory', 'TouchScreen']),\n",
    "        ('cat', categorical_transformer, ['Company', 'TypeName', 'OpSys', 'CpuBrand', 'CpuVersion'\n",
    "                                          ,'MainMemoryType', 'SecondMemoryType', \n",
    "                                          'Resolution', 'PanelType', 'GpuBrand', 'GpuVersion'])])\n",
    "X_train = preprocessor.fit_transform(X_train)\n",
    "X_test  = preprocessor.transform(X_test)"
   ]
  },
  {
   "cell_type": "markdown",
   "id": "5e608fc6",
   "metadata": {},
   "source": [
    "# Models Creation"
   ]
  },
  {
   "cell_type": "markdown",
   "id": "56dcd02e",
   "metadata": {},
   "source": [
    "### Linear Regression"
   ]
  },
  {
   "cell_type": "code",
   "execution_count": 90,
   "id": "b3aaacac",
   "metadata": {},
   "outputs": [
    {
     "name": "stdout",
     "output_type": "stream",
     "text": [
      "Training Score:  0.8273722911868471\n",
      "Testing Score:  0.816596161254479\n",
      "RMSE:  0.26070538271996363\n"
     ]
    }
   ],
   "source": [
    "# Linear Regression\n",
    "\n",
    "from sklearn.linear_model import LinearRegression\n",
    "from sklearn.metrics import mean_squared_error\n",
    "\n",
    "lr = LinearRegression()\n",
    "lr.fit(X_train, y_train)\n",
    "y_pred = lr.predict(X_test)\n",
    "\n",
    "print('Training Score: ', lr.score(X_train, y_train))\n",
    "print('Testing Score: ', lr.score(X_test, y_test))\n",
    "print('RMSE: ', np.sqrt(mean_squared_error(y_test, lr.predict(X_test))))"
   ]
  },
  {
   "cell_type": "markdown",
   "id": "faea6897",
   "metadata": {},
   "source": [
    "### SVR"
   ]
  },
  {
   "cell_type": "code",
   "execution_count": 91,
   "id": "b36138c3",
   "metadata": {},
   "outputs": [
    {
     "name": "stdout",
     "output_type": "stream",
     "text": [
      "Training Score:  0.9520577429023247\n",
      "Testing Score:  0.8920236573745821\n"
     ]
    }
   ],
   "source": [
    "from sklearn.svm import SVR\n",
    "\n",
    "svr = SVR()\n",
    "\n",
    "svr.fit(X_train, y_train)\n",
    "\n",
    "print('Training Score: ', svr.score(X_train, y_train))\n",
    "\n",
    "print('Testing Score: ', svr.score(X_test, y_test))"
   ]
  },
  {
   "cell_type": "markdown",
   "id": "9c0b960f",
   "metadata": {},
   "source": [
    "### KNN"
   ]
  },
  {
   "cell_type": "code",
   "execution_count": 92,
   "id": "e9fec742",
   "metadata": {},
   "outputs": [
    {
     "data": {
      "application/vnd.plotly.v1+json": {
       "config": {
        "plotlyServerURL": "https://plot.ly"
       },
       "data": [
        {
         "hovertemplate": "variable=wide_variable_0<br>x=%{x}<br>value=%{y}<extra></extra>",
         "legendgroup": "wide_variable_0",
         "line": {
          "color": "#636efa",
          "dash": "solid"
         },
         "marker": {
          "symbol": "circle"
         },
         "mode": "lines",
         "name": "Train Acc",
         "orientation": "v",
         "showlegend": true,
         "type": "scatter",
         "x": [
          1,
          3,
          5,
          7,
          9,
          11,
          13,
          15,
          17,
          19,
          21,
          23,
          25,
          27,
          29,
          31,
          33,
          35,
          37,
          39
         ],
         "xaxis": "x",
         "y": [
          0.9995470169269448,
          0.92455169510431,
          0.8937882232514487,
          0.8776573261993457,
          0.8669650507017508,
          0.8584174188621738,
          0.8497810061162817,
          0.8411954171522598,
          0.8317129562531431,
          0.8256153887655564,
          0.8210883015061646,
          0.8145321863982451,
          0.8108806553364669,
          0.8042464481865055,
          0.7991719602687013,
          0.7949219693245726,
          0.7894760924717397,
          0.7849644953354411,
          0.7800561462924321,
          0.7755009675889973
         ],
         "yaxis": "y"
        },
        {
         "hovertemplate": "variable=wide_variable_1<br>x=%{x}<br>value=%{y}<extra></extra>",
         "legendgroup": "wide_variable_1",
         "line": {
          "color": "#EF553B",
          "dash": "solid"
         },
         "marker": {
          "symbol": "circle"
         },
         "mode": "lines",
         "name": "Valid Acc",
         "orientation": "v",
         "showlegend": true,
         "type": "scatter",
         "x": [
          1,
          3,
          5,
          7,
          9,
          11,
          13,
          15,
          17,
          19,
          21,
          23,
          25,
          27,
          29,
          31,
          33,
          35,
          37,
          39
         ],
         "xaxis": "x",
         "y": [
          0.7884998493403632,
          0.8300406967224324,
          0.8362668079904029,
          0.8490802385476652,
          0.8545187167226628,
          0.8503345982276651,
          0.8433268881135636,
          0.8358569628376865,
          0.8252638698757678,
          0.8212042872198609,
          0.816295327765775,
          0.811907234578646,
          0.806611048815198,
          0.8016218038933911,
          0.796717689299147,
          0.7929336706998144,
          0.7894814298114665,
          0.78722116672744,
          0.7855097172677727,
          0.7817326805607553
         ],
         "yaxis": "y"
        }
       ],
       "layout": {
        "legend": {
         "title": {
          "text": "Train vs Valid"
         },
         "tracegroupgap": 0
        },
        "template": {
         "data": {
          "bar": [
           {
            "error_x": {
             "color": "#2a3f5f"
            },
            "error_y": {
             "color": "#2a3f5f"
            },
            "marker": {
             "line": {
              "color": "#E5ECF6",
              "width": 0.5
             },
             "pattern": {
              "fillmode": "overlay",
              "size": 10,
              "solidity": 0.2
             }
            },
            "type": "bar"
           }
          ],
          "barpolar": [
           {
            "marker": {
             "line": {
              "color": "#E5ECF6",
              "width": 0.5
             },
             "pattern": {
              "fillmode": "overlay",
              "size": 10,
              "solidity": 0.2
             }
            },
            "type": "barpolar"
           }
          ],
          "carpet": [
           {
            "aaxis": {
             "endlinecolor": "#2a3f5f",
             "gridcolor": "white",
             "linecolor": "white",
             "minorgridcolor": "white",
             "startlinecolor": "#2a3f5f"
            },
            "baxis": {
             "endlinecolor": "#2a3f5f",
             "gridcolor": "white",
             "linecolor": "white",
             "minorgridcolor": "white",
             "startlinecolor": "#2a3f5f"
            },
            "type": "carpet"
           }
          ],
          "choropleth": [
           {
            "colorbar": {
             "outlinewidth": 0,
             "ticks": ""
            },
            "type": "choropleth"
           }
          ],
          "contour": [
           {
            "colorbar": {
             "outlinewidth": 0,
             "ticks": ""
            },
            "colorscale": [
             [
              0,
              "#0d0887"
             ],
             [
              0.1111111111111111,
              "#46039f"
             ],
             [
              0.2222222222222222,
              "#7201a8"
             ],
             [
              0.3333333333333333,
              "#9c179e"
             ],
             [
              0.4444444444444444,
              "#bd3786"
             ],
             [
              0.5555555555555556,
              "#d8576b"
             ],
             [
              0.6666666666666666,
              "#ed7953"
             ],
             [
              0.7777777777777778,
              "#fb9f3a"
             ],
             [
              0.8888888888888888,
              "#fdca26"
             ],
             [
              1,
              "#f0f921"
             ]
            ],
            "type": "contour"
           }
          ],
          "contourcarpet": [
           {
            "colorbar": {
             "outlinewidth": 0,
             "ticks": ""
            },
            "type": "contourcarpet"
           }
          ],
          "heatmap": [
           {
            "colorbar": {
             "outlinewidth": 0,
             "ticks": ""
            },
            "colorscale": [
             [
              0,
              "#0d0887"
             ],
             [
              0.1111111111111111,
              "#46039f"
             ],
             [
              0.2222222222222222,
              "#7201a8"
             ],
             [
              0.3333333333333333,
              "#9c179e"
             ],
             [
              0.4444444444444444,
              "#bd3786"
             ],
             [
              0.5555555555555556,
              "#d8576b"
             ],
             [
              0.6666666666666666,
              "#ed7953"
             ],
             [
              0.7777777777777778,
              "#fb9f3a"
             ],
             [
              0.8888888888888888,
              "#fdca26"
             ],
             [
              1,
              "#f0f921"
             ]
            ],
            "type": "heatmap"
           }
          ],
          "heatmapgl": [
           {
            "colorbar": {
             "outlinewidth": 0,
             "ticks": ""
            },
            "colorscale": [
             [
              0,
              "#0d0887"
             ],
             [
              0.1111111111111111,
              "#46039f"
             ],
             [
              0.2222222222222222,
              "#7201a8"
             ],
             [
              0.3333333333333333,
              "#9c179e"
             ],
             [
              0.4444444444444444,
              "#bd3786"
             ],
             [
              0.5555555555555556,
              "#d8576b"
             ],
             [
              0.6666666666666666,
              "#ed7953"
             ],
             [
              0.7777777777777778,
              "#fb9f3a"
             ],
             [
              0.8888888888888888,
              "#fdca26"
             ],
             [
              1,
              "#f0f921"
             ]
            ],
            "type": "heatmapgl"
           }
          ],
          "histogram": [
           {
            "marker": {
             "pattern": {
              "fillmode": "overlay",
              "size": 10,
              "solidity": 0.2
             }
            },
            "type": "histogram"
           }
          ],
          "histogram2d": [
           {
            "colorbar": {
             "outlinewidth": 0,
             "ticks": ""
            },
            "colorscale": [
             [
              0,
              "#0d0887"
             ],
             [
              0.1111111111111111,
              "#46039f"
             ],
             [
              0.2222222222222222,
              "#7201a8"
             ],
             [
              0.3333333333333333,
              "#9c179e"
             ],
             [
              0.4444444444444444,
              "#bd3786"
             ],
             [
              0.5555555555555556,
              "#d8576b"
             ],
             [
              0.6666666666666666,
              "#ed7953"
             ],
             [
              0.7777777777777778,
              "#fb9f3a"
             ],
             [
              0.8888888888888888,
              "#fdca26"
             ],
             [
              1,
              "#f0f921"
             ]
            ],
            "type": "histogram2d"
           }
          ],
          "histogram2dcontour": [
           {
            "colorbar": {
             "outlinewidth": 0,
             "ticks": ""
            },
            "colorscale": [
             [
              0,
              "#0d0887"
             ],
             [
              0.1111111111111111,
              "#46039f"
             ],
             [
              0.2222222222222222,
              "#7201a8"
             ],
             [
              0.3333333333333333,
              "#9c179e"
             ],
             [
              0.4444444444444444,
              "#bd3786"
             ],
             [
              0.5555555555555556,
              "#d8576b"
             ],
             [
              0.6666666666666666,
              "#ed7953"
             ],
             [
              0.7777777777777778,
              "#fb9f3a"
             ],
             [
              0.8888888888888888,
              "#fdca26"
             ],
             [
              1,
              "#f0f921"
             ]
            ],
            "type": "histogram2dcontour"
           }
          ],
          "mesh3d": [
           {
            "colorbar": {
             "outlinewidth": 0,
             "ticks": ""
            },
            "type": "mesh3d"
           }
          ],
          "parcoords": [
           {
            "line": {
             "colorbar": {
              "outlinewidth": 0,
              "ticks": ""
             }
            },
            "type": "parcoords"
           }
          ],
          "pie": [
           {
            "automargin": true,
            "type": "pie"
           }
          ],
          "scatter": [
           {
            "fillpattern": {
             "fillmode": "overlay",
             "size": 10,
             "solidity": 0.2
            },
            "type": "scatter"
           }
          ],
          "scatter3d": [
           {
            "line": {
             "colorbar": {
              "outlinewidth": 0,
              "ticks": ""
             }
            },
            "marker": {
             "colorbar": {
              "outlinewidth": 0,
              "ticks": ""
             }
            },
            "type": "scatter3d"
           }
          ],
          "scattercarpet": [
           {
            "marker": {
             "colorbar": {
              "outlinewidth": 0,
              "ticks": ""
             }
            },
            "type": "scattercarpet"
           }
          ],
          "scattergeo": [
           {
            "marker": {
             "colorbar": {
              "outlinewidth": 0,
              "ticks": ""
             }
            },
            "type": "scattergeo"
           }
          ],
          "scattergl": [
           {
            "marker": {
             "colorbar": {
              "outlinewidth": 0,
              "ticks": ""
             }
            },
            "type": "scattergl"
           }
          ],
          "scattermapbox": [
           {
            "marker": {
             "colorbar": {
              "outlinewidth": 0,
              "ticks": ""
             }
            },
            "type": "scattermapbox"
           }
          ],
          "scatterpolar": [
           {
            "marker": {
             "colorbar": {
              "outlinewidth": 0,
              "ticks": ""
             }
            },
            "type": "scatterpolar"
           }
          ],
          "scatterpolargl": [
           {
            "marker": {
             "colorbar": {
              "outlinewidth": 0,
              "ticks": ""
             }
            },
            "type": "scatterpolargl"
           }
          ],
          "scatterternary": [
           {
            "marker": {
             "colorbar": {
              "outlinewidth": 0,
              "ticks": ""
             }
            },
            "type": "scatterternary"
           }
          ],
          "surface": [
           {
            "colorbar": {
             "outlinewidth": 0,
             "ticks": ""
            },
            "colorscale": [
             [
              0,
              "#0d0887"
             ],
             [
              0.1111111111111111,
              "#46039f"
             ],
             [
              0.2222222222222222,
              "#7201a8"
             ],
             [
              0.3333333333333333,
              "#9c179e"
             ],
             [
              0.4444444444444444,
              "#bd3786"
             ],
             [
              0.5555555555555556,
              "#d8576b"
             ],
             [
              0.6666666666666666,
              "#ed7953"
             ],
             [
              0.7777777777777778,
              "#fb9f3a"
             ],
             [
              0.8888888888888888,
              "#fdca26"
             ],
             [
              1,
              "#f0f921"
             ]
            ],
            "type": "surface"
           }
          ],
          "table": [
           {
            "cells": {
             "fill": {
              "color": "#EBF0F8"
             },
             "line": {
              "color": "white"
             }
            },
            "header": {
             "fill": {
              "color": "#C8D4E3"
             },
             "line": {
              "color": "white"
             }
            },
            "type": "table"
           }
          ]
         },
         "layout": {
          "annotationdefaults": {
           "arrowcolor": "#2a3f5f",
           "arrowhead": 0,
           "arrowwidth": 1
          },
          "autotypenumbers": "strict",
          "coloraxis": {
           "colorbar": {
            "outlinewidth": 0,
            "ticks": ""
           }
          },
          "colorscale": {
           "diverging": [
            [
             0,
             "#8e0152"
            ],
            [
             0.1,
             "#c51b7d"
            ],
            [
             0.2,
             "#de77ae"
            ],
            [
             0.3,
             "#f1b6da"
            ],
            [
             0.4,
             "#fde0ef"
            ],
            [
             0.5,
             "#f7f7f7"
            ],
            [
             0.6,
             "#e6f5d0"
            ],
            [
             0.7,
             "#b8e186"
            ],
            [
             0.8,
             "#7fbc41"
            ],
            [
             0.9,
             "#4d9221"
            ],
            [
             1,
             "#276419"
            ]
           ],
           "sequential": [
            [
             0,
             "#0d0887"
            ],
            [
             0.1111111111111111,
             "#46039f"
            ],
            [
             0.2222222222222222,
             "#7201a8"
            ],
            [
             0.3333333333333333,
             "#9c179e"
            ],
            [
             0.4444444444444444,
             "#bd3786"
            ],
            [
             0.5555555555555556,
             "#d8576b"
            ],
            [
             0.6666666666666666,
             "#ed7953"
            ],
            [
             0.7777777777777778,
             "#fb9f3a"
            ],
            [
             0.8888888888888888,
             "#fdca26"
            ],
            [
             1,
             "#f0f921"
            ]
           ],
           "sequentialminus": [
            [
             0,
             "#0d0887"
            ],
            [
             0.1111111111111111,
             "#46039f"
            ],
            [
             0.2222222222222222,
             "#7201a8"
            ],
            [
             0.3333333333333333,
             "#9c179e"
            ],
            [
             0.4444444444444444,
             "#bd3786"
            ],
            [
             0.5555555555555556,
             "#d8576b"
            ],
            [
             0.6666666666666666,
             "#ed7953"
            ],
            [
             0.7777777777777778,
             "#fb9f3a"
            ],
            [
             0.8888888888888888,
             "#fdca26"
            ],
            [
             1,
             "#f0f921"
            ]
           ]
          },
          "colorway": [
           "#636efa",
           "#EF553B",
           "#00cc96",
           "#ab63fa",
           "#FFA15A",
           "#19d3f3",
           "#FF6692",
           "#B6E880",
           "#FF97FF",
           "#FECB52"
          ],
          "font": {
           "color": "#2a3f5f"
          },
          "geo": {
           "bgcolor": "white",
           "lakecolor": "white",
           "landcolor": "#E5ECF6",
           "showlakes": true,
           "showland": true,
           "subunitcolor": "white"
          },
          "hoverlabel": {
           "align": "left"
          },
          "hovermode": "closest",
          "mapbox": {
           "style": "light"
          },
          "paper_bgcolor": "white",
          "plot_bgcolor": "#E5ECF6",
          "polar": {
           "angularaxis": {
            "gridcolor": "white",
            "linecolor": "white",
            "ticks": ""
           },
           "bgcolor": "#E5ECF6",
           "radialaxis": {
            "gridcolor": "white",
            "linecolor": "white",
            "ticks": ""
           }
          },
          "scene": {
           "xaxis": {
            "backgroundcolor": "#E5ECF6",
            "gridcolor": "white",
            "gridwidth": 2,
            "linecolor": "white",
            "showbackground": true,
            "ticks": "",
            "zerolinecolor": "white"
           },
           "yaxis": {
            "backgroundcolor": "#E5ECF6",
            "gridcolor": "white",
            "gridwidth": 2,
            "linecolor": "white",
            "showbackground": true,
            "ticks": "",
            "zerolinecolor": "white"
           },
           "zaxis": {
            "backgroundcolor": "#E5ECF6",
            "gridcolor": "white",
            "gridwidth": 2,
            "linecolor": "white",
            "showbackground": true,
            "ticks": "",
            "zerolinecolor": "white"
           }
          },
          "shapedefaults": {
           "line": {
            "color": "#2a3f5f"
           }
          },
          "ternary": {
           "aaxis": {
            "gridcolor": "white",
            "linecolor": "white",
            "ticks": ""
           },
           "baxis": {
            "gridcolor": "white",
            "linecolor": "white",
            "ticks": ""
           },
           "bgcolor": "#E5ECF6",
           "caxis": {
            "gridcolor": "white",
            "linecolor": "white",
            "ticks": ""
           }
          },
          "title": {
           "x": 0.05
          },
          "xaxis": {
           "automargin": true,
           "gridcolor": "white",
           "linecolor": "white",
           "ticks": "",
           "title": {
            "standoff": 15
           },
           "zerolinecolor": "white",
           "zerolinewidth": 2
          },
          "yaxis": {
           "automargin": true,
           "gridcolor": "white",
           "linecolor": "white",
           "ticks": "",
           "title": {
            "standoff": 15
           },
           "zerolinecolor": "white",
           "zerolinewidth": 2
          }
         }
        },
        "title": {
         "text": "Train vs. Valid ACC"
        },
        "xaxis": {
         "anchor": "y",
         "domain": [
          0,
          1
         ],
         "title": {
          "text": "Value of K"
         }
        },
        "yaxis": {
         "anchor": "x",
         "domain": [
          0,
          1
         ],
         "title": {
          "text": "Accuracy"
         }
        }
       }
      }
     },
     "metadata": {},
     "output_type": "display_data"
    }
   ],
   "source": [
    "from sklearn.neighbors import KNeighborsRegressor\n",
    "\n",
    "train_acc, test_acc = [], []\n",
    "for i in range(1,40,2):\n",
    "    knn_model = KNeighborsRegressor(n_neighbors = i).fit(X_train,y_train)\n",
    "    train_acc.append(knn_model.score(X_train, y_train))\n",
    "    test_acc.append(knn_model.score(X_test, y_test))\n",
    "    \n",
    "fig = px.line(x= range(1,40,2),y=[train_acc, test_acc], title = 'Train vs. Valid ACC')\n",
    "fig.update_layout(xaxis_title=\"Value of K\",yaxis_title=\"Accuracy\",legend_title=\"Train vs Valid\")\n",
    "fig.data[0].name = \"Train Acc\"\n",
    "fig.data[1].name = \"Valid Acc\"\n",
    "fig.show()"
   ]
  },
  {
   "cell_type": "markdown",
   "id": "a6735882",
   "metadata": {},
   "source": [
    "- Best n is 9"
   ]
  },
  {
   "cell_type": "code",
   "execution_count": 93,
   "id": "2d56e58d",
   "metadata": {},
   "outputs": [
    {
     "name": "stdout",
     "output_type": "stream",
     "text": [
      "TrainingScore:  0.8669650507017508\n",
      "Test Score:  0.8545187167226628\n"
     ]
    }
   ],
   "source": [
    "knn = KNeighborsRegressor(n_neighbors=9)\n",
    "knn.fit(X_train, y_train)\n",
    "print('TrainingScore: ',knn.score(X_train,y_train))\n",
    "print('Test Score: ',knn.score(X_test, y_test))"
   ]
  },
  {
   "cell_type": "markdown",
   "id": "17d309be",
   "metadata": {},
   "source": [
    "### Random Forest Regressor"
   ]
  },
  {
   "cell_type": "code",
   "execution_count": 94,
   "id": "e6629501",
   "metadata": {},
   "outputs": [
    {
     "name": "stdout",
     "output_type": "stream",
     "text": [
      "Training Score:  0.9832266948486625\n",
      "Testing Score:  0.9068056947033224\n"
     ]
    }
   ],
   "source": [
    "from sklearn.ensemble import RandomForestRegressor\n",
    "\n",
    "rf = RandomForestRegressor(n_estimators=200, random_state=42, max_depth=100)\n",
    "\n",
    "rf.fit(X_train, y_train)\n",
    "\n",
    "print('Training Score: ', rf.score(X_train, y_train))\n",
    "print('Testing Score: ', rf.score(X_test, y_test))\n"
   ]
  },
  {
   "cell_type": "markdown",
   "id": "4b936a26",
   "metadata": {},
   "source": [
    "- Feature Importance"
   ]
  },
  {
   "cell_type": "markdown",
   "id": "6e6f4705",
   "metadata": {},
   "source": [
    "### Comparison"
   ]
  },
  {
   "cell_type": "code",
   "execution_count": 95,
   "id": "3a6c9504",
   "metadata": {},
   "outputs": [
    {
     "data": {
      "text/html": [
       "<div>\n",
       "<style scoped>\n",
       "    .dataframe tbody tr th:only-of-type {\n",
       "        vertical-align: middle;\n",
       "    }\n",
       "\n",
       "    .dataframe tbody tr th {\n",
       "        vertical-align: top;\n",
       "    }\n",
       "\n",
       "    .dataframe thead th {\n",
       "        text-align: right;\n",
       "    }\n",
       "</style>\n",
       "<table border=\"1\" class=\"dataframe\">\n",
       "  <thead>\n",
       "    <tr style=\"text-align: right;\">\n",
       "      <th></th>\n",
       "      <th>LinearRegression()</th>\n",
       "      <th>(DecisionTreeRegressor(max_depth=100, max_features=1.0, random_state=1608637542), DecisionTreeRegressor(max_depth=100, max_features=1.0, random_state=1273642419), DecisionTreeRegressor(max_depth=100, max_features=1.0, random_state=1935803228), DecisionTreeRegressor(max_depth=100, max_features=1.0, random_state=787846414), DecisionTreeRegressor(max_depth=100, max_features=1.0, random_state=996406378), DecisionTreeRegressor(max_depth=100, max_features=1.0, random_state=1201263687), DecisionTreeRegressor(max_depth=100, max_features=1.0, random_state=423734972), DecisionTreeRegressor(max_depth=100, max_features=1.0, random_state=415968276), DecisionTreeRegressor(max_depth=100, max_features=1.0, random_state=670094950), DecisionTreeRegressor(max_depth=100, max_features=1.0, random_state=1914837113), DecisionTreeRegressor(max_depth=100, max_features=1.0, random_state=669991378), DecisionTreeRegressor(max_depth=100, max_features=1.0, random_state=429389014), DecisionTreeRegressor(max_depth=100, max_features=1.0, random_state=249467210), DecisionTreeRegressor(max_depth=100, max_features=1.0, random_state=1972458954), DecisionTreeRegressor(max_depth=100, max_features=1.0, random_state=1572714583), DecisionTreeRegressor(max_depth=100, max_features=1.0, random_state=1433267572), DecisionTreeRegressor(max_depth=100, max_features=1.0, random_state=434285667), DecisionTreeRegressor(max_depth=100, max_features=1.0, random_state=613608295), DecisionTreeRegressor(max_depth=100, max_features=1.0, random_state=893664919), DecisionTreeRegressor(max_depth=100, max_features=1.0, random_state=648061058), DecisionTreeRegressor(max_depth=100, max_features=1.0, random_state=88409749), DecisionTreeRegressor(max_depth=100, max_features=1.0, random_state=242285876), DecisionTreeRegressor(max_depth=100, max_features=1.0, random_state=2018247425), DecisionTreeRegressor(max_depth=100, max_features=1.0, random_state=953477463), DecisionTreeRegressor(max_depth=100, max_features=1.0, random_state=1427830251), DecisionTreeRegressor(max_depth=100, max_features=1.0, random_state=1883569565), DecisionTreeRegressor(max_depth=100, max_features=1.0, random_state=911989541), DecisionTreeRegressor(max_depth=100, max_features=1.0, random_state=3344769), DecisionTreeRegressor(max_depth=100, max_features=1.0, random_state=780932287), DecisionTreeRegressor(max_depth=100, max_features=1.0, random_state=2114032571), DecisionTreeRegressor(max_depth=100, max_features=1.0, random_state=787716372), DecisionTreeRegressor(max_depth=100, max_features=1.0, random_state=504579232), DecisionTreeRegressor(max_depth=100, max_features=1.0, random_state=1306710475), DecisionTreeRegressor(max_depth=100, max_features=1.0, random_state=479546681), DecisionTreeRegressor(max_depth=100, max_features=1.0, random_state=106328085), DecisionTreeRegressor(max_depth=100, max_features=1.0, random_state=30349564), DecisionTreeRegressor(max_depth=100, max_features=1.0, random_state=1855189739), DecisionTreeRegressor(max_depth=100, max_features=1.0, random_state=99052376), DecisionTreeRegressor(max_depth=100, max_features=1.0, random_state=1250819632), DecisionTreeRegressor(max_depth=100, max_features=1.0, random_state=106406362), DecisionTreeRegressor(max_depth=100, max_features=1.0, random_state=480404538), DecisionTreeRegressor(max_depth=100, max_features=1.0, random_state=1717389822), DecisionTreeRegressor(max_depth=100, max_features=1.0, random_state=599121577), DecisionTreeRegressor(max_depth=100, max_features=1.0, random_state=200427519), DecisionTreeRegressor(max_depth=100, max_features=1.0, random_state=1254751707), DecisionTreeRegressor(max_depth=100, max_features=1.0, random_state=2034764475), DecisionTreeRegressor(max_depth=100, max_features=1.0, random_state=1573512143), DecisionTreeRegressor(max_depth=100, max_features=1.0, random_state=999745294), DecisionTreeRegressor(max_depth=100, max_features=1.0, random_state=1958805693), DecisionTreeRegressor(max_depth=100, max_features=1.0, random_state=389151677), DecisionTreeRegressor(max_depth=100, max_features=1.0, random_state=1224821422), DecisionTreeRegressor(max_depth=100, max_features=1.0, random_state=508464061), DecisionTreeRegressor(max_depth=100, max_features=1.0, random_state=857592370), DecisionTreeRegressor(max_depth=100, max_features=1.0, random_state=1642661739), DecisionTreeRegressor(max_depth=100, max_features=1.0, random_state=61136438), DecisionTreeRegressor(max_depth=100, max_features=1.0, random_state=2075460851), DecisionTreeRegressor(max_depth=100, max_features=1.0, random_state=396917567), DecisionTreeRegressor(max_depth=100, max_features=1.0, random_state=2004731384), DecisionTreeRegressor(max_depth=100, max_features=1.0, random_state=199502978), DecisionTreeRegressor(max_depth=100, max_features=1.0, random_state=1545932260), DecisionTreeRegressor(max_depth=100, max_features=1.0, random_state=461901618), DecisionTreeRegressor(max_depth=100, max_features=1.0, random_state=774414982), DecisionTreeRegressor(max_depth=100, max_features=1.0, random_state=732395540), DecisionTreeRegressor(max_depth=100, max_features=1.0, random_state=1934879560), DecisionTreeRegressor(max_depth=100, max_features=1.0, random_state=279394470), DecisionTreeRegressor(max_depth=100, max_features=1.0, random_state=56972561), DecisionTreeRegressor(max_depth=100, max_features=1.0, random_state=1927948675), DecisionTreeRegressor(max_depth=100, max_features=1.0, random_state=1899242072), DecisionTreeRegressor(max_depth=100, max_features=1.0, random_state=1999874363), DecisionTreeRegressor(max_depth=100, max_features=1.0, random_state=271820813), DecisionTreeRegressor(max_depth=100, max_features=1.0, random_state=1324556529), DecisionTreeRegressor(max_depth=100, max_features=1.0, random_state=1655351289), DecisionTreeRegressor(max_depth=100, max_features=1.0, random_state=1308306184), DecisionTreeRegressor(max_depth=100, max_features=1.0, random_state=68574553), DecisionTreeRegressor(max_depth=100, max_features=1.0, random_state=419498548), DecisionTreeRegressor(max_depth=100, max_features=1.0, random_state=991681409), DecisionTreeRegressor(max_depth=100, max_features=1.0, random_state=791274835), DecisionTreeRegressor(max_depth=100, max_features=1.0, random_state=1035196507), DecisionTreeRegressor(max_depth=100, max_features=1.0, random_state=1890440558), DecisionTreeRegressor(max_depth=100, max_features=1.0, random_state=787110843), DecisionTreeRegressor(max_depth=100, max_features=1.0, random_state=524150214), DecisionTreeRegressor(max_depth=100, max_features=1.0, random_state=472432043), DecisionTreeRegressor(max_depth=100, max_features=1.0, random_state=2126768636), DecisionTreeRegressor(max_depth=100, max_features=1.0, random_state=1431061255), DecisionTreeRegressor(max_depth=100, max_features=1.0, random_state=147697582), DecisionTreeRegressor(max_depth=100, max_features=1.0, random_state=744595490), DecisionTreeRegressor(max_depth=100, max_features=1.0, random_state=1758017741), DecisionTreeRegressor(max_depth=100, max_features=1.0, random_state=1679592528), DecisionTreeRegressor(max_depth=100, max_features=1.0, random_state=1111451555), DecisionTreeRegressor(max_depth=100, max_features=1.0, random_state=782698033), DecisionTreeRegressor(max_depth=100, max_features=1.0, random_state=698027879), DecisionTreeRegressor(max_depth=100, max_features=1.0, random_state=1096768899), DecisionTreeRegressor(max_depth=100, max_features=1.0, random_state=1338788865), DecisionTreeRegressor(max_depth=100, max_features=1.0, random_state=1826030589), DecisionTreeRegressor(max_depth=100, max_features=1.0, random_state=86191493), DecisionTreeRegressor(max_depth=100, max_features=1.0, random_state=893102645), DecisionTreeRegressor(max_depth=100, max_features=1.0, random_state=200619113), DecisionTreeRegressor(max_depth=100, max_features=1.0, random_state=290770691), DecisionTreeRegressor(max_depth=100, max_features=1.0, random_state=793943861), DecisionTreeRegressor(max_depth=100, max_features=1.0, random_state=134489564), ...)</th>\n",
       "      <th>SVR()</th>\n",
       "      <th>KNeighborsRegressor(n_neighbors=9)</th>\n",
       "    </tr>\n",
       "  </thead>\n",
       "  <tbody>\n",
       "    <tr>\n",
       "      <th>Score</th>\n",
       "      <td>0.816596</td>\n",
       "      <td>0.906806</td>\n",
       "      <td>0.892024</td>\n",
       "      <td>0.854519</td>\n",
       "    </tr>\n",
       "  </tbody>\n",
       "</table>\n",
       "</div>"
      ],
      "text/plain": [
       "       LinearRegression()   \n",
       "Score            0.816596  \\\n",
       "\n",
       "       (DecisionTreeRegressor(max_depth=100, max_features=1.0, random_state=1608637542), DecisionTreeRegressor(max_depth=100, max_features=1.0, random_state=1273642419), DecisionTreeRegressor(max_depth=100, max_features=1.0, random_state=1935803228), DecisionTreeRegressor(max_depth=100, max_features=1.0, random_state=787846414), DecisionTreeRegressor(max_depth=100, max_features=1.0, random_state=996406378), DecisionTreeRegressor(max_depth=100, max_features=1.0, random_state=1201263687), DecisionTreeRegressor(max_depth=100, max_features=1.0, random_state=423734972), DecisionTreeRegressor(max_depth=100, max_features=1.0, random_state=415968276), DecisionTreeRegressor(max_depth=100, max_features=1.0, random_state=670094950), DecisionTreeRegressor(max_depth=100, max_features=1.0, random_state=1914837113), DecisionTreeRegressor(max_depth=100, max_features=1.0, random_state=669991378), DecisionTreeRegressor(max_depth=100, max_features=1.0, random_state=429389014), DecisionTreeRegressor(max_depth=100, max_features=1.0, random_state=249467210), DecisionTreeRegressor(max_depth=100, max_features=1.0, random_state=1972458954), DecisionTreeRegressor(max_depth=100, max_features=1.0, random_state=1572714583), DecisionTreeRegressor(max_depth=100, max_features=1.0, random_state=1433267572), DecisionTreeRegressor(max_depth=100, max_features=1.0, random_state=434285667), DecisionTreeRegressor(max_depth=100, max_features=1.0, random_state=613608295), DecisionTreeRegressor(max_depth=100, max_features=1.0, random_state=893664919), DecisionTreeRegressor(max_depth=100, max_features=1.0, random_state=648061058), DecisionTreeRegressor(max_depth=100, max_features=1.0, random_state=88409749), DecisionTreeRegressor(max_depth=100, max_features=1.0, random_state=242285876), DecisionTreeRegressor(max_depth=100, max_features=1.0, random_state=2018247425), DecisionTreeRegressor(max_depth=100, max_features=1.0, random_state=953477463), DecisionTreeRegressor(max_depth=100, max_features=1.0, random_state=1427830251), DecisionTreeRegressor(max_depth=100, max_features=1.0, random_state=1883569565), DecisionTreeRegressor(max_depth=100, max_features=1.0, random_state=911989541), DecisionTreeRegressor(max_depth=100, max_features=1.0, random_state=3344769), DecisionTreeRegressor(max_depth=100, max_features=1.0, random_state=780932287), DecisionTreeRegressor(max_depth=100, max_features=1.0, random_state=2114032571), DecisionTreeRegressor(max_depth=100, max_features=1.0, random_state=787716372), DecisionTreeRegressor(max_depth=100, max_features=1.0, random_state=504579232), DecisionTreeRegressor(max_depth=100, max_features=1.0, random_state=1306710475), DecisionTreeRegressor(max_depth=100, max_features=1.0, random_state=479546681), DecisionTreeRegressor(max_depth=100, max_features=1.0, random_state=106328085), DecisionTreeRegressor(max_depth=100, max_features=1.0, random_state=30349564), DecisionTreeRegressor(max_depth=100, max_features=1.0, random_state=1855189739), DecisionTreeRegressor(max_depth=100, max_features=1.0, random_state=99052376), DecisionTreeRegressor(max_depth=100, max_features=1.0, random_state=1250819632), DecisionTreeRegressor(max_depth=100, max_features=1.0, random_state=106406362), DecisionTreeRegressor(max_depth=100, max_features=1.0, random_state=480404538), DecisionTreeRegressor(max_depth=100, max_features=1.0, random_state=1717389822), DecisionTreeRegressor(max_depth=100, max_features=1.0, random_state=599121577), DecisionTreeRegressor(max_depth=100, max_features=1.0, random_state=200427519), DecisionTreeRegressor(max_depth=100, max_features=1.0, random_state=1254751707), DecisionTreeRegressor(max_depth=100, max_features=1.0, random_state=2034764475), DecisionTreeRegressor(max_depth=100, max_features=1.0, random_state=1573512143), DecisionTreeRegressor(max_depth=100, max_features=1.0, random_state=999745294), DecisionTreeRegressor(max_depth=100, max_features=1.0, random_state=1958805693), DecisionTreeRegressor(max_depth=100, max_features=1.0, random_state=389151677), DecisionTreeRegressor(max_depth=100, max_features=1.0, random_state=1224821422), DecisionTreeRegressor(max_depth=100, max_features=1.0, random_state=508464061), DecisionTreeRegressor(max_depth=100, max_features=1.0, random_state=857592370), DecisionTreeRegressor(max_depth=100, max_features=1.0, random_state=1642661739), DecisionTreeRegressor(max_depth=100, max_features=1.0, random_state=61136438), DecisionTreeRegressor(max_depth=100, max_features=1.0, random_state=2075460851), DecisionTreeRegressor(max_depth=100, max_features=1.0, random_state=396917567), DecisionTreeRegressor(max_depth=100, max_features=1.0, random_state=2004731384), DecisionTreeRegressor(max_depth=100, max_features=1.0, random_state=199502978), DecisionTreeRegressor(max_depth=100, max_features=1.0, random_state=1545932260), DecisionTreeRegressor(max_depth=100, max_features=1.0, random_state=461901618), DecisionTreeRegressor(max_depth=100, max_features=1.0, random_state=774414982), DecisionTreeRegressor(max_depth=100, max_features=1.0, random_state=732395540), DecisionTreeRegressor(max_depth=100, max_features=1.0, random_state=1934879560), DecisionTreeRegressor(max_depth=100, max_features=1.0, random_state=279394470), DecisionTreeRegressor(max_depth=100, max_features=1.0, random_state=56972561), DecisionTreeRegressor(max_depth=100, max_features=1.0, random_state=1927948675), DecisionTreeRegressor(max_depth=100, max_features=1.0, random_state=1899242072), DecisionTreeRegressor(max_depth=100, max_features=1.0, random_state=1999874363), DecisionTreeRegressor(max_depth=100, max_features=1.0, random_state=271820813), DecisionTreeRegressor(max_depth=100, max_features=1.0, random_state=1324556529), DecisionTreeRegressor(max_depth=100, max_features=1.0, random_state=1655351289), DecisionTreeRegressor(max_depth=100, max_features=1.0, random_state=1308306184), DecisionTreeRegressor(max_depth=100, max_features=1.0, random_state=68574553), DecisionTreeRegressor(max_depth=100, max_features=1.0, random_state=419498548), DecisionTreeRegressor(max_depth=100, max_features=1.0, random_state=991681409), DecisionTreeRegressor(max_depth=100, max_features=1.0, random_state=791274835), DecisionTreeRegressor(max_depth=100, max_features=1.0, random_state=1035196507), DecisionTreeRegressor(max_depth=100, max_features=1.0, random_state=1890440558), DecisionTreeRegressor(max_depth=100, max_features=1.0, random_state=787110843), DecisionTreeRegressor(max_depth=100, max_features=1.0, random_state=524150214), DecisionTreeRegressor(max_depth=100, max_features=1.0, random_state=472432043), DecisionTreeRegressor(max_depth=100, max_features=1.0, random_state=2126768636), DecisionTreeRegressor(max_depth=100, max_features=1.0, random_state=1431061255), DecisionTreeRegressor(max_depth=100, max_features=1.0, random_state=147697582), DecisionTreeRegressor(max_depth=100, max_features=1.0, random_state=744595490), DecisionTreeRegressor(max_depth=100, max_features=1.0, random_state=1758017741), DecisionTreeRegressor(max_depth=100, max_features=1.0, random_state=1679592528), DecisionTreeRegressor(max_depth=100, max_features=1.0, random_state=1111451555), DecisionTreeRegressor(max_depth=100, max_features=1.0, random_state=782698033), DecisionTreeRegressor(max_depth=100, max_features=1.0, random_state=698027879), DecisionTreeRegressor(max_depth=100, max_features=1.0, random_state=1096768899), DecisionTreeRegressor(max_depth=100, max_features=1.0, random_state=1338788865), DecisionTreeRegressor(max_depth=100, max_features=1.0, random_state=1826030589), DecisionTreeRegressor(max_depth=100, max_features=1.0, random_state=86191493), DecisionTreeRegressor(max_depth=100, max_features=1.0, random_state=893102645), DecisionTreeRegressor(max_depth=100, max_features=1.0, random_state=200619113), DecisionTreeRegressor(max_depth=100, max_features=1.0, random_state=290770691), DecisionTreeRegressor(max_depth=100, max_features=1.0, random_state=793943861), DecisionTreeRegressor(max_depth=100, max_features=1.0, random_state=134489564), ...)   \n",
       "Score                                           0.906806                                                                                                                                                                                                                                                                                                                                                                                                                                                                                                                                                                                                                                                                                                                                                                                                                                                                                                                                                                                                                                                                                                                                                                                                                                                                                                                                                                                                                                                                                                                                                                                                                                                                                                                                                                                                                                                                                                                                                                                                                                                                                                                                                                                                                                                                                                                                                                                                                                                                                                                                                                                                                                                                                                                                                                                                                                                                                                                                                                                                                                                                                                                                                                                                                                                                                                                                                                                                                                                                                                                                                                                                                                                                                                                                                                                                                                                                                                                                                                                                                                                                                                                                                                                                                                                                                                                                                                                                                                                                                                                                                                                                                                                                                                                                                                                                                                                                                                                                                                                                                                                                                                                                                                                                                                                                                                                                                                                                                                                                                                                                                                                                                                                                                                                                                                                                                                                                                                                                                                                                                                                                                                                                                                                                                                                                                                                                                                                                                                                                                                                                                                                                                                                                                                                                                                                                                                                                                                                                                                                                                                                                                                                                                                                                                                                                                                                                                                                                                                                                                                                                                                                                                                                                                                                                                                                                                                                                                                                                                                                                                                                                                                                                                                                                                                                                                                                       \\\n",
       "\n",
       "          SVR()  KNeighborsRegressor(n_neighbors=9)  \n",
       "Score  0.892024                            0.854519  "
      ]
     },
     "execution_count": 95,
     "metadata": {},
     "output_type": "execute_result"
    }
   ],
   "source": [
    "models = [lr, rf, svr , knn]\n",
    "dic = {}\n",
    "for model in models:\n",
    "    model.fit(X_train, y_train)\n",
    "    dic[model] =  model.score(X_test, y_test)\n",
    "\n",
    "pd.DataFrame(dic, index=['Score'])"
   ]
  },
  {
   "cell_type": "markdown",
   "id": "4e38ff01",
   "metadata": {},
   "source": [
    "- So far the best model is Random Forest by 90.5% accuracy"
   ]
  },
  {
   "cell_type": "markdown",
   "id": "feb839cc",
   "metadata": {},
   "source": [
    "# Voting Regressor"
   ]
  },
  {
   "cell_type": "code",
   "execution_count": 96,
   "id": "cb4e59e2",
   "metadata": {},
   "outputs": [
    {
     "name": "stdout",
     "output_type": "stream",
     "text": [
      "Training Score:  0.946982651876809\n",
      "Testing Score:  0.9010001959565035\n"
     ]
    }
   ],
   "source": [
    "## Library\n",
    "from sklearn.ensemble import  VotingRegressor\n",
    "\n",
    "# Voting Regressor\n",
    "voting_reg = VotingRegressor(estimators=[('lr', lr), ('rf', rf), ('svr', svr)])\n",
    "\n",
    "# Fitting the data\n",
    "voting_reg.fit(X_train, y_train)\n",
    "\n",
    "# Checking the score\n",
    "print('Training Score: ', voting_reg.score(X_train, y_train))\n",
    "print('Testing Score: ', voting_reg.score(X_test, y_test))"
   ]
  },
  {
   "cell_type": "markdown",
   "id": "cbbd81e6",
   "metadata": {},
   "source": [
    "# Bagging Regressor"
   ]
  },
  {
   "cell_type": "code",
   "execution_count": 97,
   "id": "968d8109",
   "metadata": {},
   "outputs": [
    {
     "name": "stdout",
     "output_type": "stream",
     "text": [
      "Training Score:  0.9630728802167475\n",
      "Testing Score:  0.9134393037098206\n"
     ]
    }
   ],
   "source": [
    "from sklearn.ensemble import BaggingRegressor\n",
    "from sklearn.linear_model import LinearRegression, Ridge, Lasso\n",
    "from sklearn.tree import DecisionTreeRegressor\n",
    "\n",
    "## Decision Tree\n",
    "dt_reg = DecisionTreeRegressor(max_depth=10)\n",
    "\n",
    "bag_reg = BaggingRegressor(dt_reg, n_estimators=200, bootstrap=True, random_state=42,\n",
    "                           max_features=0.8)\n",
    "                           \n",
    "\n",
    "# Fitting the data\n",
    "bag_reg.fit(X_train, y_train)\n",
    "\n",
    "# Checking the score\n",
    "print('Training Score: ', bag_reg.score(X_train, y_train))\n",
    "print('Testing Score: ', bag_reg.score(X_test, y_test))"
   ]
  },
  {
   "cell_type": "markdown",
   "id": "2bee24e0",
   "metadata": {},
   "source": [
    "# XGBoost"
   ]
  },
  {
   "cell_type": "code",
   "execution_count": 98,
   "id": "12ddc51f",
   "metadata": {},
   "outputs": [
    {
     "name": "stdout",
     "output_type": "stream",
     "text": [
      "Training Score:  0.9796472177778806\n",
      "Testing Score:  0.9209942754039977\n"
     ]
    }
   ],
   "source": [
    "from xgboost import XGBRegressor\n",
    "\n",
    "xgb = XGBRegressor(n_estimators=300, max_depth=3, random_state=42)\n",
    "\n",
    "# Fitting the data\n",
    "xgb.fit(X_train, y_train)\n",
    "\n",
    "# Checking the score\n",
    "print('Training Score: ', xgb.score(X_train, y_train))\n",
    "print('Testing Score: ', xgb.score(X_test, y_test))"
   ]
  },
  {
   "cell_type": "markdown",
   "id": "f3d3ea6b",
   "metadata": {},
   "source": [
    "# Cross Validation"
   ]
  },
  {
   "cell_type": "code",
   "execution_count": 99,
   "id": "d20b43ce",
   "metadata": {},
   "outputs": [
    {
     "name": "stdout",
     "output_type": "stream",
     "text": [
      "CV =  2\n",
      "Linear Regression Mean Score:  0.79\n",
      "Random Forest Mean Score:  0.838\n",
      "SVR:  0.851\n",
      "----------------------------\n",
      "CV =  3\n",
      "Linear Regression Mean Score:  0.794\n",
      "Random Forest Mean Score:  0.861\n",
      "SVR:  0.867\n",
      "----------------------------\n",
      "CV =  4\n",
      "Linear Regression Mean Score:  0.792\n",
      "Random Forest Mean Score:  0.861\n",
      "SVR:  0.862\n",
      "----------------------------\n",
      "CV =  5\n",
      "Linear Regression Mean Score:  0.79\n",
      "Random Forest Mean Score:  0.867\n",
      "SVR:  0.872\n",
      "----------------------------\n"
     ]
    }
   ],
   "source": [
    "## Import library\n",
    "from sklearn.model_selection import cross_val_score\n",
    "\n",
    "# Models\n",
    "for i in range (2,6):\n",
    "    lin_reg_scores = cross_val_score(LinearRegression(), X_train, y_train, cv=i)\n",
    "    rf_reg_scores = cross_val_score(RandomForestRegressor(), X_train, y_train, cv=i)\n",
    "    svr_reg_score = cross_val_score(SVR(), X_train, y_train, cv=i)\n",
    "\n",
    "    # Models scores\n",
    "    print('CV = ',i)\n",
    "    print('Linear Regression Mean Score: ', lin_reg_scores.mean().round(3))\n",
    "    print('Random Forest Mean Score: ', rf_reg_scores.mean().round(3))\n",
    "    print('SVR: ', svr_reg_score.mean().round(3))\n",
    "    print('----------------------------')"
   ]
  },
  {
   "cell_type": "markdown",
   "id": "b508bc10",
   "metadata": {},
   "source": [
    "# Hyperparameter Tuning"
   ]
  },
  {
   "cell_type": "code",
   "execution_count": 100,
   "id": "9ec4787e",
   "metadata": {},
   "outputs": [],
   "source": [
    "# importing library\n",
    "from sklearn.model_selection import GridSearchCV"
   ]
  },
  {
   "cell_type": "code",
   "execution_count": 101,
   "id": "7cdd992a",
   "metadata": {},
   "outputs": [
    {
     "name": "stdout",
     "output_type": "stream",
     "text": [
      "Best Parameters:  {'max_features': 0.2, 'n_estimators': 200}\n",
      "Best Score:  0.8755716657450591\n",
      "Training Score:  0.9844657623121658\n",
      "Testing Score:  0.9106167514980162\n"
     ]
    }
   ],
   "source": [
    "# Tuning Random Forest Regressor\n",
    "param_grid = {\n",
    "    'n_estimators': [100, 200, ],\n",
    "    'max_features': [0.2, 0.4, 0.6]\n",
    "}\n",
    "\n",
    "dt_grid = GridSearchCV(RandomForestRegressor(), param_grid, cv=3)\n",
    "\n",
    "# Fitting the data\n",
    "dt_grid.fit(X_train, y_train)\n",
    "\n",
    "# Best Parameters\n",
    "print('Best Parameters: ', dt_grid.best_params_)\n",
    "print('Best Score: ', dt_grid.best_score_)\n",
    "\n",
    "# Checking the score\n",
    "print('Training Score: ', dt_grid.score(X_train, y_train))\n",
    "print('Testing Score: ', dt_grid.score(X_test, y_test))\n",
    "              "
   ]
  },
  {
   "cell_type": "markdown",
   "id": "586db250",
   "metadata": {},
   "source": [
    "# Final Thoughts"
   ]
  },
  {
   "cell_type": "code",
   "execution_count": 102,
   "id": "670b2c67",
   "metadata": {},
   "outputs": [],
   "source": [
    "y_pred = rf.predict(X_test)\n",
    "y_pred_xgb = xgb.predict(X_test)"
   ]
  },
  {
   "cell_type": "code",
   "execution_count": 103,
   "id": "7080ea44",
   "metadata": {},
   "outputs": [
    {
     "data": {
      "image/png": "[encoded data removed]",
      "text/plain": [
       "<Figure size 500x500 with 1 Axes>"
      ]
     },
     "metadata": {},
     "output_type": "display_data"
    }
   ],
   "source": [
    "plt.figure(figsize = (5,5))\n",
    "plt.scatter(np.exp(y_test), np.exp(y_pred), alpha=0.5, color='red',label='RF, R2 {:.2f} %'.format(r2_score(y_test, y_pred)*100))\n",
    "plt.scatter(np.exp(y_test), np.exp(y_pred_xgb), alpha=0.5, color='blue',label='XGBoost, R2 {:.2f} %'.format(r2_score(y_test, y_pred_xgb)*100))\n",
    "plt.plot([0, 7000], [0, 7000], linestyle='--')\n",
    "plt.axis([0, 7000, 0, 7000])\n",
    "plt.xlabel('Y Test')\n",
    "plt.ylabel('Predicted Y')\n",
    "plt.title('RF vs XGBoost price regression ($)')\n",
    "plt.legend(loc='upper left', ncol=1, fontsize=13, fancybox=True, shadow=True, frameon=True)\n",
    "plt.show()"
   ]
  },
  {
   "cell_type": "markdown",
   "id": "e638dacb",
   "metadata": {},
   "source": [
    "# Model Saving"
   ]
  },
  {
   "cell_type": "code",
   "execution_count": 104,
   "id": "c2485f90",
   "metadata": {},
   "outputs": [],
   "source": [
    "# Preprocessor Saving\n",
    "import pickle\n",
    "pickle.dump(preprocessor, open('preprocessor.pkl', 'wb'))\n",
    "\n",
    "# Model Saving\n",
    "pickle.dump(xgb, open('model.pkl', 'wb'))"
   ]
  },
  {
   "cell_type": "code",
   "execution_count": 111,
   "id": "a141e45d",
   "metadata": {},
   "outputs": [
    {
     "data": {
      "text/plain": [
       "array([1.1 , 1.2 , 1.3 , 1.44, 1.5 , 1.6 , 1.8 , 1.9 , 1.92, 2.  , 2.1 ,\n",
       "       2.2 , 2.3 , 2.4 , 2.5 , 2.6 , 2.7 , 2.8 , 2.9 , 3.  , 3.1 , 3.2 ,\n",
       "       3.6 ])"
      ]
     },
     "execution_count": 111,
     "metadata": {},
     "output_type": "execute_result"
    }
   ],
   "source": [
    "np.sort(df['GHz'].unique())[1:]"
   ]
  },
  {
   "cell_type": "code",
   "execution_count": 146,
   "id": "34549cfc",
   "metadata": {},
   "outputs": [],
   "source": [
    "Company = 'HP'\n",
    "TypeName = 'Gaming'"
   ]
  },
  {
   "cell_type": "code",
   "execution_count": 147,
   "id": "9fc00ad0",
   "metadata": {},
   "outputs": [
    {
     "data": {
      "text/plain": [
       "Index(['2 in 1 Convertible', 'Gaming', 'Netbook', 'Notebook', 'Ultrabook',\n",
       "       'Workstation'],\n",
       "      dtype='object', name='TypeName')"
      ]
     },
     "execution_count": 147,
     "metadata": {},
     "output_type": "execute_result"
    }
   ],
   "source": [
    "df[df['Company']== Company].groupby('TypeName')['TypeName'].value_counts().index"
   ]
  },
  {
   "cell_type": "code",
   "execution_count": 163,
   "id": "25df8ba2",
   "metadata": {},
   "outputs": [
    {
     "data": {
      "text/plain": [
       "array([2.2 , 2.62, 2.75, 3.35, 3.74, 3.78])"
      ]
     },
     "execution_count": 163,
     "metadata": {},
     "output_type": "execute_result"
    }
   ],
   "source": [
    "np.sort(df[(df['Company']== Company)&(df['TypeName'] ==TypeName)].groupby('WeightKG')['WeightKG'].count().index)"
   ]
  },
  {
   "cell_type": "markdown",
   "id": "26b2496a",
   "metadata": {},
   "source": [
    "# Streamlit Model"
   ]
  },
  {
   "cell_type": "code",
   "execution_count": 187,
   "id": "31285e6e",
   "metadata": {},
   "outputs": [
    {
     "name": "stdout",
     "output_type": "stream",
     "text": [
      "Overwriting app.py\n"
     ]
    }
   ],
   "source": [
    "%%writefile app.py\n",
    "# Import libraries\n",
    "\n",
    "import streamlit as st\n",
    "import pandas as pd\n",
    "import numpy as np\n",
    "import pickle\n",
    "from PIL import Image\n",
    "import pickle\n",
    "from category_encoders import BinaryEncoder\n",
    "from sklearn.impute import SimpleImputer\n",
    "from sklearn.preprocessing import StandardScaler\n",
    "from sklearn.pipeline import Pipeline\n",
    "from sklearn.compose import ColumnTransformer\n",
    "\n",
    "# Page layout\n",
    "st.set_page_config(layout='wide' )\n",
    "\n",
    "# Image\n",
    "image = Image.open('Picture.png')\n",
    "\n",
    "# Credits\n",
    "with st.container():\n",
    "    st.write('Author : @MostafaAbdelbadie')\n",
    "    st.write('Linkdin : https://www.linkedin.com/in/mostafa-abdelbadie')\n",
    "    st.write('Whatsapp Number : (+20) 1142359150')\n",
    "    st.title('Laptops Prices Prediction\\n')\n",
    "    st.write('- <p style=\"font-size:26px;\">This is a prediciton model made to predict the prices of laptops based on their featurs ,A more comprehansive analysis is available on my Github</p>',\n",
    "    unsafe_allow_html=True)\n",
    "    st.write('- <p style=\"font-size:26px;\"> Feel free to contact me to recieve the dataset & python notebook</p>',\n",
    "    unsafe_allow_html=True)\n",
    "    coll1, coll2, coll3 = st.columns([3,6,1])\n",
    "\n",
    "    with coll1:\n",
    "            st.write(\"     \")\n",
    "\n",
    "    with coll2:\n",
    "            st.image(image , width= 800)\n",
    "            \n",
    "\n",
    "    with coll3:\n",
    "            st.write(\"\")\n",
    "\n",
    "# Load Cleaned data\n",
    "df = pd.read_csv('laptop-clean.csv')\n",
    "\n",
    "# Load Preprocessor\n",
    "preprocessor = pickle.load(open('preprocessor.pkl', 'rb'))\n",
    "model = pickle.load(open('model.pkl', 'rb'))\n",
    "\n",
    "# Inputs\n",
    "\n",
    "# Brand & Type\n",
    "st.write('- <p style=\"font-size:26px;\"> Laptop Brand & Type</p>',unsafe_allow_html=True)\n",
    "Company = st.selectbox('Company',df['Company'].unique())\n",
    "TypeName = st.selectbox('Type',df[df['Company']== Company].groupby('TypeName')['TypeName'].value_counts().index)\n",
    "WeightKG = st.selectbox('Weight?', np.sort(df[(df['Company']== Company)&(df['TypeName'] ==TypeName)].groupby('WeightKG')['WeightKG'].count().index))\n",
    "# Screen Inputs\n",
    "st.write('- <p style=\"font-size:26px;\"> Screen Specs</p>',unsafe_allow_html=True)\n",
    "TouchScreen = st.selectbox('Does it has a Touch Screen?',('Yes','No'))\n",
    "if TouchScreen == 'Yes':\n",
    "        TouchScreen = 1\n",
    "else:\n",
    "        TouchScreen = 0\n",
    "PanelType = st.selectbox(('PanelType'),df['PanelType'].unique())\n",
    "Resolution = st.selectbox('Resolution',np.sort(df[(df['Company']== Company)&(df['TypeName'] ==TypeName)].groupby('Resolution')['Resolution'].count().index))\n",
    "Inches = st.number_input('Inches',df[(df['Company']== Company)&(df['TypeName'] ==TypeName)].groupby('Inches')['Inches'].count().index[0],df[(df['Company']== Company)&(df['TypeName'] ==TypeName)].groupby('Inches')['Inches'].count().index[-1])\n",
    "\n",
    "# Specs\n",
    "## Processor & Ram\n",
    "st.write('- <p style=\"font-size:26px;\"> Processor</p>',unsafe_allow_html=True)\n",
    "RamGB = st.selectbox('Ram GB', np.sort(df[(df['Company']== Company)&(df['TypeName'] ==TypeName)].groupby('RamGB')['RamGB'].count().index))\n",
    "CpuBrand = st.selectbox('Cpu Brand',np.sort(df[(df['Company']== Company)&(df['TypeName'] ==TypeName)].groupby('CpuBrand')['CpuBrand'].count().index))\n",
    "GHz = st.selectbox('GHz',np.sort(df[(df['Company']== Company)&(df['TypeName'] ==TypeName)&(df['CpuBrand']==CpuBrand)].groupby('GHz')['GHz'].count().index))\n",
    "CpuVersion = st.selectbox('Cpu Version',np.sort(df[(df['Company']== Company)&(df['TypeName'] ==TypeName)&(df['CpuBrand']==CpuBrand) &(df['GHz']==GHz)].groupby('CpuVersion')['CpuVersion'].count().index))\n",
    "\n",
    "## Hard \n",
    "st.write('- <p style=\"font-size:26px;\"> Hard disk capcity</p>',unsafe_allow_html=True)\n",
    "MainMemory = st.selectbox('Main Memory GB',np.sort(df[(df['Company']== Company)&(df['TypeName'] ==TypeName)].groupby('MainMemory')['MainMemory'].count().index))\n",
    "MainMemoryType = st.selectbox('Main Memory Type',df[(df['Company']== Company)&(df['MainMemory']==MainMemory)].groupby('MainMemoryType')['MainMemoryType'].count().index)\n",
    "st.write('Does it has an Extra Hard driver?')\n",
    "secMem = st.checkbox(label='Yes')\n",
    "if secMem:\n",
    "        st.write('Please enter Second Memory specs')\n",
    "        SecondMemory = st.selectbox('Second Memory GB',np.sort(df['SecondMemory'].unique())[1:])\n",
    "        SecondMemoryType = st.selectbox('Second Memory Type',df['SecondMemoryType'].unique()[1:])\n",
    "else:\n",
    "        SecondMemory = 0.0\n",
    "        SecondMemoryType = 'None'\n",
    "\n",
    "## Vega Card\n",
    "st.write('- <p style=\"font-size:26px;\"> Vega Card</p>',unsafe_allow_html=True)\n",
    "GpuBrand = st.selectbox('Gpu Brand',np.sort(df[(df['Company']== Company)&(df['TypeName'] ==TypeName)].groupby('GpuBrand')['GpuBrand'].count().index))\n",
    "GpuVersion = st.selectbox('Gpu Version',np.sort(df[(df['Company']== Company)&(df['TypeName'] ==TypeName)&(df['GpuBrand']==GpuBrand)].groupby('GpuVersion')['GpuVersion'].count().index))\n",
    "\n",
    "# Operating system\n",
    "st.write('- <p style=\"font-size:22px;\"> Operating System</p>',unsafe_allow_html=True)\n",
    "OpSys = st.selectbox('Operating System',np.sort(df[(df['Company']== Company)].groupby('OpSys')['OpSys'].count().index))\n",
    "\n",
    "\n",
    "# Preprocessing\n",
    "new_data = {'Company': Company, 'TypeName': TypeName, 'Inches': Inches, 'RamGB': RamGB, \n",
    "        'OpSys': OpSys,\n",
    "         'WeightKG': WeightKG, 'GHz': GHz, 'CpuBrand': CpuBrand, 'CpuVersion': CpuVersion, \n",
    "         'MainMemory': MainMemory, 'SecondMemory': SecondMemory,\n",
    "         'MainMemoryType':MainMemoryType ,'SecondMemoryType':SecondMemoryType,\n",
    "         'TouchScreen':TouchScreen,'Resolution':Resolution,\n",
    "         'PanelType':PanelType , 'GpuBrand':GpuBrand,'GpuVersion':GpuVersion}\n",
    "new_data = pd.DataFrame(new_data, index=[0])\n",
    "new_data_preprocessed = preprocessor.transform(new_data)\n",
    "st.write('- <p style=\"font-size:26px;\"> Laptop Specs</p>',unsafe_allow_html=True)\n",
    "new_data\n",
    "# Prediction\n",
    "log_price = model.predict(new_data_preprocessed) # in log scale\n",
    "price = np.expm1(log_price) # in original scale\n",
    "with st.container():\n",
    "    coll1, coll2, coll3 = st.columns([3,6,1])\n",
    "\n",
    "    with coll1:\n",
    "            st.write(\"     \")\n",
    "\n",
    "    with coll2:\n",
    "                # Output\n",
    "            if st.button('Predict'):\n",
    "                 st.markdown('# Price in USD:')\n",
    "                 price[0]\n",
    "\n",
    "    with coll3:\n",
    "            st.write(\"\")\n"
   ]
  },
  {
   "cell_type": "code",
   "execution_count": 1,
   "id": "0ac63588",
   "metadata": {},
   "outputs": [
    {
     "name": "stdout",
     "output_type": "stream",
     "text": [
      "^C\n"
     ]
    }
   ],
   "source": [
    "!streamlit run app.py "
   ]
  },
  {
   "cell_type": "code",
   "execution_count": 7,
   "id": "f82d676b",
   "metadata": {},
   "outputs": [
    {
     "name": "stderr",
     "output_type": "stream",
     "text": [
      "WARNING: requirements.txt already exists, use --force to overwrite it\n"
     ]
    }
   ],
   "source": [
    "!pipreqs "
   ]
  },
  {
   "cell_type": "code",
   "execution_count": 11,
   "id": "3ef22a0a",
   "metadata": {},
   "outputs": [
    {
     "name": "stdout",
     "output_type": "stream",
     "text": [
      "Name: xgboost\n",
      "Version: 2.0.0\n",
      "Summary: XGBoost Python Package\n",
      "Home-page: \n",
      "Author: \n",
      "Author-email: Hyunsu Cho <chohyu01@cs.washington.edu>, Jiaming Yuan <jm.yuan@outlook.com>\n",
      "License: Apache-2.0\n",
      "Location: c:\\users\\mostafa\\appdata\\local\\programs\\python\\python310\\lib\\site-packages\n",
      "Requires: numpy, scipy\n",
      "Required-by: \n",
      "Note: you may need to restart the kernel to use updated packages.\n"
     ]
    }
   ],
   "source": [
    "pip show xgboost"
   ]
  },
  {
   "cell_type": "markdown",
   "id": "26325593",
   "metadata": {},
   "source": []
  }
 ],
 "metadata": {
  "kernelspec": {
   "display_name": "Python 3 (ipykernel)",
   "language": "python",
   "name": "python3"
  },
  "language_info": {
   "codemirror_mode": {
    "name": "ipython",
    "version": 3
   },
   "file_extension": ".py",
   "mimetype": "text/x-python",
   "name": "python",
   "nbconvert_exporter": "python",
   "pygments_lexer": "ipython3",
   "version": "3.10.7"
  }
 },
 "nbformat": 4,
 "nbformat_minor": 5
}
